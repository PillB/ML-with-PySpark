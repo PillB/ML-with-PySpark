{
 "cells": [
  {
   "cell_type": "markdown",
   "metadata": {},
   "source": [
    "\n",
    "\n",
    "# Spark ML Transformación de Variables\n",
    "\n",
    "Cargamos un dataset con información sobre cuán seguro es un coche. Con este dataset se estudiarán funciones muy importantes de Spark ML."
   ]
  },
  {
   "cell_type": "code",
   "execution_count": 1,
   "metadata": {
    "collapsed": true
   },
   "outputs": [],
   "source": [
    "import os\n",
    "os.environ['PYSPARK_PYTHON'] = '/usr/local/bin/python3.6'"
   ]
  },
  {
   "cell_type": "code",
   "execution_count": 2,
   "metadata": {
    "collapsed": true
   },
   "outputs": [],
   "source": [
    "# Respuesta\n",
    "\n",
    "from pyspark.sql import SparkSession\n",
    "\n",
    "spark = SparkSession.builder.getOrCreate()"
   ]
  },
  {
   "cell_type": "markdown",
   "metadata": {},
   "source": [
    "\n",
    "\n",
    "### Cargar datos y comprobar schema\n",
    "\n",
    "El método _read.csv_ tiene un parámetro _inferSchema_. El mismo permite inferir el tipo de las columnas, para ello requiere recorrer una vez más los datos y por defecto es _False_."
   ]
  },
  {
   "cell_type": "code",
   "execution_count": 3,
   "metadata": {
    "collapsed": true
   },
   "outputs": [
    {
     "name": "stdout",
     "output_type": "stream",
     "text": [
      "root\n",
      " |-- normalized_losses: integer (nullable = true)\n",
      " |-- make: string (nullable = true)\n",
      " |-- fuel_type: string (nullable = true)\n",
      " |-- aspiration: string (nullable = true)\n",
      " |-- num_of_doors: string (nullable = true)\n",
      " |-- body_style: string (nullable = true)\n",
      " |-- drive_wheels: string (nullable = true)\n",
      " |-- engine_location: string (nullable = true)\n",
      " |-- wheel_base: double (nullable = true)\n",
      " |-- length: double (nullable = true)\n",
      " |-- width: double (nullable = true)\n",
      " |-- height: double (nullable = true)\n",
      " |-- curb_weight: integer (nullable = true)\n",
      " |-- engine_type: string (nullable = true)\n",
      " |-- num_of_cylinders: string (nullable = true)\n",
      " |-- engine_size: integer (nullable = true)\n",
      " |-- fuel_system: string (nullable = true)\n",
      " |-- bore: double (nullable = true)\n",
      " |-- stroke: double (nullable = true)\n",
      " |-- compression_ratio: double (nullable = true)\n",
      " |-- horsepower: integer (nullable = true)\n",
      " |-- peak_rpm: integer (nullable = true)\n",
      " |-- city_mpg: integer (nullable = true)\n",
      " |-- highway_mpg: integer (nullable = true)\n",
      " |-- price: integer (nullable = true)\n",
      " |-- symboling: integer (nullable = true)\n",
      "\n"
     ]
    }
   ],
   "source": [
    "# Respuesta\n",
    "\n",
    "cars = spark.read.csv('Data/automobile.csv', sep=';', header=True, inferSchema=True)\n",
    "\n",
    "cars.printSchema()"
   ]
  },
  {
   "cell_type": "markdown",
   "metadata": {},
   "source": [
    "\n",
    "\n",
    "### VectorAssembler"
   ]
  },
  {
   "cell_type": "markdown",
   "metadata": {},
   "source": [
    "\n",
    "\n",
    "Un _VectorAssembler_ es un transformador de múltiples características (_features_) en una sola columna de tipo vector. Lo construiremos con todas las variables menos con la columna objetivo 'symboling'."
   ]
  },
  {
   "cell_type": "code",
   "execution_count": 4,
   "metadata": {
    "collapsed": true
   },
   "outputs": [
    {
     "ename": "IllegalArgumentException",
     "evalue": "'Data type string of column make is not supported.\\nData type string of column fuel_type is not supported.\\nData type string of column aspiration is not supported.\\nData type string of column num_of_doors is not supported.\\nData type string of column body_style is not supported.\\nData type string of column drive_wheels is not supported.\\nData type string of column engine_location is not supported.\\nData type string of column engine_type is not supported.\\nData type string of column num_of_cylinders is not supported.\\nData type string of column fuel_system is not supported.'",
     "output_type": "error",
     "traceback": [
      "\u001b[0;31m---------------------------------------------------------------------------\u001b[0m",
      "\u001b[0;31mPy4JJavaError\u001b[0m                             Traceback (most recent call last)",
      "\u001b[0;32m/usr/local/lib/python3.6/site-packages/pyspark/sql/utils.py\u001b[0m in \u001b[0;36mdeco\u001b[0;34m(*a, **kw)\u001b[0m\n\u001b[1;32m     62\u001b[0m         \u001b[0;32mtry\u001b[0m\u001b[0;34m:\u001b[0m\u001b[0;34m\u001b[0m\u001b[0m\n\u001b[0;32m---> 63\u001b[0;31m             \u001b[0;32mreturn\u001b[0m \u001b[0mf\u001b[0m\u001b[0;34m(\u001b[0m\u001b[0;34m*\u001b[0m\u001b[0ma\u001b[0m\u001b[0;34m,\u001b[0m \u001b[0;34m**\u001b[0m\u001b[0mkw\u001b[0m\u001b[0;34m)\u001b[0m\u001b[0;34m\u001b[0m\u001b[0m\n\u001b[0m\u001b[1;32m     64\u001b[0m         \u001b[0;32mexcept\u001b[0m \u001b[0mpy4j\u001b[0m\u001b[0;34m.\u001b[0m\u001b[0mprotocol\u001b[0m\u001b[0;34m.\u001b[0m\u001b[0mPy4JJavaError\u001b[0m \u001b[0;32mas\u001b[0m \u001b[0me\u001b[0m\u001b[0;34m:\u001b[0m\u001b[0;34m\u001b[0m\u001b[0m\n",
      "\u001b[0;32m/usr/local/lib/python3.6/site-packages/py4j/protocol.py\u001b[0m in \u001b[0;36mget_return_value\u001b[0;34m(answer, gateway_client, target_id, name)\u001b[0m\n\u001b[1;32m    327\u001b[0m                     \u001b[0;34m\"An error occurred while calling {0}{1}{2}.\\n\"\u001b[0m\u001b[0;34m.\u001b[0m\u001b[0;34m\u001b[0m\u001b[0m\n\u001b[0;32m--> 328\u001b[0;31m                     format(target_id, \".\", name), value)\n\u001b[0m\u001b[1;32m    329\u001b[0m             \u001b[0;32melse\u001b[0m\u001b[0;34m:\u001b[0m\u001b[0;34m\u001b[0m\u001b[0m\n",
      "\u001b[0;31mPy4JJavaError\u001b[0m: An error occurred while calling o31.transform.\n: java.lang.IllegalArgumentException: Data type string of column make is not supported.\nData type string of column fuel_type is not supported.\nData type string of column aspiration is not supported.\nData type string of column num_of_doors is not supported.\nData type string of column body_style is not supported.\nData type string of column drive_wheels is not supported.\nData type string of column engine_location is not supported.\nData type string of column engine_type is not supported.\nData type string of column num_of_cylinders is not supported.\nData type string of column fuel_system is not supported.\n\tat org.apache.spark.ml.feature.VectorAssembler.transformSchema(VectorAssembler.scala:169)\n\tat org.apache.spark.ml.PipelineStage.transformSchema(Pipeline.scala:74)\n\tat org.apache.spark.ml.feature.VectorAssembler.transform(VectorAssembler.scala:86)\n\tat sun.reflect.NativeMethodAccessorImpl.invoke0(Native Method)\n\tat sun.reflect.NativeMethodAccessorImpl.invoke(NativeMethodAccessorImpl.java:62)\n\tat sun.reflect.DelegatingMethodAccessorImpl.invoke(DelegatingMethodAccessorImpl.java:43)\n\tat java.lang.reflect.Method.invoke(Method.java:498)\n\tat py4j.reflection.MethodInvoker.invoke(MethodInvoker.java:244)\n\tat py4j.reflection.ReflectionEngine.invoke(ReflectionEngine.java:357)\n\tat py4j.Gateway.invoke(Gateway.java:282)\n\tat py4j.commands.AbstractCommand.invokeMethod(AbstractCommand.java:132)\n\tat py4j.commands.CallCommand.execute(CallCommand.java:79)\n\tat py4j.GatewayConnection.run(GatewayConnection.java:238)\n\tat java.lang.Thread.run(Thread.java:745)\n",
      "\nDuring handling of the above exception, another exception occurred:\n",
      "\u001b[0;31mIllegalArgumentException\u001b[0m                  Traceback (most recent call last)",
      "\u001b[0;32m<ipython-input-4-63be73fdee00>\u001b[0m in \u001b[0;36m<module>\u001b[0;34m()\u001b[0m\n\u001b[1;32m      5\u001b[0m \u001b[0massembler\u001b[0m \u001b[0;34m=\u001b[0m \u001b[0mVectorAssembler\u001b[0m\u001b[0;34m(\u001b[0m\u001b[0minputCols\u001b[0m\u001b[0;34m=\u001b[0m\u001b[0;34m[\u001b[0m\u001b[0melement\u001b[0m \u001b[0;32mfor\u001b[0m \u001b[0melement\u001b[0m \u001b[0;32min\u001b[0m \u001b[0mcars\u001b[0m\u001b[0;34m.\u001b[0m\u001b[0mcolumns\u001b[0m \u001b[0;32mif\u001b[0m \u001b[0melement\u001b[0m \u001b[0;34m!=\u001b[0m \u001b[0;34m'symboling'\u001b[0m\u001b[0;34m]\u001b[0m\u001b[0;34m,\u001b[0m \u001b[0moutputCol\u001b[0m\u001b[0;34m=\u001b[0m\u001b[0;34m'assembled_features'\u001b[0m\u001b[0;34m)\u001b[0m\u001b[0;34m\u001b[0m\u001b[0m\n\u001b[1;32m      6\u001b[0m \u001b[0;34m\u001b[0m\u001b[0m\n\u001b[0;32m----> 7\u001b[0;31m \u001b[0mcars_assembled\u001b[0m \u001b[0;34m=\u001b[0m \u001b[0massembler\u001b[0m\u001b[0;34m.\u001b[0m\u001b[0mtransform\u001b[0m\u001b[0;34m(\u001b[0m\u001b[0mcars\u001b[0m\u001b[0;34m)\u001b[0m\u001b[0;34m\u001b[0m\u001b[0m\n\u001b[0m\u001b[1;32m      8\u001b[0m \u001b[0;34m\u001b[0m\u001b[0m\n\u001b[1;32m      9\u001b[0m \u001b[0mcars_assembled\u001b[0m\u001b[0;34m.\u001b[0m\u001b[0mshow\u001b[0m\u001b[0;34m(\u001b[0m\u001b[0;34m)\u001b[0m\u001b[0;34m\u001b[0m\u001b[0m\n",
      "\u001b[0;32m/usr/local/lib/python3.6/site-packages/pyspark/ml/base.py\u001b[0m in \u001b[0;36mtransform\u001b[0;34m(self, dataset, params)\u001b[0m\n\u001b[1;32m    171\u001b[0m                 \u001b[0;32mreturn\u001b[0m \u001b[0mself\u001b[0m\u001b[0;34m.\u001b[0m\u001b[0mcopy\u001b[0m\u001b[0;34m(\u001b[0m\u001b[0mparams\u001b[0m\u001b[0;34m)\u001b[0m\u001b[0;34m.\u001b[0m\u001b[0m_transform\u001b[0m\u001b[0;34m(\u001b[0m\u001b[0mdataset\u001b[0m\u001b[0;34m)\u001b[0m\u001b[0;34m\u001b[0m\u001b[0m\n\u001b[1;32m    172\u001b[0m             \u001b[0;32melse\u001b[0m\u001b[0;34m:\u001b[0m\u001b[0;34m\u001b[0m\u001b[0m\n\u001b[0;32m--> 173\u001b[0;31m                 \u001b[0;32mreturn\u001b[0m \u001b[0mself\u001b[0m\u001b[0;34m.\u001b[0m\u001b[0m_transform\u001b[0m\u001b[0;34m(\u001b[0m\u001b[0mdataset\u001b[0m\u001b[0;34m)\u001b[0m\u001b[0;34m\u001b[0m\u001b[0m\n\u001b[0m\u001b[1;32m    174\u001b[0m         \u001b[0;32melse\u001b[0m\u001b[0;34m:\u001b[0m\u001b[0;34m\u001b[0m\u001b[0m\n\u001b[1;32m    175\u001b[0m             \u001b[0;32mraise\u001b[0m \u001b[0mValueError\u001b[0m\u001b[0;34m(\u001b[0m\u001b[0;34m\"Params must be a param map but got %s.\"\u001b[0m \u001b[0;34m%\u001b[0m \u001b[0mtype\u001b[0m\u001b[0;34m(\u001b[0m\u001b[0mparams\u001b[0m\u001b[0;34m)\u001b[0m\u001b[0;34m)\u001b[0m\u001b[0;34m\u001b[0m\u001b[0m\n",
      "\u001b[0;32m/usr/local/lib/python3.6/site-packages/pyspark/ml/wrapper.py\u001b[0m in \u001b[0;36m_transform\u001b[0;34m(self, dataset)\u001b[0m\n\u001b[1;32m    310\u001b[0m     \u001b[0;32mdef\u001b[0m \u001b[0m_transform\u001b[0m\u001b[0;34m(\u001b[0m\u001b[0mself\u001b[0m\u001b[0;34m,\u001b[0m \u001b[0mdataset\u001b[0m\u001b[0;34m)\u001b[0m\u001b[0;34m:\u001b[0m\u001b[0;34m\u001b[0m\u001b[0m\n\u001b[1;32m    311\u001b[0m         \u001b[0mself\u001b[0m\u001b[0;34m.\u001b[0m\u001b[0m_transfer_params_to_java\u001b[0m\u001b[0;34m(\u001b[0m\u001b[0;34m)\u001b[0m\u001b[0;34m\u001b[0m\u001b[0m\n\u001b[0;32m--> 312\u001b[0;31m         \u001b[0;32mreturn\u001b[0m \u001b[0mDataFrame\u001b[0m\u001b[0;34m(\u001b[0m\u001b[0mself\u001b[0m\u001b[0;34m.\u001b[0m\u001b[0m_java_obj\u001b[0m\u001b[0;34m.\u001b[0m\u001b[0mtransform\u001b[0m\u001b[0;34m(\u001b[0m\u001b[0mdataset\u001b[0m\u001b[0;34m.\u001b[0m\u001b[0m_jdf\u001b[0m\u001b[0;34m)\u001b[0m\u001b[0;34m,\u001b[0m \u001b[0mdataset\u001b[0m\u001b[0;34m.\u001b[0m\u001b[0msql_ctx\u001b[0m\u001b[0;34m)\u001b[0m\u001b[0;34m\u001b[0m\u001b[0m\n\u001b[0m\u001b[1;32m    313\u001b[0m \u001b[0;34m\u001b[0m\u001b[0m\n\u001b[1;32m    314\u001b[0m \u001b[0;34m\u001b[0m\u001b[0m\n",
      "\u001b[0;32m/usr/local/lib/python3.6/site-packages/py4j/java_gateway.py\u001b[0m in \u001b[0;36m__call__\u001b[0;34m(self, *args)\u001b[0m\n\u001b[1;32m   1255\u001b[0m         \u001b[0manswer\u001b[0m \u001b[0;34m=\u001b[0m \u001b[0mself\u001b[0m\u001b[0;34m.\u001b[0m\u001b[0mgateway_client\u001b[0m\u001b[0;34m.\u001b[0m\u001b[0msend_command\u001b[0m\u001b[0;34m(\u001b[0m\u001b[0mcommand\u001b[0m\u001b[0;34m)\u001b[0m\u001b[0;34m\u001b[0m\u001b[0m\n\u001b[1;32m   1256\u001b[0m         return_value = get_return_value(\n\u001b[0;32m-> 1257\u001b[0;31m             answer, self.gateway_client, self.target_id, self.name)\n\u001b[0m\u001b[1;32m   1258\u001b[0m \u001b[0;34m\u001b[0m\u001b[0m\n\u001b[1;32m   1259\u001b[0m         \u001b[0;32mfor\u001b[0m \u001b[0mtemp_arg\u001b[0m \u001b[0;32min\u001b[0m \u001b[0mtemp_args\u001b[0m\u001b[0;34m:\u001b[0m\u001b[0;34m\u001b[0m\u001b[0m\n",
      "\u001b[0;32m/usr/local/lib/python3.6/site-packages/pyspark/sql/utils.py\u001b[0m in \u001b[0;36mdeco\u001b[0;34m(*a, **kw)\u001b[0m\n\u001b[1;32m     77\u001b[0m                 \u001b[0;32mraise\u001b[0m \u001b[0mQueryExecutionException\u001b[0m\u001b[0;34m(\u001b[0m\u001b[0ms\u001b[0m\u001b[0;34m.\u001b[0m\u001b[0msplit\u001b[0m\u001b[0;34m(\u001b[0m\u001b[0;34m': '\u001b[0m\u001b[0;34m,\u001b[0m \u001b[0;36m1\u001b[0m\u001b[0;34m)\u001b[0m\u001b[0;34m[\u001b[0m\u001b[0;36m1\u001b[0m\u001b[0;34m]\u001b[0m\u001b[0;34m,\u001b[0m \u001b[0mstackTrace\u001b[0m\u001b[0;34m)\u001b[0m\u001b[0;34m\u001b[0m\u001b[0m\n\u001b[1;32m     78\u001b[0m             \u001b[0;32mif\u001b[0m \u001b[0ms\u001b[0m\u001b[0;34m.\u001b[0m\u001b[0mstartswith\u001b[0m\u001b[0;34m(\u001b[0m\u001b[0;34m'java.lang.IllegalArgumentException: '\u001b[0m\u001b[0;34m)\u001b[0m\u001b[0;34m:\u001b[0m\u001b[0;34m\u001b[0m\u001b[0m\n\u001b[0;32m---> 79\u001b[0;31m                 \u001b[0;32mraise\u001b[0m \u001b[0mIllegalArgumentException\u001b[0m\u001b[0;34m(\u001b[0m\u001b[0ms\u001b[0m\u001b[0;34m.\u001b[0m\u001b[0msplit\u001b[0m\u001b[0;34m(\u001b[0m\u001b[0;34m': '\u001b[0m\u001b[0;34m,\u001b[0m \u001b[0;36m1\u001b[0m\u001b[0;34m)\u001b[0m\u001b[0;34m[\u001b[0m\u001b[0;36m1\u001b[0m\u001b[0;34m]\u001b[0m\u001b[0;34m,\u001b[0m \u001b[0mstackTrace\u001b[0m\u001b[0;34m)\u001b[0m\u001b[0;34m\u001b[0m\u001b[0m\n\u001b[0m\u001b[1;32m     80\u001b[0m             \u001b[0;32mraise\u001b[0m\u001b[0;34m\u001b[0m\u001b[0m\n\u001b[1;32m     81\u001b[0m     \u001b[0;32mreturn\u001b[0m \u001b[0mdeco\u001b[0m\u001b[0;34m\u001b[0m\u001b[0m\n",
      "\u001b[0;31mIllegalArgumentException\u001b[0m: 'Data type string of column make is not supported.\\nData type string of column fuel_type is not supported.\\nData type string of column aspiration is not supported.\\nData type string of column num_of_doors is not supported.\\nData type string of column body_style is not supported.\\nData type string of column drive_wheels is not supported.\\nData type string of column engine_location is not supported.\\nData type string of column engine_type is not supported.\\nData type string of column num_of_cylinders is not supported.\\nData type string of column fuel_system is not supported.'"
     ]
    }
   ],
   "source": [
    "# Respuesta\n",
    "\n",
    "from pyspark.ml.feature import VectorAssembler\n",
    "\n",
    "assembler = VectorAssembler(inputCols=[element for element in cars.columns if element != 'symboling'], outputCol='assembled_features')\n",
    "\n",
    "cars_assembled = assembler.transform(cars)\n",
    "\n",
    "cars_assembled.show()"
   ]
  },
  {
   "cell_type": "markdown",
   "metadata": {},
   "source": [
    "\n",
    "\n",
    "Estudiando el error se lee:\n",
    "    **IllegalArgumentException: 'Data type StringType is not supported.'**\n",
    "    \n",
    "Recordamos que VectorAssembler solo acepta los siguientes tipos de datos:\n",
    "\n",
    "- numéricos\n",
    "- booleanos\n",
    "- vector\n",
    "    "
   ]
  },
  {
   "cell_type": "markdown",
   "metadata": {},
   "source": [
    "\n",
    "\n",
    "Estudiamos el tipo de cada una de las variables y hacemos VectorAssembler para todas las variables cuyos tipos sí están permitidos. Es decir el _VectorAssembler_ no debe incluir columnas de tipo _string_."
   ]
  },
  {
   "cell_type": "code",
   "execution_count": 5,
   "metadata": {},
   "outputs": [
    {
     "data": {
      "text/plain": [
       "[('normalized_losses', 'int'),\n",
       " ('make', 'string'),\n",
       " ('fuel_type', 'string'),\n",
       " ('aspiration', 'string'),\n",
       " ('num_of_doors', 'string'),\n",
       " ('body_style', 'string'),\n",
       " ('drive_wheels', 'string'),\n",
       " ('engine_location', 'string'),\n",
       " ('wheel_base', 'double'),\n",
       " ('length', 'double'),\n",
       " ('width', 'double'),\n",
       " ('height', 'double'),\n",
       " ('curb_weight', 'int'),\n",
       " ('engine_type', 'string'),\n",
       " ('num_of_cylinders', 'string'),\n",
       " ('engine_size', 'int'),\n",
       " ('fuel_system', 'string'),\n",
       " ('bore', 'double'),\n",
       " ('stroke', 'double'),\n",
       " ('compression_ratio', 'double'),\n",
       " ('horsepower', 'int'),\n",
       " ('peak_rpm', 'int'),\n",
       " ('city_mpg', 'int'),\n",
       " ('highway_mpg', 'int'),\n",
       " ('price', 'int'),\n",
       " ('symboling', 'int')]"
      ]
     },
     "execution_count": 5,
     "metadata": {},
     "output_type": "execute_result"
    }
   ],
   "source": [
    "# Respuesta\n",
    "\n",
    "cars.dtypes"
   ]
  },
  {
   "cell_type": "code",
   "execution_count": 6,
   "metadata": {},
   "outputs": [
    {
     "ename": "Py4JJavaError",
     "evalue": "An error occurred while calling o77.showString.\n: org.apache.spark.SparkException: Job aborted due to stage failure: Task 0 in stage 2.0 failed 1 times, most recent failure: Lost task 0.0 in stage 2.0 (TID 2, localhost, executor driver): org.apache.spark.SparkException: Failed to execute user defined function($anonfun$4: (struct<normalized_losses_double_VectorAssembler_3a24381a8a30:double,wheel_base:double,length:double,width:double,height:double,curb_weight_double_VectorAssembler_3a24381a8a30:double,engine_size_double_VectorAssembler_3a24381a8a30:double,bore:double,stroke:double,compression_ratio:double,horsepower_double_VectorAssembler_3a24381a8a30:double,peak_rpm_double_VectorAssembler_3a24381a8a30:double,city_mpg_double_VectorAssembler_3a24381a8a30:double,highway_mpg_double_VectorAssembler_3a24381a8a30:double,price_double_VectorAssembler_3a24381a8a30:double>) => struct<type:tinyint,size:int,indices:array<int>,values:array<double>>)\n\tat org.apache.spark.sql.catalyst.expressions.GeneratedClass$GeneratedIteratorForCodegenStage1.processNext(Unknown Source)\n\tat org.apache.spark.sql.execution.BufferedRowIterator.hasNext(BufferedRowIterator.java:43)\n\tat org.apache.spark.sql.execution.WholeStageCodegenExec$$anonfun$11$$anon$1.hasNext(WholeStageCodegenExec.scala:619)\n\tat org.apache.spark.sql.execution.SparkPlan$$anonfun$2.apply(SparkPlan.scala:255)\n\tat org.apache.spark.sql.execution.SparkPlan$$anonfun$2.apply(SparkPlan.scala:247)\n\tat org.apache.spark.rdd.RDD$$anonfun$mapPartitionsInternal$1$$anonfun$apply$24.apply(RDD.scala:836)\n\tat org.apache.spark.rdd.RDD$$anonfun$mapPartitionsInternal$1$$anonfun$apply$24.apply(RDD.scala:836)\n\tat org.apache.spark.rdd.MapPartitionsRDD.compute(MapPartitionsRDD.scala:52)\n\tat org.apache.spark.rdd.RDD.computeOrReadCheckpoint(RDD.scala:324)\n\tat org.apache.spark.rdd.RDD.iterator(RDD.scala:288)\n\tat org.apache.spark.rdd.MapPartitionsRDD.compute(MapPartitionsRDD.scala:52)\n\tat org.apache.spark.rdd.RDD.computeOrReadCheckpoint(RDD.scala:324)\n\tat org.apache.spark.rdd.RDD.iterator(RDD.scala:288)\n\tat org.apache.spark.scheduler.ResultTask.runTask(ResultTask.scala:90)\n\tat org.apache.spark.scheduler.Task.run(Task.scala:121)\n\tat org.apache.spark.executor.Executor$TaskRunner$$anonfun$10.apply(Executor.scala:402)\n\tat org.apache.spark.util.Utils$.tryWithSafeFinally(Utils.scala:1360)\n\tat org.apache.spark.executor.Executor$TaskRunner.run(Executor.scala:408)\n\tat java.util.concurrent.ThreadPoolExecutor.runWorker(ThreadPoolExecutor.java:1142)\n\tat java.util.concurrent.ThreadPoolExecutor$Worker.run(ThreadPoolExecutor.java:617)\n\tat java.lang.Thread.run(Thread.java:745)\nCaused by: org.apache.spark.SparkException: Encountered null while assembling a row with handleInvalid = \"keep\". Consider\nremoving nulls from dataset or using handleInvalid = \"keep\" or \"skip\".\n\tat org.apache.spark.ml.feature.VectorAssembler$$anonfun$assemble$1.apply(VectorAssembler.scala:287)\n\tat org.apache.spark.ml.feature.VectorAssembler$$anonfun$assemble$1.apply(VectorAssembler.scala:255)\n\tat scala.collection.IndexedSeqOptimized$class.foreach(IndexedSeqOptimized.scala:33)\n\tat scala.collection.mutable.WrappedArray.foreach(WrappedArray.scala:35)\n\tat org.apache.spark.ml.feature.VectorAssembler$.assemble(VectorAssembler.scala:255)\n\tat org.apache.spark.ml.feature.VectorAssembler$$anonfun$4.apply(VectorAssembler.scala:144)\n\tat org.apache.spark.ml.feature.VectorAssembler$$anonfun$4.apply(VectorAssembler.scala:143)\n\t... 21 more\n\nDriver stacktrace:\n\tat org.apache.spark.scheduler.DAGScheduler.org$apache$spark$scheduler$DAGScheduler$$failJobAndIndependentStages(DAGScheduler.scala:1887)\n\tat org.apache.spark.scheduler.DAGScheduler$$anonfun$abortStage$1.apply(DAGScheduler.scala:1875)\n\tat org.apache.spark.scheduler.DAGScheduler$$anonfun$abortStage$1.apply(DAGScheduler.scala:1874)\n\tat scala.collection.mutable.ResizableArray$class.foreach(ResizableArray.scala:59)\n\tat scala.collection.mutable.ArrayBuffer.foreach(ArrayBuffer.scala:48)\n\tat org.apache.spark.scheduler.DAGScheduler.abortStage(DAGScheduler.scala:1874)\n\tat org.apache.spark.scheduler.DAGScheduler$$anonfun$handleTaskSetFailed$1.apply(DAGScheduler.scala:926)\n\tat org.apache.spark.scheduler.DAGScheduler$$anonfun$handleTaskSetFailed$1.apply(DAGScheduler.scala:926)\n\tat scala.Option.foreach(Option.scala:257)\n\tat org.apache.spark.scheduler.DAGScheduler.handleTaskSetFailed(DAGScheduler.scala:926)\n\tat org.apache.spark.scheduler.DAGSchedulerEventProcessLoop.doOnReceive(DAGScheduler.scala:2108)\n\tat org.apache.spark.scheduler.DAGSchedulerEventProcessLoop.onReceive(DAGScheduler.scala:2057)\n\tat org.apache.spark.scheduler.DAGSchedulerEventProcessLoop.onReceive(DAGScheduler.scala:2046)\n\tat org.apache.spark.util.EventLoop$$anon$1.run(EventLoop.scala:49)\n\tat org.apache.spark.scheduler.DAGScheduler.runJob(DAGScheduler.scala:737)\n\tat org.apache.spark.SparkContext.runJob(SparkContext.scala:2061)\n\tat org.apache.spark.SparkContext.runJob(SparkContext.scala:2082)\n\tat org.apache.spark.SparkContext.runJob(SparkContext.scala:2101)\n\tat org.apache.spark.sql.execution.SparkPlan.executeTake(SparkPlan.scala:365)\n\tat org.apache.spark.sql.execution.CollectLimitExec.executeCollect(limit.scala:38)\n\tat org.apache.spark.sql.Dataset.org$apache$spark$sql$Dataset$$collectFromPlan(Dataset.scala:3384)\n\tat org.apache.spark.sql.Dataset$$anonfun$head$1.apply(Dataset.scala:2545)\n\tat org.apache.spark.sql.Dataset$$anonfun$head$1.apply(Dataset.scala:2545)\n\tat org.apache.spark.sql.Dataset$$anonfun$53.apply(Dataset.scala:3365)\n\tat org.apache.spark.sql.execution.SQLExecution$$anonfun$withNewExecutionId$1.apply(SQLExecution.scala:78)\n\tat org.apache.spark.sql.execution.SQLExecution$.withSQLConfPropagated(SQLExecution.scala:125)\n\tat org.apache.spark.sql.execution.SQLExecution$.withNewExecutionId(SQLExecution.scala:73)\n\tat org.apache.spark.sql.Dataset.withAction(Dataset.scala:3364)\n\tat org.apache.spark.sql.Dataset.head(Dataset.scala:2545)\n\tat org.apache.spark.sql.Dataset.take(Dataset.scala:2759)\n\tat org.apache.spark.sql.Dataset.getRows(Dataset.scala:255)\n\tat org.apache.spark.sql.Dataset.showString(Dataset.scala:292)\n\tat sun.reflect.NativeMethodAccessorImpl.invoke0(Native Method)\n\tat sun.reflect.NativeMethodAccessorImpl.invoke(NativeMethodAccessorImpl.java:62)\n\tat sun.reflect.DelegatingMethodAccessorImpl.invoke(DelegatingMethodAccessorImpl.java:43)\n\tat java.lang.reflect.Method.invoke(Method.java:498)\n\tat py4j.reflection.MethodInvoker.invoke(MethodInvoker.java:244)\n\tat py4j.reflection.ReflectionEngine.invoke(ReflectionEngine.java:357)\n\tat py4j.Gateway.invoke(Gateway.java:282)\n\tat py4j.commands.AbstractCommand.invokeMethod(AbstractCommand.java:132)\n\tat py4j.commands.CallCommand.execute(CallCommand.java:79)\n\tat py4j.GatewayConnection.run(GatewayConnection.java:238)\n\tat java.lang.Thread.run(Thread.java:745)\nCaused by: org.apache.spark.SparkException: Failed to execute user defined function($anonfun$4: (struct<normalized_losses_double_VectorAssembler_3a24381a8a30:double,wheel_base:double,length:double,width:double,height:double,curb_weight_double_VectorAssembler_3a24381a8a30:double,engine_size_double_VectorAssembler_3a24381a8a30:double,bore:double,stroke:double,compression_ratio:double,horsepower_double_VectorAssembler_3a24381a8a30:double,peak_rpm_double_VectorAssembler_3a24381a8a30:double,city_mpg_double_VectorAssembler_3a24381a8a30:double,highway_mpg_double_VectorAssembler_3a24381a8a30:double,price_double_VectorAssembler_3a24381a8a30:double>) => struct<type:tinyint,size:int,indices:array<int>,values:array<double>>)\n\tat org.apache.spark.sql.catalyst.expressions.GeneratedClass$GeneratedIteratorForCodegenStage1.processNext(Unknown Source)\n\tat org.apache.spark.sql.execution.BufferedRowIterator.hasNext(BufferedRowIterator.java:43)\n\tat org.apache.spark.sql.execution.WholeStageCodegenExec$$anonfun$11$$anon$1.hasNext(WholeStageCodegenExec.scala:619)\n\tat org.apache.spark.sql.execution.SparkPlan$$anonfun$2.apply(SparkPlan.scala:255)\n\tat org.apache.spark.sql.execution.SparkPlan$$anonfun$2.apply(SparkPlan.scala:247)\n\tat org.apache.spark.rdd.RDD$$anonfun$mapPartitionsInternal$1$$anonfun$apply$24.apply(RDD.scala:836)\n\tat org.apache.spark.rdd.RDD$$anonfun$mapPartitionsInternal$1$$anonfun$apply$24.apply(RDD.scala:836)\n\tat org.apache.spark.rdd.MapPartitionsRDD.compute(MapPartitionsRDD.scala:52)\n\tat org.apache.spark.rdd.RDD.computeOrReadCheckpoint(RDD.scala:324)\n\tat org.apache.spark.rdd.RDD.iterator(RDD.scala:288)\n\tat org.apache.spark.rdd.MapPartitionsRDD.compute(MapPartitionsRDD.scala:52)\n\tat org.apache.spark.rdd.RDD.computeOrReadCheckpoint(RDD.scala:324)\n\tat org.apache.spark.rdd.RDD.iterator(RDD.scala:288)\n\tat org.apache.spark.scheduler.ResultTask.runTask(ResultTask.scala:90)\n\tat org.apache.spark.scheduler.Task.run(Task.scala:121)\n\tat org.apache.spark.executor.Executor$TaskRunner$$anonfun$10.apply(Executor.scala:402)\n\tat org.apache.spark.util.Utils$.tryWithSafeFinally(Utils.scala:1360)\n\tat org.apache.spark.executor.Executor$TaskRunner.run(Executor.scala:408)\n\tat java.util.concurrent.ThreadPoolExecutor.runWorker(ThreadPoolExecutor.java:1142)\n\tat java.util.concurrent.ThreadPoolExecutor$Worker.run(ThreadPoolExecutor.java:617)\n\t... 1 more\nCaused by: org.apache.spark.SparkException: Encountered null while assembling a row with handleInvalid = \"keep\". Consider\nremoving nulls from dataset or using handleInvalid = \"keep\" or \"skip\".\n\tat org.apache.spark.ml.feature.VectorAssembler$$anonfun$assemble$1.apply(VectorAssembler.scala:287)\n\tat org.apache.spark.ml.feature.VectorAssembler$$anonfun$assemble$1.apply(VectorAssembler.scala:255)\n\tat scala.collection.IndexedSeqOptimized$class.foreach(IndexedSeqOptimized.scala:33)\n\tat scala.collection.mutable.WrappedArray.foreach(WrappedArray.scala:35)\n\tat org.apache.spark.ml.feature.VectorAssembler$.assemble(VectorAssembler.scala:255)\n\tat org.apache.spark.ml.feature.VectorAssembler$$anonfun$4.apply(VectorAssembler.scala:144)\n\tat org.apache.spark.ml.feature.VectorAssembler$$anonfun$4.apply(VectorAssembler.scala:143)\n\t... 21 more\n",
     "output_type": "error",
     "traceback": [
      "\u001b[0;31m---------------------------------------------------------------------------\u001b[0m",
      "\u001b[0;31mPy4JJavaError\u001b[0m                             Traceback (most recent call last)",
      "\u001b[0;32m<ipython-input-6-a4f92bd147bb>\u001b[0m in \u001b[0;36m<module>\u001b[0;34m()\u001b[0m\n\u001b[1;32m      7\u001b[0m \u001b[0mcars_assembled\u001b[0m \u001b[0;34m=\u001b[0m \u001b[0massembler\u001b[0m\u001b[0;34m.\u001b[0m\u001b[0mtransform\u001b[0m\u001b[0;34m(\u001b[0m\u001b[0mcars\u001b[0m\u001b[0;34m)\u001b[0m\u001b[0;34m\u001b[0m\u001b[0m\n\u001b[1;32m      8\u001b[0m \u001b[0;34m\u001b[0m\u001b[0m\n\u001b[0;32m----> 9\u001b[0;31m \u001b[0mcars_assembled\u001b[0m\u001b[0;34m.\u001b[0m\u001b[0mshow\u001b[0m\u001b[0;34m(\u001b[0m\u001b[0;34m)\u001b[0m\u001b[0;34m\u001b[0m\u001b[0m\n\u001b[0m",
      "\u001b[0;32m/usr/local/lib/python3.6/site-packages/pyspark/sql/dataframe.py\u001b[0m in \u001b[0;36mshow\u001b[0;34m(self, n, truncate, vertical)\u001b[0m\n\u001b[1;32m    376\u001b[0m         \"\"\"\n\u001b[1;32m    377\u001b[0m         \u001b[0;32mif\u001b[0m \u001b[0misinstance\u001b[0m\u001b[0;34m(\u001b[0m\u001b[0mtruncate\u001b[0m\u001b[0;34m,\u001b[0m \u001b[0mbool\u001b[0m\u001b[0;34m)\u001b[0m \u001b[0;32mand\u001b[0m \u001b[0mtruncate\u001b[0m\u001b[0;34m:\u001b[0m\u001b[0;34m\u001b[0m\u001b[0m\n\u001b[0;32m--> 378\u001b[0;31m             \u001b[0mprint\u001b[0m\u001b[0;34m(\u001b[0m\u001b[0mself\u001b[0m\u001b[0;34m.\u001b[0m\u001b[0m_jdf\u001b[0m\u001b[0;34m.\u001b[0m\u001b[0mshowString\u001b[0m\u001b[0;34m(\u001b[0m\u001b[0mn\u001b[0m\u001b[0;34m,\u001b[0m \u001b[0;36m20\u001b[0m\u001b[0;34m,\u001b[0m \u001b[0mvertical\u001b[0m\u001b[0;34m)\u001b[0m\u001b[0;34m)\u001b[0m\u001b[0;34m\u001b[0m\u001b[0m\n\u001b[0m\u001b[1;32m    379\u001b[0m         \u001b[0;32melse\u001b[0m\u001b[0;34m:\u001b[0m\u001b[0;34m\u001b[0m\u001b[0m\n\u001b[1;32m    380\u001b[0m             \u001b[0mprint\u001b[0m\u001b[0;34m(\u001b[0m\u001b[0mself\u001b[0m\u001b[0;34m.\u001b[0m\u001b[0m_jdf\u001b[0m\u001b[0;34m.\u001b[0m\u001b[0mshowString\u001b[0m\u001b[0;34m(\u001b[0m\u001b[0mn\u001b[0m\u001b[0;34m,\u001b[0m \u001b[0mint\u001b[0m\u001b[0;34m(\u001b[0m\u001b[0mtruncate\u001b[0m\u001b[0;34m)\u001b[0m\u001b[0;34m,\u001b[0m \u001b[0mvertical\u001b[0m\u001b[0;34m)\u001b[0m\u001b[0;34m)\u001b[0m\u001b[0;34m\u001b[0m\u001b[0m\n",
      "\u001b[0;32m/usr/local/lib/python3.6/site-packages/py4j/java_gateway.py\u001b[0m in \u001b[0;36m__call__\u001b[0;34m(self, *args)\u001b[0m\n\u001b[1;32m   1255\u001b[0m         \u001b[0manswer\u001b[0m \u001b[0;34m=\u001b[0m \u001b[0mself\u001b[0m\u001b[0;34m.\u001b[0m\u001b[0mgateway_client\u001b[0m\u001b[0;34m.\u001b[0m\u001b[0msend_command\u001b[0m\u001b[0;34m(\u001b[0m\u001b[0mcommand\u001b[0m\u001b[0;34m)\u001b[0m\u001b[0;34m\u001b[0m\u001b[0m\n\u001b[1;32m   1256\u001b[0m         return_value = get_return_value(\n\u001b[0;32m-> 1257\u001b[0;31m             answer, self.gateway_client, self.target_id, self.name)\n\u001b[0m\u001b[1;32m   1258\u001b[0m \u001b[0;34m\u001b[0m\u001b[0m\n\u001b[1;32m   1259\u001b[0m         \u001b[0;32mfor\u001b[0m \u001b[0mtemp_arg\u001b[0m \u001b[0;32min\u001b[0m \u001b[0mtemp_args\u001b[0m\u001b[0;34m:\u001b[0m\u001b[0;34m\u001b[0m\u001b[0m\n",
      "\u001b[0;32m/usr/local/lib/python3.6/site-packages/pyspark/sql/utils.py\u001b[0m in \u001b[0;36mdeco\u001b[0;34m(*a, **kw)\u001b[0m\n\u001b[1;32m     61\u001b[0m     \u001b[0;32mdef\u001b[0m \u001b[0mdeco\u001b[0m\u001b[0;34m(\u001b[0m\u001b[0;34m*\u001b[0m\u001b[0ma\u001b[0m\u001b[0;34m,\u001b[0m \u001b[0;34m**\u001b[0m\u001b[0mkw\u001b[0m\u001b[0;34m)\u001b[0m\u001b[0;34m:\u001b[0m\u001b[0;34m\u001b[0m\u001b[0m\n\u001b[1;32m     62\u001b[0m         \u001b[0;32mtry\u001b[0m\u001b[0;34m:\u001b[0m\u001b[0;34m\u001b[0m\u001b[0m\n\u001b[0;32m---> 63\u001b[0;31m             \u001b[0;32mreturn\u001b[0m \u001b[0mf\u001b[0m\u001b[0;34m(\u001b[0m\u001b[0;34m*\u001b[0m\u001b[0ma\u001b[0m\u001b[0;34m,\u001b[0m \u001b[0;34m**\u001b[0m\u001b[0mkw\u001b[0m\u001b[0;34m)\u001b[0m\u001b[0;34m\u001b[0m\u001b[0m\n\u001b[0m\u001b[1;32m     64\u001b[0m         \u001b[0;32mexcept\u001b[0m \u001b[0mpy4j\u001b[0m\u001b[0;34m.\u001b[0m\u001b[0mprotocol\u001b[0m\u001b[0;34m.\u001b[0m\u001b[0mPy4JJavaError\u001b[0m \u001b[0;32mas\u001b[0m \u001b[0me\u001b[0m\u001b[0;34m:\u001b[0m\u001b[0;34m\u001b[0m\u001b[0m\n\u001b[1;32m     65\u001b[0m             \u001b[0ms\u001b[0m \u001b[0;34m=\u001b[0m \u001b[0me\u001b[0m\u001b[0;34m.\u001b[0m\u001b[0mjava_exception\u001b[0m\u001b[0;34m.\u001b[0m\u001b[0mtoString\u001b[0m\u001b[0;34m(\u001b[0m\u001b[0;34m)\u001b[0m\u001b[0;34m\u001b[0m\u001b[0m\n",
      "\u001b[0;32m/usr/local/lib/python3.6/site-packages/py4j/protocol.py\u001b[0m in \u001b[0;36mget_return_value\u001b[0;34m(answer, gateway_client, target_id, name)\u001b[0m\n\u001b[1;32m    326\u001b[0m                 raise Py4JJavaError(\n\u001b[1;32m    327\u001b[0m                     \u001b[0;34m\"An error occurred while calling {0}{1}{2}.\\n\"\u001b[0m\u001b[0;34m.\u001b[0m\u001b[0;34m\u001b[0m\u001b[0m\n\u001b[0;32m--> 328\u001b[0;31m                     format(target_id, \".\", name), value)\n\u001b[0m\u001b[1;32m    329\u001b[0m             \u001b[0;32melse\u001b[0m\u001b[0;34m:\u001b[0m\u001b[0;34m\u001b[0m\u001b[0m\n\u001b[1;32m    330\u001b[0m                 raise Py4JError(\n",
      "\u001b[0;31mPy4JJavaError\u001b[0m: An error occurred while calling o77.showString.\n: org.apache.spark.SparkException: Job aborted due to stage failure: Task 0 in stage 2.0 failed 1 times, most recent failure: Lost task 0.0 in stage 2.0 (TID 2, localhost, executor driver): org.apache.spark.SparkException: Failed to execute user defined function($anonfun$4: (struct<normalized_losses_double_VectorAssembler_3a24381a8a30:double,wheel_base:double,length:double,width:double,height:double,curb_weight_double_VectorAssembler_3a24381a8a30:double,engine_size_double_VectorAssembler_3a24381a8a30:double,bore:double,stroke:double,compression_ratio:double,horsepower_double_VectorAssembler_3a24381a8a30:double,peak_rpm_double_VectorAssembler_3a24381a8a30:double,city_mpg_double_VectorAssembler_3a24381a8a30:double,highway_mpg_double_VectorAssembler_3a24381a8a30:double,price_double_VectorAssembler_3a24381a8a30:double>) => struct<type:tinyint,size:int,indices:array<int>,values:array<double>>)\n\tat org.apache.spark.sql.catalyst.expressions.GeneratedClass$GeneratedIteratorForCodegenStage1.processNext(Unknown Source)\n\tat org.apache.spark.sql.execution.BufferedRowIterator.hasNext(BufferedRowIterator.java:43)\n\tat org.apache.spark.sql.execution.WholeStageCodegenExec$$anonfun$11$$anon$1.hasNext(WholeStageCodegenExec.scala:619)\n\tat org.apache.spark.sql.execution.SparkPlan$$anonfun$2.apply(SparkPlan.scala:255)\n\tat org.apache.spark.sql.execution.SparkPlan$$anonfun$2.apply(SparkPlan.scala:247)\n\tat org.apache.spark.rdd.RDD$$anonfun$mapPartitionsInternal$1$$anonfun$apply$24.apply(RDD.scala:836)\n\tat org.apache.spark.rdd.RDD$$anonfun$mapPartitionsInternal$1$$anonfun$apply$24.apply(RDD.scala:836)\n\tat org.apache.spark.rdd.MapPartitionsRDD.compute(MapPartitionsRDD.scala:52)\n\tat org.apache.spark.rdd.RDD.computeOrReadCheckpoint(RDD.scala:324)\n\tat org.apache.spark.rdd.RDD.iterator(RDD.scala:288)\n\tat org.apache.spark.rdd.MapPartitionsRDD.compute(MapPartitionsRDD.scala:52)\n\tat org.apache.spark.rdd.RDD.computeOrReadCheckpoint(RDD.scala:324)\n\tat org.apache.spark.rdd.RDD.iterator(RDD.scala:288)\n\tat org.apache.spark.scheduler.ResultTask.runTask(ResultTask.scala:90)\n\tat org.apache.spark.scheduler.Task.run(Task.scala:121)\n\tat org.apache.spark.executor.Executor$TaskRunner$$anonfun$10.apply(Executor.scala:402)\n\tat org.apache.spark.util.Utils$.tryWithSafeFinally(Utils.scala:1360)\n\tat org.apache.spark.executor.Executor$TaskRunner.run(Executor.scala:408)\n\tat java.util.concurrent.ThreadPoolExecutor.runWorker(ThreadPoolExecutor.java:1142)\n\tat java.util.concurrent.ThreadPoolExecutor$Worker.run(ThreadPoolExecutor.java:617)\n\tat java.lang.Thread.run(Thread.java:745)\nCaused by: org.apache.spark.SparkException: Encountered null while assembling a row with handleInvalid = \"keep\". Consider\nremoving nulls from dataset or using handleInvalid = \"keep\" or \"skip\".\n\tat org.apache.spark.ml.feature.VectorAssembler$$anonfun$assemble$1.apply(VectorAssembler.scala:287)\n\tat org.apache.spark.ml.feature.VectorAssembler$$anonfun$assemble$1.apply(VectorAssembler.scala:255)\n\tat scala.collection.IndexedSeqOptimized$class.foreach(IndexedSeqOptimized.scala:33)\n\tat scala.collection.mutable.WrappedArray.foreach(WrappedArray.scala:35)\n\tat org.apache.spark.ml.feature.VectorAssembler$.assemble(VectorAssembler.scala:255)\n\tat org.apache.spark.ml.feature.VectorAssembler$$anonfun$4.apply(VectorAssembler.scala:144)\n\tat org.apache.spark.ml.feature.VectorAssembler$$anonfun$4.apply(VectorAssembler.scala:143)\n\t... 21 more\n\nDriver stacktrace:\n\tat org.apache.spark.scheduler.DAGScheduler.org$apache$spark$scheduler$DAGScheduler$$failJobAndIndependentStages(DAGScheduler.scala:1887)\n\tat org.apache.spark.scheduler.DAGScheduler$$anonfun$abortStage$1.apply(DAGScheduler.scala:1875)\n\tat org.apache.spark.scheduler.DAGScheduler$$anonfun$abortStage$1.apply(DAGScheduler.scala:1874)\n\tat scala.collection.mutable.ResizableArray$class.foreach(ResizableArray.scala:59)\n\tat scala.collection.mutable.ArrayBuffer.foreach(ArrayBuffer.scala:48)\n\tat org.apache.spark.scheduler.DAGScheduler.abortStage(DAGScheduler.scala:1874)\n\tat org.apache.spark.scheduler.DAGScheduler$$anonfun$handleTaskSetFailed$1.apply(DAGScheduler.scala:926)\n\tat org.apache.spark.scheduler.DAGScheduler$$anonfun$handleTaskSetFailed$1.apply(DAGScheduler.scala:926)\n\tat scala.Option.foreach(Option.scala:257)\n\tat org.apache.spark.scheduler.DAGScheduler.handleTaskSetFailed(DAGScheduler.scala:926)\n\tat org.apache.spark.scheduler.DAGSchedulerEventProcessLoop.doOnReceive(DAGScheduler.scala:2108)\n\tat org.apache.spark.scheduler.DAGSchedulerEventProcessLoop.onReceive(DAGScheduler.scala:2057)\n\tat org.apache.spark.scheduler.DAGSchedulerEventProcessLoop.onReceive(DAGScheduler.scala:2046)\n\tat org.apache.spark.util.EventLoop$$anon$1.run(EventLoop.scala:49)\n\tat org.apache.spark.scheduler.DAGScheduler.runJob(DAGScheduler.scala:737)\n\tat org.apache.spark.SparkContext.runJob(SparkContext.scala:2061)\n\tat org.apache.spark.SparkContext.runJob(SparkContext.scala:2082)\n\tat org.apache.spark.SparkContext.runJob(SparkContext.scala:2101)\n\tat org.apache.spark.sql.execution.SparkPlan.executeTake(SparkPlan.scala:365)\n\tat org.apache.spark.sql.execution.CollectLimitExec.executeCollect(limit.scala:38)\n\tat org.apache.spark.sql.Dataset.org$apache$spark$sql$Dataset$$collectFromPlan(Dataset.scala:3384)\n\tat org.apache.spark.sql.Dataset$$anonfun$head$1.apply(Dataset.scala:2545)\n\tat org.apache.spark.sql.Dataset$$anonfun$head$1.apply(Dataset.scala:2545)\n\tat org.apache.spark.sql.Dataset$$anonfun$53.apply(Dataset.scala:3365)\n\tat org.apache.spark.sql.execution.SQLExecution$$anonfun$withNewExecutionId$1.apply(SQLExecution.scala:78)\n\tat org.apache.spark.sql.execution.SQLExecution$.withSQLConfPropagated(SQLExecution.scala:125)\n\tat org.apache.spark.sql.execution.SQLExecution$.withNewExecutionId(SQLExecution.scala:73)\n\tat org.apache.spark.sql.Dataset.withAction(Dataset.scala:3364)\n\tat org.apache.spark.sql.Dataset.head(Dataset.scala:2545)\n\tat org.apache.spark.sql.Dataset.take(Dataset.scala:2759)\n\tat org.apache.spark.sql.Dataset.getRows(Dataset.scala:255)\n\tat org.apache.spark.sql.Dataset.showString(Dataset.scala:292)\n\tat sun.reflect.NativeMethodAccessorImpl.invoke0(Native Method)\n\tat sun.reflect.NativeMethodAccessorImpl.invoke(NativeMethodAccessorImpl.java:62)\n\tat sun.reflect.DelegatingMethodAccessorImpl.invoke(DelegatingMethodAccessorImpl.java:43)\n\tat java.lang.reflect.Method.invoke(Method.java:498)\n\tat py4j.reflection.MethodInvoker.invoke(MethodInvoker.java:244)\n\tat py4j.reflection.ReflectionEngine.invoke(ReflectionEngine.java:357)\n\tat py4j.Gateway.invoke(Gateway.java:282)\n\tat py4j.commands.AbstractCommand.invokeMethod(AbstractCommand.java:132)\n\tat py4j.commands.CallCommand.execute(CallCommand.java:79)\n\tat py4j.GatewayConnection.run(GatewayConnection.java:238)\n\tat java.lang.Thread.run(Thread.java:745)\nCaused by: org.apache.spark.SparkException: Failed to execute user defined function($anonfun$4: (struct<normalized_losses_double_VectorAssembler_3a24381a8a30:double,wheel_base:double,length:double,width:double,height:double,curb_weight_double_VectorAssembler_3a24381a8a30:double,engine_size_double_VectorAssembler_3a24381a8a30:double,bore:double,stroke:double,compression_ratio:double,horsepower_double_VectorAssembler_3a24381a8a30:double,peak_rpm_double_VectorAssembler_3a24381a8a30:double,city_mpg_double_VectorAssembler_3a24381a8a30:double,highway_mpg_double_VectorAssembler_3a24381a8a30:double,price_double_VectorAssembler_3a24381a8a30:double>) => struct<type:tinyint,size:int,indices:array<int>,values:array<double>>)\n\tat org.apache.spark.sql.catalyst.expressions.GeneratedClass$GeneratedIteratorForCodegenStage1.processNext(Unknown Source)\n\tat org.apache.spark.sql.execution.BufferedRowIterator.hasNext(BufferedRowIterator.java:43)\n\tat org.apache.spark.sql.execution.WholeStageCodegenExec$$anonfun$11$$anon$1.hasNext(WholeStageCodegenExec.scala:619)\n\tat org.apache.spark.sql.execution.SparkPlan$$anonfun$2.apply(SparkPlan.scala:255)\n\tat org.apache.spark.sql.execution.SparkPlan$$anonfun$2.apply(SparkPlan.scala:247)\n\tat org.apache.spark.rdd.RDD$$anonfun$mapPartitionsInternal$1$$anonfun$apply$24.apply(RDD.scala:836)\n\tat org.apache.spark.rdd.RDD$$anonfun$mapPartitionsInternal$1$$anonfun$apply$24.apply(RDD.scala:836)\n\tat org.apache.spark.rdd.MapPartitionsRDD.compute(MapPartitionsRDD.scala:52)\n\tat org.apache.spark.rdd.RDD.computeOrReadCheckpoint(RDD.scala:324)\n\tat org.apache.spark.rdd.RDD.iterator(RDD.scala:288)\n\tat org.apache.spark.rdd.MapPartitionsRDD.compute(MapPartitionsRDD.scala:52)\n\tat org.apache.spark.rdd.RDD.computeOrReadCheckpoint(RDD.scala:324)\n\tat org.apache.spark.rdd.RDD.iterator(RDD.scala:288)\n\tat org.apache.spark.scheduler.ResultTask.runTask(ResultTask.scala:90)\n\tat org.apache.spark.scheduler.Task.run(Task.scala:121)\n\tat org.apache.spark.executor.Executor$TaskRunner$$anonfun$10.apply(Executor.scala:402)\n\tat org.apache.spark.util.Utils$.tryWithSafeFinally(Utils.scala:1360)\n\tat org.apache.spark.executor.Executor$TaskRunner.run(Executor.scala:408)\n\tat java.util.concurrent.ThreadPoolExecutor.runWorker(ThreadPoolExecutor.java:1142)\n\tat java.util.concurrent.ThreadPoolExecutor$Worker.run(ThreadPoolExecutor.java:617)\n\t... 1 more\nCaused by: org.apache.spark.SparkException: Encountered null while assembling a row with handleInvalid = \"keep\". Consider\nremoving nulls from dataset or using handleInvalid = \"keep\" or \"skip\".\n\tat org.apache.spark.ml.feature.VectorAssembler$$anonfun$assemble$1.apply(VectorAssembler.scala:287)\n\tat org.apache.spark.ml.feature.VectorAssembler$$anonfun$assemble$1.apply(VectorAssembler.scala:255)\n\tat scala.collection.IndexedSeqOptimized$class.foreach(IndexedSeqOptimized.scala:33)\n\tat scala.collection.mutable.WrappedArray.foreach(WrappedArray.scala:35)\n\tat org.apache.spark.ml.feature.VectorAssembler$.assemble(VectorAssembler.scala:255)\n\tat org.apache.spark.ml.feature.VectorAssembler$$anonfun$4.apply(VectorAssembler.scala:144)\n\tat org.apache.spark.ml.feature.VectorAssembler$$anonfun$4.apply(VectorAssembler.scala:143)\n\t... 21 more\n"
     ]
    }
   ],
   "source": [
    "# Respuesta\n",
    "\n",
    "columns_assemble = [element[0] for element in cars.dtypes if element[1] != 'string' and element[0] != 'symboling']\n",
    "\n",
    "assembler = VectorAssembler(inputCols=columns_assemble, outputCol='assembled_features')\n",
    "\n",
    "cars_assembled = assembler.transform(cars)\n",
    "\n",
    "cars_assembled.show()"
   ]
  },
  {
   "cell_type": "markdown",
   "metadata": {},
   "source": [
    "\n",
    "\n",
    "Ha vuelto a fallar, ¿qué ocurre?\n",
    "\n",
    "En la version de Spark 2.1 el mensaje no parece aportar muchos indicios  que el error. Sin embargo, en la version de Spark 2.2  el error se describe de la siguiente manera:\n",
    "    \n",
    "**Caused by: org.apache.spark.SparkException: Values to assemble cannot be null.**\n",
    "\n",
    "Así pues, se tiene que se deben haber filtrado correctamente los valores nulos antes de crear un VectorAssembler.\n"
   ]
  },
  {
   "cell_type": "markdown",
   "metadata": {},
   "source": [
    "\n",
    "\n",
    "Quitaremos todas las filas con nulos:"
   ]
  },
  {
   "cell_type": "code",
   "execution_count": 7,
   "metadata": {},
   "outputs": [
    {
     "name": "stdout",
     "output_type": "stream",
     "text": [
      "The column \"normalized_losses\" does not have null values\n",
      "\tThe column \"make\" has null values\n",
      "The column \"fuel_type\" does not have null values\n",
      "The column \"aspiration\" does not have null values\n",
      "The column \"num_of_doors\" does not have null values\n",
      "\tThe column \"body_style\" has null values\n",
      "The column \"drive_wheels\" does not have null values\n",
      "The column \"engine_location\" does not have null values\n",
      "The column \"wheel_base\" does not have null values\n",
      "The column \"length\" does not have null values\n",
      "The column \"width\" does not have null values\n",
      "The column \"height\" does not have null values\n",
      "The column \"curb_weight\" does not have null values\n",
      "The column \"engine_type\" does not have null values\n",
      "The column \"num_of_cylinders\" does not have null values\n",
      "The column \"engine_size\" does not have null values\n",
      "The column \"fuel_system\" does not have null values\n",
      "\tThe column \"bore\" has null values\n",
      "The column \"stroke\" does not have null values\n",
      "The column \"compression_ratio\" does not have null values\n",
      "\tThe column \"horsepower\" has null values\n",
      "The column \"peak_rpm\" does not have null values\n",
      "The column \"city_mpg\" does not have null values\n",
      "The column \"highway_mpg\" does not have null values\n",
      "The column \"price\" does not have null values\n",
      "The column \"symboling\" does not have null values\n"
     ]
    }
   ],
   "source": [
    "# Respuesta\n",
    "\n",
    "cars_no_nulls = cars.cache()\n",
    "\n",
    "for element in cars.columns:\n",
    "    if cars.where(cars[element].isNull()).count() != 0:\n",
    "        print('\\tThe column \"{}\" has null values'.format(element))\n",
    "        cars_no_nulls = cars_no_nulls.where(cars[element].isNotNull())\n",
    "    if cars.where(cars[element].isNull()).count() == 0:\n",
    "        print('The column \"{}\" does not have null values'.format(element))"
   ]
  },
  {
   "cell_type": "code",
   "execution_count": 8,
   "metadata": {},
   "outputs": [
    {
     "name": "stdout",
     "output_type": "stream",
     "text": [
      "+-----------------+----------+---------+----------+------------+----------+------------+---------------+----------+------+-----+------+-----------+-----------+----------------+-----------+-----------+----+------+-----------------+----------+--------+--------+-----------+-----+---------+--------------------+\n",
      "|normalized_losses|      make|fuel_type|aspiration|num_of_doors|body_style|drive_wheels|engine_location|wheel_base|length|width|height|curb_weight|engine_type|num_of_cylinders|engine_size|fuel_system|bore|stroke|compression_ratio|horsepower|peak_rpm|city_mpg|highway_mpg|price|symboling|  assembled_features|\n",
      "+-----------------+----------+---------+----------+------------+----------+------------+---------------+----------+------+-----+------+-----------+-----------+----------------+-----------+-----------+----+------+-----------------+----------+--------+--------+-----------+-----+---------+--------------------+\n",
      "|              113|     mazda|      gas|       std|      [four]|     sedan|         fwd|          front|      93.1| 166.8| 64.2|  54.1|       1950|        ohc|            four|         91|       2bbl|3.08|  3.15|              9.0|        68|    5000|      31|         38| 7395|        1|[113.0,93.1,166.8...|\n",
      "|               87|    toyota|      gas|       std|  [two,four]| hatchback|         fwd|          front|      95.7| 158.7| 63.6|  54.5|       1985|        ohc|            four|         92|       2bbl|3.05|  3.03|              9.0|        62|    4800|      35|         39| 5348|        1|[87.0,95.7,158.7,...|\n",
      "|              125|mitsubishi|      gas|       std|      [four]|     sedan|         fwd|          front|      96.3| 172.4| 65.4|  51.6|       2365|        ohc|            four|        122|       2bbl|3.35|  3.46|              8.5|        88|    5000|      25|         32| 6989|        1|[125.0,96.3,172.4...|\n",
      "|              148|     dodge|      gas|     turbo|      [four]|     sedan|         fwd|          front|      93.7| 157.3| 63.8|  50.6|       2191|        ohc|            four|         98|       mpfi|3.03|  3.39|              7.6|       102|    5500|      24|         30| 8558|        1|[148.0,93.7,157.3...|\n",
      "|              150|     mazda|      gas|       std|  [two,four]| hatchback|         rwd|          front|      95.3| 169.0| 65.7|  49.6|       2380|      rotor|             two|         70|       4bbl| 0.0|   0.0|              9.4|       101|    6000|      17|         23|11845|        3|[150.0,95.3,169.0...|\n",
      "|              194|    nissan|      gas|     turbo|  [two,four]| hatchback|         rwd|          front|      91.3| 170.7| 67.9|  49.7|       3139|       ohcv|             six|        181|       mpfi|3.43|  3.27|              7.8|       200|    5200|      17|         23|19699|        3|[194.0,91.3,170.7...|\n",
      "|                0|    jaguar|      gas|       std|  [two,four]|     sedan|         rwd|          front|     102.0| 191.7| 70.6|  47.8|       3950|       ohcv|          twelve|        326|       mpfi|3.54|  2.76|             11.5|       262|    5000|      13|         17|36000|        0|[0.0,102.0,191.7,...|\n",
      "|              128|    nissan|      gas|       std|      [four]|     sedan|         fwd|          front|     100.4| 181.7| 66.5|  55.1|       3095|       ohcv|             six|        181|       mpfi|3.43|  3.27|              9.0|       152|    5200|      17|         22|13499|        0|[128.0,100.4,181....|\n",
      "|              161|    peugot|   diesel|     turbo|      [four]|     sedan|         rwd|          front|     107.9| 186.7| 68.4|  56.7|       3252|          l|            four|        152|        idi| 3.7|  3.52|             21.0|        95|    4150|      28|         33|16900|        0|[161.0,107.9,186....|\n",
      "|              115|     mazda|      gas|       std|      [four]|     sedan|         fwd|          front|      98.8| 177.8| 66.5|  55.5|       2410|        ohc|            four|        122|       2bbl|3.39|  3.39|              8.6|        84|    4800|      26|         32| 8495|        0|[115.0,98.8,177.8...|\n",
      "|              192|       bmw|      gas|       std|      [four]|     sedan|         rwd|          front|     101.2| 176.8| 64.8|  54.3|       2395|        ohc|            four|        108|       mpfi| 3.5|   2.8|              8.8|       101|    5800|      23|         29|16925|        0|[192.0,101.2,176....|\n",
      "|              168|    nissan|      gas|       std|  [two,four]|   hardtop|         fwd|          front|      95.1| 162.4| 63.8|  53.3|       2008|        ohc|            four|         97|       2bbl|3.15|  3.29|              9.4|        69|    5200|      31|         37| 8249|        2|[168.0,95.1,162.4...|\n",
      "|              161|mitsubishi|      gas|       std|  [two,four]| hatchback|         fwd|          front|      93.7| 157.3| 64.4|  50.8|       1918|        ohc|            four|         92|       2bbl|2.97|  3.23|              9.4|        68|    5500|      37|         41| 5389|        2|[161.0,93.7,157.3...|\n",
      "|              110|     dodge|      gas|       std|      [four]|     wagon|         fwd|          front|     103.3| 174.6| 64.6|  59.8|       2535|        ohc|            four|        122|       2bbl|3.34|  3.46|              8.5|        88|    5000|      24|         30| 8921|       -1|[110.0,103.3,174....|\n",
      "|               65|    toyota|      gas|       std|      [four]| hatchback|         fwd|          front|     102.4| 175.6| 66.5|  53.9|       2458|        ohc|            four|        122|       mpfi|3.31|  3.54|              8.7|        92|    4200|      27|         32|11248|       -1|[65.0,102.4,175.6...|\n",
      "|                0|  plymouth|      gas|     turbo|  [two,four]| hatchback|         rwd|          front|      95.9| 173.2| 66.3|  50.2|       2818|        ohc|            four|        156|       spdi|3.59|  3.86|              7.0|       145|    5000|      19|         24|12764|        3|[0.0,95.9,173.2,6...|\n",
      "|                0|       bmw|      gas|       std|      [four]|     sedan|         rwd|          front|     103.5| 189.0| 66.9|  55.7|       3230|        ohc|             six|        209|       mpfi|3.62|  3.39|              8.0|       182|    5400|      16|         22|30760|        0|[0.0,103.5,189.0,...|\n",
      "|              161|    peugot|      gas|     turbo|      [four]|     sedan|         rwd|          front|     108.0| 186.7| 68.3|  56.0|       3130|          l|            four|        134|       mpfi|3.61|  3.21|              7.0|       142|    5600|      18|         24|18150|        0|[161.0,108.0,186....|\n",
      "|                0|     isuzu|      gas|       std|  [two,four]|     sedan|         fwd|          front|      94.5| 155.9| 63.6|  52.0|       1874|        ohc|            four|         90|       2bbl|3.03|  3.11|              9.6|        70|    5400|      38|         43|    0|        1|[0.0,94.5,155.9,6...|\n",
      "|                0|   mercury|      gas|     turbo|  [two,four]| hatchback|         rwd|          front|     102.7| 178.4| 68.0|  54.8|       2910|        ohc|            four|        140|       mpfi|3.78|  3.12|              8.0|       175|    5000|      19|         24|16503|        1|[0.0,102.7,178.4,...|\n",
      "+-----------------+----------+---------+----------+------------+----------+------------+---------------+----------+------+-----+------+-----------+-----------+----------------+-----------+-----------+----+------+-----------------+----------+--------+--------+-----------+-----+---------+--------------------+\n",
      "only showing top 20 rows\n",
      "\n"
     ]
    }
   ],
   "source": [
    "# Respuesta\n",
    "\n",
    "assembler = VectorAssembler(inputCols=columns_assemble, outputCol='assembled_features')\n",
    "\n",
    "cars_assembled = assembler.transform(cars_no_nulls) # please bear in mind, we are using cars_no_nulls\n",
    "\n",
    "cars_assembled.show()"
   ]
  },
  {
   "cell_type": "markdown",
   "metadata": {},
   "source": [
    "\n",
    "\n",
    "** ¡¡Ahora se ha podido crear el VectorAssembler!! **"
   ]
  },
  {
   "cell_type": "markdown",
   "metadata": {},
   "source": [
    "\n",
    "\n",
    "### StringIndexer"
   ]
  },
  {
   "cell_type": "markdown",
   "metadata": {},
   "source": [
    "\n",
    "\n",
    "* Hagamos StringIndexer para la variable 'make' que representa la marca del auto."
   ]
  },
  {
   "cell_type": "code",
   "execution_count": 10,
   "metadata": {},
   "outputs": [
    {
     "name": "stdout",
     "output_type": "stream",
     "text": [
      "+-------------+-----+\n",
      "|         make|count|\n",
      "+-------------+-----+\n",
      "|       peugot|   11|\n",
      "|       jaguar|    3|\n",
      "|   mitsubishi|   13|\n",
      "|         null|    1|\n",
      "|       toyota|   31|\n",
      "|         saab|    6|\n",
      "|     plymouth|    7|\n",
      "|         audi|    7|\n",
      "|          bmw|    8|\n",
      "|  alfa-romero|    3|\n",
      "|        dodge|    9|\n",
      "|        mazda|   17|\n",
      "|mercedes-benz|    8|\n",
      "|        isuzu|    4|\n",
      "|      porsche|    5|\n",
      "|    chevrolet|    3|\n",
      "|        honda|   13|\n",
      "|   volkswagen|   12|\n",
      "|      mercury|    1|\n",
      "|      renault|    2|\n",
      "+-------------+-----+\n",
      "only showing top 20 rows\n",
      "\n"
     ]
    }
   ],
   "source": [
    "cars.groupBy('make').count().show()"
   ]
  },
  {
   "cell_type": "code",
   "execution_count": 11,
   "metadata": {},
   "outputs": [
    {
     "ename": "Py4JJavaError",
     "evalue": "An error occurred while calling o350.collectToPython.\n: org.apache.spark.SparkException: Job aborted due to stage failure: Task 0 in stage 120.0 failed 1 times, most recent failure: Lost task 0.0 in stage 120.0 (TID 311, localhost, executor driver): org.apache.spark.SparkException: Failed to execute user defined function($anonfun$9: (string) => double)\n\tat org.apache.spark.sql.catalyst.expressions.GeneratedClass$GeneratedIteratorForCodegenStage1.processNext(Unknown Source)\n\tat org.apache.spark.sql.execution.BufferedRowIterator.hasNext(BufferedRowIterator.java:43)\n\tat org.apache.spark.sql.execution.WholeStageCodegenExec$$anonfun$11$$anon$1.hasNext(WholeStageCodegenExec.scala:619)\n\tat org.apache.spark.sql.execution.SparkPlan$$anonfun$2.apply(SparkPlan.scala:255)\n\tat org.apache.spark.sql.execution.SparkPlan$$anonfun$2.apply(SparkPlan.scala:247)\n\tat org.apache.spark.rdd.RDD$$anonfun$mapPartitionsInternal$1$$anonfun$apply$24.apply(RDD.scala:836)\n\tat org.apache.spark.rdd.RDD$$anonfun$mapPartitionsInternal$1$$anonfun$apply$24.apply(RDD.scala:836)\n\tat org.apache.spark.rdd.MapPartitionsRDD.compute(MapPartitionsRDD.scala:52)\n\tat org.apache.spark.rdd.RDD.computeOrReadCheckpoint(RDD.scala:324)\n\tat org.apache.spark.rdd.RDD.iterator(RDD.scala:288)\n\tat org.apache.spark.scheduler.ResultTask.runTask(ResultTask.scala:90)\n\tat org.apache.spark.scheduler.Task.run(Task.scala:121)\n\tat org.apache.spark.executor.Executor$TaskRunner$$anonfun$10.apply(Executor.scala:402)\n\tat org.apache.spark.util.Utils$.tryWithSafeFinally(Utils.scala:1360)\n\tat org.apache.spark.executor.Executor$TaskRunner.run(Executor.scala:408)\n\tat java.util.concurrent.ThreadPoolExecutor.runWorker(ThreadPoolExecutor.java:1142)\n\tat java.util.concurrent.ThreadPoolExecutor$Worker.run(ThreadPoolExecutor.java:617)\n\tat java.lang.Thread.run(Thread.java:745)\nCaused by: org.apache.spark.SparkException: StringIndexer encountered NULL value. To handle or skip NULLS, try setting StringIndexer.handleInvalid.\n\tat org.apache.spark.ml.feature.StringIndexerModel$$anonfun$9.apply(StringIndexer.scala:251)\n\tat org.apache.spark.ml.feature.StringIndexerModel$$anonfun$9.apply(StringIndexer.scala:246)\n\t... 18 more\n\nDriver stacktrace:\n\tat org.apache.spark.scheduler.DAGScheduler.org$apache$spark$scheduler$DAGScheduler$$failJobAndIndependentStages(DAGScheduler.scala:1887)\n\tat org.apache.spark.scheduler.DAGScheduler$$anonfun$abortStage$1.apply(DAGScheduler.scala:1875)\n\tat org.apache.spark.scheduler.DAGScheduler$$anonfun$abortStage$1.apply(DAGScheduler.scala:1874)\n\tat scala.collection.mutable.ResizableArray$class.foreach(ResizableArray.scala:59)\n\tat scala.collection.mutable.ArrayBuffer.foreach(ArrayBuffer.scala:48)\n\tat org.apache.spark.scheduler.DAGScheduler.abortStage(DAGScheduler.scala:1874)\n\tat org.apache.spark.scheduler.DAGScheduler$$anonfun$handleTaskSetFailed$1.apply(DAGScheduler.scala:926)\n\tat org.apache.spark.scheduler.DAGScheduler$$anonfun$handleTaskSetFailed$1.apply(DAGScheduler.scala:926)\n\tat scala.Option.foreach(Option.scala:257)\n\tat org.apache.spark.scheduler.DAGScheduler.handleTaskSetFailed(DAGScheduler.scala:926)\n\tat org.apache.spark.scheduler.DAGSchedulerEventProcessLoop.doOnReceive(DAGScheduler.scala:2108)\n\tat org.apache.spark.scheduler.DAGSchedulerEventProcessLoop.onReceive(DAGScheduler.scala:2057)\n\tat org.apache.spark.scheduler.DAGSchedulerEventProcessLoop.onReceive(DAGScheduler.scala:2046)\n\tat org.apache.spark.util.EventLoop$$anon$1.run(EventLoop.scala:49)\n\tat org.apache.spark.scheduler.DAGScheduler.runJob(DAGScheduler.scala:737)\n\tat org.apache.spark.SparkContext.runJob(SparkContext.scala:2061)\n\tat org.apache.spark.SparkContext.runJob(SparkContext.scala:2082)\n\tat org.apache.spark.SparkContext.runJob(SparkContext.scala:2101)\n\tat org.apache.spark.SparkContext.runJob(SparkContext.scala:2126)\n\tat org.apache.spark.rdd.RDD$$anonfun$collect$1.apply(RDD.scala:945)\n\tat org.apache.spark.rdd.RDDOperationScope$.withScope(RDDOperationScope.scala:151)\n\tat org.apache.spark.rdd.RDDOperationScope$.withScope(RDDOperationScope.scala:112)\n\tat org.apache.spark.rdd.RDD.withScope(RDD.scala:363)\n\tat org.apache.spark.rdd.RDD.collect(RDD.scala:944)\n\tat org.apache.spark.sql.execution.SparkPlan.executeCollect(SparkPlan.scala:299)\n\tat org.apache.spark.sql.Dataset$$anonfun$collectToPython$1.apply(Dataset.scala:3258)\n\tat org.apache.spark.sql.Dataset$$anonfun$collectToPython$1.apply(Dataset.scala:3255)\n\tat org.apache.spark.sql.Dataset$$anonfun$53.apply(Dataset.scala:3365)\n\tat org.apache.spark.sql.execution.SQLExecution$$anonfun$withNewExecutionId$1.apply(SQLExecution.scala:78)\n\tat org.apache.spark.sql.execution.SQLExecution$.withSQLConfPropagated(SQLExecution.scala:125)\n\tat org.apache.spark.sql.execution.SQLExecution$.withNewExecutionId(SQLExecution.scala:73)\n\tat org.apache.spark.sql.Dataset.withAction(Dataset.scala:3364)\n\tat org.apache.spark.sql.Dataset.collectToPython(Dataset.scala:3255)\n\tat sun.reflect.NativeMethodAccessorImpl.invoke0(Native Method)\n\tat sun.reflect.NativeMethodAccessorImpl.invoke(NativeMethodAccessorImpl.java:62)\n\tat sun.reflect.DelegatingMethodAccessorImpl.invoke(DelegatingMethodAccessorImpl.java:43)\n\tat java.lang.reflect.Method.invoke(Method.java:498)\n\tat py4j.reflection.MethodInvoker.invoke(MethodInvoker.java:244)\n\tat py4j.reflection.ReflectionEngine.invoke(ReflectionEngine.java:357)\n\tat py4j.Gateway.invoke(Gateway.java:282)\n\tat py4j.commands.AbstractCommand.invokeMethod(AbstractCommand.java:132)\n\tat py4j.commands.CallCommand.execute(CallCommand.java:79)\n\tat py4j.GatewayConnection.run(GatewayConnection.java:238)\n\tat java.lang.Thread.run(Thread.java:745)\nCaused by: org.apache.spark.SparkException: Failed to execute user defined function($anonfun$9: (string) => double)\n\tat org.apache.spark.sql.catalyst.expressions.GeneratedClass$GeneratedIteratorForCodegenStage1.processNext(Unknown Source)\n\tat org.apache.spark.sql.execution.BufferedRowIterator.hasNext(BufferedRowIterator.java:43)\n\tat org.apache.spark.sql.execution.WholeStageCodegenExec$$anonfun$11$$anon$1.hasNext(WholeStageCodegenExec.scala:619)\n\tat org.apache.spark.sql.execution.SparkPlan$$anonfun$2.apply(SparkPlan.scala:255)\n\tat org.apache.spark.sql.execution.SparkPlan$$anonfun$2.apply(SparkPlan.scala:247)\n\tat org.apache.spark.rdd.RDD$$anonfun$mapPartitionsInternal$1$$anonfun$apply$24.apply(RDD.scala:836)\n\tat org.apache.spark.rdd.RDD$$anonfun$mapPartitionsInternal$1$$anonfun$apply$24.apply(RDD.scala:836)\n\tat org.apache.spark.rdd.MapPartitionsRDD.compute(MapPartitionsRDD.scala:52)\n\tat org.apache.spark.rdd.RDD.computeOrReadCheckpoint(RDD.scala:324)\n\tat org.apache.spark.rdd.RDD.iterator(RDD.scala:288)\n\tat org.apache.spark.scheduler.ResultTask.runTask(ResultTask.scala:90)\n\tat org.apache.spark.scheduler.Task.run(Task.scala:121)\n\tat org.apache.spark.executor.Executor$TaskRunner$$anonfun$10.apply(Executor.scala:402)\n\tat org.apache.spark.util.Utils$.tryWithSafeFinally(Utils.scala:1360)\n\tat org.apache.spark.executor.Executor$TaskRunner.run(Executor.scala:408)\n\tat java.util.concurrent.ThreadPoolExecutor.runWorker(ThreadPoolExecutor.java:1142)\n\tat java.util.concurrent.ThreadPoolExecutor$Worker.run(ThreadPoolExecutor.java:617)\n\t... 1 more\nCaused by: org.apache.spark.SparkException: StringIndexer encountered NULL value. To handle or skip NULLS, try setting StringIndexer.handleInvalid.\n\tat org.apache.spark.ml.feature.StringIndexerModel$$anonfun$9.apply(StringIndexer.scala:251)\n\tat org.apache.spark.ml.feature.StringIndexerModel$$anonfun$9.apply(StringIndexer.scala:246)\n\t... 18 more\n",
     "output_type": "error",
     "traceback": [
      "\u001b[0;31m---------------------------------------------------------------------------\u001b[0m",
      "\u001b[0;31mPy4JJavaError\u001b[0m                             Traceback (most recent call last)",
      "\u001b[0;32m<ipython-input-11-9500aee01f7e>\u001b[0m in \u001b[0;36m<module>\u001b[0;34m()\u001b[0m\n\u001b[1;32m      9\u001b[0m \u001b[0mcars_indexed\u001b[0m \u001b[0;34m=\u001b[0m \u001b[0mfeature_indexer_model\u001b[0m\u001b[0;34m.\u001b[0m\u001b[0mtransform\u001b[0m\u001b[0;34m(\u001b[0m\u001b[0mcars\u001b[0m\u001b[0;34m)\u001b[0m\u001b[0;34m\u001b[0m\u001b[0m\n\u001b[1;32m     10\u001b[0m \u001b[0;34m\u001b[0m\u001b[0m\n\u001b[0;32m---> 11\u001b[0;31m \u001b[0mcars_indexed\u001b[0m\u001b[0;34m.\u001b[0m\u001b[0mcollect\u001b[0m\u001b[0;34m(\u001b[0m\u001b[0;34m)\u001b[0m\u001b[0;34m\u001b[0m\u001b[0m\n\u001b[0m",
      "\u001b[0;32m/usr/local/lib/python3.6/site-packages/pyspark/sql/dataframe.py\u001b[0m in \u001b[0;36mcollect\u001b[0;34m(self)\u001b[0m\n\u001b[1;32m    531\u001b[0m         \"\"\"\n\u001b[1;32m    532\u001b[0m         \u001b[0;32mwith\u001b[0m \u001b[0mSCCallSiteSync\u001b[0m\u001b[0;34m(\u001b[0m\u001b[0mself\u001b[0m\u001b[0;34m.\u001b[0m\u001b[0m_sc\u001b[0m\u001b[0;34m)\u001b[0m \u001b[0;32mas\u001b[0m \u001b[0mcss\u001b[0m\u001b[0;34m:\u001b[0m\u001b[0;34m\u001b[0m\u001b[0m\n\u001b[0;32m--> 533\u001b[0;31m             \u001b[0msock_info\u001b[0m \u001b[0;34m=\u001b[0m \u001b[0mself\u001b[0m\u001b[0;34m.\u001b[0m\u001b[0m_jdf\u001b[0m\u001b[0;34m.\u001b[0m\u001b[0mcollectToPython\u001b[0m\u001b[0;34m(\u001b[0m\u001b[0;34m)\u001b[0m\u001b[0;34m\u001b[0m\u001b[0m\n\u001b[0m\u001b[1;32m    534\u001b[0m         \u001b[0;32mreturn\u001b[0m \u001b[0mlist\u001b[0m\u001b[0;34m(\u001b[0m\u001b[0m_load_from_socket\u001b[0m\u001b[0;34m(\u001b[0m\u001b[0msock_info\u001b[0m\u001b[0;34m,\u001b[0m \u001b[0mBatchedSerializer\u001b[0m\u001b[0;34m(\u001b[0m\u001b[0mPickleSerializer\u001b[0m\u001b[0;34m(\u001b[0m\u001b[0;34m)\u001b[0m\u001b[0;34m)\u001b[0m\u001b[0;34m)\u001b[0m\u001b[0;34m)\u001b[0m\u001b[0;34m\u001b[0m\u001b[0m\n\u001b[1;32m    535\u001b[0m \u001b[0;34m\u001b[0m\u001b[0m\n",
      "\u001b[0;32m/usr/local/lib/python3.6/site-packages/py4j/java_gateway.py\u001b[0m in \u001b[0;36m__call__\u001b[0;34m(self, *args)\u001b[0m\n\u001b[1;32m   1255\u001b[0m         \u001b[0manswer\u001b[0m \u001b[0;34m=\u001b[0m \u001b[0mself\u001b[0m\u001b[0;34m.\u001b[0m\u001b[0mgateway_client\u001b[0m\u001b[0;34m.\u001b[0m\u001b[0msend_command\u001b[0m\u001b[0;34m(\u001b[0m\u001b[0mcommand\u001b[0m\u001b[0;34m)\u001b[0m\u001b[0;34m\u001b[0m\u001b[0m\n\u001b[1;32m   1256\u001b[0m         return_value = get_return_value(\n\u001b[0;32m-> 1257\u001b[0;31m             answer, self.gateway_client, self.target_id, self.name)\n\u001b[0m\u001b[1;32m   1258\u001b[0m \u001b[0;34m\u001b[0m\u001b[0m\n\u001b[1;32m   1259\u001b[0m         \u001b[0;32mfor\u001b[0m \u001b[0mtemp_arg\u001b[0m \u001b[0;32min\u001b[0m \u001b[0mtemp_args\u001b[0m\u001b[0;34m:\u001b[0m\u001b[0;34m\u001b[0m\u001b[0m\n",
      "\u001b[0;32m/usr/local/lib/python3.6/site-packages/pyspark/sql/utils.py\u001b[0m in \u001b[0;36mdeco\u001b[0;34m(*a, **kw)\u001b[0m\n\u001b[1;32m     61\u001b[0m     \u001b[0;32mdef\u001b[0m \u001b[0mdeco\u001b[0m\u001b[0;34m(\u001b[0m\u001b[0;34m*\u001b[0m\u001b[0ma\u001b[0m\u001b[0;34m,\u001b[0m \u001b[0;34m**\u001b[0m\u001b[0mkw\u001b[0m\u001b[0;34m)\u001b[0m\u001b[0;34m:\u001b[0m\u001b[0;34m\u001b[0m\u001b[0m\n\u001b[1;32m     62\u001b[0m         \u001b[0;32mtry\u001b[0m\u001b[0;34m:\u001b[0m\u001b[0;34m\u001b[0m\u001b[0m\n\u001b[0;32m---> 63\u001b[0;31m             \u001b[0;32mreturn\u001b[0m \u001b[0mf\u001b[0m\u001b[0;34m(\u001b[0m\u001b[0;34m*\u001b[0m\u001b[0ma\u001b[0m\u001b[0;34m,\u001b[0m \u001b[0;34m**\u001b[0m\u001b[0mkw\u001b[0m\u001b[0;34m)\u001b[0m\u001b[0;34m\u001b[0m\u001b[0m\n\u001b[0m\u001b[1;32m     64\u001b[0m         \u001b[0;32mexcept\u001b[0m \u001b[0mpy4j\u001b[0m\u001b[0;34m.\u001b[0m\u001b[0mprotocol\u001b[0m\u001b[0;34m.\u001b[0m\u001b[0mPy4JJavaError\u001b[0m \u001b[0;32mas\u001b[0m \u001b[0me\u001b[0m\u001b[0;34m:\u001b[0m\u001b[0;34m\u001b[0m\u001b[0m\n\u001b[1;32m     65\u001b[0m             \u001b[0ms\u001b[0m \u001b[0;34m=\u001b[0m \u001b[0me\u001b[0m\u001b[0;34m.\u001b[0m\u001b[0mjava_exception\u001b[0m\u001b[0;34m.\u001b[0m\u001b[0mtoString\u001b[0m\u001b[0;34m(\u001b[0m\u001b[0;34m)\u001b[0m\u001b[0;34m\u001b[0m\u001b[0m\n",
      "\u001b[0;32m/usr/local/lib/python3.6/site-packages/py4j/protocol.py\u001b[0m in \u001b[0;36mget_return_value\u001b[0;34m(answer, gateway_client, target_id, name)\u001b[0m\n\u001b[1;32m    326\u001b[0m                 raise Py4JJavaError(\n\u001b[1;32m    327\u001b[0m                     \u001b[0;34m\"An error occurred while calling {0}{1}{2}.\\n\"\u001b[0m\u001b[0;34m.\u001b[0m\u001b[0;34m\u001b[0m\u001b[0m\n\u001b[0;32m--> 328\u001b[0;31m                     format(target_id, \".\", name), value)\n\u001b[0m\u001b[1;32m    329\u001b[0m             \u001b[0;32melse\u001b[0m\u001b[0;34m:\u001b[0m\u001b[0;34m\u001b[0m\u001b[0m\n\u001b[1;32m    330\u001b[0m                 raise Py4JError(\n",
      "\u001b[0;31mPy4JJavaError\u001b[0m: An error occurred while calling o350.collectToPython.\n: org.apache.spark.SparkException: Job aborted due to stage failure: Task 0 in stage 120.0 failed 1 times, most recent failure: Lost task 0.0 in stage 120.0 (TID 311, localhost, executor driver): org.apache.spark.SparkException: Failed to execute user defined function($anonfun$9: (string) => double)\n\tat org.apache.spark.sql.catalyst.expressions.GeneratedClass$GeneratedIteratorForCodegenStage1.processNext(Unknown Source)\n\tat org.apache.spark.sql.execution.BufferedRowIterator.hasNext(BufferedRowIterator.java:43)\n\tat org.apache.spark.sql.execution.WholeStageCodegenExec$$anonfun$11$$anon$1.hasNext(WholeStageCodegenExec.scala:619)\n\tat org.apache.spark.sql.execution.SparkPlan$$anonfun$2.apply(SparkPlan.scala:255)\n\tat org.apache.spark.sql.execution.SparkPlan$$anonfun$2.apply(SparkPlan.scala:247)\n\tat org.apache.spark.rdd.RDD$$anonfun$mapPartitionsInternal$1$$anonfun$apply$24.apply(RDD.scala:836)\n\tat org.apache.spark.rdd.RDD$$anonfun$mapPartitionsInternal$1$$anonfun$apply$24.apply(RDD.scala:836)\n\tat org.apache.spark.rdd.MapPartitionsRDD.compute(MapPartitionsRDD.scala:52)\n\tat org.apache.spark.rdd.RDD.computeOrReadCheckpoint(RDD.scala:324)\n\tat org.apache.spark.rdd.RDD.iterator(RDD.scala:288)\n\tat org.apache.spark.scheduler.ResultTask.runTask(ResultTask.scala:90)\n\tat org.apache.spark.scheduler.Task.run(Task.scala:121)\n\tat org.apache.spark.executor.Executor$TaskRunner$$anonfun$10.apply(Executor.scala:402)\n\tat org.apache.spark.util.Utils$.tryWithSafeFinally(Utils.scala:1360)\n\tat org.apache.spark.executor.Executor$TaskRunner.run(Executor.scala:408)\n\tat java.util.concurrent.ThreadPoolExecutor.runWorker(ThreadPoolExecutor.java:1142)\n\tat java.util.concurrent.ThreadPoolExecutor$Worker.run(ThreadPoolExecutor.java:617)\n\tat java.lang.Thread.run(Thread.java:745)\nCaused by: org.apache.spark.SparkException: StringIndexer encountered NULL value. To handle or skip NULLS, try setting StringIndexer.handleInvalid.\n\tat org.apache.spark.ml.feature.StringIndexerModel$$anonfun$9.apply(StringIndexer.scala:251)\n\tat org.apache.spark.ml.feature.StringIndexerModel$$anonfun$9.apply(StringIndexer.scala:246)\n\t... 18 more\n\nDriver stacktrace:\n\tat org.apache.spark.scheduler.DAGScheduler.org$apache$spark$scheduler$DAGScheduler$$failJobAndIndependentStages(DAGScheduler.scala:1887)\n\tat org.apache.spark.scheduler.DAGScheduler$$anonfun$abortStage$1.apply(DAGScheduler.scala:1875)\n\tat org.apache.spark.scheduler.DAGScheduler$$anonfun$abortStage$1.apply(DAGScheduler.scala:1874)\n\tat scala.collection.mutable.ResizableArray$class.foreach(ResizableArray.scala:59)\n\tat scala.collection.mutable.ArrayBuffer.foreach(ArrayBuffer.scala:48)\n\tat org.apache.spark.scheduler.DAGScheduler.abortStage(DAGScheduler.scala:1874)\n\tat org.apache.spark.scheduler.DAGScheduler$$anonfun$handleTaskSetFailed$1.apply(DAGScheduler.scala:926)\n\tat org.apache.spark.scheduler.DAGScheduler$$anonfun$handleTaskSetFailed$1.apply(DAGScheduler.scala:926)\n\tat scala.Option.foreach(Option.scala:257)\n\tat org.apache.spark.scheduler.DAGScheduler.handleTaskSetFailed(DAGScheduler.scala:926)\n\tat org.apache.spark.scheduler.DAGSchedulerEventProcessLoop.doOnReceive(DAGScheduler.scala:2108)\n\tat org.apache.spark.scheduler.DAGSchedulerEventProcessLoop.onReceive(DAGScheduler.scala:2057)\n\tat org.apache.spark.scheduler.DAGSchedulerEventProcessLoop.onReceive(DAGScheduler.scala:2046)\n\tat org.apache.spark.util.EventLoop$$anon$1.run(EventLoop.scala:49)\n\tat org.apache.spark.scheduler.DAGScheduler.runJob(DAGScheduler.scala:737)\n\tat org.apache.spark.SparkContext.runJob(SparkContext.scala:2061)\n\tat org.apache.spark.SparkContext.runJob(SparkContext.scala:2082)\n\tat org.apache.spark.SparkContext.runJob(SparkContext.scala:2101)\n\tat org.apache.spark.SparkContext.runJob(SparkContext.scala:2126)\n\tat org.apache.spark.rdd.RDD$$anonfun$collect$1.apply(RDD.scala:945)\n\tat org.apache.spark.rdd.RDDOperationScope$.withScope(RDDOperationScope.scala:151)\n\tat org.apache.spark.rdd.RDDOperationScope$.withScope(RDDOperationScope.scala:112)\n\tat org.apache.spark.rdd.RDD.withScope(RDD.scala:363)\n\tat org.apache.spark.rdd.RDD.collect(RDD.scala:944)\n\tat org.apache.spark.sql.execution.SparkPlan.executeCollect(SparkPlan.scala:299)\n\tat org.apache.spark.sql.Dataset$$anonfun$collectToPython$1.apply(Dataset.scala:3258)\n\tat org.apache.spark.sql.Dataset$$anonfun$collectToPython$1.apply(Dataset.scala:3255)\n\tat org.apache.spark.sql.Dataset$$anonfun$53.apply(Dataset.scala:3365)\n\tat org.apache.spark.sql.execution.SQLExecution$$anonfun$withNewExecutionId$1.apply(SQLExecution.scala:78)\n\tat org.apache.spark.sql.execution.SQLExecution$.withSQLConfPropagated(SQLExecution.scala:125)\n\tat org.apache.spark.sql.execution.SQLExecution$.withNewExecutionId(SQLExecution.scala:73)\n\tat org.apache.spark.sql.Dataset.withAction(Dataset.scala:3364)\n\tat org.apache.spark.sql.Dataset.collectToPython(Dataset.scala:3255)\n\tat sun.reflect.NativeMethodAccessorImpl.invoke0(Native Method)\n\tat sun.reflect.NativeMethodAccessorImpl.invoke(NativeMethodAccessorImpl.java:62)\n\tat sun.reflect.DelegatingMethodAccessorImpl.invoke(DelegatingMethodAccessorImpl.java:43)\n\tat java.lang.reflect.Method.invoke(Method.java:498)\n\tat py4j.reflection.MethodInvoker.invoke(MethodInvoker.java:244)\n\tat py4j.reflection.ReflectionEngine.invoke(ReflectionEngine.java:357)\n\tat py4j.Gateway.invoke(Gateway.java:282)\n\tat py4j.commands.AbstractCommand.invokeMethod(AbstractCommand.java:132)\n\tat py4j.commands.CallCommand.execute(CallCommand.java:79)\n\tat py4j.GatewayConnection.run(GatewayConnection.java:238)\n\tat java.lang.Thread.run(Thread.java:745)\nCaused by: org.apache.spark.SparkException: Failed to execute user defined function($anonfun$9: (string) => double)\n\tat org.apache.spark.sql.catalyst.expressions.GeneratedClass$GeneratedIteratorForCodegenStage1.processNext(Unknown Source)\n\tat org.apache.spark.sql.execution.BufferedRowIterator.hasNext(BufferedRowIterator.java:43)\n\tat org.apache.spark.sql.execution.WholeStageCodegenExec$$anonfun$11$$anon$1.hasNext(WholeStageCodegenExec.scala:619)\n\tat org.apache.spark.sql.execution.SparkPlan$$anonfun$2.apply(SparkPlan.scala:255)\n\tat org.apache.spark.sql.execution.SparkPlan$$anonfun$2.apply(SparkPlan.scala:247)\n\tat org.apache.spark.rdd.RDD$$anonfun$mapPartitionsInternal$1$$anonfun$apply$24.apply(RDD.scala:836)\n\tat org.apache.spark.rdd.RDD$$anonfun$mapPartitionsInternal$1$$anonfun$apply$24.apply(RDD.scala:836)\n\tat org.apache.spark.rdd.MapPartitionsRDD.compute(MapPartitionsRDD.scala:52)\n\tat org.apache.spark.rdd.RDD.computeOrReadCheckpoint(RDD.scala:324)\n\tat org.apache.spark.rdd.RDD.iterator(RDD.scala:288)\n\tat org.apache.spark.scheduler.ResultTask.runTask(ResultTask.scala:90)\n\tat org.apache.spark.scheduler.Task.run(Task.scala:121)\n\tat org.apache.spark.executor.Executor$TaskRunner$$anonfun$10.apply(Executor.scala:402)\n\tat org.apache.spark.util.Utils$.tryWithSafeFinally(Utils.scala:1360)\n\tat org.apache.spark.executor.Executor$TaskRunner.run(Executor.scala:408)\n\tat java.util.concurrent.ThreadPoolExecutor.runWorker(ThreadPoolExecutor.java:1142)\n\tat java.util.concurrent.ThreadPoolExecutor$Worker.run(ThreadPoolExecutor.java:617)\n\t... 1 more\nCaused by: org.apache.spark.SparkException: StringIndexer encountered NULL value. To handle or skip NULLS, try setting StringIndexer.handleInvalid.\n\tat org.apache.spark.ml.feature.StringIndexerModel$$anonfun$9.apply(StringIndexer.scala:251)\n\tat org.apache.spark.ml.feature.StringIndexerModel$$anonfun$9.apply(StringIndexer.scala:246)\n\t... 18 more\n"
     ]
    }
   ],
   "source": [
    "# Respuesta\n",
    "\n",
    "from pyspark.ml.feature import StringIndexer\n",
    "\n",
    "feature_indexer = StringIndexer(inputCol='make', outputCol='make_indexed')\n",
    "\n",
    "feature_indexer_model = feature_indexer.fit(cars)\n",
    "\n",
    "cars_indexed = feature_indexer_model.transform(cars)\n",
    "\n",
    "cars_indexed.collect()"
   ]
  },
  {
   "cell_type": "markdown",
   "metadata": {},
   "source": [
    "\n",
    "\n",
    "De nuevo se produce un error. En la versión de Spark 2.1 el mensaje no parece aportar muchos indicios acerca del mismo.\n",
    "En la versión de Spark 2.2 el error dice lo siguiente: ** Caused by: org.apache.spark.SparkException: StringIndexer encountered NULL value. To handle or skip NULLS, try setting StringIndexer.handleInvalid.**\n",
    "\n",
    "Es importante haber tratado correctamente los nulos antes.\n",
    "\n",
    "¿Qué desventaja tendría utilizar handleInvalid tal como se indica?"
   ]
  },
  {
   "cell_type": "code",
   "execution_count": 12,
   "metadata": {
    "collapsed": true
   },
   "outputs": [
    {
     "name": "stdout",
     "output_type": "stream",
     "text": [
      "+-----------------+----------+---------+----------+------------+----------+------------+---------------+----------+------+-----+------+-----------+-----------+----------------+-----------+-----------+----+------+-----------------+----------+--------+--------+-----------+-----+---------+------------+\n",
      "|normalized_losses|      make|fuel_type|aspiration|num_of_doors|body_style|drive_wheels|engine_location|wheel_base|length|width|height|curb_weight|engine_type|num_of_cylinders|engine_size|fuel_system|bore|stroke|compression_ratio|horsepower|peak_rpm|city_mpg|highway_mpg|price|symboling|make_indexed|\n",
      "+-----------------+----------+---------+----------+------------+----------+------------+---------------+----------+------+-----+------+-----------+-----------+----------------+-----------+-----------+----+------+-----------------+----------+--------+--------+-----------+-----+---------+------------+\n",
      "|              113|     mazda|      gas|       std|      [four]|     sedan|         fwd|          front|      93.1| 166.8| 64.2|  54.1|       1950|        ohc|            four|         91|       2bbl|3.08|  3.15|              9.0|        68|    5000|      31|         38| 7395|        1|         1.0|\n",
      "|               87|    toyota|      gas|       std|  [two,four]| hatchback|         fwd|          front|      95.7| 158.7| 63.6|  54.5|       1985|        ohc|            four|         92|       2bbl|3.05|  3.03|              9.0|        62|    4800|      35|         39| 5348|        1|         0.0|\n",
      "|              125|mitsubishi|      gas|       std|      [four]|     sedan|         fwd|          front|      96.3| 172.4| 65.4|  51.6|       2365|        ohc|            four|        122|       2bbl|3.35|  3.46|              8.5|        88|    5000|      25|         32| 6989|        1|         4.0|\n",
      "|              148|     dodge|      gas|     turbo|      [four]|     sedan|         fwd|          front|      93.7| 157.3| 63.8|  50.6|       2191|        ohc|            four|         98|       mpfi|3.03|  3.39|              7.6|       102|    5500|      24|         30| 8558|        1|         9.0|\n",
      "|              150|     mazda|      gas|       std|  [two,four]| hatchback|         rwd|          front|      95.3| 169.0| 65.7|  49.6|       2380|      rotor|             two|         70|       4bbl| 0.0|   0.0|              9.4|       101|    6000|      17|         23|11845|        3|         1.0|\n",
      "|              194|    nissan|      gas|     turbo|  [two,four]| hatchback|         rwd|          front|      91.3| 170.7| 67.9|  49.7|       3139|       ohcv|             six|        181|       mpfi|3.43|  3.27|              7.8|       200|    5200|      17|         23|19699|        3|         2.0|\n",
      "|                0|    jaguar|      gas|       std|  [two,four]|     sedan|         rwd|          front|     102.0| 191.7| 70.6|  47.8|       3950|       ohcv|          twelve|        326|       mpfi|3.54|  2.76|             11.5|       262|    5000|      13|         17|36000|        0|        18.0|\n",
      "|              128|    nissan|      gas|       std|      [four]|     sedan|         fwd|          front|     100.4| 181.7| 66.5|  55.1|       3095|       ohcv|             six|        181|       mpfi|3.43|  3.27|              9.0|       152|    5200|      17|         22|13499|        0|         2.0|\n",
      "|              161|    peugot|   diesel|     turbo|      [four]|     sedan|         rwd|          front|     107.9| 186.7| 68.4|  56.7|       3252|          l|            four|        152|        idi| 3.7|  3.52|             21.0|        95|    4150|      28|         33|16900|        0|         8.0|\n",
      "|              115|     mazda|      gas|       std|      [four]|     sedan|         fwd|          front|      98.8| 177.8| 66.5|  55.5|       2410|        ohc|            four|        122|       2bbl|3.39|  3.39|              8.6|        84|    4800|      26|         32| 8495|        0|         1.0|\n",
      "|              192|       bmw|      gas|       std|      [four]|     sedan|         rwd|          front|     101.2| 176.8| 64.8|  54.3|       2395|        ohc|            four|        108|       mpfi| 3.5|   2.8|              8.8|       101|    5800|      23|         29|16925|        0|        11.0|\n",
      "|              168|    nissan|      gas|       std|  [two,four]|   hardtop|         fwd|          front|      95.1| 162.4| 63.8|  53.3|       2008|        ohc|            four|         97|       2bbl|3.15|  3.29|              9.4|        69|    5200|      31|         37| 8249|        2|         2.0|\n",
      "|              161|mitsubishi|      gas|       std|  [two,four]| hatchback|         fwd|          front|      93.7| 157.3| 64.4|  50.8|       1918|        ohc|            four|         92|       2bbl|2.97|  3.23|              9.4|        68|    5500|      37|         41| 5389|        2|         4.0|\n",
      "|              110|     dodge|      gas|       std|      [four]|     wagon|         fwd|          front|     103.3| 174.6| 64.6|  59.8|       2535|        ohc|            four|        122|       2bbl|3.34|  3.46|              8.5|        88|    5000|      24|         30| 8921|       -1|         9.0|\n",
      "|               65|    toyota|      gas|       std|      [four]| hatchback|         fwd|          front|     102.4| 175.6| 66.5|  53.9|       2458|        ohc|            four|        122|       mpfi|3.31|  3.54|              8.7|        92|    4200|      27|         32|11248|       -1|         0.0|\n",
      "|                0|  plymouth|      gas|     turbo|  [two,four]| hatchback|         rwd|          front|      95.9| 173.2| 66.3|  50.2|       2818|        ohc|            four|        156|       spdi|3.59|  3.86|              7.0|       145|    5000|      19|         24|12764|        3|        13.0|\n",
      "|                0|       bmw|      gas|       std|      [four]|     sedan|         rwd|          front|     103.5| 189.0| 66.9|  55.7|       3230|        ohc|             six|        209|       mpfi|3.62|  3.39|              8.0|       182|    5400|      16|         22|30760|        0|        11.0|\n",
      "|              161|    peugot|      gas|     turbo|      [four]|     sedan|         rwd|          front|     108.0| 186.7| 68.3|  56.0|       3130|          l|            four|        134|       mpfi|3.61|  3.21|              7.0|       142|    5600|      18|         24|18150|        0|         8.0|\n",
      "|                0|     isuzu|      gas|       std|  [two,four]|     sedan|         fwd|          front|      94.5| 155.9| 63.6|  52.0|       1874|        ohc|            four|         90|       2bbl|3.03|  3.11|              9.6|        70|    5400|      38|         43|    0|        1|        16.0|\n",
      "|                0|   mercury|      gas|     turbo|  [two,four]| hatchback|         rwd|          front|     102.7| 178.4| 68.0|  54.8|       2910|        ohc|            four|        140|       mpfi|3.78|  3.12|              8.0|       175|    5000|      19|         24|16503|        1|        21.0|\n",
      "+-----------------+----------+---------+----------+------------+----------+------------+---------------+----------+------+-----+------+-----------+-----------+----------------+-----------+-----------+----+------+-----------------+----------+--------+--------+-----------+-----+---------+------------+\n",
      "only showing top 20 rows\n",
      "\n"
     ]
    }
   ],
   "source": [
    "# Respuesta\n",
    "\n",
    "from pyspark.ml.feature import StringIndexer\n",
    "\n",
    "feature_indexer = StringIndexer(inputCol='make', outputCol='make_indexed')\n",
    "\n",
    "feature_indexer_model = feature_indexer.fit(cars_no_nulls) # Please bear in mind, now we are using cars_no_nulls\n",
    "\n",
    "cars_indexed = feature_indexer_model.transform(cars_no_nulls)\n",
    "\n",
    "cars_indexed.show()"
   ]
  },
  {
   "cell_type": "markdown",
   "metadata": {},
   "source": [
    "\n",
    "\n",
    "Si se accede a `feature_indexer_model.labels` se obtiene un vector construído por `StringIndexer`. El vector está ordenado por la frecuencia de los valores, por lo tanto el valor más frecuente tiene índice 0."
   ]
  },
  {
   "cell_type": "code",
   "execution_count": 13,
   "metadata": {},
   "outputs": [
    {
     "data": {
      "text/plain": [
       "['toyota',\n",
       " 'mazda',\n",
       " 'nissan',\n",
       " 'honda',\n",
       " 'mitsubishi',\n",
       " 'subaru',\n",
       " 'volkswagen',\n",
       " 'volvo',\n",
       " 'peugot',\n",
       " 'dodge',\n",
       " 'mercedes-benz',\n",
       " 'bmw',\n",
       " 'audi',\n",
       " 'plymouth',\n",
       " 'saab',\n",
       " 'porsche',\n",
       " 'isuzu',\n",
       " 'alfa-romero',\n",
       " 'jaguar',\n",
       " 'chevrolet',\n",
       " 'renault',\n",
       " 'mercury']"
      ]
     },
     "execution_count": 13,
     "metadata": {},
     "output_type": "execute_result"
    }
   ],
   "source": [
    "# Respuesta\n",
    "\n",
    "feature_indexer_model.labels"
   ]
  },
  {
   "cell_type": "code",
   "execution_count": 33,
   "metadata": {},
   "outputs": [
    {
     "name": "stdout",
     "output_type": "stream",
     "text": [
      "+------------+-----+\n",
      "|make_indexed|count|\n",
      "+------------+-----+\n",
      "|         8.0|   11|\n",
      "|         0.0|   31|\n",
      "|         7.0|   11|\n",
      "|        18.0|    3|\n",
      "|         1.0|   17|\n",
      "|         4.0|   13|\n",
      "|        11.0|    8|\n",
      "|        21.0|    1|\n",
      "|        14.0|    6|\n",
      "|         3.0|   13|\n",
      "|        19.0|    2|\n",
      "|         2.0|   17|\n",
      "|        17.0|    3|\n",
      "|        10.0|    8|\n",
      "|        13.0|    7|\n",
      "|         6.0|   11|\n",
      "|        20.0|    2|\n",
      "|         5.0|   12|\n",
      "|        15.0|    5|\n",
      "|         9.0|    9|\n",
      "+------------+-----+\n",
      "only showing top 20 rows\n",
      "\n"
     ]
    }
   ],
   "source": [
    "cars_indexed.groupBy('make_indexed').count().show()"
   ]
  },
  {
   "cell_type": "markdown",
   "metadata": {},
   "source": [
    "\n",
    "\n",
    "### CountVectorizer"
   ]
  },
  {
   "cell_type": "markdown",
   "metadata": {},
   "source": [
    "\n",
    "\n",
    "* Hagamos CountVectorizer para la variable 'num_of_doors'. \n",
    "\n",
    "| num_of_doors   |\n",
    "| -------------: |\n",
    "| [four]| \n",
    "| [two,four]     | \n"
   ]
  },
  {
   "cell_type": "code",
   "execution_count": 34,
   "metadata": {
    "scrolled": true
   },
   "outputs": [
    {
     "ename": "IllegalArgumentException",
     "evalue": "'requirement failed: Column num_of_doors must be of type equal to one of the following types: [array<string>, array<string>] but was actually of type string.'",
     "output_type": "error",
     "traceback": [
      "\u001b[0;31m---------------------------------------------------------------------------\u001b[0m",
      "\u001b[0;31mPy4JJavaError\u001b[0m                             Traceback (most recent call last)",
      "\u001b[0;32m/usr/local/lib/python3.6/site-packages/pyspark/sql/utils.py\u001b[0m in \u001b[0;36mdeco\u001b[0;34m(*a, **kw)\u001b[0m\n\u001b[1;32m     62\u001b[0m         \u001b[0;32mtry\u001b[0m\u001b[0;34m:\u001b[0m\u001b[0;34m\u001b[0m\u001b[0m\n\u001b[0;32m---> 63\u001b[0;31m             \u001b[0;32mreturn\u001b[0m \u001b[0mf\u001b[0m\u001b[0;34m(\u001b[0m\u001b[0;34m*\u001b[0m\u001b[0ma\u001b[0m\u001b[0;34m,\u001b[0m \u001b[0;34m**\u001b[0m\u001b[0mkw\u001b[0m\u001b[0;34m)\u001b[0m\u001b[0;34m\u001b[0m\u001b[0m\n\u001b[0m\u001b[1;32m     64\u001b[0m         \u001b[0;32mexcept\u001b[0m \u001b[0mpy4j\u001b[0m\u001b[0;34m.\u001b[0m\u001b[0mprotocol\u001b[0m\u001b[0;34m.\u001b[0m\u001b[0mPy4JJavaError\u001b[0m \u001b[0;32mas\u001b[0m \u001b[0me\u001b[0m\u001b[0;34m:\u001b[0m\u001b[0;34m\u001b[0m\u001b[0m\n",
      "\u001b[0;32m/usr/local/lib/python3.6/site-packages/py4j/protocol.py\u001b[0m in \u001b[0;36mget_return_value\u001b[0;34m(answer, gateway_client, target_id, name)\u001b[0m\n\u001b[1;32m    327\u001b[0m                     \u001b[0;34m\"An error occurred while calling {0}{1}{2}.\\n\"\u001b[0m\u001b[0;34m.\u001b[0m\u001b[0;34m\u001b[0m\u001b[0m\n\u001b[0;32m--> 328\u001b[0;31m                     format(target_id, \".\", name), value)\n\u001b[0m\u001b[1;32m    329\u001b[0m             \u001b[0;32melse\u001b[0m\u001b[0;34m:\u001b[0m\u001b[0;34m\u001b[0m\u001b[0m\n",
      "\u001b[0;31mPy4JJavaError\u001b[0m: An error occurred while calling o442.fit.\n: java.lang.IllegalArgumentException: requirement failed: Column num_of_doors must be of type equal to one of the following types: [array<string>, array<string>] but was actually of type string.\n\tat scala.Predef$.require(Predef.scala:224)\n\tat org.apache.spark.ml.util.SchemaUtils$.checkColumnTypes(SchemaUtils.scala:60)\n\tat org.apache.spark.ml.feature.CountVectorizerParams$class.validateAndTransformSchema(CountVectorizer.scala:97)\n\tat org.apache.spark.ml.feature.CountVectorizer.validateAndTransformSchema(CountVectorizer.scala:149)\n\tat org.apache.spark.ml.feature.CountVectorizer.transformSchema(CountVectorizer.scala:242)\n\tat org.apache.spark.ml.PipelineStage.transformSchema(Pipeline.scala:74)\n\tat org.apache.spark.ml.feature.CountVectorizer.fit(CountVectorizer.scala:185)\n\tat sun.reflect.NativeMethodAccessorImpl.invoke0(Native Method)\n\tat sun.reflect.NativeMethodAccessorImpl.invoke(NativeMethodAccessorImpl.java:62)\n\tat sun.reflect.DelegatingMethodAccessorImpl.invoke(DelegatingMethodAccessorImpl.java:43)\n\tat java.lang.reflect.Method.invoke(Method.java:498)\n\tat py4j.reflection.MethodInvoker.invoke(MethodInvoker.java:244)\n\tat py4j.reflection.ReflectionEngine.invoke(ReflectionEngine.java:357)\n\tat py4j.Gateway.invoke(Gateway.java:282)\n\tat py4j.commands.AbstractCommand.invokeMethod(AbstractCommand.java:132)\n\tat py4j.commands.CallCommand.execute(CallCommand.java:79)\n\tat py4j.GatewayConnection.run(GatewayConnection.java:238)\n\tat java.lang.Thread.run(Thread.java:745)\n",
      "\nDuring handling of the above exception, another exception occurred:\n",
      "\u001b[0;31mIllegalArgumentException\u001b[0m                  Traceback (most recent call last)",
      "\u001b[0;32m<ipython-input-34-6fe691afd935>\u001b[0m in \u001b[0;36m<module>\u001b[0;34m()\u001b[0m\n\u001b[1;32m      5\u001b[0m \u001b[0mfeature_cv\u001b[0m \u001b[0;34m=\u001b[0m \u001b[0mCountVectorizer\u001b[0m\u001b[0;34m(\u001b[0m\u001b[0minputCol\u001b[0m\u001b[0;34m=\u001b[0m\u001b[0;34m'num_of_doors'\u001b[0m\u001b[0;34m,\u001b[0m \u001b[0moutputCol\u001b[0m\u001b[0;34m=\u001b[0m\u001b[0;34m'doors_counter'\u001b[0m\u001b[0;34m)\u001b[0m\u001b[0;34m\u001b[0m\u001b[0m\n\u001b[1;32m      6\u001b[0m \u001b[0;34m\u001b[0m\u001b[0m\n\u001b[0;32m----> 7\u001b[0;31m \u001b[0mmodel_cv\u001b[0m \u001b[0;34m=\u001b[0m \u001b[0mfeature_cv\u001b[0m\u001b[0;34m.\u001b[0m\u001b[0mfit\u001b[0m\u001b[0;34m(\u001b[0m\u001b[0mcars\u001b[0m\u001b[0;34m)\u001b[0m\u001b[0;34m\u001b[0m\u001b[0m\n\u001b[0m\u001b[1;32m      8\u001b[0m \u001b[0;34m\u001b[0m\u001b[0m\n\u001b[1;32m      9\u001b[0m \u001b[0mcars_cv\u001b[0m \u001b[0;34m=\u001b[0m \u001b[0mfeature_cv\u001b[0m\u001b[0;34m.\u001b[0m\u001b[0mtransform\u001b[0m\u001b[0;34m(\u001b[0m\u001b[0mcars\u001b[0m\u001b[0;34m)\u001b[0m\u001b[0;34m\u001b[0m\u001b[0m\n",
      "\u001b[0;32m/usr/local/lib/python3.6/site-packages/pyspark/ml/base.py\u001b[0m in \u001b[0;36mfit\u001b[0;34m(self, dataset, params)\u001b[0m\n\u001b[1;32m    130\u001b[0m                 \u001b[0;32mreturn\u001b[0m \u001b[0mself\u001b[0m\u001b[0;34m.\u001b[0m\u001b[0mcopy\u001b[0m\u001b[0;34m(\u001b[0m\u001b[0mparams\u001b[0m\u001b[0;34m)\u001b[0m\u001b[0;34m.\u001b[0m\u001b[0m_fit\u001b[0m\u001b[0;34m(\u001b[0m\u001b[0mdataset\u001b[0m\u001b[0;34m)\u001b[0m\u001b[0;34m\u001b[0m\u001b[0m\n\u001b[1;32m    131\u001b[0m             \u001b[0;32melse\u001b[0m\u001b[0;34m:\u001b[0m\u001b[0;34m\u001b[0m\u001b[0m\n\u001b[0;32m--> 132\u001b[0;31m                 \u001b[0;32mreturn\u001b[0m \u001b[0mself\u001b[0m\u001b[0;34m.\u001b[0m\u001b[0m_fit\u001b[0m\u001b[0;34m(\u001b[0m\u001b[0mdataset\u001b[0m\u001b[0;34m)\u001b[0m\u001b[0;34m\u001b[0m\u001b[0m\n\u001b[0m\u001b[1;32m    133\u001b[0m         \u001b[0;32melse\u001b[0m\u001b[0;34m:\u001b[0m\u001b[0;34m\u001b[0m\u001b[0m\n\u001b[1;32m    134\u001b[0m             raise ValueError(\"Params must be either a param map or a list/tuple of param maps, \"\n",
      "\u001b[0;32m/usr/local/lib/python3.6/site-packages/pyspark/ml/wrapper.py\u001b[0m in \u001b[0;36m_fit\u001b[0;34m(self, dataset)\u001b[0m\n\u001b[1;32m    293\u001b[0m \u001b[0;34m\u001b[0m\u001b[0m\n\u001b[1;32m    294\u001b[0m     \u001b[0;32mdef\u001b[0m \u001b[0m_fit\u001b[0m\u001b[0;34m(\u001b[0m\u001b[0mself\u001b[0m\u001b[0;34m,\u001b[0m \u001b[0mdataset\u001b[0m\u001b[0;34m)\u001b[0m\u001b[0;34m:\u001b[0m\u001b[0;34m\u001b[0m\u001b[0m\n\u001b[0;32m--> 295\u001b[0;31m         \u001b[0mjava_model\u001b[0m \u001b[0;34m=\u001b[0m \u001b[0mself\u001b[0m\u001b[0;34m.\u001b[0m\u001b[0m_fit_java\u001b[0m\u001b[0;34m(\u001b[0m\u001b[0mdataset\u001b[0m\u001b[0;34m)\u001b[0m\u001b[0;34m\u001b[0m\u001b[0m\n\u001b[0m\u001b[1;32m    296\u001b[0m         \u001b[0mmodel\u001b[0m \u001b[0;34m=\u001b[0m \u001b[0mself\u001b[0m\u001b[0;34m.\u001b[0m\u001b[0m_create_model\u001b[0m\u001b[0;34m(\u001b[0m\u001b[0mjava_model\u001b[0m\u001b[0;34m)\u001b[0m\u001b[0;34m\u001b[0m\u001b[0m\n\u001b[1;32m    297\u001b[0m         \u001b[0;32mreturn\u001b[0m \u001b[0mself\u001b[0m\u001b[0;34m.\u001b[0m\u001b[0m_copyValues\u001b[0m\u001b[0;34m(\u001b[0m\u001b[0mmodel\u001b[0m\u001b[0;34m)\u001b[0m\u001b[0;34m\u001b[0m\u001b[0m\n",
      "\u001b[0;32m/usr/local/lib/python3.6/site-packages/pyspark/ml/wrapper.py\u001b[0m in \u001b[0;36m_fit_java\u001b[0;34m(self, dataset)\u001b[0m\n\u001b[1;32m    290\u001b[0m         \"\"\"\n\u001b[1;32m    291\u001b[0m         \u001b[0mself\u001b[0m\u001b[0;34m.\u001b[0m\u001b[0m_transfer_params_to_java\u001b[0m\u001b[0;34m(\u001b[0m\u001b[0;34m)\u001b[0m\u001b[0;34m\u001b[0m\u001b[0m\n\u001b[0;32m--> 292\u001b[0;31m         \u001b[0;32mreturn\u001b[0m \u001b[0mself\u001b[0m\u001b[0;34m.\u001b[0m\u001b[0m_java_obj\u001b[0m\u001b[0;34m.\u001b[0m\u001b[0mfit\u001b[0m\u001b[0;34m(\u001b[0m\u001b[0mdataset\u001b[0m\u001b[0;34m.\u001b[0m\u001b[0m_jdf\u001b[0m\u001b[0;34m)\u001b[0m\u001b[0;34m\u001b[0m\u001b[0m\n\u001b[0m\u001b[1;32m    293\u001b[0m \u001b[0;34m\u001b[0m\u001b[0m\n\u001b[1;32m    294\u001b[0m     \u001b[0;32mdef\u001b[0m \u001b[0m_fit\u001b[0m\u001b[0;34m(\u001b[0m\u001b[0mself\u001b[0m\u001b[0;34m,\u001b[0m \u001b[0mdataset\u001b[0m\u001b[0;34m)\u001b[0m\u001b[0;34m:\u001b[0m\u001b[0;34m\u001b[0m\u001b[0m\n",
      "\u001b[0;32m/usr/local/lib/python3.6/site-packages/py4j/java_gateway.py\u001b[0m in \u001b[0;36m__call__\u001b[0;34m(self, *args)\u001b[0m\n\u001b[1;32m   1255\u001b[0m         \u001b[0manswer\u001b[0m \u001b[0;34m=\u001b[0m \u001b[0mself\u001b[0m\u001b[0;34m.\u001b[0m\u001b[0mgateway_client\u001b[0m\u001b[0;34m.\u001b[0m\u001b[0msend_command\u001b[0m\u001b[0;34m(\u001b[0m\u001b[0mcommand\u001b[0m\u001b[0;34m)\u001b[0m\u001b[0;34m\u001b[0m\u001b[0m\n\u001b[1;32m   1256\u001b[0m         return_value = get_return_value(\n\u001b[0;32m-> 1257\u001b[0;31m             answer, self.gateway_client, self.target_id, self.name)\n\u001b[0m\u001b[1;32m   1258\u001b[0m \u001b[0;34m\u001b[0m\u001b[0m\n\u001b[1;32m   1259\u001b[0m         \u001b[0;32mfor\u001b[0m \u001b[0mtemp_arg\u001b[0m \u001b[0;32min\u001b[0m \u001b[0mtemp_args\u001b[0m\u001b[0;34m:\u001b[0m\u001b[0;34m\u001b[0m\u001b[0m\n",
      "\u001b[0;32m/usr/local/lib/python3.6/site-packages/pyspark/sql/utils.py\u001b[0m in \u001b[0;36mdeco\u001b[0;34m(*a, **kw)\u001b[0m\n\u001b[1;32m     77\u001b[0m                 \u001b[0;32mraise\u001b[0m \u001b[0mQueryExecutionException\u001b[0m\u001b[0;34m(\u001b[0m\u001b[0ms\u001b[0m\u001b[0;34m.\u001b[0m\u001b[0msplit\u001b[0m\u001b[0;34m(\u001b[0m\u001b[0;34m': '\u001b[0m\u001b[0;34m,\u001b[0m \u001b[0;36m1\u001b[0m\u001b[0;34m)\u001b[0m\u001b[0;34m[\u001b[0m\u001b[0;36m1\u001b[0m\u001b[0;34m]\u001b[0m\u001b[0;34m,\u001b[0m \u001b[0mstackTrace\u001b[0m\u001b[0;34m)\u001b[0m\u001b[0;34m\u001b[0m\u001b[0m\n\u001b[1;32m     78\u001b[0m             \u001b[0;32mif\u001b[0m \u001b[0ms\u001b[0m\u001b[0;34m.\u001b[0m\u001b[0mstartswith\u001b[0m\u001b[0;34m(\u001b[0m\u001b[0;34m'java.lang.IllegalArgumentException: '\u001b[0m\u001b[0;34m)\u001b[0m\u001b[0;34m:\u001b[0m\u001b[0;34m\u001b[0m\u001b[0m\n\u001b[0;32m---> 79\u001b[0;31m                 \u001b[0;32mraise\u001b[0m \u001b[0mIllegalArgumentException\u001b[0m\u001b[0;34m(\u001b[0m\u001b[0ms\u001b[0m\u001b[0;34m.\u001b[0m\u001b[0msplit\u001b[0m\u001b[0;34m(\u001b[0m\u001b[0;34m': '\u001b[0m\u001b[0;34m,\u001b[0m \u001b[0;36m1\u001b[0m\u001b[0;34m)\u001b[0m\u001b[0;34m[\u001b[0m\u001b[0;36m1\u001b[0m\u001b[0;34m]\u001b[0m\u001b[0;34m,\u001b[0m \u001b[0mstackTrace\u001b[0m\u001b[0;34m)\u001b[0m\u001b[0;34m\u001b[0m\u001b[0m\n\u001b[0m\u001b[1;32m     80\u001b[0m             \u001b[0;32mraise\u001b[0m\u001b[0;34m\u001b[0m\u001b[0m\n\u001b[1;32m     81\u001b[0m     \u001b[0;32mreturn\u001b[0m \u001b[0mdeco\u001b[0m\u001b[0;34m\u001b[0m\u001b[0m\n",
      "\u001b[0;31mIllegalArgumentException\u001b[0m: 'requirement failed: Column num_of_doors must be of type equal to one of the following types: [array<string>, array<string>] but was actually of type string.'"
     ]
    }
   ],
   "source": [
    "# Respuesta\n",
    "\n",
    "from pyspark.ml.feature import CountVectorizer\n",
    "\n",
    "feature_cv = CountVectorizer(inputCol='num_of_doors', outputCol='doors_counter')\n",
    "\n",
    "model_cv = feature_cv.fit(cars)\n",
    "\n",
    "cars_cv = feature_cv.transform(cars)\n",
    "\n",
    "cars_cv.show()"
   ]
  },
  {
   "cell_type": "markdown",
   "metadata": {},
   "source": [
    "\n",
    "\n",
    "Mirando el schema se ve que 'num_of_doors' no tiene el formato correcto (es de tipo _string_). Vamos a convertirlo a _ArrayType(StringType())_"
   ]
  },
  {
   "cell_type": "code",
   "execution_count": 35,
   "metadata": {
    "collapsed": true
   },
   "outputs": [
    {
     "name": "stdout",
     "output_type": "stream",
     "text": [
      "root\n",
      " |-- normalized_losses: integer (nullable = true)\n",
      " |-- make: string (nullable = true)\n",
      " |-- fuel_type: string (nullable = true)\n",
      " |-- aspiration: string (nullable = true)\n",
      " |-- num_of_doors: array (nullable = true)\n",
      " |    |-- element: string (containsNull = true)\n",
      " |-- body_style: string (nullable = true)\n",
      " |-- drive_wheels: string (nullable = true)\n",
      " |-- engine_location: string (nullable = true)\n",
      " |-- wheel_base: double (nullable = true)\n",
      " |-- length: double (nullable = true)\n",
      " |-- width: double (nullable = true)\n",
      " |-- height: double (nullable = true)\n",
      " |-- curb_weight: integer (nullable = true)\n",
      " |-- engine_type: string (nullable = true)\n",
      " |-- num_of_cylinders: string (nullable = true)\n",
      " |-- engine_size: integer (nullable = true)\n",
      " |-- fuel_system: string (nullable = true)\n",
      " |-- bore: double (nullable = true)\n",
      " |-- stroke: double (nullable = true)\n",
      " |-- compression_ratio: double (nullable = true)\n",
      " |-- horsepower: integer (nullable = true)\n",
      " |-- peak_rpm: integer (nullable = true)\n",
      " |-- city_mpg: integer (nullable = true)\n",
      " |-- highway_mpg: integer (nullable = true)\n",
      " |-- price: integer (nullable = true)\n",
      " |-- symboling: integer (nullable = true)\n",
      "\n"
     ]
    }
   ],
   "source": [
    "# Respuesta\n",
    "\n",
    "import pyspark.sql.functions as F\n",
    "from pyspark.sql.types import ArrayType, StringType, DoubleType\n",
    "\n",
    "cars_no_nulls = cars_no_nulls.withColumn('num_of_doors', \n",
    "                                         F.udf(lambda value: \n",
    "                                               value.replace('[', '').\n",
    "                                               replace(']','').split(','), \n",
    "                                               ArrayType(StringType()))\n",
    "                                         (F.col('num_of_doors')))\n",
    "\n",
    "cars_no_nulls.printSchema()"
   ]
  },
  {
   "cell_type": "code",
   "execution_count": 36,
   "metadata": {
    "scrolled": true
   },
   "outputs": [
    {
     "name": "stdout",
     "output_type": "stream",
     "text": [
      "+-----------------+----------+---------+----------+------------+----------+------------+---------------+----------+------+-----+------+-----------+-----------+----------------+-----------+-----------+----+------+-----------------+----------+--------+--------+-----------+-----+---------+\n",
      "|normalized_losses|      make|fuel_type|aspiration|num_of_doors|body_style|drive_wheels|engine_location|wheel_base|length|width|height|curb_weight|engine_type|num_of_cylinders|engine_size|fuel_system|bore|stroke|compression_ratio|horsepower|peak_rpm|city_mpg|highway_mpg|price|symboling|\n",
      "+-----------------+----------+---------+----------+------------+----------+------------+---------------+----------+------+-----+------+-----------+-----------+----------------+-----------+-----------+----+------+-----------------+----------+--------+--------+-----------+-----+---------+\n",
      "|              113|     mazda|      gas|       std|      [four]|     sedan|         fwd|          front|      93.1| 166.8| 64.2|  54.1|       1950|        ohc|            four|         91|       2bbl|3.08|  3.15|              9.0|        68|    5000|      31|         38| 7395|        1|\n",
      "|               87|    toyota|      gas|       std| [two, four]| hatchback|         fwd|          front|      95.7| 158.7| 63.6|  54.5|       1985|        ohc|            four|         92|       2bbl|3.05|  3.03|              9.0|        62|    4800|      35|         39| 5348|        1|\n",
      "|              125|mitsubishi|      gas|       std|      [four]|     sedan|         fwd|          front|      96.3| 172.4| 65.4|  51.6|       2365|        ohc|            four|        122|       2bbl|3.35|  3.46|              8.5|        88|    5000|      25|         32| 6989|        1|\n",
      "|              148|     dodge|      gas|     turbo|      [four]|     sedan|         fwd|          front|      93.7| 157.3| 63.8|  50.6|       2191|        ohc|            four|         98|       mpfi|3.03|  3.39|              7.6|       102|    5500|      24|         30| 8558|        1|\n",
      "|              150|     mazda|      gas|       std| [two, four]| hatchback|         rwd|          front|      95.3| 169.0| 65.7|  49.6|       2380|      rotor|             two|         70|       4bbl| 0.0|   0.0|              9.4|       101|    6000|      17|         23|11845|        3|\n",
      "|              194|    nissan|      gas|     turbo| [two, four]| hatchback|         rwd|          front|      91.3| 170.7| 67.9|  49.7|       3139|       ohcv|             six|        181|       mpfi|3.43|  3.27|              7.8|       200|    5200|      17|         23|19699|        3|\n",
      "|                0|    jaguar|      gas|       std| [two, four]|     sedan|         rwd|          front|     102.0| 191.7| 70.6|  47.8|       3950|       ohcv|          twelve|        326|       mpfi|3.54|  2.76|             11.5|       262|    5000|      13|         17|36000|        0|\n",
      "|              128|    nissan|      gas|       std|      [four]|     sedan|         fwd|          front|     100.4| 181.7| 66.5|  55.1|       3095|       ohcv|             six|        181|       mpfi|3.43|  3.27|              9.0|       152|    5200|      17|         22|13499|        0|\n",
      "|              161|    peugot|   diesel|     turbo|      [four]|     sedan|         rwd|          front|     107.9| 186.7| 68.4|  56.7|       3252|          l|            four|        152|        idi| 3.7|  3.52|             21.0|        95|    4150|      28|         33|16900|        0|\n",
      "|              115|     mazda|      gas|       std|      [four]|     sedan|         fwd|          front|      98.8| 177.8| 66.5|  55.5|       2410|        ohc|            four|        122|       2bbl|3.39|  3.39|              8.6|        84|    4800|      26|         32| 8495|        0|\n",
      "|              192|       bmw|      gas|       std|      [four]|     sedan|         rwd|          front|     101.2| 176.8| 64.8|  54.3|       2395|        ohc|            four|        108|       mpfi| 3.5|   2.8|              8.8|       101|    5800|      23|         29|16925|        0|\n",
      "|              168|    nissan|      gas|       std| [two, four]|   hardtop|         fwd|          front|      95.1| 162.4| 63.8|  53.3|       2008|        ohc|            four|         97|       2bbl|3.15|  3.29|              9.4|        69|    5200|      31|         37| 8249|        2|\n",
      "|              161|mitsubishi|      gas|       std| [two, four]| hatchback|         fwd|          front|      93.7| 157.3| 64.4|  50.8|       1918|        ohc|            four|         92|       2bbl|2.97|  3.23|              9.4|        68|    5500|      37|         41| 5389|        2|\n",
      "|              110|     dodge|      gas|       std|      [four]|     wagon|         fwd|          front|     103.3| 174.6| 64.6|  59.8|       2535|        ohc|            four|        122|       2bbl|3.34|  3.46|              8.5|        88|    5000|      24|         30| 8921|       -1|\n",
      "|               65|    toyota|      gas|       std|      [four]| hatchback|         fwd|          front|     102.4| 175.6| 66.5|  53.9|       2458|        ohc|            four|        122|       mpfi|3.31|  3.54|              8.7|        92|    4200|      27|         32|11248|       -1|\n",
      "|                0|  plymouth|      gas|     turbo| [two, four]| hatchback|         rwd|          front|      95.9| 173.2| 66.3|  50.2|       2818|        ohc|            four|        156|       spdi|3.59|  3.86|              7.0|       145|    5000|      19|         24|12764|        3|\n",
      "|                0|       bmw|      gas|       std|      [four]|     sedan|         rwd|          front|     103.5| 189.0| 66.9|  55.7|       3230|        ohc|             six|        209|       mpfi|3.62|  3.39|              8.0|       182|    5400|      16|         22|30760|        0|\n",
      "|              161|    peugot|      gas|     turbo|      [four]|     sedan|         rwd|          front|     108.0| 186.7| 68.3|  56.0|       3130|          l|            four|        134|       mpfi|3.61|  3.21|              7.0|       142|    5600|      18|         24|18150|        0|\n",
      "|                0|     isuzu|      gas|       std| [two, four]|     sedan|         fwd|          front|      94.5| 155.9| 63.6|  52.0|       1874|        ohc|            four|         90|       2bbl|3.03|  3.11|              9.6|        70|    5400|      38|         43|    0|        1|\n",
      "|                0|   mercury|      gas|     turbo| [two, four]| hatchback|         rwd|          front|     102.7| 178.4| 68.0|  54.8|       2910|        ohc|            four|        140|       mpfi|3.78|  3.12|              8.0|       175|    5000|      19|         24|16503|        1|\n",
      "+-----------------+----------+---------+----------+------------+----------+------------+---------------+----------+------+-----+------+-----------+-----------+----------------+-----------+-----------+----+------+-----------------+----------+--------+--------+-----------+-----+---------+\n",
      "only showing top 20 rows\n",
      "\n"
     ]
    }
   ],
   "source": [
    "# Respuesta\n",
    "\n",
    "cars_no_nulls.show()"
   ]
  },
  {
   "cell_type": "markdown",
   "metadata": {},
   "source": [
    "\n",
    "\n",
    "Volvamos a probar otra vez:"
   ]
  },
  {
   "cell_type": "code",
   "execution_count": 37,
   "metadata": {
    "scrolled": true
   },
   "outputs": [
    {
     "name": "stdout",
     "output_type": "stream",
     "text": [
      "+-----------------+----------+---------+----------+------------+----------+------------+---------------+----------+------+-----+------+-----------+-----------+----------------+-----------+-----------+----+------+-----------------+----------+--------+--------+-----------+-----+---------+-------------------+\n",
      "|normalized_losses|      make|fuel_type|aspiration|num_of_doors|body_style|drive_wheels|engine_location|wheel_base|length|width|height|curb_weight|engine_type|num_of_cylinders|engine_size|fuel_system|bore|stroke|compression_ratio|horsepower|peak_rpm|city_mpg|highway_mpg|price|symboling|      doors_counter|\n",
      "+-----------------+----------+---------+----------+------------+----------+------------+---------------+----------+------+-----+------+-----------+-----------+----------------+-----------+-----------+----+------+-----------------+----------+--------+--------+-----------+-----+---------+-------------------+\n",
      "|              113|     mazda|      gas|       std|      [four]|     sedan|         fwd|          front|      93.1| 166.8| 64.2|  54.1|       1950|        ohc|            four|         91|       2bbl|3.08|  3.15|              9.0|        68|    5000|      31|         38| 7395|        1|      (2,[0],[1.0])|\n",
      "|               87|    toyota|      gas|       std| [two, four]| hatchback|         fwd|          front|      95.7| 158.7| 63.6|  54.5|       1985|        ohc|            four|         92|       2bbl|3.05|  3.03|              9.0|        62|    4800|      35|         39| 5348|        1|(2,[0,1],[1.0,1.0])|\n",
      "|              125|mitsubishi|      gas|       std|      [four]|     sedan|         fwd|          front|      96.3| 172.4| 65.4|  51.6|       2365|        ohc|            four|        122|       2bbl|3.35|  3.46|              8.5|        88|    5000|      25|         32| 6989|        1|      (2,[0],[1.0])|\n",
      "|              148|     dodge|      gas|     turbo|      [four]|     sedan|         fwd|          front|      93.7| 157.3| 63.8|  50.6|       2191|        ohc|            four|         98|       mpfi|3.03|  3.39|              7.6|       102|    5500|      24|         30| 8558|        1|      (2,[0],[1.0])|\n",
      "|              150|     mazda|      gas|       std| [two, four]| hatchback|         rwd|          front|      95.3| 169.0| 65.7|  49.6|       2380|      rotor|             two|         70|       4bbl| 0.0|   0.0|              9.4|       101|    6000|      17|         23|11845|        3|(2,[0,1],[1.0,1.0])|\n",
      "|              194|    nissan|      gas|     turbo| [two, four]| hatchback|         rwd|          front|      91.3| 170.7| 67.9|  49.7|       3139|       ohcv|             six|        181|       mpfi|3.43|  3.27|              7.8|       200|    5200|      17|         23|19699|        3|(2,[0,1],[1.0,1.0])|\n",
      "|                0|    jaguar|      gas|       std| [two, four]|     sedan|         rwd|          front|     102.0| 191.7| 70.6|  47.8|       3950|       ohcv|          twelve|        326|       mpfi|3.54|  2.76|             11.5|       262|    5000|      13|         17|36000|        0|(2,[0,1],[1.0,1.0])|\n",
      "|              128|    nissan|      gas|       std|      [four]|     sedan|         fwd|          front|     100.4| 181.7| 66.5|  55.1|       3095|       ohcv|             six|        181|       mpfi|3.43|  3.27|              9.0|       152|    5200|      17|         22|13499|        0|      (2,[0],[1.0])|\n",
      "|              161|    peugot|   diesel|     turbo|      [four]|     sedan|         rwd|          front|     107.9| 186.7| 68.4|  56.7|       3252|          l|            four|        152|        idi| 3.7|  3.52|             21.0|        95|    4150|      28|         33|16900|        0|      (2,[0],[1.0])|\n",
      "|              115|     mazda|      gas|       std|      [four]|     sedan|         fwd|          front|      98.8| 177.8| 66.5|  55.5|       2410|        ohc|            four|        122|       2bbl|3.39|  3.39|              8.6|        84|    4800|      26|         32| 8495|        0|      (2,[0],[1.0])|\n",
      "|              192|       bmw|      gas|       std|      [four]|     sedan|         rwd|          front|     101.2| 176.8| 64.8|  54.3|       2395|        ohc|            four|        108|       mpfi| 3.5|   2.8|              8.8|       101|    5800|      23|         29|16925|        0|      (2,[0],[1.0])|\n",
      "|              168|    nissan|      gas|       std| [two, four]|   hardtop|         fwd|          front|      95.1| 162.4| 63.8|  53.3|       2008|        ohc|            four|         97|       2bbl|3.15|  3.29|              9.4|        69|    5200|      31|         37| 8249|        2|(2,[0,1],[1.0,1.0])|\n",
      "|              161|mitsubishi|      gas|       std| [two, four]| hatchback|         fwd|          front|      93.7| 157.3| 64.4|  50.8|       1918|        ohc|            four|         92|       2bbl|2.97|  3.23|              9.4|        68|    5500|      37|         41| 5389|        2|(2,[0,1],[1.0,1.0])|\n",
      "|              110|     dodge|      gas|       std|      [four]|     wagon|         fwd|          front|     103.3| 174.6| 64.6|  59.8|       2535|        ohc|            four|        122|       2bbl|3.34|  3.46|              8.5|        88|    5000|      24|         30| 8921|       -1|      (2,[0],[1.0])|\n",
      "|               65|    toyota|      gas|       std|      [four]| hatchback|         fwd|          front|     102.4| 175.6| 66.5|  53.9|       2458|        ohc|            four|        122|       mpfi|3.31|  3.54|              8.7|        92|    4200|      27|         32|11248|       -1|      (2,[0],[1.0])|\n",
      "|                0|  plymouth|      gas|     turbo| [two, four]| hatchback|         rwd|          front|      95.9| 173.2| 66.3|  50.2|       2818|        ohc|            four|        156|       spdi|3.59|  3.86|              7.0|       145|    5000|      19|         24|12764|        3|(2,[0,1],[1.0,1.0])|\n",
      "|                0|       bmw|      gas|       std|      [four]|     sedan|         rwd|          front|     103.5| 189.0| 66.9|  55.7|       3230|        ohc|             six|        209|       mpfi|3.62|  3.39|              8.0|       182|    5400|      16|         22|30760|        0|      (2,[0],[1.0])|\n",
      "|              161|    peugot|      gas|     turbo|      [four]|     sedan|         rwd|          front|     108.0| 186.7| 68.3|  56.0|       3130|          l|            four|        134|       mpfi|3.61|  3.21|              7.0|       142|    5600|      18|         24|18150|        0|      (2,[0],[1.0])|\n",
      "|                0|     isuzu|      gas|       std| [two, four]|     sedan|         fwd|          front|      94.5| 155.9| 63.6|  52.0|       1874|        ohc|            four|         90|       2bbl|3.03|  3.11|              9.6|        70|    5400|      38|         43|    0|        1|(2,[0,1],[1.0,1.0])|\n",
      "|                0|   mercury|      gas|     turbo| [two, four]| hatchback|         rwd|          front|     102.7| 178.4| 68.0|  54.8|       2910|        ohc|            four|        140|       mpfi|3.78|  3.12|              8.0|       175|    5000|      19|         24|16503|        1|(2,[0,1],[1.0,1.0])|\n",
      "+-----------------+----------+---------+----------+------------+----------+------------+---------------+----------+------+-----+------+-----------+-----------+----------------+-----------+-----------+----+------+-----------------+----------+--------+--------+-----------+-----+---------+-------------------+\n",
      "only showing top 20 rows\n",
      "\n"
     ]
    }
   ],
   "source": [
    "# Respuesta\n",
    "\n",
    "feature_cv = CountVectorizer(inputCol='num_of_doors', outputCol='doors_counter')\n",
    "\n",
    "model_cv = feature_cv.fit(cars_no_nulls)\n",
    "\n",
    "cars_cv = model_cv.transform(cars_no_nulls)\n",
    "\n",
    "cars_cv.show()"
   ]
  },
  {
   "cell_type": "markdown",
   "metadata": {},
   "source": [
    "\n",
    "\n",
    "En la siguiente tabla se puede apreciar la conversión realizada con _CountVectorizer_\n",
    "\n",
    "| num_of_doors   | doors_counter   |\n",
    "| -------------: | -------------: |\n",
    "| [four]| (2,[0],[1.0]) |\n",
    "| [two,four]     | (2,[0,1],[1.0,1.0])|\n",
    "\n",
    "La columna *doors_counter* contiene un _CountVectorizerModel_ que es un vector con tres campos. El primero indica la cantidad de valores posibles que tiene la columna *num_of_doors*, en este caso es 2. El segundo campo indica qué valores aparecen en ese registro. Se puede saber con *model_cv.vocabulary* que 'four' corresponde al dígito 0 y 'two' corresponde al dígito 1. El tercer campo indica cuantas veces aparecen los valores en la columna *num_of_doors* para ese registro. \n"
   ]
  },
  {
   "cell_type": "markdown",
   "metadata": {},
   "source": [
    "\n",
    "\n",
    "### OneHotEncoder"
   ]
  },
  {
   "cell_type": "markdown",
   "metadata": {},
   "source": [
    "\n",
    "\n",
    "* Hagamos OneHotEncoder para la variable 'make' (recordar que contiene las marcas de distintos autos)"
   ]
  },
  {
   "cell_type": "code",
   "execution_count": 38,
   "metadata": {
    "collapsed": true
   },
   "outputs": [
    {
     "ename": "IllegalArgumentException",
     "evalue": "'requirement failed: Input column must be of type numeric but got string'",
     "output_type": "error",
     "traceback": [
      "\u001b[0;31m---------------------------------------------------------------------------\u001b[0m",
      "\u001b[0;31mPy4JJavaError\u001b[0m                             Traceback (most recent call last)",
      "\u001b[0;32m/usr/local/lib/python3.6/site-packages/pyspark/sql/utils.py\u001b[0m in \u001b[0;36mdeco\u001b[0;34m(*a, **kw)\u001b[0m\n\u001b[1;32m     62\u001b[0m         \u001b[0;32mtry\u001b[0m\u001b[0;34m:\u001b[0m\u001b[0;34m\u001b[0m\u001b[0m\n\u001b[0;32m---> 63\u001b[0;31m             \u001b[0;32mreturn\u001b[0m \u001b[0mf\u001b[0m\u001b[0;34m(\u001b[0m\u001b[0;34m*\u001b[0m\u001b[0ma\u001b[0m\u001b[0;34m,\u001b[0m \u001b[0;34m**\u001b[0m\u001b[0mkw\u001b[0m\u001b[0;34m)\u001b[0m\u001b[0;34m\u001b[0m\u001b[0m\n\u001b[0m\u001b[1;32m     64\u001b[0m         \u001b[0;32mexcept\u001b[0m \u001b[0mpy4j\u001b[0m\u001b[0;34m.\u001b[0m\u001b[0mprotocol\u001b[0m\u001b[0;34m.\u001b[0m\u001b[0mPy4JJavaError\u001b[0m \u001b[0;32mas\u001b[0m \u001b[0me\u001b[0m\u001b[0;34m:\u001b[0m\u001b[0;34m\u001b[0m\u001b[0m\n",
      "\u001b[0;32m/usr/local/lib/python3.6/site-packages/py4j/protocol.py\u001b[0m in \u001b[0;36mget_return_value\u001b[0;34m(answer, gateway_client, target_id, name)\u001b[0m\n\u001b[1;32m    327\u001b[0m                     \u001b[0;34m\"An error occurred while calling {0}{1}{2}.\\n\"\u001b[0m\u001b[0;34m.\u001b[0m\u001b[0;34m\u001b[0m\u001b[0m\n\u001b[0;32m--> 328\u001b[0;31m                     format(target_id, \".\", name), value)\n\u001b[0m\u001b[1;32m    329\u001b[0m             \u001b[0;32melse\u001b[0m\u001b[0;34m:\u001b[0m\u001b[0;34m\u001b[0m\u001b[0m\n",
      "\u001b[0;31mPy4JJavaError\u001b[0m: An error occurred while calling o549.transform.\n: java.lang.IllegalArgumentException: requirement failed: Input column must be of type numeric but got string\n\tat scala.Predef$.require(Predef.scala:224)\n\tat org.apache.spark.ml.feature.OneHotEncoder.transformSchema(OneHotEncoder.scala:87)\n\tat org.apache.spark.ml.feature.OneHotEncoder.transform(OneHotEncoder.scala:106)\n\tat sun.reflect.NativeMethodAccessorImpl.invoke0(Native Method)\n\tat sun.reflect.NativeMethodAccessorImpl.invoke(NativeMethodAccessorImpl.java:62)\n\tat sun.reflect.DelegatingMethodAccessorImpl.invoke(DelegatingMethodAccessorImpl.java:43)\n\tat java.lang.reflect.Method.invoke(Method.java:498)\n\tat py4j.reflection.MethodInvoker.invoke(MethodInvoker.java:244)\n\tat py4j.reflection.ReflectionEngine.invoke(ReflectionEngine.java:357)\n\tat py4j.Gateway.invoke(Gateway.java:282)\n\tat py4j.commands.AbstractCommand.invokeMethod(AbstractCommand.java:132)\n\tat py4j.commands.CallCommand.execute(CallCommand.java:79)\n\tat py4j.GatewayConnection.run(GatewayConnection.java:238)\n\tat java.lang.Thread.run(Thread.java:745)\n",
      "\nDuring handling of the above exception, another exception occurred:\n",
      "\u001b[0;31mIllegalArgumentException\u001b[0m                  Traceback (most recent call last)",
      "\u001b[0;32m<ipython-input-38-153e3aeac2a2>\u001b[0m in \u001b[0;36m<module>\u001b[0;34m()\u001b[0m\n\u001b[1;32m      5\u001b[0m \u001b[0mfeature_ohe\u001b[0m \u001b[0;34m=\u001b[0m \u001b[0mOneHotEncoder\u001b[0m\u001b[0;34m(\u001b[0m\u001b[0minputCol\u001b[0m\u001b[0;34m=\u001b[0m\u001b[0;34m'make'\u001b[0m\u001b[0;34m,\u001b[0m \u001b[0moutputCol\u001b[0m\u001b[0;34m=\u001b[0m\u001b[0;34m'make_onehotencoder'\u001b[0m\u001b[0;34m)\u001b[0m\u001b[0;34m\u001b[0m\u001b[0m\n\u001b[1;32m      6\u001b[0m \u001b[0;34m\u001b[0m\u001b[0m\n\u001b[0;32m----> 7\u001b[0;31m \u001b[0mcars_ohe\u001b[0m \u001b[0;34m=\u001b[0m \u001b[0mfeature_ohe\u001b[0m\u001b[0;34m.\u001b[0m\u001b[0mtransform\u001b[0m\u001b[0;34m(\u001b[0m\u001b[0mcars_no_nulls\u001b[0m\u001b[0;34m)\u001b[0m\u001b[0;34m\u001b[0m\u001b[0m\n\u001b[0m\u001b[1;32m      8\u001b[0m \u001b[0;34m\u001b[0m\u001b[0m\n\u001b[1;32m      9\u001b[0m \u001b[0mcars_ohe\u001b[0m\u001b[0;34m.\u001b[0m\u001b[0mshow\u001b[0m\u001b[0;34m(\u001b[0m\u001b[0;34m)\u001b[0m\u001b[0;34m\u001b[0m\u001b[0m\n",
      "\u001b[0;32m/usr/local/lib/python3.6/site-packages/pyspark/ml/base.py\u001b[0m in \u001b[0;36mtransform\u001b[0;34m(self, dataset, params)\u001b[0m\n\u001b[1;32m    171\u001b[0m                 \u001b[0;32mreturn\u001b[0m \u001b[0mself\u001b[0m\u001b[0;34m.\u001b[0m\u001b[0mcopy\u001b[0m\u001b[0;34m(\u001b[0m\u001b[0mparams\u001b[0m\u001b[0;34m)\u001b[0m\u001b[0;34m.\u001b[0m\u001b[0m_transform\u001b[0m\u001b[0;34m(\u001b[0m\u001b[0mdataset\u001b[0m\u001b[0;34m)\u001b[0m\u001b[0;34m\u001b[0m\u001b[0m\n\u001b[1;32m    172\u001b[0m             \u001b[0;32melse\u001b[0m\u001b[0;34m:\u001b[0m\u001b[0;34m\u001b[0m\u001b[0m\n\u001b[0;32m--> 173\u001b[0;31m                 \u001b[0;32mreturn\u001b[0m \u001b[0mself\u001b[0m\u001b[0;34m.\u001b[0m\u001b[0m_transform\u001b[0m\u001b[0;34m(\u001b[0m\u001b[0mdataset\u001b[0m\u001b[0;34m)\u001b[0m\u001b[0;34m\u001b[0m\u001b[0m\n\u001b[0m\u001b[1;32m    174\u001b[0m         \u001b[0;32melse\u001b[0m\u001b[0;34m:\u001b[0m\u001b[0;34m\u001b[0m\u001b[0m\n\u001b[1;32m    175\u001b[0m             \u001b[0;32mraise\u001b[0m \u001b[0mValueError\u001b[0m\u001b[0;34m(\u001b[0m\u001b[0;34m\"Params must be a param map but got %s.\"\u001b[0m \u001b[0;34m%\u001b[0m \u001b[0mtype\u001b[0m\u001b[0;34m(\u001b[0m\u001b[0mparams\u001b[0m\u001b[0;34m)\u001b[0m\u001b[0;34m)\u001b[0m\u001b[0;34m\u001b[0m\u001b[0m\n",
      "\u001b[0;32m/usr/local/lib/python3.6/site-packages/pyspark/ml/wrapper.py\u001b[0m in \u001b[0;36m_transform\u001b[0;34m(self, dataset)\u001b[0m\n\u001b[1;32m    310\u001b[0m     \u001b[0;32mdef\u001b[0m \u001b[0m_transform\u001b[0m\u001b[0;34m(\u001b[0m\u001b[0mself\u001b[0m\u001b[0;34m,\u001b[0m \u001b[0mdataset\u001b[0m\u001b[0;34m)\u001b[0m\u001b[0;34m:\u001b[0m\u001b[0;34m\u001b[0m\u001b[0m\n\u001b[1;32m    311\u001b[0m         \u001b[0mself\u001b[0m\u001b[0;34m.\u001b[0m\u001b[0m_transfer_params_to_java\u001b[0m\u001b[0;34m(\u001b[0m\u001b[0;34m)\u001b[0m\u001b[0;34m\u001b[0m\u001b[0m\n\u001b[0;32m--> 312\u001b[0;31m         \u001b[0;32mreturn\u001b[0m \u001b[0mDataFrame\u001b[0m\u001b[0;34m(\u001b[0m\u001b[0mself\u001b[0m\u001b[0;34m.\u001b[0m\u001b[0m_java_obj\u001b[0m\u001b[0;34m.\u001b[0m\u001b[0mtransform\u001b[0m\u001b[0;34m(\u001b[0m\u001b[0mdataset\u001b[0m\u001b[0;34m.\u001b[0m\u001b[0m_jdf\u001b[0m\u001b[0;34m)\u001b[0m\u001b[0;34m,\u001b[0m \u001b[0mdataset\u001b[0m\u001b[0;34m.\u001b[0m\u001b[0msql_ctx\u001b[0m\u001b[0;34m)\u001b[0m\u001b[0;34m\u001b[0m\u001b[0m\n\u001b[0m\u001b[1;32m    313\u001b[0m \u001b[0;34m\u001b[0m\u001b[0m\n\u001b[1;32m    314\u001b[0m \u001b[0;34m\u001b[0m\u001b[0m\n",
      "\u001b[0;32m/usr/local/lib/python3.6/site-packages/py4j/java_gateway.py\u001b[0m in \u001b[0;36m__call__\u001b[0;34m(self, *args)\u001b[0m\n\u001b[1;32m   1255\u001b[0m         \u001b[0manswer\u001b[0m \u001b[0;34m=\u001b[0m \u001b[0mself\u001b[0m\u001b[0;34m.\u001b[0m\u001b[0mgateway_client\u001b[0m\u001b[0;34m.\u001b[0m\u001b[0msend_command\u001b[0m\u001b[0;34m(\u001b[0m\u001b[0mcommand\u001b[0m\u001b[0;34m)\u001b[0m\u001b[0;34m\u001b[0m\u001b[0m\n\u001b[1;32m   1256\u001b[0m         return_value = get_return_value(\n\u001b[0;32m-> 1257\u001b[0;31m             answer, self.gateway_client, self.target_id, self.name)\n\u001b[0m\u001b[1;32m   1258\u001b[0m \u001b[0;34m\u001b[0m\u001b[0m\n\u001b[1;32m   1259\u001b[0m         \u001b[0;32mfor\u001b[0m \u001b[0mtemp_arg\u001b[0m \u001b[0;32min\u001b[0m \u001b[0mtemp_args\u001b[0m\u001b[0;34m:\u001b[0m\u001b[0;34m\u001b[0m\u001b[0m\n",
      "\u001b[0;32m/usr/local/lib/python3.6/site-packages/pyspark/sql/utils.py\u001b[0m in \u001b[0;36mdeco\u001b[0;34m(*a, **kw)\u001b[0m\n\u001b[1;32m     77\u001b[0m                 \u001b[0;32mraise\u001b[0m \u001b[0mQueryExecutionException\u001b[0m\u001b[0;34m(\u001b[0m\u001b[0ms\u001b[0m\u001b[0;34m.\u001b[0m\u001b[0msplit\u001b[0m\u001b[0;34m(\u001b[0m\u001b[0;34m': '\u001b[0m\u001b[0;34m,\u001b[0m \u001b[0;36m1\u001b[0m\u001b[0;34m)\u001b[0m\u001b[0;34m[\u001b[0m\u001b[0;36m1\u001b[0m\u001b[0;34m]\u001b[0m\u001b[0;34m,\u001b[0m \u001b[0mstackTrace\u001b[0m\u001b[0;34m)\u001b[0m\u001b[0;34m\u001b[0m\u001b[0m\n\u001b[1;32m     78\u001b[0m             \u001b[0;32mif\u001b[0m \u001b[0ms\u001b[0m\u001b[0;34m.\u001b[0m\u001b[0mstartswith\u001b[0m\u001b[0;34m(\u001b[0m\u001b[0;34m'java.lang.IllegalArgumentException: '\u001b[0m\u001b[0;34m)\u001b[0m\u001b[0;34m:\u001b[0m\u001b[0;34m\u001b[0m\u001b[0m\n\u001b[0;32m---> 79\u001b[0;31m                 \u001b[0;32mraise\u001b[0m \u001b[0mIllegalArgumentException\u001b[0m\u001b[0;34m(\u001b[0m\u001b[0ms\u001b[0m\u001b[0;34m.\u001b[0m\u001b[0msplit\u001b[0m\u001b[0;34m(\u001b[0m\u001b[0;34m': '\u001b[0m\u001b[0;34m,\u001b[0m \u001b[0;36m1\u001b[0m\u001b[0;34m)\u001b[0m\u001b[0;34m[\u001b[0m\u001b[0;36m1\u001b[0m\u001b[0;34m]\u001b[0m\u001b[0;34m,\u001b[0m \u001b[0mstackTrace\u001b[0m\u001b[0;34m)\u001b[0m\u001b[0;34m\u001b[0m\u001b[0m\n\u001b[0m\u001b[1;32m     80\u001b[0m             \u001b[0;32mraise\u001b[0m\u001b[0;34m\u001b[0m\u001b[0m\n\u001b[1;32m     81\u001b[0m     \u001b[0;32mreturn\u001b[0m \u001b[0mdeco\u001b[0m\u001b[0;34m\u001b[0m\u001b[0m\n",
      "\u001b[0;31mIllegalArgumentException\u001b[0m: 'requirement failed: Input column must be of type numeric but got string'"
     ]
    }
   ],
   "source": [
    "# Respuesta\n",
    "\n",
    "from pyspark.ml.feature import OneHotEncoder\n",
    "\n",
    "feature_ohe = OneHotEncoder(inputCol='make', outputCol='make_onehotencoder')\n",
    "\n",
    "cars_ohe = feature_ohe.transform(cars_no_nulls)\n",
    "\n",
    "cars_ohe.show()"
   ]
  },
  {
   "cell_type": "markdown",
   "metadata": {},
   "source": [
    "\n",
    "\n",
    "Salta el siguiente error: ** IllegalArgumentException: 'requirement failed: Input column must be of type NumericType but got StringType'**\n",
    "\n",
    "Para hacer un OneHotEncoder, equivalente a variable dummies, es necesarios pasar antes por _StringIndexer_. Ya hemos realizado esto, por favor recuerde la columna *make_indexed*.\n",
    "\n",
    "Reutilizamos el ejemplo anterior:"
   ]
  },
  {
   "cell_type": "code",
   "execution_count": 39,
   "metadata": {
    "collapsed": true
   },
   "outputs": [
    {
     "name": "stdout",
     "output_type": "stream",
     "text": [
      "+-----------------+----------+---------+----------+------------+----------+------------+---------------+----------+------+-----+------+-----------+-----------+----------------+-----------+-----------+----+------+-----------------+----------+--------+--------+-----------+-----+---------+------------+\n",
      "|normalized_losses|      make|fuel_type|aspiration|num_of_doors|body_style|drive_wheels|engine_location|wheel_base|length|width|height|curb_weight|engine_type|num_of_cylinders|engine_size|fuel_system|bore|stroke|compression_ratio|horsepower|peak_rpm|city_mpg|highway_mpg|price|symboling|make_indexed|\n",
      "+-----------------+----------+---------+----------+------------+----------+------------+---------------+----------+------+-----+------+-----------+-----------+----------------+-----------+-----------+----+------+-----------------+----------+--------+--------+-----------+-----+---------+------------+\n",
      "|              113|     mazda|      gas|       std|      [four]|     sedan|         fwd|          front|      93.1| 166.8| 64.2|  54.1|       1950|        ohc|            four|         91|       2bbl|3.08|  3.15|              9.0|        68|    5000|      31|         38| 7395|        1|         1.0|\n",
      "|               87|    toyota|      gas|       std|  [two,four]| hatchback|         fwd|          front|      95.7| 158.7| 63.6|  54.5|       1985|        ohc|            four|         92|       2bbl|3.05|  3.03|              9.0|        62|    4800|      35|         39| 5348|        1|         0.0|\n",
      "|              125|mitsubishi|      gas|       std|      [four]|     sedan|         fwd|          front|      96.3| 172.4| 65.4|  51.6|       2365|        ohc|            four|        122|       2bbl|3.35|  3.46|              8.5|        88|    5000|      25|         32| 6989|        1|         4.0|\n",
      "|              148|     dodge|      gas|     turbo|      [four]|     sedan|         fwd|          front|      93.7| 157.3| 63.8|  50.6|       2191|        ohc|            four|         98|       mpfi|3.03|  3.39|              7.6|       102|    5500|      24|         30| 8558|        1|         9.0|\n",
      "|              150|     mazda|      gas|       std|  [two,four]| hatchback|         rwd|          front|      95.3| 169.0| 65.7|  49.6|       2380|      rotor|             two|         70|       4bbl| 0.0|   0.0|              9.4|       101|    6000|      17|         23|11845|        3|         1.0|\n",
      "|              194|    nissan|      gas|     turbo|  [two,four]| hatchback|         rwd|          front|      91.3| 170.7| 67.9|  49.7|       3139|       ohcv|             six|        181|       mpfi|3.43|  3.27|              7.8|       200|    5200|      17|         23|19699|        3|         2.0|\n",
      "|                0|    jaguar|      gas|       std|  [two,four]|     sedan|         rwd|          front|     102.0| 191.7| 70.6|  47.8|       3950|       ohcv|          twelve|        326|       mpfi|3.54|  2.76|             11.5|       262|    5000|      13|         17|36000|        0|        18.0|\n",
      "|              128|    nissan|      gas|       std|      [four]|     sedan|         fwd|          front|     100.4| 181.7| 66.5|  55.1|       3095|       ohcv|             six|        181|       mpfi|3.43|  3.27|              9.0|       152|    5200|      17|         22|13499|        0|         2.0|\n",
      "|              161|    peugot|   diesel|     turbo|      [four]|     sedan|         rwd|          front|     107.9| 186.7| 68.4|  56.7|       3252|          l|            four|        152|        idi| 3.7|  3.52|             21.0|        95|    4150|      28|         33|16900|        0|         8.0|\n",
      "|              115|     mazda|      gas|       std|      [four]|     sedan|         fwd|          front|      98.8| 177.8| 66.5|  55.5|       2410|        ohc|            four|        122|       2bbl|3.39|  3.39|              8.6|        84|    4800|      26|         32| 8495|        0|         1.0|\n",
      "|              192|       bmw|      gas|       std|      [four]|     sedan|         rwd|          front|     101.2| 176.8| 64.8|  54.3|       2395|        ohc|            four|        108|       mpfi| 3.5|   2.8|              8.8|       101|    5800|      23|         29|16925|        0|        11.0|\n",
      "|              168|    nissan|      gas|       std|  [two,four]|   hardtop|         fwd|          front|      95.1| 162.4| 63.8|  53.3|       2008|        ohc|            four|         97|       2bbl|3.15|  3.29|              9.4|        69|    5200|      31|         37| 8249|        2|         2.0|\n",
      "|              161|mitsubishi|      gas|       std|  [two,four]| hatchback|         fwd|          front|      93.7| 157.3| 64.4|  50.8|       1918|        ohc|            four|         92|       2bbl|2.97|  3.23|              9.4|        68|    5500|      37|         41| 5389|        2|         4.0|\n",
      "|              110|     dodge|      gas|       std|      [four]|     wagon|         fwd|          front|     103.3| 174.6| 64.6|  59.8|       2535|        ohc|            four|        122|       2bbl|3.34|  3.46|              8.5|        88|    5000|      24|         30| 8921|       -1|         9.0|\n",
      "|               65|    toyota|      gas|       std|      [four]| hatchback|         fwd|          front|     102.4| 175.6| 66.5|  53.9|       2458|        ohc|            four|        122|       mpfi|3.31|  3.54|              8.7|        92|    4200|      27|         32|11248|       -1|         0.0|\n",
      "|                0|  plymouth|      gas|     turbo|  [two,four]| hatchback|         rwd|          front|      95.9| 173.2| 66.3|  50.2|       2818|        ohc|            four|        156|       spdi|3.59|  3.86|              7.0|       145|    5000|      19|         24|12764|        3|        13.0|\n",
      "|                0|       bmw|      gas|       std|      [four]|     sedan|         rwd|          front|     103.5| 189.0| 66.9|  55.7|       3230|        ohc|             six|        209|       mpfi|3.62|  3.39|              8.0|       182|    5400|      16|         22|30760|        0|        11.0|\n",
      "|              161|    peugot|      gas|     turbo|      [four]|     sedan|         rwd|          front|     108.0| 186.7| 68.3|  56.0|       3130|          l|            four|        134|       mpfi|3.61|  3.21|              7.0|       142|    5600|      18|         24|18150|        0|         8.0|\n",
      "|                0|     isuzu|      gas|       std|  [two,four]|     sedan|         fwd|          front|      94.5| 155.9| 63.6|  52.0|       1874|        ohc|            four|         90|       2bbl|3.03|  3.11|              9.6|        70|    5400|      38|         43|    0|        1|        16.0|\n",
      "|                0|   mercury|      gas|     turbo|  [two,four]| hatchback|         rwd|          front|     102.7| 178.4| 68.0|  54.8|       2910|        ohc|            four|        140|       mpfi|3.78|  3.12|              8.0|       175|    5000|      19|         24|16503|        1|        21.0|\n",
      "+-----------------+----------+---------+----------+------------+----------+------------+---------------+----------+------+-----+------+-----------+-----------+----------------+-----------+-----------+----+------+-----------------+----------+--------+--------+-----------+-----+---------+------------+\n",
      "only showing top 20 rows\n",
      "\n"
     ]
    }
   ],
   "source": [
    "# Respuesta\n",
    "\n",
    "cars_indexed.show()"
   ]
  },
  {
   "cell_type": "code",
   "execution_count": 40,
   "metadata": {},
   "outputs": [
    {
     "data": {
      "text/plain": [
       "[('normalized_losses', 'int'),\n",
       " ('make', 'string'),\n",
       " ('fuel_type', 'string'),\n",
       " ('aspiration', 'string'),\n",
       " ('num_of_doors', 'string'),\n",
       " ('body_style', 'string'),\n",
       " ('drive_wheels', 'string'),\n",
       " ('engine_location', 'string'),\n",
       " ('wheel_base', 'double'),\n",
       " ('length', 'double'),\n",
       " ('width', 'double'),\n",
       " ('height', 'double'),\n",
       " ('curb_weight', 'int'),\n",
       " ('engine_type', 'string'),\n",
       " ('num_of_cylinders', 'string'),\n",
       " ('engine_size', 'int'),\n",
       " ('fuel_system', 'string'),\n",
       " ('bore', 'double'),\n",
       " ('stroke', 'double'),\n",
       " ('compression_ratio', 'double'),\n",
       " ('horsepower', 'int'),\n",
       " ('peak_rpm', 'int'),\n",
       " ('city_mpg', 'int'),\n",
       " ('highway_mpg', 'int'),\n",
       " ('price', 'int'),\n",
       " ('symboling', 'int'),\n",
       " ('make_indexed', 'double')]"
      ]
     },
     "execution_count": 40,
     "metadata": {},
     "output_type": "execute_result"
    }
   ],
   "source": [
    "cars_indexed.dtypes"
   ]
  },
  {
   "cell_type": "markdown",
   "metadata": {},
   "source": [
    "\n",
    "\n",
    "Se aprecia que el dataframe `cars_indexed` ya incluye la variable `make_indexed` y es tipo numérica. Empezamos a trabajar a partir de aquí:"
   ]
  },
  {
   "cell_type": "code",
   "execution_count": 41,
   "metadata": {
    "collapsed": true
   },
   "outputs": [
    {
     "name": "stdout",
     "output_type": "stream",
     "text": [
      "+-----------------+----------+---------+----------+------------+----------+------------+---------------+----------+------+-----+------+-----------+-----------+----------------+-----------+-----------+----+------+-----------------+----------+--------+--------+-----------+-----+---------+------------+------------------+\n",
      "|normalized_losses|      make|fuel_type|aspiration|num_of_doors|body_style|drive_wheels|engine_location|wheel_base|length|width|height|curb_weight|engine_type|num_of_cylinders|engine_size|fuel_system|bore|stroke|compression_ratio|horsepower|peak_rpm|city_mpg|highway_mpg|price|symboling|make_indexed|make_onehotencoder|\n",
      "+-----------------+----------+---------+----------+------------+----------+------------+---------------+----------+------+-----+------+-----------+-----------+----------------+-----------+-----------+----+------+-----------------+----------+--------+--------+-----------+-----+---------+------------+------------------+\n",
      "|              113|     mazda|      gas|       std|      [four]|     sedan|         fwd|          front|      93.1| 166.8| 64.2|  54.1|       1950|        ohc|            four|         91|       2bbl|3.08|  3.15|              9.0|        68|    5000|      31|         38| 7395|        1|         1.0|    (21,[1],[1.0])|\n",
      "|               87|    toyota|      gas|       std|  [two,four]| hatchback|         fwd|          front|      95.7| 158.7| 63.6|  54.5|       1985|        ohc|            four|         92|       2bbl|3.05|  3.03|              9.0|        62|    4800|      35|         39| 5348|        1|         0.0|    (21,[0],[1.0])|\n",
      "|              125|mitsubishi|      gas|       std|      [four]|     sedan|         fwd|          front|      96.3| 172.4| 65.4|  51.6|       2365|        ohc|            four|        122|       2bbl|3.35|  3.46|              8.5|        88|    5000|      25|         32| 6989|        1|         4.0|    (21,[4],[1.0])|\n",
      "|              148|     dodge|      gas|     turbo|      [four]|     sedan|         fwd|          front|      93.7| 157.3| 63.8|  50.6|       2191|        ohc|            four|         98|       mpfi|3.03|  3.39|              7.6|       102|    5500|      24|         30| 8558|        1|         9.0|    (21,[9],[1.0])|\n",
      "|              150|     mazda|      gas|       std|  [two,four]| hatchback|         rwd|          front|      95.3| 169.0| 65.7|  49.6|       2380|      rotor|             two|         70|       4bbl| 0.0|   0.0|              9.4|       101|    6000|      17|         23|11845|        3|         1.0|    (21,[1],[1.0])|\n",
      "|              194|    nissan|      gas|     turbo|  [two,four]| hatchback|         rwd|          front|      91.3| 170.7| 67.9|  49.7|       3139|       ohcv|             six|        181|       mpfi|3.43|  3.27|              7.8|       200|    5200|      17|         23|19699|        3|         2.0|    (21,[2],[1.0])|\n",
      "|                0|    jaguar|      gas|       std|  [two,four]|     sedan|         rwd|          front|     102.0| 191.7| 70.6|  47.8|       3950|       ohcv|          twelve|        326|       mpfi|3.54|  2.76|             11.5|       262|    5000|      13|         17|36000|        0|        18.0|   (21,[18],[1.0])|\n",
      "|              128|    nissan|      gas|       std|      [four]|     sedan|         fwd|          front|     100.4| 181.7| 66.5|  55.1|       3095|       ohcv|             six|        181|       mpfi|3.43|  3.27|              9.0|       152|    5200|      17|         22|13499|        0|         2.0|    (21,[2],[1.0])|\n",
      "|              161|    peugot|   diesel|     turbo|      [four]|     sedan|         rwd|          front|     107.9| 186.7| 68.4|  56.7|       3252|          l|            four|        152|        idi| 3.7|  3.52|             21.0|        95|    4150|      28|         33|16900|        0|         8.0|    (21,[8],[1.0])|\n",
      "|              115|     mazda|      gas|       std|      [four]|     sedan|         fwd|          front|      98.8| 177.8| 66.5|  55.5|       2410|        ohc|            four|        122|       2bbl|3.39|  3.39|              8.6|        84|    4800|      26|         32| 8495|        0|         1.0|    (21,[1],[1.0])|\n",
      "|              192|       bmw|      gas|       std|      [four]|     sedan|         rwd|          front|     101.2| 176.8| 64.8|  54.3|       2395|        ohc|            four|        108|       mpfi| 3.5|   2.8|              8.8|       101|    5800|      23|         29|16925|        0|        11.0|   (21,[11],[1.0])|\n",
      "|              168|    nissan|      gas|       std|  [two,four]|   hardtop|         fwd|          front|      95.1| 162.4| 63.8|  53.3|       2008|        ohc|            four|         97|       2bbl|3.15|  3.29|              9.4|        69|    5200|      31|         37| 8249|        2|         2.0|    (21,[2],[1.0])|\n",
      "|              161|mitsubishi|      gas|       std|  [two,four]| hatchback|         fwd|          front|      93.7| 157.3| 64.4|  50.8|       1918|        ohc|            four|         92|       2bbl|2.97|  3.23|              9.4|        68|    5500|      37|         41| 5389|        2|         4.0|    (21,[4],[1.0])|\n",
      "|              110|     dodge|      gas|       std|      [four]|     wagon|         fwd|          front|     103.3| 174.6| 64.6|  59.8|       2535|        ohc|            four|        122|       2bbl|3.34|  3.46|              8.5|        88|    5000|      24|         30| 8921|       -1|         9.0|    (21,[9],[1.0])|\n",
      "|               65|    toyota|      gas|       std|      [four]| hatchback|         fwd|          front|     102.4| 175.6| 66.5|  53.9|       2458|        ohc|            four|        122|       mpfi|3.31|  3.54|              8.7|        92|    4200|      27|         32|11248|       -1|         0.0|    (21,[0],[1.0])|\n",
      "|                0|  plymouth|      gas|     turbo|  [two,four]| hatchback|         rwd|          front|      95.9| 173.2| 66.3|  50.2|       2818|        ohc|            four|        156|       spdi|3.59|  3.86|              7.0|       145|    5000|      19|         24|12764|        3|        13.0|   (21,[13],[1.0])|\n",
      "|                0|       bmw|      gas|       std|      [four]|     sedan|         rwd|          front|     103.5| 189.0| 66.9|  55.7|       3230|        ohc|             six|        209|       mpfi|3.62|  3.39|              8.0|       182|    5400|      16|         22|30760|        0|        11.0|   (21,[11],[1.0])|\n",
      "|              161|    peugot|      gas|     turbo|      [four]|     sedan|         rwd|          front|     108.0| 186.7| 68.3|  56.0|       3130|          l|            four|        134|       mpfi|3.61|  3.21|              7.0|       142|    5600|      18|         24|18150|        0|         8.0|    (21,[8],[1.0])|\n",
      "|                0|     isuzu|      gas|       std|  [two,four]|     sedan|         fwd|          front|      94.5| 155.9| 63.6|  52.0|       1874|        ohc|            four|         90|       2bbl|3.03|  3.11|              9.6|        70|    5400|      38|         43|    0|        1|        16.0|   (21,[16],[1.0])|\n",
      "|                0|   mercury|      gas|     turbo|  [two,four]| hatchback|         rwd|          front|     102.7| 178.4| 68.0|  54.8|       2910|        ohc|            four|        140|       mpfi|3.78|  3.12|              8.0|       175|    5000|      19|         24|16503|        1|        21.0|        (21,[],[])|\n",
      "+-----------------+----------+---------+----------+------------+----------+------------+---------------+----------+------+-----+------+-----------+-----------+----------------+-----------+-----------+----+------+-----------------+----------+--------+--------+-----------+-----+---------+------------+------------------+\n",
      "only showing top 20 rows\n",
      "\n"
     ]
    }
   ],
   "source": [
    "# Respuesta\n",
    "\n",
    "encoder = OneHotEncoder(inputCol=\"make_indexed\", outputCol=\"make_onehotencoder\")\n",
    "cars_encoded = encoder.transform(cars_indexed)\n",
    "cars_encoded.show()"
   ]
  },
  {
   "cell_type": "markdown",
   "metadata": {},
   "source": [
    "\n",
    "\n",
    "### Pasar resultados a columnas independientes\n",
    "\n",
    "Tanto al hacer el CountVectorizer como el OneHotEncoder, los resultados se encuentran en un vector en una sola columna. Sería muy útil separar los resultados en columnas distintas.\n",
    "\n",
    "Veamos cómo hacerlo."
   ]
  },
  {
   "cell_type": "markdown",
   "metadata": {},
   "source": [
    "\n",
    "\n",
    "**Para el caso de CountVectorizer **\n",
    "\n",
    "Un posible ejemplo podría ser generar una columna *doors_four* y una columna *doors_two*.\n",
    "\n",
    "| num_of_doors   | doors_counter   |doors_four|doors_two|\n",
    "| -------------: | -------------: | -------------:| -------------:|\n",
    "| [four]| (2,[0],[1.0]) |1.0|0.0|\n",
    "| [two,four]     | (2,[0,1],[1.0,1.0])| 1.0|1.0|\n",
    "\n",
    "Para esto, primero se crea una columna tipo Vector Array, llamada *activated_index*."
   ]
  },
  {
   "cell_type": "code",
   "execution_count": 42,
   "metadata": {
    "collapsed": true
   },
   "outputs": [
    {
     "name": "stdout",
     "output_type": "stream",
     "text": [
      "+-----------------+----------+---------+----------+------------+----------+------------+---------------+----------+------+-----+------+-----------+-----------+----------------+-----------+-----------+----+------+-----------------+----------+--------+--------+-----------+-----+---------+-------------------+---------------+\n",
      "|normalized_losses|      make|fuel_type|aspiration|num_of_doors|body_style|drive_wheels|engine_location|wheel_base|length|width|height|curb_weight|engine_type|num_of_cylinders|engine_size|fuel_system|bore|stroke|compression_ratio|horsepower|peak_rpm|city_mpg|highway_mpg|price|symboling|      doors_counter|activated_index|\n",
      "+-----------------+----------+---------+----------+------------+----------+------------+---------------+----------+------+-----+------+-----------+-----------+----------------+-----------+-----------+----+------+-----------------+----------+--------+--------+-----------+-----+---------+-------------------+---------------+\n",
      "|              113|     mazda|      gas|       std|      [four]|     sedan|         fwd|          front|      93.1| 166.8| 64.2|  54.1|       1950|        ohc|            four|         91|       2bbl|3.08|  3.15|              9.0|        68|    5000|      31|         38| 7395|        1|      (2,[0],[1.0])|     [1.0, 0.0]|\n",
      "|               87|    toyota|      gas|       std| [two, four]| hatchback|         fwd|          front|      95.7| 158.7| 63.6|  54.5|       1985|        ohc|            four|         92|       2bbl|3.05|  3.03|              9.0|        62|    4800|      35|         39| 5348|        1|(2,[0,1],[1.0,1.0])|     [1.0, 1.0]|\n",
      "|              125|mitsubishi|      gas|       std|      [four]|     sedan|         fwd|          front|      96.3| 172.4| 65.4|  51.6|       2365|        ohc|            four|        122|       2bbl|3.35|  3.46|              8.5|        88|    5000|      25|         32| 6989|        1|      (2,[0],[1.0])|     [1.0, 0.0]|\n",
      "|              148|     dodge|      gas|     turbo|      [four]|     sedan|         fwd|          front|      93.7| 157.3| 63.8|  50.6|       2191|        ohc|            four|         98|       mpfi|3.03|  3.39|              7.6|       102|    5500|      24|         30| 8558|        1|      (2,[0],[1.0])|     [1.0, 0.0]|\n",
      "|              150|     mazda|      gas|       std| [two, four]| hatchback|         rwd|          front|      95.3| 169.0| 65.7|  49.6|       2380|      rotor|             two|         70|       4bbl| 0.0|   0.0|              9.4|       101|    6000|      17|         23|11845|        3|(2,[0,1],[1.0,1.0])|     [1.0, 1.0]|\n",
      "|              194|    nissan|      gas|     turbo| [two, four]| hatchback|         rwd|          front|      91.3| 170.7| 67.9|  49.7|       3139|       ohcv|             six|        181|       mpfi|3.43|  3.27|              7.8|       200|    5200|      17|         23|19699|        3|(2,[0,1],[1.0,1.0])|     [1.0, 1.0]|\n",
      "|                0|    jaguar|      gas|       std| [two, four]|     sedan|         rwd|          front|     102.0| 191.7| 70.6|  47.8|       3950|       ohcv|          twelve|        326|       mpfi|3.54|  2.76|             11.5|       262|    5000|      13|         17|36000|        0|(2,[0,1],[1.0,1.0])|     [1.0, 1.0]|\n",
      "|              128|    nissan|      gas|       std|      [four]|     sedan|         fwd|          front|     100.4| 181.7| 66.5|  55.1|       3095|       ohcv|             six|        181|       mpfi|3.43|  3.27|              9.0|       152|    5200|      17|         22|13499|        0|      (2,[0],[1.0])|     [1.0, 0.0]|\n",
      "|              161|    peugot|   diesel|     turbo|      [four]|     sedan|         rwd|          front|     107.9| 186.7| 68.4|  56.7|       3252|          l|            four|        152|        idi| 3.7|  3.52|             21.0|        95|    4150|      28|         33|16900|        0|      (2,[0],[1.0])|     [1.0, 0.0]|\n",
      "|              115|     mazda|      gas|       std|      [four]|     sedan|         fwd|          front|      98.8| 177.8| 66.5|  55.5|       2410|        ohc|            four|        122|       2bbl|3.39|  3.39|              8.6|        84|    4800|      26|         32| 8495|        0|      (2,[0],[1.0])|     [1.0, 0.0]|\n",
      "|              192|       bmw|      gas|       std|      [four]|     sedan|         rwd|          front|     101.2| 176.8| 64.8|  54.3|       2395|        ohc|            four|        108|       mpfi| 3.5|   2.8|              8.8|       101|    5800|      23|         29|16925|        0|      (2,[0],[1.0])|     [1.0, 0.0]|\n",
      "|              168|    nissan|      gas|       std| [two, four]|   hardtop|         fwd|          front|      95.1| 162.4| 63.8|  53.3|       2008|        ohc|            four|         97|       2bbl|3.15|  3.29|              9.4|        69|    5200|      31|         37| 8249|        2|(2,[0,1],[1.0,1.0])|     [1.0, 1.0]|\n",
      "|              161|mitsubishi|      gas|       std| [two, four]| hatchback|         fwd|          front|      93.7| 157.3| 64.4|  50.8|       1918|        ohc|            four|         92|       2bbl|2.97|  3.23|              9.4|        68|    5500|      37|         41| 5389|        2|(2,[0,1],[1.0,1.0])|     [1.0, 1.0]|\n",
      "|              110|     dodge|      gas|       std|      [four]|     wagon|         fwd|          front|     103.3| 174.6| 64.6|  59.8|       2535|        ohc|            four|        122|       2bbl|3.34|  3.46|              8.5|        88|    5000|      24|         30| 8921|       -1|      (2,[0],[1.0])|     [1.0, 0.0]|\n",
      "|               65|    toyota|      gas|       std|      [four]| hatchback|         fwd|          front|     102.4| 175.6| 66.5|  53.9|       2458|        ohc|            four|        122|       mpfi|3.31|  3.54|              8.7|        92|    4200|      27|         32|11248|       -1|      (2,[0],[1.0])|     [1.0, 0.0]|\n",
      "|                0|  plymouth|      gas|     turbo| [two, four]| hatchback|         rwd|          front|      95.9| 173.2| 66.3|  50.2|       2818|        ohc|            four|        156|       spdi|3.59|  3.86|              7.0|       145|    5000|      19|         24|12764|        3|(2,[0,1],[1.0,1.0])|     [1.0, 1.0]|\n",
      "|                0|       bmw|      gas|       std|      [four]|     sedan|         rwd|          front|     103.5| 189.0| 66.9|  55.7|       3230|        ohc|             six|        209|       mpfi|3.62|  3.39|              8.0|       182|    5400|      16|         22|30760|        0|      (2,[0],[1.0])|     [1.0, 0.0]|\n",
      "|              161|    peugot|      gas|     turbo|      [four]|     sedan|         rwd|          front|     108.0| 186.7| 68.3|  56.0|       3130|          l|            four|        134|       mpfi|3.61|  3.21|              7.0|       142|    5600|      18|         24|18150|        0|      (2,[0],[1.0])|     [1.0, 0.0]|\n",
      "|                0|     isuzu|      gas|       std| [two, four]|     sedan|         fwd|          front|      94.5| 155.9| 63.6|  52.0|       1874|        ohc|            four|         90|       2bbl|3.03|  3.11|              9.6|        70|    5400|      38|         43|    0|        1|(2,[0,1],[1.0,1.0])|     [1.0, 1.0]|\n",
      "|                0|   mercury|      gas|     turbo| [two, four]| hatchback|         rwd|          front|     102.7| 178.4| 68.0|  54.8|       2910|        ohc|            four|        140|       mpfi|3.78|  3.12|              8.0|       175|    5000|      19|         24|16503|        1|(2,[0,1],[1.0,1.0])|     [1.0, 1.0]|\n",
      "+-----------------+----------+---------+----------+------------+----------+------------+---------------+----------+------+-----+------+-----------+-----------+----------------+-----------+-----------+----+------+-----------------+----------+--------+--------+-----------+-----+---------+-------------------+---------------+\n",
      "only showing top 20 rows\n",
      "\n"
     ]
    }
   ],
   "source": [
    "# Respuesta\n",
    "\n",
    "from pyspark.sql.types import DoubleType\n",
    "\n",
    "cars_cv = (cars_cv.withColumn('activated_index', F.udf(lambda x: x.toArray().tolist(), ArrayType(DoubleType()))(F.col('doors_counter'))))\n",
    "\n",
    "cars_cv.show()"
   ]
  },
  {
   "cell_type": "markdown",
   "metadata": {},
   "source": [
    "\n",
    "\n",
    "Ahora debemos modificar el vector resultante, *activated_index*, para que cada elemento se encuentre en una columna distinta. También debemos saber los distintos valores/elementos sobre los que se ha hecho el count, esto se puede hacer mediante  *model_cv.vocabulary*"
   ]
  },
  {
   "cell_type": "code",
   "execution_count": 71,
   "metadata": {
    "collapsed": true
   },
   "outputs": [],
   "source": [
    "# Respuesta\n",
    "\n",
    "vocab = model_cv.vocabulary"
   ]
  },
  {
   "cell_type": "code",
   "execution_count": 72,
   "metadata": {},
   "outputs": [
    {
     "data": {
      "text/plain": [
       "['four', 'two']"
      ]
     },
     "execution_count": 72,
     "metadata": {},
     "output_type": "execute_result"
    }
   ],
   "source": [
    "vocab"
   ]
  },
  {
   "cell_type": "markdown",
   "metadata": {},
   "source": [
    "\n",
    "\n",
    "Partimos nuestra columna 'activated_index' y renombramos las columnas resultantes con el tipo de evento correspondiente:"
   ]
  },
  {
   "cell_type": "code",
   "execution_count": 74,
   "metadata": {
    "scrolled": true
   },
   "outputs": [
    {
     "name": "stdout",
     "output_type": "stream",
     "text": [
      "+-----------------+----------+---------+----------+------------+----------+------------+---------------+----------+------+-----+------+-----------+-----------+----------------+-----------+-----------+----+------+-----------------+----------+--------+--------+-----------+-----+---------+-------------------+---------------+----------+---------+\n",
      "|normalized_losses|      make|fuel_type|aspiration|num_of_doors|body_style|drive_wheels|engine_location|wheel_base|length|width|height|curb_weight|engine_type|num_of_cylinders|engine_size|fuel_system|bore|stroke|compression_ratio|horsepower|peak_rpm|city_mpg|highway_mpg|price|symboling|      doors_counter|activated_index|doors_four|doors_two|\n",
      "+-----------------+----------+---------+----------+------------+----------+------------+---------------+----------+------+-----+------+-----------+-----------+----------------+-----------+-----------+----+------+-----------------+----------+--------+--------+-----------+-----+---------+-------------------+---------------+----------+---------+\n",
      "|              113|     mazda|      gas|       std|      [four]|     sedan|         fwd|          front|      93.1| 166.8| 64.2|  54.1|       1950|        ohc|            four|         91|       2bbl|3.08|  3.15|              9.0|        68|    5000|      31|         38| 7395|        1|      (2,[0],[1.0])|     [1.0, 0.0]|       1.0|      0.0|\n",
      "|               87|    toyota|      gas|       std| [two, four]| hatchback|         fwd|          front|      95.7| 158.7| 63.6|  54.5|       1985|        ohc|            four|         92|       2bbl|3.05|  3.03|              9.0|        62|    4800|      35|         39| 5348|        1|(2,[0,1],[1.0,1.0])|     [1.0, 1.0]|       1.0|      1.0|\n",
      "|              125|mitsubishi|      gas|       std|      [four]|     sedan|         fwd|          front|      96.3| 172.4| 65.4|  51.6|       2365|        ohc|            four|        122|       2bbl|3.35|  3.46|              8.5|        88|    5000|      25|         32| 6989|        1|      (2,[0],[1.0])|     [1.0, 0.0]|       1.0|      0.0|\n",
      "|              148|     dodge|      gas|     turbo|      [four]|     sedan|         fwd|          front|      93.7| 157.3| 63.8|  50.6|       2191|        ohc|            four|         98|       mpfi|3.03|  3.39|              7.6|       102|    5500|      24|         30| 8558|        1|      (2,[0],[1.0])|     [1.0, 0.0]|       1.0|      0.0|\n",
      "|              150|     mazda|      gas|       std| [two, four]| hatchback|         rwd|          front|      95.3| 169.0| 65.7|  49.6|       2380|      rotor|             two|         70|       4bbl| 0.0|   0.0|              9.4|       101|    6000|      17|         23|11845|        3|(2,[0,1],[1.0,1.0])|     [1.0, 1.0]|       1.0|      1.0|\n",
      "|              194|    nissan|      gas|     turbo| [two, four]| hatchback|         rwd|          front|      91.3| 170.7| 67.9|  49.7|       3139|       ohcv|             six|        181|       mpfi|3.43|  3.27|              7.8|       200|    5200|      17|         23|19699|        3|(2,[0,1],[1.0,1.0])|     [1.0, 1.0]|       1.0|      1.0|\n",
      "|                0|    jaguar|      gas|       std| [two, four]|     sedan|         rwd|          front|     102.0| 191.7| 70.6|  47.8|       3950|       ohcv|          twelve|        326|       mpfi|3.54|  2.76|             11.5|       262|    5000|      13|         17|36000|        0|(2,[0,1],[1.0,1.0])|     [1.0, 1.0]|       1.0|      1.0|\n",
      "|              128|    nissan|      gas|       std|      [four]|     sedan|         fwd|          front|     100.4| 181.7| 66.5|  55.1|       3095|       ohcv|             six|        181|       mpfi|3.43|  3.27|              9.0|       152|    5200|      17|         22|13499|        0|      (2,[0],[1.0])|     [1.0, 0.0]|       1.0|      0.0|\n",
      "|              161|    peugot|   diesel|     turbo|      [four]|     sedan|         rwd|          front|     107.9| 186.7| 68.4|  56.7|       3252|          l|            four|        152|        idi| 3.7|  3.52|             21.0|        95|    4150|      28|         33|16900|        0|      (2,[0],[1.0])|     [1.0, 0.0]|       1.0|      0.0|\n",
      "|              115|     mazda|      gas|       std|      [four]|     sedan|         fwd|          front|      98.8| 177.8| 66.5|  55.5|       2410|        ohc|            four|        122|       2bbl|3.39|  3.39|              8.6|        84|    4800|      26|         32| 8495|        0|      (2,[0],[1.0])|     [1.0, 0.0]|       1.0|      0.0|\n",
      "|              192|       bmw|      gas|       std|      [four]|     sedan|         rwd|          front|     101.2| 176.8| 64.8|  54.3|       2395|        ohc|            four|        108|       mpfi| 3.5|   2.8|              8.8|       101|    5800|      23|         29|16925|        0|      (2,[0],[1.0])|     [1.0, 0.0]|       1.0|      0.0|\n",
      "|              168|    nissan|      gas|       std| [two, four]|   hardtop|         fwd|          front|      95.1| 162.4| 63.8|  53.3|       2008|        ohc|            four|         97|       2bbl|3.15|  3.29|              9.4|        69|    5200|      31|         37| 8249|        2|(2,[0,1],[1.0,1.0])|     [1.0, 1.0]|       1.0|      1.0|\n",
      "|              161|mitsubishi|      gas|       std| [two, four]| hatchback|         fwd|          front|      93.7| 157.3| 64.4|  50.8|       1918|        ohc|            four|         92|       2bbl|2.97|  3.23|              9.4|        68|    5500|      37|         41| 5389|        2|(2,[0,1],[1.0,1.0])|     [1.0, 1.0]|       1.0|      1.0|\n",
      "|              110|     dodge|      gas|       std|      [four]|     wagon|         fwd|          front|     103.3| 174.6| 64.6|  59.8|       2535|        ohc|            four|        122|       2bbl|3.34|  3.46|              8.5|        88|    5000|      24|         30| 8921|       -1|      (2,[0],[1.0])|     [1.0, 0.0]|       1.0|      0.0|\n",
      "|               65|    toyota|      gas|       std|      [four]| hatchback|         fwd|          front|     102.4| 175.6| 66.5|  53.9|       2458|        ohc|            four|        122|       mpfi|3.31|  3.54|              8.7|        92|    4200|      27|         32|11248|       -1|      (2,[0],[1.0])|     [1.0, 0.0]|       1.0|      0.0|\n",
      "|                0|  plymouth|      gas|     turbo| [two, four]| hatchback|         rwd|          front|      95.9| 173.2| 66.3|  50.2|       2818|        ohc|            four|        156|       spdi|3.59|  3.86|              7.0|       145|    5000|      19|         24|12764|        3|(2,[0,1],[1.0,1.0])|     [1.0, 1.0]|       1.0|      1.0|\n",
      "|                0|       bmw|      gas|       std|      [four]|     sedan|         rwd|          front|     103.5| 189.0| 66.9|  55.7|       3230|        ohc|             six|        209|       mpfi|3.62|  3.39|              8.0|       182|    5400|      16|         22|30760|        0|      (2,[0],[1.0])|     [1.0, 0.0]|       1.0|      0.0|\n",
      "|              161|    peugot|      gas|     turbo|      [four]|     sedan|         rwd|          front|     108.0| 186.7| 68.3|  56.0|       3130|          l|            four|        134|       mpfi|3.61|  3.21|              7.0|       142|    5600|      18|         24|18150|        0|      (2,[0],[1.0])|     [1.0, 0.0]|       1.0|      0.0|\n",
      "|                0|     isuzu|      gas|       std| [two, four]|     sedan|         fwd|          front|      94.5| 155.9| 63.6|  52.0|       1874|        ohc|            four|         90|       2bbl|3.03|  3.11|              9.6|        70|    5400|      38|         43|    0|        1|(2,[0,1],[1.0,1.0])|     [1.0, 1.0]|       1.0|      1.0|\n",
      "|                0|   mercury|      gas|     turbo| [two, four]| hatchback|         rwd|          front|     102.7| 178.4| 68.0|  54.8|       2910|        ohc|            four|        140|       mpfi|3.78|  3.12|              8.0|       175|    5000|      19|         24|16503|        1|(2,[0,1],[1.0,1.0])|     [1.0, 1.0]|       1.0|      1.0|\n",
      "+-----------------+----------+---------+----------+------------+----------+------------+---------------+----------+------+-----+------+-----------+-----------+----------------+-----------+-----------+----+------+-----------------+----------+--------+--------+-----------+-----+---------+-------------------+---------------+----------+---------+\n",
      "only showing top 20 rows\n",
      "\n"
     ]
    }
   ],
   "source": [
    "# Respuesta\n",
    "\n",
    "cars_cv = cars_cv.select(cars_cv.columns + [(F.col(\"activated_index\")[i]).alias('doors_' + v) for i, v in enumerate(vocab)])\n",
    "\n",
    "cars_cv.show()"
   ]
  },
  {
   "cell_type": "markdown",
   "metadata": {},
   "source": [
    "\n",
    "\n",
    "¡Ya está hecho!\n"
   ]
  },
  {
   "cell_type": "markdown",
   "metadata": {},
   "source": [
    "\n",
    "\n",
    "**Para el caso OneHotEncoder**\n",
    "\n",
    "El proceso será equivalente con la diferencia de la procedencia de las distintas categorías."
   ]
  },
  {
   "cell_type": "markdown",
   "metadata": {},
   "source": [
    "\n",
    "\n",
    "Primero se crea una columna _ArrayType()_"
   ]
  },
  {
   "cell_type": "code",
   "execution_count": 75,
   "metadata": {
    "collapsed": true
   },
   "outputs": [
    {
     "name": "stdout",
     "output_type": "stream",
     "text": [
      "+-----------------+----------+---------+----------+------------+----------+------------+---------------+----------+------+-----+------+-----------+-----------+----------------+-----------+-----------+----+------+-----------------+----------+--------+--------+-----------+-----+---------+------------+------------------+--------------------+\n",
      "|normalized_losses|      make|fuel_type|aspiration|num_of_doors|body_style|drive_wheels|engine_location|wheel_base|length|width|height|curb_weight|engine_type|num_of_cylinders|engine_size|fuel_system|bore|stroke|compression_ratio|horsepower|peak_rpm|city_mpg|highway_mpg|price|symboling|make_indexed|make_onehotencoder|make_activated_index|\n",
      "+-----------------+----------+---------+----------+------------+----------+------------+---------------+----------+------+-----+------+-----------+-----------+----------------+-----------+-----------+----+------+-----------------+----------+--------+--------+-----------+-----+---------+------------+------------------+--------------------+\n",
      "|              113|     mazda|      gas|       std|      [four]|     sedan|         fwd|          front|      93.1| 166.8| 64.2|  54.1|       1950|        ohc|            four|         91|       2bbl|3.08|  3.15|              9.0|        68|    5000|      31|         38| 7395|        1|         1.0|    (21,[1],[1.0])|[0.0, 1.0, 0.0, 0...|\n",
      "|               87|    toyota|      gas|       std|  [two,four]| hatchback|         fwd|          front|      95.7| 158.7| 63.6|  54.5|       1985|        ohc|            four|         92|       2bbl|3.05|  3.03|              9.0|        62|    4800|      35|         39| 5348|        1|         0.0|    (21,[0],[1.0])|[1.0, 0.0, 0.0, 0...|\n",
      "|              125|mitsubishi|      gas|       std|      [four]|     sedan|         fwd|          front|      96.3| 172.4| 65.4|  51.6|       2365|        ohc|            four|        122|       2bbl|3.35|  3.46|              8.5|        88|    5000|      25|         32| 6989|        1|         4.0|    (21,[4],[1.0])|[0.0, 0.0, 0.0, 0...|\n",
      "|              148|     dodge|      gas|     turbo|      [four]|     sedan|         fwd|          front|      93.7| 157.3| 63.8|  50.6|       2191|        ohc|            four|         98|       mpfi|3.03|  3.39|              7.6|       102|    5500|      24|         30| 8558|        1|         9.0|    (21,[9],[1.0])|[0.0, 0.0, 0.0, 0...|\n",
      "|              150|     mazda|      gas|       std|  [two,four]| hatchback|         rwd|          front|      95.3| 169.0| 65.7|  49.6|       2380|      rotor|             two|         70|       4bbl| 0.0|   0.0|              9.4|       101|    6000|      17|         23|11845|        3|         1.0|    (21,[1],[1.0])|[0.0, 1.0, 0.0, 0...|\n",
      "|              194|    nissan|      gas|     turbo|  [two,four]| hatchback|         rwd|          front|      91.3| 170.7| 67.9|  49.7|       3139|       ohcv|             six|        181|       mpfi|3.43|  3.27|              7.8|       200|    5200|      17|         23|19699|        3|         2.0|    (21,[2],[1.0])|[0.0, 0.0, 1.0, 0...|\n",
      "|                0|    jaguar|      gas|       std|  [two,four]|     sedan|         rwd|          front|     102.0| 191.7| 70.6|  47.8|       3950|       ohcv|          twelve|        326|       mpfi|3.54|  2.76|             11.5|       262|    5000|      13|         17|36000|        0|        18.0|   (21,[18],[1.0])|[0.0, 0.0, 0.0, 0...|\n",
      "|              128|    nissan|      gas|       std|      [four]|     sedan|         fwd|          front|     100.4| 181.7| 66.5|  55.1|       3095|       ohcv|             six|        181|       mpfi|3.43|  3.27|              9.0|       152|    5200|      17|         22|13499|        0|         2.0|    (21,[2],[1.0])|[0.0, 0.0, 1.0, 0...|\n",
      "|              161|    peugot|   diesel|     turbo|      [four]|     sedan|         rwd|          front|     107.9| 186.7| 68.4|  56.7|       3252|          l|            four|        152|        idi| 3.7|  3.52|             21.0|        95|    4150|      28|         33|16900|        0|         8.0|    (21,[8],[1.0])|[0.0, 0.0, 0.0, 0...|\n",
      "|              115|     mazda|      gas|       std|      [four]|     sedan|         fwd|          front|      98.8| 177.8| 66.5|  55.5|       2410|        ohc|            four|        122|       2bbl|3.39|  3.39|              8.6|        84|    4800|      26|         32| 8495|        0|         1.0|    (21,[1],[1.0])|[0.0, 1.0, 0.0, 0...|\n",
      "|              192|       bmw|      gas|       std|      [four]|     sedan|         rwd|          front|     101.2| 176.8| 64.8|  54.3|       2395|        ohc|            four|        108|       mpfi| 3.5|   2.8|              8.8|       101|    5800|      23|         29|16925|        0|        11.0|   (21,[11],[1.0])|[0.0, 0.0, 0.0, 0...|\n",
      "|              168|    nissan|      gas|       std|  [two,four]|   hardtop|         fwd|          front|      95.1| 162.4| 63.8|  53.3|       2008|        ohc|            four|         97|       2bbl|3.15|  3.29|              9.4|        69|    5200|      31|         37| 8249|        2|         2.0|    (21,[2],[1.0])|[0.0, 0.0, 1.0, 0...|\n",
      "|              161|mitsubishi|      gas|       std|  [two,four]| hatchback|         fwd|          front|      93.7| 157.3| 64.4|  50.8|       1918|        ohc|            four|         92|       2bbl|2.97|  3.23|              9.4|        68|    5500|      37|         41| 5389|        2|         4.0|    (21,[4],[1.0])|[0.0, 0.0, 0.0, 0...|\n",
      "|              110|     dodge|      gas|       std|      [four]|     wagon|         fwd|          front|     103.3| 174.6| 64.6|  59.8|       2535|        ohc|            four|        122|       2bbl|3.34|  3.46|              8.5|        88|    5000|      24|         30| 8921|       -1|         9.0|    (21,[9],[1.0])|[0.0, 0.0, 0.0, 0...|\n",
      "|               65|    toyota|      gas|       std|      [four]| hatchback|         fwd|          front|     102.4| 175.6| 66.5|  53.9|       2458|        ohc|            four|        122|       mpfi|3.31|  3.54|              8.7|        92|    4200|      27|         32|11248|       -1|         0.0|    (21,[0],[1.0])|[1.0, 0.0, 0.0, 0...|\n",
      "|                0|  plymouth|      gas|     turbo|  [two,four]| hatchback|         rwd|          front|      95.9| 173.2| 66.3|  50.2|       2818|        ohc|            four|        156|       spdi|3.59|  3.86|              7.0|       145|    5000|      19|         24|12764|        3|        13.0|   (21,[13],[1.0])|[0.0, 0.0, 0.0, 0...|\n",
      "|                0|       bmw|      gas|       std|      [four]|     sedan|         rwd|          front|     103.5| 189.0| 66.9|  55.7|       3230|        ohc|             six|        209|       mpfi|3.62|  3.39|              8.0|       182|    5400|      16|         22|30760|        0|        11.0|   (21,[11],[1.0])|[0.0, 0.0, 0.0, 0...|\n",
      "|              161|    peugot|      gas|     turbo|      [four]|     sedan|         rwd|          front|     108.0| 186.7| 68.3|  56.0|       3130|          l|            four|        134|       mpfi|3.61|  3.21|              7.0|       142|    5600|      18|         24|18150|        0|         8.0|    (21,[8],[1.0])|[0.0, 0.0, 0.0, 0...|\n",
      "|                0|     isuzu|      gas|       std|  [two,four]|     sedan|         fwd|          front|      94.5| 155.9| 63.6|  52.0|       1874|        ohc|            four|         90|       2bbl|3.03|  3.11|              9.6|        70|    5400|      38|         43|    0|        1|        16.0|   (21,[16],[1.0])|[0.0, 0.0, 0.0, 0...|\n",
      "|                0|   mercury|      gas|     turbo|  [two,four]| hatchback|         rwd|          front|     102.7| 178.4| 68.0|  54.8|       2910|        ohc|            four|        140|       mpfi|3.78|  3.12|              8.0|       175|    5000|      19|         24|16503|        1|        21.0|        (21,[],[])|[0.0, 0.0, 0.0, 0...|\n",
      "+-----------------+----------+---------+----------+------------+----------+------------+---------------+----------+------+-----+------+-----------+-----------+----------------+-----------+-----------+----+------+-----------------+----------+--------+--------+-----------+-----+---------+------------+------------------+--------------------+\n",
      "only showing top 20 rows\n",
      "\n"
     ]
    }
   ],
   "source": [
    "# Respuesta\n",
    "\n",
    "from pyspark.sql.types import DoubleType\n",
    "\n",
    "cars_encoded = (cars_encoded.withColumn('make_activated_index', F.udf(lambda x: x.toArray().tolist(), ArrayType(DoubleType()))(F.col('make_onehotencoder'))))\n",
    "\n",
    "cars_encoded.show()"
   ]
  },
  {
   "cell_type": "markdown",
   "metadata": {},
   "source": [
    "\n",
    "\n",
    "Modificar el vector resultante, *make_activated_index*, para que cada elemento se encuentre en una columna distinta"
   ]
  },
  {
   "cell_type": "markdown",
   "metadata": {},
   "source": [
    "\n",
    "\n",
    "Debemos saber los distintos elementos sobre los que se ha hecho el count. La diferencia aquí es que se ha hecho un StringIndexer antes del OneHotEncoder y se debe volver a StringIndexer para recuperar las categorías.\n"
   ]
  },
  {
   "cell_type": "code",
   "execution_count": 76,
   "metadata": {
    "scrolled": true
   },
   "outputs": [
    {
     "name": "stdout",
     "output_type": "stream",
     "text": [
      "['toyota', 'mazda', 'nissan', 'honda', 'mitsubishi', 'subaru', 'volkswagen', 'volvo', 'peugot', 'dodge', 'mercedes-benz', 'bmw', 'audi', 'plymouth', 'saab', 'porsche', 'isuzu', 'alfa-romero', 'jaguar', 'chevrolet', 'renault', 'mercury']\n"
     ]
    }
   ],
   "source": [
    "# Respuesta\n",
    "\n",
    "vocab = feature_indexer_model.labels\n",
    "print(vocab)"
   ]
  },
  {
   "cell_type": "markdown",
   "metadata": {},
   "source": [
    "\n",
    "\n",
    "Al inspeccionar las categorias observamos que aparecen símbolos no permitidos. Esto debe a que existen macas de autos como \"mercedes-benz\". El guión medio \"-\" no esta permitido para los nombres de las columnas. Tomando esto en cuenta, partimos nuestra columna 'make_activated_index' en porciones y renombramos las columnas resultantes con la marca correspondiente:"
   ]
  },
  {
   "cell_type": "code",
   "execution_count": 77,
   "metadata": {},
   "outputs": [
    {
     "name": "stdout",
     "output_type": "stream",
     "text": [
      "+-----------------+----------+---------+----------+------------+----------+------------+---------------+----------+------+-----+------+-----------+-----------+----------------+-----------+-----------+----+------+-----------------+----------+--------+--------+-----------+-----+---------+------------+------------------+--------------------+-----------+----------+-----------+----------+---------------+-----------+---------------+----------+-----------+----------+------------------+--------+---------+-------------+---------+------------+----------+----------------+-----------+--------------+------------+------------+\n",
      "|normalized_losses|      make|fuel_type|aspiration|num_of_doors|body_style|drive_wheels|engine_location|wheel_base|length|width|height|curb_weight|engine_type|num_of_cylinders|engine_size|fuel_system|bore|stroke|compression_ratio|horsepower|peak_rpm|city_mpg|highway_mpg|price|symboling|make_indexed|make_onehotencoder|make_activated_index|make_toyota|make_mazda|make_nissan|make_honda|make_mitsubishi|make_subaru|make_volkswagen|make_volvo|make_peugot|make_dodge|make_mercedes_benz|make_bmw|make_audi|make_plymouth|make_saab|make_porsche|make_isuzu|make_alfa_romero|make_jaguar|make_chevrolet|make_renault|make_mercury|\n",
      "+-----------------+----------+---------+----------+------------+----------+------------+---------------+----------+------+-----+------+-----------+-----------+----------------+-----------+-----------+----+------+-----------------+----------+--------+--------+-----------+-----+---------+------------+------------------+--------------------+-----------+----------+-----------+----------+---------------+-----------+---------------+----------+-----------+----------+------------------+--------+---------+-------------+---------+------------+----------+----------------+-----------+--------------+------------+------------+\n",
      "|              113|     mazda|      gas|       std|      [four]|     sedan|         fwd|          front|      93.1| 166.8| 64.2|  54.1|       1950|        ohc|            four|         91|       2bbl|3.08|  3.15|              9.0|        68|    5000|      31|         38| 7395|        1|         1.0|    (21,[1],[1.0])|[0.0, 1.0, 0.0, 0...|        0.0|       1.0|        0.0|       0.0|            0.0|        0.0|            0.0|       0.0|        0.0|       0.0|               0.0|     0.0|      0.0|          0.0|      0.0|         0.0|       0.0|             0.0|        0.0|           0.0|         0.0|        null|\n",
      "|               87|    toyota|      gas|       std|  [two,four]| hatchback|         fwd|          front|      95.7| 158.7| 63.6|  54.5|       1985|        ohc|            four|         92|       2bbl|3.05|  3.03|              9.0|        62|    4800|      35|         39| 5348|        1|         0.0|    (21,[0],[1.0])|[1.0, 0.0, 0.0, 0...|        1.0|       0.0|        0.0|       0.0|            0.0|        0.0|            0.0|       0.0|        0.0|       0.0|               0.0|     0.0|      0.0|          0.0|      0.0|         0.0|       0.0|             0.0|        0.0|           0.0|         0.0|        null|\n",
      "|              125|mitsubishi|      gas|       std|      [four]|     sedan|         fwd|          front|      96.3| 172.4| 65.4|  51.6|       2365|        ohc|            four|        122|       2bbl|3.35|  3.46|              8.5|        88|    5000|      25|         32| 6989|        1|         4.0|    (21,[4],[1.0])|[0.0, 0.0, 0.0, 0...|        0.0|       0.0|        0.0|       0.0|            1.0|        0.0|            0.0|       0.0|        0.0|       0.0|               0.0|     0.0|      0.0|          0.0|      0.0|         0.0|       0.0|             0.0|        0.0|           0.0|         0.0|        null|\n",
      "|              148|     dodge|      gas|     turbo|      [four]|     sedan|         fwd|          front|      93.7| 157.3| 63.8|  50.6|       2191|        ohc|            four|         98|       mpfi|3.03|  3.39|              7.6|       102|    5500|      24|         30| 8558|        1|         9.0|    (21,[9],[1.0])|[0.0, 0.0, 0.0, 0...|        0.0|       0.0|        0.0|       0.0|            0.0|        0.0|            0.0|       0.0|        0.0|       1.0|               0.0|     0.0|      0.0|          0.0|      0.0|         0.0|       0.0|             0.0|        0.0|           0.0|         0.0|        null|\n",
      "|              150|     mazda|      gas|       std|  [two,four]| hatchback|         rwd|          front|      95.3| 169.0| 65.7|  49.6|       2380|      rotor|             two|         70|       4bbl| 0.0|   0.0|              9.4|       101|    6000|      17|         23|11845|        3|         1.0|    (21,[1],[1.0])|[0.0, 1.0, 0.0, 0...|        0.0|       1.0|        0.0|       0.0|            0.0|        0.0|            0.0|       0.0|        0.0|       0.0|               0.0|     0.0|      0.0|          0.0|      0.0|         0.0|       0.0|             0.0|        0.0|           0.0|         0.0|        null|\n",
      "|              194|    nissan|      gas|     turbo|  [two,four]| hatchback|         rwd|          front|      91.3| 170.7| 67.9|  49.7|       3139|       ohcv|             six|        181|       mpfi|3.43|  3.27|              7.8|       200|    5200|      17|         23|19699|        3|         2.0|    (21,[2],[1.0])|[0.0, 0.0, 1.0, 0...|        0.0|       0.0|        1.0|       0.0|            0.0|        0.0|            0.0|       0.0|        0.0|       0.0|               0.0|     0.0|      0.0|          0.0|      0.0|         0.0|       0.0|             0.0|        0.0|           0.0|         0.0|        null|\n",
      "|                0|    jaguar|      gas|       std|  [two,four]|     sedan|         rwd|          front|     102.0| 191.7| 70.6|  47.8|       3950|       ohcv|          twelve|        326|       mpfi|3.54|  2.76|             11.5|       262|    5000|      13|         17|36000|        0|        18.0|   (21,[18],[1.0])|[0.0, 0.0, 0.0, 0...|        0.0|       0.0|        0.0|       0.0|            0.0|        0.0|            0.0|       0.0|        0.0|       0.0|               0.0|     0.0|      0.0|          0.0|      0.0|         0.0|       0.0|             0.0|        1.0|           0.0|         0.0|        null|\n",
      "|              128|    nissan|      gas|       std|      [four]|     sedan|         fwd|          front|     100.4| 181.7| 66.5|  55.1|       3095|       ohcv|             six|        181|       mpfi|3.43|  3.27|              9.0|       152|    5200|      17|         22|13499|        0|         2.0|    (21,[2],[1.0])|[0.0, 0.0, 1.0, 0...|        0.0|       0.0|        1.0|       0.0|            0.0|        0.0|            0.0|       0.0|        0.0|       0.0|               0.0|     0.0|      0.0|          0.0|      0.0|         0.0|       0.0|             0.0|        0.0|           0.0|         0.0|        null|\n",
      "|              161|    peugot|   diesel|     turbo|      [four]|     sedan|         rwd|          front|     107.9| 186.7| 68.4|  56.7|       3252|          l|            four|        152|        idi| 3.7|  3.52|             21.0|        95|    4150|      28|         33|16900|        0|         8.0|    (21,[8],[1.0])|[0.0, 0.0, 0.0, 0...|        0.0|       0.0|        0.0|       0.0|            0.0|        0.0|            0.0|       0.0|        1.0|       0.0|               0.0|     0.0|      0.0|          0.0|      0.0|         0.0|       0.0|             0.0|        0.0|           0.0|         0.0|        null|\n",
      "|              115|     mazda|      gas|       std|      [four]|     sedan|         fwd|          front|      98.8| 177.8| 66.5|  55.5|       2410|        ohc|            four|        122|       2bbl|3.39|  3.39|              8.6|        84|    4800|      26|         32| 8495|        0|         1.0|    (21,[1],[1.0])|[0.0, 1.0, 0.0, 0...|        0.0|       1.0|        0.0|       0.0|            0.0|        0.0|            0.0|       0.0|        0.0|       0.0|               0.0|     0.0|      0.0|          0.0|      0.0|         0.0|       0.0|             0.0|        0.0|           0.0|         0.0|        null|\n",
      "|              192|       bmw|      gas|       std|      [four]|     sedan|         rwd|          front|     101.2| 176.8| 64.8|  54.3|       2395|        ohc|            four|        108|       mpfi| 3.5|   2.8|              8.8|       101|    5800|      23|         29|16925|        0|        11.0|   (21,[11],[1.0])|[0.0, 0.0, 0.0, 0...|        0.0|       0.0|        0.0|       0.0|            0.0|        0.0|            0.0|       0.0|        0.0|       0.0|               0.0|     1.0|      0.0|          0.0|      0.0|         0.0|       0.0|             0.0|        0.0|           0.0|         0.0|        null|\n",
      "|              168|    nissan|      gas|       std|  [two,four]|   hardtop|         fwd|          front|      95.1| 162.4| 63.8|  53.3|       2008|        ohc|            four|         97|       2bbl|3.15|  3.29|              9.4|        69|    5200|      31|         37| 8249|        2|         2.0|    (21,[2],[1.0])|[0.0, 0.0, 1.0, 0...|        0.0|       0.0|        1.0|       0.0|            0.0|        0.0|            0.0|       0.0|        0.0|       0.0|               0.0|     0.0|      0.0|          0.0|      0.0|         0.0|       0.0|             0.0|        0.0|           0.0|         0.0|        null|\n",
      "|              161|mitsubishi|      gas|       std|  [two,four]| hatchback|         fwd|          front|      93.7| 157.3| 64.4|  50.8|       1918|        ohc|            four|         92|       2bbl|2.97|  3.23|              9.4|        68|    5500|      37|         41| 5389|        2|         4.0|    (21,[4],[1.0])|[0.0, 0.0, 0.0, 0...|        0.0|       0.0|        0.0|       0.0|            1.0|        0.0|            0.0|       0.0|        0.0|       0.0|               0.0|     0.0|      0.0|          0.0|      0.0|         0.0|       0.0|             0.0|        0.0|           0.0|         0.0|        null|\n",
      "|              110|     dodge|      gas|       std|      [four]|     wagon|         fwd|          front|     103.3| 174.6| 64.6|  59.8|       2535|        ohc|            four|        122|       2bbl|3.34|  3.46|              8.5|        88|    5000|      24|         30| 8921|       -1|         9.0|    (21,[9],[1.0])|[0.0, 0.0, 0.0, 0...|        0.0|       0.0|        0.0|       0.0|            0.0|        0.0|            0.0|       0.0|        0.0|       1.0|               0.0|     0.0|      0.0|          0.0|      0.0|         0.0|       0.0|             0.0|        0.0|           0.0|         0.0|        null|\n",
      "|               65|    toyota|      gas|       std|      [four]| hatchback|         fwd|          front|     102.4| 175.6| 66.5|  53.9|       2458|        ohc|            four|        122|       mpfi|3.31|  3.54|              8.7|        92|    4200|      27|         32|11248|       -1|         0.0|    (21,[0],[1.0])|[1.0, 0.0, 0.0, 0...|        1.0|       0.0|        0.0|       0.0|            0.0|        0.0|            0.0|       0.0|        0.0|       0.0|               0.0|     0.0|      0.0|          0.0|      0.0|         0.0|       0.0|             0.0|        0.0|           0.0|         0.0|        null|\n",
      "|                0|  plymouth|      gas|     turbo|  [two,four]| hatchback|         rwd|          front|      95.9| 173.2| 66.3|  50.2|       2818|        ohc|            four|        156|       spdi|3.59|  3.86|              7.0|       145|    5000|      19|         24|12764|        3|        13.0|   (21,[13],[1.0])|[0.0, 0.0, 0.0, 0...|        0.0|       0.0|        0.0|       0.0|            0.0|        0.0|            0.0|       0.0|        0.0|       0.0|               0.0|     0.0|      0.0|          1.0|      0.0|         0.0|       0.0|             0.0|        0.0|           0.0|         0.0|        null|\n",
      "|                0|       bmw|      gas|       std|      [four]|     sedan|         rwd|          front|     103.5| 189.0| 66.9|  55.7|       3230|        ohc|             six|        209|       mpfi|3.62|  3.39|              8.0|       182|    5400|      16|         22|30760|        0|        11.0|   (21,[11],[1.0])|[0.0, 0.0, 0.0, 0...|        0.0|       0.0|        0.0|       0.0|            0.0|        0.0|            0.0|       0.0|        0.0|       0.0|               0.0|     1.0|      0.0|          0.0|      0.0|         0.0|       0.0|             0.0|        0.0|           0.0|         0.0|        null|\n",
      "|              161|    peugot|      gas|     turbo|      [four]|     sedan|         rwd|          front|     108.0| 186.7| 68.3|  56.0|       3130|          l|            four|        134|       mpfi|3.61|  3.21|              7.0|       142|    5600|      18|         24|18150|        0|         8.0|    (21,[8],[1.0])|[0.0, 0.0, 0.0, 0...|        0.0|       0.0|        0.0|       0.0|            0.0|        0.0|            0.0|       0.0|        1.0|       0.0|               0.0|     0.0|      0.0|          0.0|      0.0|         0.0|       0.0|             0.0|        0.0|           0.0|         0.0|        null|\n",
      "|                0|     isuzu|      gas|       std|  [two,four]|     sedan|         fwd|          front|      94.5| 155.9| 63.6|  52.0|       1874|        ohc|            four|         90|       2bbl|3.03|  3.11|              9.6|        70|    5400|      38|         43|    0|        1|        16.0|   (21,[16],[1.0])|[0.0, 0.0, 0.0, 0...|        0.0|       0.0|        0.0|       0.0|            0.0|        0.0|            0.0|       0.0|        0.0|       0.0|               0.0|     0.0|      0.0|          0.0|      0.0|         0.0|       1.0|             0.0|        0.0|           0.0|         0.0|        null|\n",
      "|                0|   mercury|      gas|     turbo|  [two,four]| hatchback|         rwd|          front|     102.7| 178.4| 68.0|  54.8|       2910|        ohc|            four|        140|       mpfi|3.78|  3.12|              8.0|       175|    5000|      19|         24|16503|        1|        21.0|        (21,[],[])|[0.0, 0.0, 0.0, 0...|        0.0|       0.0|        0.0|       0.0|            0.0|        0.0|            0.0|       0.0|        0.0|       0.0|               0.0|     0.0|      0.0|          0.0|      0.0|         0.0|       0.0|             0.0|        0.0|           0.0|         0.0|        null|\n",
      "+-----------------+----------+---------+----------+------------+----------+------------+---------------+----------+------+-----+------+-----------+-----------+----------------+-----------+-----------+----+------+-----------------+----------+--------+--------+-----------+-----+---------+------------+------------------+--------------------+-----------+----------+-----------+----------+---------------+-----------+---------------+----------+-----------+----------+------------------+--------+---------+-------------+---------+------------+----------+----------------+-----------+--------------+------------+------------+\n",
      "only showing top 20 rows\n",
      "\n"
     ]
    }
   ],
   "source": [
    "# Respuesta\n",
    "\n",
    "cars_encoded = cars_encoded.select(cars_encoded.columns + [(F.col(\"make_activated_index\")[i]).alias('make_' + v.replace('-','_')) for i, v in enumerate(vocab)])\n",
    "\n",
    "cars_encoded.show()"
   ]
  },
  {
   "cell_type": "markdown",
   "metadata": {},
   "source": [
    "\n",
    "\n",
    "* Estudiamos comportamiento de OneHotEncoder"
   ]
  },
  {
   "cell_type": "code",
   "execution_count": 78,
   "metadata": {},
   "outputs": [
    {
     "data": {
      "text/plain": [
       "['toyota',\n",
       " 'mazda',\n",
       " 'nissan',\n",
       " 'honda',\n",
       " 'mitsubishi',\n",
       " 'subaru',\n",
       " 'volkswagen',\n",
       " 'volvo',\n",
       " 'peugot',\n",
       " 'dodge',\n",
       " 'mercedes-benz',\n",
       " 'bmw',\n",
       " 'audi',\n",
       " 'plymouth',\n",
       " 'saab',\n",
       " 'porsche',\n",
       " 'isuzu',\n",
       " 'alfa-romero',\n",
       " 'jaguar',\n",
       " 'chevrolet',\n",
       " 'renault',\n",
       " 'mercury']"
      ]
     },
     "execution_count": 78,
     "metadata": {},
     "output_type": "execute_result"
    }
   ],
   "source": [
    "# Respuesta\n",
    "\n",
    "vocab"
   ]
  },
  {
   "cell_type": "markdown",
   "metadata": {},
   "source": [
    "\n",
    "\n",
    "La última categoría es 'mercury'. Veamos qué pasa:"
   ]
  },
  {
   "cell_type": "code",
   "execution_count": 79,
   "metadata": {},
   "outputs": [
    {
     "name": "stdout",
     "output_type": "stream",
     "text": [
      "+-----------------+-------+---------+----------+------------+----------+------------+---------------+----------+------+-----+------+-----------+-----------+----------------+-----------+-----------+----+------+-----------------+----------+--------+--------+-----------+-----+---------+------------+------------------+--------------------+-----------+----------+-----------+----------+---------------+-----------+---------------+----------+-----------+----------+------------------+--------+---------+-------------+---------+------------+----------+----------------+-----------+--------------+------------+------------+\n",
      "|normalized_losses|   make|fuel_type|aspiration|num_of_doors|body_style|drive_wheels|engine_location|wheel_base|length|width|height|curb_weight|engine_type|num_of_cylinders|engine_size|fuel_system|bore|stroke|compression_ratio|horsepower|peak_rpm|city_mpg|highway_mpg|price|symboling|make_indexed|make_onehotencoder|make_activated_index|make_toyota|make_mazda|make_nissan|make_honda|make_mitsubishi|make_subaru|make_volkswagen|make_volvo|make_peugot|make_dodge|make_mercedes_benz|make_bmw|make_audi|make_plymouth|make_saab|make_porsche|make_isuzu|make_alfa_romero|make_jaguar|make_chevrolet|make_renault|make_mercury|\n",
      "+-----------------+-------+---------+----------+------------+----------+------------+---------------+----------+------+-----+------+-----------+-----------+----------------+-----------+-----------+----+------+-----------------+----------+--------+--------+-----------+-----+---------+------------+------------------+--------------------+-----------+----------+-----------+----------+---------------+-----------+---------------+----------+-----------+----------+------------------+--------+---------+-------------+---------+------------+----------+----------------+-----------+--------------+------------+------------+\n",
      "|                0|mercury|      gas|     turbo|  [two,four]| hatchback|         rwd|          front|     102.7| 178.4| 68.0|  54.8|       2910|        ohc|            four|        140|       mpfi|3.78|  3.12|              8.0|       175|    5000|      19|         24|16503|        1|        21.0|        (21,[],[])|[0.0, 0.0, 0.0, 0...|        0.0|       0.0|        0.0|       0.0|            0.0|        0.0|            0.0|       0.0|        0.0|       0.0|               0.0|     0.0|      0.0|          0.0|      0.0|         0.0|       0.0|             0.0|        0.0|           0.0|         0.0|        null|\n",
      "+-----------------+-------+---------+----------+------------+----------+------------+---------------+----------+------+-----+------+-----------+-----------+----------------+-----------+-----------+----+------+-----------------+----------+--------+--------+-----------+-----+---------+------------+------------------+--------------------+-----------+----------+-----------+----------+---------------+-----------+---------------+----------+-----------+----------+------------------+--------+---------+-------------+---------+------------+----------+----------------+-----------+--------------+------------+------------+\n",
      "\n"
     ]
    }
   ],
   "source": [
    "# Respuesta\n",
    "\n",
    "cars_encoded.where(F.col('make')=='mercury').show(1)"
   ]
  },
  {
   "cell_type": "markdown",
   "metadata": {},
   "source": [
    "\n",
    "\n",
    "Se aprecia cómo 'make_mercury' toma valor nulo. De hecho, siempre la última columna toma el valor nulo."
   ]
  },
  {
   "cell_type": "code",
   "execution_count": 80,
   "metadata": {},
   "outputs": [
    {
     "name": "stdout",
     "output_type": "stream",
     "text": [
      "+------------+\n",
      "|make_mercury|\n",
      "+------------+\n",
      "|        null|\n",
      "+------------+\n",
      "\n"
     ]
    }
   ],
   "source": [
    "# Respuesta\n",
    "\n",
    "cars_encoded.select('make_mercury').distinct().show()"
   ]
  },
  {
   "cell_type": "markdown",
   "metadata": {},
   "source": [
    "\n",
    "\n",
    "** ¿Por qué? **\n",
    "\n",
    "Porque OneHotEncoder supone que las columnas no nulas son las únicas categorías posibles para esa columna y por lo tanto, una de ellas es combinación lineal del resto. Por esta razón desestima la última de las categorías.\n",
    "\n",
    "Hay situaciones de selección de variables donde todas deben estar presentes. Veamos como forzar la aparición de esta categoría también."
   ]
  },
  {
   "cell_type": "code",
   "execution_count": 81,
   "metadata": {},
   "outputs": [
    {
     "name": "stdout",
     "output_type": "stream",
     "text": [
      "+-----------------+----------+---------+----------+------------+----------+------------+---------------+----------+------+-----+------+-----------+-----------+----------------+-----------+-----------+----+------+-----------------+----------+--------+--------+-----------+-----+---------+------------+------------------+--------------------+-----------+----------+-----------+----------+---------------+-----------+---------------+----------+-----------+----------+------------------+--------+---------+-------------+---------+------------+----------+----------------+-----------+--------------+------------+------------+\n",
      "|normalized_losses|      make|fuel_type|aspiration|num_of_doors|body_style|drive_wheels|engine_location|wheel_base|length|width|height|curb_weight|engine_type|num_of_cylinders|engine_size|fuel_system|bore|stroke|compression_ratio|horsepower|peak_rpm|city_mpg|highway_mpg|price|symboling|make_indexed|make_onehotencoder|make_activated_index|make_toyota|make_mazda|make_nissan|make_honda|make_mitsubishi|make_subaru|make_volkswagen|make_volvo|make_peugot|make_dodge|make_mercedes_benz|make_bmw|make_audi|make_plymouth|make_saab|make_porsche|make_isuzu|make_alfa_romero|make_jaguar|make_chevrolet|make_renault|make_mercury|\n",
      "+-----------------+----------+---------+----------+------------+----------+------------+---------------+----------+------+-----+------+-----------+-----------+----------------+-----------+-----------+----+------+-----------------+----------+--------+--------+-----------+-----+---------+------------+------------------+--------------------+-----------+----------+-----------+----------+---------------+-----------+---------------+----------+-----------+----------+------------------+--------+---------+-------------+---------+------------+----------+----------------+-----------+--------------+------------+------------+\n",
      "|              113|     mazda|      gas|       std|      [four]|     sedan|         fwd|          front|      93.1| 166.8| 64.2|  54.1|       1950|        ohc|            four|         91|       2bbl|3.08|  3.15|              9.0|        68|    5000|      31|         38| 7395|        1|         1.0|    (21,[1],[1.0])|[0.0, 1.0, 0.0, 0...|        0.0|       1.0|        0.0|       0.0|            0.0|        0.0|            0.0|       0.0|        0.0|       0.0|               0.0|     0.0|      0.0|          0.0|      0.0|         0.0|       0.0|             0.0|        0.0|           0.0|         0.0|         0.0|\n",
      "|               87|    toyota|      gas|       std|  [two,four]| hatchback|         fwd|          front|      95.7| 158.7| 63.6|  54.5|       1985|        ohc|            four|         92|       2bbl|3.05|  3.03|              9.0|        62|    4800|      35|         39| 5348|        1|         0.0|    (21,[0],[1.0])|[1.0, 0.0, 0.0, 0...|        1.0|       0.0|        0.0|       0.0|            0.0|        0.0|            0.0|       0.0|        0.0|       0.0|               0.0|     0.0|      0.0|          0.0|      0.0|         0.0|       0.0|             0.0|        0.0|           0.0|         0.0|         0.0|\n",
      "|              125|mitsubishi|      gas|       std|      [four]|     sedan|         fwd|          front|      96.3| 172.4| 65.4|  51.6|       2365|        ohc|            four|        122|       2bbl|3.35|  3.46|              8.5|        88|    5000|      25|         32| 6989|        1|         4.0|    (21,[4],[1.0])|[0.0, 0.0, 0.0, 0...|        0.0|       0.0|        0.0|       0.0|            1.0|        0.0|            0.0|       0.0|        0.0|       0.0|               0.0|     0.0|      0.0|          0.0|      0.0|         0.0|       0.0|             0.0|        0.0|           0.0|         0.0|         0.0|\n",
      "|              148|     dodge|      gas|     turbo|      [four]|     sedan|         fwd|          front|      93.7| 157.3| 63.8|  50.6|       2191|        ohc|            four|         98|       mpfi|3.03|  3.39|              7.6|       102|    5500|      24|         30| 8558|        1|         9.0|    (21,[9],[1.0])|[0.0, 0.0, 0.0, 0...|        0.0|       0.0|        0.0|       0.0|            0.0|        0.0|            0.0|       0.0|        0.0|       1.0|               0.0|     0.0|      0.0|          0.0|      0.0|         0.0|       0.0|             0.0|        0.0|           0.0|         0.0|         0.0|\n",
      "|              150|     mazda|      gas|       std|  [two,four]| hatchback|         rwd|          front|      95.3| 169.0| 65.7|  49.6|       2380|      rotor|             two|         70|       4bbl| 0.0|   0.0|              9.4|       101|    6000|      17|         23|11845|        3|         1.0|    (21,[1],[1.0])|[0.0, 1.0, 0.0, 0...|        0.0|       1.0|        0.0|       0.0|            0.0|        0.0|            0.0|       0.0|        0.0|       0.0|               0.0|     0.0|      0.0|          0.0|      0.0|         0.0|       0.0|             0.0|        0.0|           0.0|         0.0|         0.0|\n",
      "|              194|    nissan|      gas|     turbo|  [two,four]| hatchback|         rwd|          front|      91.3| 170.7| 67.9|  49.7|       3139|       ohcv|             six|        181|       mpfi|3.43|  3.27|              7.8|       200|    5200|      17|         23|19699|        3|         2.0|    (21,[2],[1.0])|[0.0, 0.0, 1.0, 0...|        0.0|       0.0|        1.0|       0.0|            0.0|        0.0|            0.0|       0.0|        0.0|       0.0|               0.0|     0.0|      0.0|          0.0|      0.0|         0.0|       0.0|             0.0|        0.0|           0.0|         0.0|         0.0|\n",
      "|                0|    jaguar|      gas|       std|  [two,four]|     sedan|         rwd|          front|     102.0| 191.7| 70.6|  47.8|       3950|       ohcv|          twelve|        326|       mpfi|3.54|  2.76|             11.5|       262|    5000|      13|         17|36000|        0|        18.0|   (21,[18],[1.0])|[0.0, 0.0, 0.0, 0...|        0.0|       0.0|        0.0|       0.0|            0.0|        0.0|            0.0|       0.0|        0.0|       0.0|               0.0|     0.0|      0.0|          0.0|      0.0|         0.0|       0.0|             0.0|        1.0|           0.0|         0.0|         0.0|\n",
      "|              128|    nissan|      gas|       std|      [four]|     sedan|         fwd|          front|     100.4| 181.7| 66.5|  55.1|       3095|       ohcv|             six|        181|       mpfi|3.43|  3.27|              9.0|       152|    5200|      17|         22|13499|        0|         2.0|    (21,[2],[1.0])|[0.0, 0.0, 1.0, 0...|        0.0|       0.0|        1.0|       0.0|            0.0|        0.0|            0.0|       0.0|        0.0|       0.0|               0.0|     0.0|      0.0|          0.0|      0.0|         0.0|       0.0|             0.0|        0.0|           0.0|         0.0|         0.0|\n",
      "|              161|    peugot|   diesel|     turbo|      [four]|     sedan|         rwd|          front|     107.9| 186.7| 68.4|  56.7|       3252|          l|            four|        152|        idi| 3.7|  3.52|             21.0|        95|    4150|      28|         33|16900|        0|         8.0|    (21,[8],[1.0])|[0.0, 0.0, 0.0, 0...|        0.0|       0.0|        0.0|       0.0|            0.0|        0.0|            0.0|       0.0|        1.0|       0.0|               0.0|     0.0|      0.0|          0.0|      0.0|         0.0|       0.0|             0.0|        0.0|           0.0|         0.0|         0.0|\n",
      "|              115|     mazda|      gas|       std|      [four]|     sedan|         fwd|          front|      98.8| 177.8| 66.5|  55.5|       2410|        ohc|            four|        122|       2bbl|3.39|  3.39|              8.6|        84|    4800|      26|         32| 8495|        0|         1.0|    (21,[1],[1.0])|[0.0, 1.0, 0.0, 0...|        0.0|       1.0|        0.0|       0.0|            0.0|        0.0|            0.0|       0.0|        0.0|       0.0|               0.0|     0.0|      0.0|          0.0|      0.0|         0.0|       0.0|             0.0|        0.0|           0.0|         0.0|         0.0|\n",
      "|              192|       bmw|      gas|       std|      [four]|     sedan|         rwd|          front|     101.2| 176.8| 64.8|  54.3|       2395|        ohc|            four|        108|       mpfi| 3.5|   2.8|              8.8|       101|    5800|      23|         29|16925|        0|        11.0|   (21,[11],[1.0])|[0.0, 0.0, 0.0, 0...|        0.0|       0.0|        0.0|       0.0|            0.0|        0.0|            0.0|       0.0|        0.0|       0.0|               0.0|     1.0|      0.0|          0.0|      0.0|         0.0|       0.0|             0.0|        0.0|           0.0|         0.0|         0.0|\n",
      "|              168|    nissan|      gas|       std|  [two,four]|   hardtop|         fwd|          front|      95.1| 162.4| 63.8|  53.3|       2008|        ohc|            four|         97|       2bbl|3.15|  3.29|              9.4|        69|    5200|      31|         37| 8249|        2|         2.0|    (21,[2],[1.0])|[0.0, 0.0, 1.0, 0...|        0.0|       0.0|        1.0|       0.0|            0.0|        0.0|            0.0|       0.0|        0.0|       0.0|               0.0|     0.0|      0.0|          0.0|      0.0|         0.0|       0.0|             0.0|        0.0|           0.0|         0.0|         0.0|\n",
      "|              161|mitsubishi|      gas|       std|  [two,four]| hatchback|         fwd|          front|      93.7| 157.3| 64.4|  50.8|       1918|        ohc|            four|         92|       2bbl|2.97|  3.23|              9.4|        68|    5500|      37|         41| 5389|        2|         4.0|    (21,[4],[1.0])|[0.0, 0.0, 0.0, 0...|        0.0|       0.0|        0.0|       0.0|            1.0|        0.0|            0.0|       0.0|        0.0|       0.0|               0.0|     0.0|      0.0|          0.0|      0.0|         0.0|       0.0|             0.0|        0.0|           0.0|         0.0|         0.0|\n",
      "|              110|     dodge|      gas|       std|      [four]|     wagon|         fwd|          front|     103.3| 174.6| 64.6|  59.8|       2535|        ohc|            four|        122|       2bbl|3.34|  3.46|              8.5|        88|    5000|      24|         30| 8921|       -1|         9.0|    (21,[9],[1.0])|[0.0, 0.0, 0.0, 0...|        0.0|       0.0|        0.0|       0.0|            0.0|        0.0|            0.0|       0.0|        0.0|       1.0|               0.0|     0.0|      0.0|          0.0|      0.0|         0.0|       0.0|             0.0|        0.0|           0.0|         0.0|         0.0|\n",
      "|               65|    toyota|      gas|       std|      [four]| hatchback|         fwd|          front|     102.4| 175.6| 66.5|  53.9|       2458|        ohc|            four|        122|       mpfi|3.31|  3.54|              8.7|        92|    4200|      27|         32|11248|       -1|         0.0|    (21,[0],[1.0])|[1.0, 0.0, 0.0, 0...|        1.0|       0.0|        0.0|       0.0|            0.0|        0.0|            0.0|       0.0|        0.0|       0.0|               0.0|     0.0|      0.0|          0.0|      0.0|         0.0|       0.0|             0.0|        0.0|           0.0|         0.0|         0.0|\n",
      "|                0|  plymouth|      gas|     turbo|  [two,four]| hatchback|         rwd|          front|      95.9| 173.2| 66.3|  50.2|       2818|        ohc|            four|        156|       spdi|3.59|  3.86|              7.0|       145|    5000|      19|         24|12764|        3|        13.0|   (21,[13],[1.0])|[0.0, 0.0, 0.0, 0...|        0.0|       0.0|        0.0|       0.0|            0.0|        0.0|            0.0|       0.0|        0.0|       0.0|               0.0|     0.0|      0.0|          1.0|      0.0|         0.0|       0.0|             0.0|        0.0|           0.0|         0.0|         0.0|\n",
      "|                0|       bmw|      gas|       std|      [four]|     sedan|         rwd|          front|     103.5| 189.0| 66.9|  55.7|       3230|        ohc|             six|        209|       mpfi|3.62|  3.39|              8.0|       182|    5400|      16|         22|30760|        0|        11.0|   (21,[11],[1.0])|[0.0, 0.0, 0.0, 0...|        0.0|       0.0|        0.0|       0.0|            0.0|        0.0|            0.0|       0.0|        0.0|       0.0|               0.0|     1.0|      0.0|          0.0|      0.0|         0.0|       0.0|             0.0|        0.0|           0.0|         0.0|         0.0|\n",
      "|              161|    peugot|      gas|     turbo|      [four]|     sedan|         rwd|          front|     108.0| 186.7| 68.3|  56.0|       3130|          l|            four|        134|       mpfi|3.61|  3.21|              7.0|       142|    5600|      18|         24|18150|        0|         8.0|    (21,[8],[1.0])|[0.0, 0.0, 0.0, 0...|        0.0|       0.0|        0.0|       0.0|            0.0|        0.0|            0.0|       0.0|        1.0|       0.0|               0.0|     0.0|      0.0|          0.0|      0.0|         0.0|       0.0|             0.0|        0.0|           0.0|         0.0|         0.0|\n",
      "|                0|     isuzu|      gas|       std|  [two,four]|     sedan|         fwd|          front|      94.5| 155.9| 63.6|  52.0|       1874|        ohc|            four|         90|       2bbl|3.03|  3.11|              9.6|        70|    5400|      38|         43|    0|        1|        16.0|   (21,[16],[1.0])|[0.0, 0.0, 0.0, 0...|        0.0|       0.0|        0.0|       0.0|            0.0|        0.0|            0.0|       0.0|        0.0|       0.0|               0.0|     0.0|      0.0|          0.0|      0.0|         0.0|       1.0|             0.0|        0.0|           0.0|         0.0|         0.0|\n",
      "|                0|   mercury|      gas|     turbo|  [two,four]| hatchback|         rwd|          front|     102.7| 178.4| 68.0|  54.8|       2910|        ohc|            four|        140|       mpfi|3.78|  3.12|              8.0|       175|    5000|      19|         24|16503|        1|        21.0|        (21,[],[])|[0.0, 0.0, 0.0, 0...|        0.0|       0.0|        0.0|       0.0|            0.0|        0.0|            0.0|       0.0|        0.0|       0.0|               0.0|     0.0|      0.0|          0.0|      0.0|         0.0|       0.0|             0.0|        0.0|           0.0|         0.0|         1.0|\n",
      "+-----------------+----------+---------+----------+------------+----------+------------+---------------+----------+------+-----+------+-----------+-----------+----------------+-----------+-----------+----+------+-----------------+----------+--------+--------+-----------+-----+---------+------------+------------------+--------------------+-----------+----------+-----------+----------+---------------+-----------+---------------+----------+-----------+----------+------------------+--------+---------+-------------+---------+------------+----------+----------------+-----------+--------------+------------+------------+\n",
      "only showing top 20 rows\n",
      "\n"
     ]
    }
   ],
   "source": [
    "# Respuesta\n",
    "\n",
    "cars_encoded = (cars_encoded.withColumn(cars_encoded.columns[-1], \n",
    "                F.udf(lambda value: 1.0 if value == vocab[-1] else 0.0, DoubleType())(F.col('make'))))\n",
    "\n",
    "\n",
    "cars_encoded.show()"
   ]
  },
  {
   "cell_type": "code",
   "execution_count": 82,
   "metadata": {},
   "outputs": [
    {
     "name": "stdout",
     "output_type": "stream",
     "text": [
      "+------------+\n",
      "|make_mercury|\n",
      "+------------+\n",
      "|         0.0|\n",
      "|         1.0|\n",
      "+------------+\n",
      "\n"
     ]
    }
   ],
   "source": [
    "# Respuesta\n",
    "\n",
    "cars_encoded.select('make_mercury').distinct().show()"
   ]
  }
 ],
 "metadata": {
  "@webio": {
   "lastCommId": "a88f7c65367e4ba1b777c804c9dd54ab",
   "lastKernelId": "79d7fa59-cf24-45bc-9206-49fb54721564"
  },
  "kernelspec": {
   "display_name": "Python 3",
   "language": "python",
   "name": "python3"
  },
  "language_info": {
   "codemirror_mode": {
    "name": "ipython",
    "version": 3
   },
   "file_extension": ".py",
   "mimetype": "text/x-python",
   "name": "python",
   "nbconvert_exporter": "python",
   "pygments_lexer": "ipython3",
   "version": "3.6.5"
  },
  "toc": {
   "base_numbering": 1,
   "nav_menu": {},
   "number_sections": true,
   "sideBar": true,
   "skip_h1_title": false,
   "title_cell": "Table of Contents",
   "title_sidebar": "Contents",
   "toc_cell": false,
   "toc_position": {},
   "toc_section_display": true,
   "toc_window_display": false
  }
 },
 "nbformat": 4,
 "nbformat_minor": 2
}
