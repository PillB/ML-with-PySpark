{
 "cells": [
  {
   "cell_type": "code",
   "execution_count": 1,
   "metadata": {
    "collapsed": true
   },
   "outputs": [],
   "source": [
    "SANDBOX_NAME = 'fesc' # Sandbox Name\n",
    "DATA_PATH = \"/data/sandboxes/\"+SANDBOX_NAME+\"/data/\""
   ]
  },
  {
   "cell_type": "markdown",
   "metadata": {
    "colab_type": "text",
    "id": "AnPfgkrbcqOJ"
   },
   "source": [
    "\n",
    "\n",
    "# Spark ML Clustering\n",
    "\n",
    "Haremos un **Análisis RFM** antes de aplicar un algoritmo de clustering.\n",
    "\n",
    "**RFM** es un método usado para analizar el valor del cliente. Es habitualmente utilizado en bases de datos de marketing y marketing directo y recibe atención especial en los sectores de retail y servicios.\n",
    "\n",
    "Las siglas RFM significan las tres dimensiones:\n",
    "\n",
    "* Recency - *¿Cuánto tiempo hace desde la última compra del cliente?*\n",
    "\n",
    "* Frequency - *¿Con qué frecuencia compra el cliente?*\n",
    "\n",
    "* Monetary Value - *¿Cuánto gasta el cliente?*\n",
    "\n",
    "RFM (customer value). (s.f.). En *Wikipedia*. Recuperado el 29 de Enero de 2019 de [https://en.wikipedia.org/wiki/RFM_(customer_value)](https://en.wikipedia.org/wiki/RFM_(customer_value))"
   ]
  },
  {
   "cell_type": "markdown",
   "metadata": {
    "colab_type": "text",
    "id": "iHEKx6EWqjlM"
   },
   "source": [
    "\n",
    "\n",
    "### Crear SparkSession"
   ]
  },
  {
   "cell_type": "code",
   "execution_count": 2,
   "metadata": {
    "colab": {},
    "colab_type": "code",
    "collapsed": true,
    "id": "GmYco4sAqjlO"
   },
   "outputs": [],
   "source": [
    "# Respuesta\n",
    "\n",
    "from pyspark.sql import SparkSession\n",
    "\n",
    "spark = SparkSession.builder.getOrCreate()"
   ]
  },
  {
   "cell_type": "markdown",
   "metadata": {
    "colab_type": "text",
    "id": "3wbE4kPyqjlS"
   },
   "source": [
    "\n",
    "\n",
    "### Cargar datos y comprobar schema\n",
    "\n",
    "En este caso se utilizará el dataset 'Online Retail.csv'"
   ]
  },
  {
   "cell_type": "code",
   "execution_count": 3,
   "metadata": {
    "colab": {},
    "colab_type": "code",
    "id": "HkpQAw0ZqjlU"
   },
   "outputs": [
    {
     "name": "stdout",
     "output_type": "stream",
     "text": [
      "root\n",
      " |-- InvoiceNo: string (nullable = true)\n",
      " |-- StockCode: string (nullable = true)\n",
      " |-- Description: string (nullable = true)\n",
      " |-- Quantity: integer (nullable = true)\n",
      " |-- InvoiceDate: string (nullable = true)\n",
      " |-- UnitPrice: string (nullable = true)\n",
      " |-- CustomerID: integer (nullable = true)\n",
      " |-- Country: string (nullable = true)\n",
      "\n"
     ]
    }
   ],
   "source": [
    "# Respuesta\n",
    "\n",
    "sales = spark.read.csv(DATA_PATH+'data/Online Retail.csv', sep='|', header=True, inferSchema=True)\n",
    "\n",
    "sales.printSchema()"
   ]
  },
  {
   "cell_type": "code",
   "execution_count": 4,
   "metadata": {
    "colab": {},
    "colab_type": "code",
    "id": "t2qOEHj1qjlX"
   },
   "outputs": [
    {
     "name": "stdout",
     "output_type": "stream",
     "text": [
      "+---------+---------+--------------------+--------+---------------+---------+----------+--------------+\n",
      "|InvoiceNo|StockCode|         Description|Quantity|    InvoiceDate|UnitPrice|CustomerID|       Country|\n",
      "+---------+---------+--------------------+--------+---------------+---------+----------+--------------+\n",
      "|   536365|   85123A|WHITE HANGING HEA...|       6|01/12/2010 8:26|     2,55|     17850|United Kingdom|\n",
      "|   536365|    71053| WHITE METAL LANTERN|       6|01/12/2010 8:26|     3,39|     17850|United Kingdom|\n",
      "|   536365|   84406B|CREAM CUPID HEART...|       8|01/12/2010 8:26|     2,75|     17850|United Kingdom|\n",
      "|   536365|   84029G|KNITTED UNION FLA...|       6|01/12/2010 8:26|     3,39|     17850|United Kingdom|\n",
      "|   536365|   84029E|RED WOOLLY HOTTIE...|       6|01/12/2010 8:26|     3,39|     17850|United Kingdom|\n",
      "+---------+---------+--------------------+--------+---------------+---------+----------+--------------+\n",
      "only showing top 5 rows\n",
      "\n"
     ]
    }
   ],
   "source": [
    "# Respuesta\n",
    "\n",
    "sales.show(5)"
   ]
  },
  {
   "cell_type": "markdown",
   "metadata": {
    "colab_type": "text",
    "id": "0ix4iS8kuhVj"
   },
   "source": [
    "\n",
    "\n",
    "#### Pasos previos\n",
    "\n",
    "* Modificamos los tipos de las columnas CustomerID y de UnitPrice. Luego agrupamos por país y vemos las operaciones realizadas."
   ]
  },
  {
   "cell_type": "code",
   "execution_count": 5,
   "metadata": {
    "colab": {},
    "colab_type": "code",
    "id": "5uk7lfC9uamd"
   },
   "outputs": [
    {
     "name": "stdout",
     "output_type": "stream",
     "text": [
      "root\n",
      " |-- InvoiceNo: string (nullable = true)\n",
      " |-- StockCode: string (nullable = true)\n",
      " |-- Description: string (nullable = true)\n",
      " |-- Quantity: integer (nullable = true)\n",
      " |-- InvoiceDate: string (nullable = true)\n",
      " |-- UnitPrice: float (nullable = true)\n",
      " |-- CustomerID: string (nullable = true)\n",
      " |-- Country: string (nullable = true)\n",
      "\n"
     ]
    }
   ],
   "source": [
    "# Respuesta\n",
    "\n",
    "from pyspark.sql.types import StringType, FloatType\n",
    "import pyspark.sql.functions as F\n",
    "\n",
    "sales = sales.withColumn('CustomerID', sales.CustomerID.astype(StringType()))\n",
    "sales = sales.withColumn('UnitPrice', F.udf(lambda value: float(value.strip().replace(',','.')), FloatType())(F.col('UnitPrice')))\n",
    "\n",
    "sales.printSchema()"
   ]
  },
  {
   "cell_type": "code",
   "execution_count": 6,
   "metadata": {
    "colab": {},
    "colab_type": "code",
    "id": "kZ69sF4RzDy8"
   },
   "outputs": [
    {
     "data": {
      "text/plain": [
       "541909"
      ]
     },
     "execution_count": 6,
     "metadata": {},
     "output_type": "execute_result"
    }
   ],
   "source": [
    "# Respuesta\n",
    "\n",
    "sales.count()"
   ]
  },
  {
   "cell_type": "code",
   "execution_count": 7,
   "metadata": {
    "colab": {},
    "colab_type": "code",
    "id": "rx4-Y2Gc11sp"
   },
   "outputs": [
    {
     "name": "stdout",
     "output_type": "stream",
     "text": [
      "+---------------+------+\n",
      "|        Country| count|\n",
      "+---------------+------+\n",
      "| United Kingdom|495478|\n",
      "|        Germany|  9495|\n",
      "|         France|  8557|\n",
      "|           EIRE|  8196|\n",
      "|          Spain|  2533|\n",
      "|    Netherlands|  2371|\n",
      "|        Belgium|  2069|\n",
      "|    Switzerland|  2002|\n",
      "|       Portugal|  1519|\n",
      "|      Australia|  1259|\n",
      "|         Norway|  1086|\n",
      "|          Italy|   803|\n",
      "|Channel Islands|   758|\n",
      "|        Finland|   695|\n",
      "|         Cyprus|   622|\n",
      "|         Sweden|   462|\n",
      "|    Unspecified|   446|\n",
      "|        Austria|   401|\n",
      "|        Denmark|   389|\n",
      "|          Japan|   358|\n",
      "+---------------+------+\n",
      "only showing top 20 rows\n",
      "\n"
     ]
    }
   ],
   "source": [
    "# Respuesta\n",
    "\n",
    "sales.groupBy(\"Country\").count().orderBy('count', ascending=False).show()"
   ]
  },
  {
   "cell_type": "markdown",
   "metadata": {
    "colab_type": "text",
    "id": "MeYotkcQx3Os"
   },
   "source": [
    "\n",
    "\n",
    "* Vemos que la mayoría del histórico de los datos están en Reino Unido, restringimos los datos solo a los clientes de Reino Unido."
   ]
  },
  {
   "cell_type": "code",
   "execution_count": 8,
   "metadata": {
    "colab": {},
    "colab_type": "code",
    "id": "5xUvKzYRyrSe"
   },
   "outputs": [
    {
     "data": {
      "text/plain": [
       "495478"
      ]
     },
     "execution_count": 8,
     "metadata": {},
     "output_type": "execute_result"
    }
   ],
   "source": [
    "# Respuesta\n",
    "\n",
    "sales_uk = sales[sales['Country']=='United Kingdom']\n",
    "\n",
    "sales_uk.count()"
   ]
  },
  {
   "cell_type": "markdown",
   "metadata": {
    "colab_type": "text",
    "id": "CBLLMa_Mqjln"
   },
   "source": [
    "\n",
    "\n",
    "* Eliminar todos los nulos"
   ]
  },
  {
   "cell_type": "code",
   "execution_count": 9,
   "metadata": {},
   "outputs": [
    {
     "data": {
      "text/plain": [
       "361878"
      ]
     },
     "execution_count": 9,
     "metadata": {},
     "output_type": "execute_result"
    }
   ],
   "source": [
    "# Respuesta\n",
    "        \n",
    "for element in sales_uk.columns:\n",
    "    sales_uk = sales_uk.where(F.col(element).isNotNull())\n",
    "\n",
    "# sales_uk = sales_uk.dropna() # Here is another option, instead of the for loop.\n",
    " \n",
    "sales_uk.count()"
   ]
  },
  {
   "cell_type": "markdown",
   "metadata": {
    "colab_type": "text",
    "id": "llBMwd7w3l4t"
   },
   "source": [
    "\n",
    "\n",
    "* Eliminar pedidos cancelados. Es decir, debemos quedarnos con aquellos registros donde la columna \"Quantity\" sea mayor que cero."
   ]
  },
  {
   "cell_type": "code",
   "execution_count": 10,
   "metadata": {
    "colab": {},
    "colab_type": "code",
    "id": "QrLMX0ty3xFN"
   },
   "outputs": [
    {
     "data": {
      "text/plain": [
       "354345"
      ]
     },
     "execution_count": 10,
     "metadata": {},
     "output_type": "execute_result"
    }
   ],
   "source": [
    "# Respuesta\n",
    "\n",
    "sales_uk = sales_uk[sales_uk['Quantity']>0]\n",
    "\n",
    "sales_uk.count()"
   ]
  },
  {
   "cell_type": "markdown",
   "metadata": {
    "colab_type": "text",
    "id": "bVEWwwmMhQl8"
   },
   "source": [
    "\n",
    "\n",
    "* Añadimos la columna precio total, debe llamarse \"TotalPrice\". Debe ser \"Quantity\" x \"UnitPrice\" "
   ]
  },
  {
   "cell_type": "code",
   "execution_count": 11,
   "metadata": {
    "colab": {},
    "colab_type": "code",
    "id": "me7tYbxehM6L"
   },
   "outputs": [
    {
     "name": "stdout",
     "output_type": "stream",
     "text": [
      "+---------+---------+--------------------+--------+---------------+---------+----------+--------------+----------+\n",
      "|InvoiceNo|StockCode|         Description|Quantity|    InvoiceDate|UnitPrice|CustomerID|       Country|TotalPrice|\n",
      "+---------+---------+--------------------+--------+---------------+---------+----------+--------------+----------+\n",
      "|   536365|   85123A|WHITE HANGING HEA...|       6|01/12/2010 8:26|     2.55|     17850|United Kingdom|      15.3|\n",
      "|   536365|    71053| WHITE METAL LANTERN|       6|01/12/2010 8:26|     3.39|     17850|United Kingdom|     20.34|\n",
      "|   536365|   84406B|CREAM CUPID HEART...|       8|01/12/2010 8:26|     2.75|     17850|United Kingdom|      22.0|\n",
      "|   536365|   84029G|KNITTED UNION FLA...|       6|01/12/2010 8:26|     3.39|     17850|United Kingdom|     20.34|\n",
      "|   536365|   84029E|RED WOOLLY HOTTIE...|       6|01/12/2010 8:26|     3.39|     17850|United Kingdom|     20.34|\n",
      "+---------+---------+--------------------+--------+---------------+---------+----------+--------------+----------+\n",
      "only showing top 5 rows\n",
      "\n"
     ]
    }
   ],
   "source": [
    "# Respuesta\n",
    "\n",
    "sales_uk = sales_uk.withColumn('TotalPrice', F.round(sales_uk.Quantity * sales_uk.UnitPrice,2))\n",
    "\n",
    "sales_uk.show(5)"
   ]
  },
  {
   "cell_type": "markdown",
   "metadata": {
    "colab_type": "text",
    "id": "vu5y8hXt60cd"
   },
   "source": [
    "\n",
    "\n",
    "* Creamos una nueva columna, de formato _timestamp_, en base a la columna InvoiceDate "
   ]
  },
  {
   "cell_type": "code",
   "execution_count": 12,
   "metadata": {
    "colab": {},
    "colab_type": "code",
    "id": "eC2WKkXF606Z"
   },
   "outputs": [
    {
     "name": "stdout",
     "output_type": "stream",
     "text": [
      "+---------+---------+--------------------+--------+---------------+---------+----------+--------------+----------+--------------------+\n",
      "|InvoiceNo|StockCode|         Description|Quantity|    InvoiceDate|UnitPrice|CustomerID|       Country|TotalPrice|      NewInvoiceDate|\n",
      "+---------+---------+--------------------+--------+---------------+---------+----------+--------------+----------+--------------------+\n",
      "|   536365|   85123A|WHITE HANGING HEA...|       6|01/12/2010 8:26|     2.55|     17850|United Kingdom|      15.3|2010-12-01 08:26:...|\n",
      "|   536365|    71053| WHITE METAL LANTERN|       6|01/12/2010 8:26|     3.39|     17850|United Kingdom|     20.34|2010-12-01 08:26:...|\n",
      "|   536365|   84406B|CREAM CUPID HEART...|       8|01/12/2010 8:26|     2.75|     17850|United Kingdom|      22.0|2010-12-01 08:26:...|\n",
      "|   536365|   84029G|KNITTED UNION FLA...|       6|01/12/2010 8:26|     3.39|     17850|United Kingdom|     20.34|2010-12-01 08:26:...|\n",
      "|   536365|   84029E|RED WOOLLY HOTTIE...|       6|01/12/2010 8:26|     3.39|     17850|United Kingdom|     20.34|2010-12-01 08:26:...|\n",
      "+---------+---------+--------------------+--------+---------------+---------+----------+--------------+----------+--------------------+\n",
      "only showing top 5 rows\n",
      "\n"
     ]
    }
   ],
   "source": [
    "# Respuesta\n",
    "\n",
    "from pyspark.sql.functions import to_utc_timestamp, unix_timestamp, lit, datediff, col\n",
    "\n",
    "sales_uk = sales_uk.withColumn('NewInvoiceDate',\n",
    "                               to_utc_timestamp(unix_timestamp(col('InvoiceDate'),\n",
    "                                          \"dd/MM/yy HH:mm\").cast('timestamp'), 'UTC'))\n",
    "sales_uk.show(5)"
   ]
  },
  {
   "cell_type": "markdown",
   "metadata": {
    "colab_type": "text",
    "id": "KNYycTGNAylI"
   },
   "source": [
    "\n",
    "\n",
    "* Cálculo de Recency. Para el cálculo de recency asumimos que la fecha actual es el 30/12/2011"
   ]
  },
  {
   "cell_type": "code",
   "execution_count": 13,
   "metadata": {
    "colab": {},
    "colab_type": "code",
    "collapsed": true,
    "id": "Dmv9B31-BK1Y"
   },
   "outputs": [],
   "source": [
    "# Respuesta\n",
    "\n",
    "current_ts = to_utc_timestamp( unix_timestamp(lit('30/12/2011 00:00'), \\\n",
    "                              \"dd/MM/yy HH:mm\").cast('timestamp'), 'UTC' )\n",
    "\n",
    "sales_uk = sales_uk.withColumn('DaysBefore', datediff(lit(current_ts), 'NewInvoiceDate' ))\n",
    "\n",
    "recency_df = sales_uk.groupBy('CustomerID').agg(F.min(sales_uk.DaysBefore).alias('Recency'))"
   ]
  },
  {
   "cell_type": "code",
   "execution_count": 14,
   "metadata": {
    "colab": {},
    "colab_type": "code",
    "id": "Di044-3ll220"
   },
   "outputs": [
    {
     "name": "stdout",
     "output_type": "stream",
     "text": [
      "+---------+---------+--------------------+--------+---------------+---------+----------+--------------+----------+--------------------+----------+\n",
      "|InvoiceNo|StockCode|         Description|Quantity|    InvoiceDate|UnitPrice|CustomerID|       Country|TotalPrice|      NewInvoiceDate|DaysBefore|\n",
      "+---------+---------+--------------------+--------+---------------+---------+----------+--------------+----------+--------------------+----------+\n",
      "|   581475|    23239|SET OF 4 KNICK KN...|       6|09/12/2011 8:39|     1.65|     13069|United Kingdom|       9.9|2011-12-09 08:39:...|        21|\n",
      "|   581475|    23235|STORAGE TIN VINTA...|      12|09/12/2011 8:39|     1.25|     13069|United Kingdom|      15.0|2011-12-09 08:39:...|        21|\n",
      "|   581475|    23272|TREE T-LIGHT HOLD...|      12|09/12/2011 8:39|     0.39|     13069|United Kingdom|      4.68|2011-12-09 08:39:...|        21|\n",
      "|   581475|    22596|CHRISTMAS STAR WI...|      36|09/12/2011 8:39|     0.39|     13069|United Kingdom|     14.04|2011-12-09 08:39:...|        21|\n",
      "|   581475|    22118|JOY WOODEN BLOCK ...|      18|09/12/2011 8:39|     1.25|     13069|United Kingdom|      22.5|2011-12-09 08:39:...|        21|\n",
      "+---------+---------+--------------------+--------+---------------+---------+----------+--------------+----------+--------------------+----------+\n",
      "only showing top 5 rows\n",
      "\n"
     ]
    }
   ],
   "source": [
    "sales_uk.orderBy('DaysBefore', ascending=True).show(5)"
   ]
  },
  {
   "cell_type": "code",
   "execution_count": 16,
   "metadata": {
    "colab": {},
    "colab_type": "code",
    "id": "G7KpExYu2K0E"
   },
   "outputs": [
    {
     "data": {
      "text/plain": [
       "3921"
      ]
     },
     "execution_count": 16,
     "metadata": {},
     "output_type": "execute_result"
    }
   ],
   "source": [
    "# Respuesta\n",
    "\n",
    "recency_df.count()"
   ]
  },
  {
   "cell_type": "code",
   "execution_count": 17,
   "metadata": {
    "colab": {},
    "colab_type": "code",
    "id": "A8CNaRlJ2duO"
   },
   "outputs": [
    {
     "name": "stdout",
     "output_type": "stream",
     "text": [
      "+----------+-------+\n",
      "|CustomerID|Recency|\n",
      "+----------+-------+\n",
      "|     16250|    282|\n",
      "|     15574|    198|\n",
      "|     15555|     33|\n",
      "|     15271|     28|\n",
      "|     17714|    341|\n",
      "+----------+-------+\n",
      "only showing top 5 rows\n",
      "\n"
     ]
    }
   ],
   "source": [
    "# Respuesta\n",
    "\n",
    "recency_df.show(5)"
   ]
  },
  {
   "cell_type": "markdown",
   "metadata": {
    "colab_type": "text",
    "id": "GEYoTugg3krt"
   },
   "source": [
    "\n",
    "\n",
    "* Cálculo de Frequency."
   ]
  },
  {
   "cell_type": "code",
   "execution_count": 18,
   "metadata": {
    "colab": {},
    "colab_type": "code",
    "collapsed": true,
    "id": "S9GOr6F53pMR"
   },
   "outputs": [],
   "source": [
    "# Respuesta\n",
    "\n",
    "frequency_df = sales_uk.groupBy('CustomerID', 'InvoiceNo').count()  \\\n",
    "                      .groupBy('CustomerID')                       \\\n",
    "                      .agg(F.count(\"*\").alias(\"Frequency\"))"
   ]
  },
  {
   "cell_type": "code",
   "execution_count": 19,
   "metadata": {
    "colab": {},
    "colab_type": "code",
    "id": "tN0EaO6X3pbd"
   },
   "outputs": [
    {
     "data": {
      "text/plain": [
       "3921"
      ]
     },
     "execution_count": 19,
     "metadata": {},
     "output_type": "execute_result"
    }
   ],
   "source": [
    "# Respuesta\n",
    "\n",
    "frequency_df.count()"
   ]
  },
  {
   "cell_type": "markdown",
   "metadata": {
    "colab_type": "text",
    "id": "e6C1kZw033O6"
   },
   "source": [
    "\n",
    "\n",
    "* Cálculo de Monetary."
   ]
  },
  {
   "cell_type": "code",
   "execution_count": 20,
   "metadata": {
    "colab": {},
    "colab_type": "code",
    "collapsed": true,
    "id": "WgiUPu8J4nQv"
   },
   "outputs": [],
   "source": [
    "# Respuesta\n",
    "\n",
    "monetary_df = sales_uk.groupBy('CustomerID').agg(F.round(F.sum('TotalPrice'),2).alias('Monetary'))"
   ]
  },
  {
   "cell_type": "code",
   "execution_count": 21,
   "metadata": {
    "colab": {},
    "colab_type": "code",
    "id": "sYToH0-S4ngt"
   },
   "outputs": [
    {
     "name": "stdout",
     "output_type": "stream",
     "text": [
      "+----------+--------+\n",
      "|CustomerID|Monetary|\n",
      "+----------+--------+\n",
      "|     16250|  389.44|\n",
      "|     15574|  702.25|\n",
      "|     15555| 4805.17|\n",
      "|     15271| 2507.07|\n",
      "|     17714|   153.0|\n",
      "+----------+--------+\n",
      "only showing top 5 rows\n",
      "\n"
     ]
    }
   ],
   "source": [
    "# Respuesta\n",
    "\n",
    "monetary_df.show(5)"
   ]
  },
  {
   "cell_type": "code",
   "execution_count": 22,
   "metadata": {
    "colab": {},
    "colab_type": "code",
    "id": "VFZ8MxgD5egf"
   },
   "outputs": [
    {
     "data": {
      "text/plain": [
       "3921"
      ]
     },
     "execution_count": 22,
     "metadata": {},
     "output_type": "execute_result"
    }
   ],
   "source": [
    "# Respuesta\n",
    "monetary_df.count()"
   ]
  },
  {
   "cell_type": "markdown",
   "metadata": {
    "colab_type": "text",
    "id": "d-WTVA_R6QnY"
   },
   "source": [
    "\n",
    "\n",
    "* Unimos los valores de RFM por CustomerID"
   ]
  },
  {
   "cell_type": "code",
   "execution_count": 23,
   "metadata": {
    "colab": {},
    "colab_type": "code",
    "id": "PRb-cuhL6ZeC"
   },
   "outputs": [
    {
     "data": {
      "text/plain": [
       "DataFrame[CustomerID: string, Recency: int, Frequency: bigint, Monetary: double]"
      ]
     },
     "execution_count": 23,
     "metadata": {},
     "output_type": "execute_result"
    }
   ],
   "source": [
    "# Respuesta\n",
    "\n",
    "mf_df = monetary_df.join(frequency_df,                              \\\n",
    "      monetary_df.CustomerID == frequency_df.CustomerID, 'inner') \\\n",
    "      .drop(frequency_df.CustomerID)\n",
    "\n",
    "rfm_df =  mf_df.join(recency_df,                              \\\n",
    "        recency_df.CustomerID == mf_df.CustomerID, 'inner') \\\n",
    "        .drop(recency_df.CustomerID)\n",
    "\n",
    "rfm_df = rfm_df.select( 'CustomerID', 'Recency', 'Frequency', 'Monetary' )\n",
    "rfm_df.cache()"
   ]
  },
  {
   "cell_type": "code",
   "execution_count": 24,
   "metadata": {
    "colab": {},
    "colab_type": "code",
    "id": "w7FAf6J36Zsa"
   },
   "outputs": [
    {
     "name": "stdout",
     "output_type": "stream",
     "text": [
      "+----------+-------+---------+--------+\n",
      "|CustomerID|Recency|Frequency|Monetary|\n",
      "+----------+-------+---------+--------+\n",
      "|     12847|     43|        1|  871.54|\n",
      "|     13192|    116|        2|  911.94|\n",
      "|     13282|     39|        3| 1132.14|\n",
      "|     13610|     33|        7| 1131.88|\n",
      "|     13772|     54|        3| 1132.13|\n",
      "+----------+-------+---------+--------+\n",
      "only showing top 5 rows\n",
      "\n"
     ]
    }
   ],
   "source": [
    "rfm_df.show(5)"
   ]
  },
  {
   "cell_type": "markdown",
   "metadata": {
    "colab_type": "text",
    "id": "ziwGuyoAqjlx"
   },
   "source": [
    "\n",
    "\n",
    "* VectorAssembler con variables deseadas"
   ]
  },
  {
   "cell_type": "code",
   "execution_count": 25,
   "metadata": {
    "colab": {},
    "colab_type": "code",
    "id": "WwVioXCJqjly"
   },
   "outputs": [
    {
     "name": "stdout",
     "output_type": "stream",
     "text": [
      "+----------+-------+---------+--------+------------------+\n",
      "|CustomerID|Recency|Frequency|Monetary|assembled_features|\n",
      "+----------+-------+---------+--------+------------------+\n",
      "|     12847|     43|        1|  871.54| [43.0,1.0,871.54]|\n",
      "|     13192|    116|        2|  911.94|[116.0,2.0,911.94]|\n",
      "|     13282|     39|        3| 1132.14|[39.0,3.0,1132.14]|\n",
      "|     13610|     33|        7| 1131.88|[33.0,7.0,1131.88]|\n",
      "|     13772|     54|        3| 1132.13|[54.0,3.0,1132.13]|\n",
      "+----------+-------+---------+--------+------------------+\n",
      "only showing top 5 rows\n",
      "\n"
     ]
    }
   ],
   "source": [
    "# Respuesta\n",
    "\n",
    "from pyspark.ml.feature import VectorAssembler\n",
    "\n",
    "features_to_assemble = ['Recency', 'Frequency', 'Monetary']\n",
    "\n",
    "vector_assembler = VectorAssembler(inputCols = features_to_assemble, outputCol = 'assembled_features')\n",
    "\n",
    "rfm_df = vector_assembler.transform(rfm_df).cache()\n",
    "\n",
    "rfm_df.show(5)"
   ]
  },
  {
   "cell_type": "markdown",
   "metadata": {
    "colab_type": "text",
    "id": "xeDRNAqNE_jt"
   },
   "source": [
    "\n",
    "\n",
    "* StandardScaler con variables cuantitativas ('Recency', 'Frequency', 'Monetary')"
   ]
  },
  {
   "cell_type": "code",
   "execution_count": 26,
   "metadata": {
    "colab": {},
    "colab_type": "code",
    "id": "mrMj4JChGTlq"
   },
   "outputs": [],
   "source": [
    "# Respuesta\n",
    "\n",
    "from pyspark.ml.feature import StandardScaler\n",
    "\n",
    "standard_scaler = StandardScaler(inputCol='assembled_features', outputCol='features_scaled')\n",
    "standard_scaler_model = standard_scaler.fit(rfm_df)\n",
    "rfm_df = standard_scaler_model.transform(rfm_df)"
   ]
  },
  {
   "cell_type": "code",
   "execution_count": 27,
   "metadata": {
    "colab": {},
    "colab_type": "code",
    "id": "iMj6SYcnG1lA"
   },
   "outputs": [
    {
     "name": "stdout",
     "output_type": "stream",
     "text": [
      "+----------+-------+---------+--------+------------------+--------------------+\n",
      "|CustomerID|Recency|Frequency|Monetary|assembled_features|     features_scaled|\n",
      "+----------+-------+---------+--------+------------------+--------------------+\n",
      "|     12847|     43|        1|  871.54| [43.0,1.0,871.54]|[0.43203691518006...|\n",
      "|     13192|    116|        2|  911.94|[116.0,2.0,911.94]|[1.16549493397413...|\n",
      "|     13282|     39|        3| 1132.14|[39.0,3.0,1132.14]|[0.39184743469820...|\n",
      "|     13610|     33|        7| 1131.88|[33.0,7.0,1131.88]|[0.33156321397540...|\n",
      "|     13772|     54|        3| 1132.13|[54.0,3.0,1132.13]|[0.54255798650520...|\n",
      "+----------+-------+---------+--------+------------------+--------------------+\n",
      "only showing top 5 rows\n",
      "\n"
     ]
    }
   ],
   "source": [
    "rfm_df.show(5)"
   ]
  },
  {
   "cell_type": "markdown",
   "metadata": {
    "colab_type": "text",
    "id": "LHvMKXEnqjl1"
   },
   "source": [
    "\n",
    "\n",
    "### KMeans"
   ]
  },
  {
   "cell_type": "markdown",
   "metadata": {
    "colab_type": "text",
    "id": "sNH7ckgmqjl3"
   },
   "source": [
    "\n",
    "\n",
    "* Se debe estudiar cual es el mejor valor de K (utilizando el dataframe \"rfm_df\")"
   ]
  },
  {
   "cell_type": "code",
   "execution_count": 28,
   "metadata": {
    "colab": {},
    "colab_type": "code",
    "id": "VqovTf1Fqjl3"
   },
   "outputs": [
    {
     "name": "stderr",
     "output_type": "stream",
     "text": [
      "/opt/conda/lib/python3.5/site-packages/matplotlib/font_manager.py:273: UserWarning: Matplotlib is building the font cache using fc-list. This may take a moment.\n",
      "  warnings.warn('Matplotlib is building the font cache using fc-list. This may take a moment.')\n",
      "/opt/conda/lib/python3.5/site-packages/matplotlib/font_manager.py:273: UserWarning: Matplotlib is building the font cache using fc-list. This may take a moment.\n",
      "  warnings.warn('Matplotlib is building the font cache using fc-list. This may take a moment.')\n"
     ]
    },
    {
     "name": "stdout",
     "output_type": "stream",
     "text": [
      "2\n",
      "3\n",
      "4\n",
      "5\n",
      "6\n",
      "7\n",
      "8\n",
      "9\n",
      "10\n"
     ]
    }
   ],
   "source": [
    "# Respuesta\n",
    "\n",
    "from pyspark.ml.clustering import KMeans\n",
    "import matplotlib.pyplot as plt\n",
    "import seaborn as sns\n",
    "%matplotlib inline\n",
    "\n",
    "values_for_graph = []\n",
    "\n",
    "for k_value in range(2,11):\n",
    "    print(k_value)\n",
    "    \n",
    "    k_means = KMeans(featuresCol = 'features_scaled', k=k_value, seed=4)\n",
    "    k_means_model = k_means.fit(rfm_df)\n",
    "    cost = k_means_model.computeCost(rfm_df)\n",
    "    \n",
    "    values_for_graph.append((k_value, cost))"
   ]
  },
  {
   "cell_type": "code",
   "execution_count": 29,
   "metadata": {
    "colab": {},
    "colab_type": "code",
    "id": "cRzJP0ljqjl8"
   },
   "outputs": [
    {
     "data": {
      "text/plain": [
       "<matplotlib.text.Text at 0x7fc5fcc03748>"
      ]
     },
     "execution_count": 29,
     "metadata": {},
     "output_type": "execute_result"
    },
    {
     "data": {
      "image/png": "[encoded data removed]",
      "text/plain": [
       "<matplotlib.figure.Figure at 0x7fc5fcbfdb38>"
      ]
     },
     "metadata": {},
     "output_type": "display_data"
    }
   ],
   "source": [
    "# Respuesta\n",
    "\n",
    "sns.set()\n",
    "plt.plot([element[0] for element in values_for_graph], [element[1] for element in values_for_graph])\n",
    "plt.xlabel('k values')\n",
    "plt.ylabel('cost')\n",
    "plt.title('Choice of k')"
   ]
  },
  {
   "cell_type": "markdown",
   "metadata": {
    "colab_type": "text",
    "id": "qQDUq8MtqjmB"
   },
   "source": [
    "\n",
    "\n",
    "* La técnica del codo\n",
    "\n",
    "Es común realizar un gráfico 2D para saber qué valor de K elegir. Normalmente en las absisas se coloca el número de clusters y en la ordenadas se suele colocar un métrica  de costo que permita cuantificar la calidad de los clusters, por ejemplo: la suma de las distancias al cuadrado de los puntos al centro más cercano (ver la documentacion con el método _computeCost_).\n",
    "A mayor número de K, la métrica de costo tiene a disminuir. Se debe elegir aquel máximo valor de K tenga una disminución significativa del costo.\n",
    "\n",
    "En este caso particular se debería apreciar que pasar de K=7 a un K=8 disminuye a la mitad el costo. Sin embargo, aumentar el valor de K=9 no tiene un impacto significativo en el costo. Por estas razones deberíamos elegir K = 8."
   ]
  },
  {
   "cell_type": "code",
   "execution_count": 30,
   "metadata": {
    "colab": {},
    "colab_type": "code",
    "id": "OgWm7-LOqjmC"
   },
   "outputs": [
    {
     "name": "stdout",
     "output_type": "stream",
     "text": [
      "+----------+-------+---------+--------+------------------+--------------------+----------+\n",
      "|CustomerID|Recency|Frequency|Monetary|assembled_features|     features_scaled|prediction|\n",
      "+----------+-------+---------+--------+------------------+--------------------+----------+\n",
      "|     12847|     43|        1|  871.54| [43.0,1.0,871.54]|[0.43203691518006...|         0|\n",
      "|     13192|    116|        2|  911.94|[116.0,2.0,911.94]|[1.16549493397413...|         0|\n",
      "|     13282|     39|        3| 1132.14|[39.0,3.0,1132.14]|[0.39184743469820...|         0|\n",
      "|     13610|     33|        7| 1131.88|[33.0,7.0,1131.88]|[0.33156321397540...|         3|\n",
      "|     13772|     54|        3| 1132.13|[54.0,3.0,1132.13]|[0.54255798650520...|         0|\n",
      "+----------+-------+---------+--------+------------------+--------------------+----------+\n",
      "only showing top 5 rows\n",
      "\n"
     ]
    }
   ],
   "source": [
    "# Respuesta\n",
    "\n",
    "k_means = KMeans(featuresCol = 'features_scaled', k=8, seed=4)\n",
    "k_means_model = k_means.fit(rfm_df)\n",
    "sales_kmeans = k_means_model.transform(rfm_df)\n",
    "\n",
    "sales_kmeans.show(5)"
   ]
  },
  {
   "cell_type": "markdown",
   "metadata": {
    "colab_type": "text",
    "id": "HVEMXmd-LZT1"
   },
   "source": [
    "\n",
    "\n",
    "* Vemos la frecuencia de cada cluster."
   ]
  },
  {
   "cell_type": "code",
   "execution_count": 31,
   "metadata": {
    "colab": {},
    "colab_type": "code",
    "id": "dH2-k8l4qjmG"
   },
   "outputs": [
    {
     "name": "stdout",
     "output_type": "stream",
     "text": [
      "+----------+-----+\n",
      "|prediction|count|\n",
      "+----------+-----+\n",
      "|         0| 2034|\n",
      "|         1|  689|\n",
      "|         2|   17|\n",
      "|         3|  540|\n",
      "|         4|  539|\n",
      "|         5|    3|\n",
      "|         6|    6|\n",
      "|         7|   93|\n",
      "+----------+-----+\n",
      "\n"
     ]
    }
   ],
   "source": [
    "# Respuesta\n",
    "\n",
    "sales_kmeans.groupBy('prediction').count().orderBy('prediction').show()"
   ]
  },
  {
   "cell_type": "markdown",
   "metadata": {},
   "source": [
    "\n",
    "\n",
    "¿Qué piensa de los grupos y su distribución?"
   ]
  },
  {
   "cell_type": "markdown",
   "metadata": {
    "colab_type": "text",
    "id": "WUC3aAxPMG3A"
   },
   "source": [
    "\n",
    "\n",
    "* Calculamos la media de los valores de RFM para cada cluster."
   ]
  },
  {
   "cell_type": "code",
   "execution_count": 32,
   "metadata": {
    "colab": {},
    "colab_type": "code",
    "id": "pu0c0nnqG39C"
   },
   "outputs": [
    {
     "name": "stdout",
     "output_type": "stream",
     "text": [
      "+----------+-------+---------+---------+\n",
      "|prediction|Recency|Frequency| Monetary|\n",
      "+----------+-------+---------+---------+\n",
      "|         0|  59.09|     2.68|   894.65|\n",
      "|         1| 181.23|     2.07|   627.64|\n",
      "|         2|  71.82|    31.88| 56054.17|\n",
      "|         3|  41.14|     9.85|  3643.58|\n",
      "|         4| 316.09|      1.3|   371.29|\n",
      "|         5|  23.67|     36.0|207560.19|\n",
      "|         6|  22.17|   116.83| 36275.27|\n",
      "|         7|  31.44|    25.89| 11777.61|\n",
      "+----------+-------+---------+---------+\n",
      "\n"
     ]
    }
   ],
   "source": [
    "# Respuesta\n",
    "\n",
    "sales_cluster_centers = sales_kmeans.groupBy('prediction').agg(F.round(F.mean('Recency'),2).alias('Recency'), \\\n",
    "                                                                F.round(F.mean('Frequency'),2).alias('Frequency'), \\\n",
    "                                                                F.round(F.mean('Monetary'),2).alias('Monetary'))\n",
    "\n",
    "sales_cluster_centers.orderBy('prediction').show()"
   ]
  },
  {
   "cell_type": "markdown",
   "metadata": {
    "colab_type": "text",
    "id": "39F4jFajqjmH"
   },
   "source": [
    "\n",
    "\n",
    "### BisectingKMeans"
   ]
  },
  {
   "cell_type": "code",
   "execution_count": 33,
   "metadata": {
    "colab": {},
    "colab_type": "code",
    "id": "cU0QNUV0qjmJ"
   },
   "outputs": [
    {
     "name": "stdout",
     "output_type": "stream",
     "text": [
      "+----------+-------+---------+--------+-------------------+--------------------+----------+\n",
      "|CustomerID|Recency|Frequency|Monetary| assembled_features|     features_scaled|prediction|\n",
      "+----------+-------+---------+--------+-------------------+--------------------+----------+\n",
      "|     12847|     43|        1|  871.54|  [43.0,1.0,871.54]|[0.43203691518006...|         0|\n",
      "|     13192|    116|        2|  911.94| [116.0,2.0,911.94]|[1.16549493397413...|         0|\n",
      "|     13282|     39|        3| 1132.14| [39.0,3.0,1132.14]|[0.39184743469820...|         0|\n",
      "|     13610|     33|        7| 1131.88| [33.0,7.0,1131.88]|[0.33156321397540...|         0|\n",
      "|     13772|     54|        3| 1132.13| [54.0,3.0,1132.13]|[0.54255798650520...|         0|\n",
      "|     13865|     79|        4|  501.56|  [79.0,4.0,501.56]|[0.79374223951686...|         0|\n",
      "|     14157|     40|        2|  432.88|  [40.0,2.0,432.88]|[0.40189480481866...|         0|\n",
      "|     14204|     23|        1|  161.03|  [23.0,1.0,161.03]|[0.23108951277073...|         0|\n",
      "|     14887|    100|        1|  1862.0| [100.0,1.0,1862.0]|[1.00473701204667...|         0|\n",
      "|     15269|     44|        1|   408.8|   [44.0,1.0,408.8]|[0.44208428530053...|         0|\n",
      "|     15271|     28|       15| 2507.07|[28.0,15.0,2507.07]|[0.28132636337306...|         1|\n",
      "|     15555|     33|       16| 4805.17|[33.0,16.0,4805.17]|[0.33156321397540...|         1|\n",
      "|     15574|    198|        4|  702.25| [198.0,4.0,702.25]|[1.98937928385240...|         4|\n",
      "|     15634|     38|        1|  243.55|  [38.0,1.0,243.55]|[0.38180006457773...|         0|\n",
      "|     16250|    282|        2|  389.44| [282.0,2.0,389.44]|[2.83335837397161...|         6|\n",
      "|     16504|     46|        1|  484.38|  [46.0,1.0,484.38]|[0.46217902554146...|         0|\n",
      "|     17427|     92|        1|   100.8|   [92.0,1.0,100.8]|[0.92435805108293...|         0|\n",
      "|     17506|     96|        1|   302.2|   [96.0,1.0,302.2]|[0.96454753156480...|         0|\n",
      "|     17686|     28|        7| 5739.46| [28.0,7.0,5739.46]|[0.28132636337306...|         0|\n",
      "|     17714|    341|        1|   153.0|  [341.0,1.0,153.0]|[3.42615321107914...|         7|\n",
      "+----------+-------+---------+--------+-------------------+--------------------+----------+\n",
      "only showing top 20 rows\n",
      "\n"
     ]
    }
   ],
   "source": [
    "# Respuesta\n",
    "\n",
    "from pyspark.ml.clustering import BisectingKMeans\n",
    "\n",
    "bisectingkmeans = BisectingKMeans(featuresCol='features_scaled', seed=4, k=8)\n",
    "bisectingkmeans_model = bisectingkmeans.fit(rfm_df)\n",
    "sales_bisectingkmeans = bisectingkmeans_model.transform(rfm_df)\n",
    "\n",
    "sales_bisectingkmeans.show()"
   ]
  },
  {
   "cell_type": "markdown",
   "metadata": {
    "colab_type": "text",
    "id": "ZIoLKNcwbCGx"
   },
   "source": [
    "\n",
    "\n",
    "* Vemos la frecuencia de cada cluster."
   ]
  },
  {
   "cell_type": "code",
   "execution_count": 34,
   "metadata": {
    "colab": {},
    "colab_type": "code",
    "id": "F2HoEibVSs6-"
   },
   "outputs": [
    {
     "name": "stdout",
     "output_type": "stream",
     "text": [
      "+----------+-----+\n",
      "|prediction|count|\n",
      "+----------+-----+\n",
      "|         1|  287|\n",
      "|         6|  276|\n",
      "|         3|    3|\n",
      "|         5|  257|\n",
      "|         4|  306|\n",
      "|         7|  175|\n",
      "|         2|   19|\n",
      "|         0| 2598|\n",
      "+----------+-----+\n",
      "\n"
     ]
    }
   ],
   "source": [
    "# Respuesta\n",
    "\n",
    "sales_bisectingkmeans.groupBy('prediction').count().show()"
   ]
  },
  {
   "cell_type": "markdown",
   "metadata": {
    "colab_type": "text",
    "id": "RYEZHPzRawNH"
   },
   "source": [
    "\n",
    "\n",
    "* Calculamos la media de los valores de RFM para cada cluster."
   ]
  },
  {
   "cell_type": "code",
   "execution_count": 35,
   "metadata": {
    "colab": {},
    "colab_type": "code",
    "id": "O9rrBPrbawNO"
   },
   "outputs": [
    {
     "name": "stdout",
     "output_type": "stream",
     "text": [
      "+----------+-------+---------+---------+\n",
      "|prediction|Recency|Frequency| Monetary|\n",
      "+----------+-------+---------+---------+\n",
      "|         0|  63.55|     3.36|  1152.21|\n",
      "|         1|  35.04|    17.16|  7590.03|\n",
      "|         2|  26.21|    66.84| 49710.91|\n",
      "|         3|  23.67|     36.0|207560.19|\n",
      "|         4| 185.18|      1.9|   489.37|\n",
      "|         5| 240.83|     1.65|   662.07|\n",
      "|         6| 299.76|     1.39|   411.62|\n",
      "|         7| 371.17|      1.3|   776.63|\n",
      "+----------+-------+---------+---------+\n",
      "\n"
     ]
    }
   ],
   "source": [
    "# Respuesta\n",
    "\n",
    "sales_cluster_centers = sales_bisectingkmeans.groupBy('prediction').agg(F.round(F.mean('Recency'),2).alias('Recency'), \\\n",
    "                                                                F.round(F.mean('Frequency'),2).alias('Frequency'), \\\n",
    "                                                                F.round(F.mean('Monetary'),2).alias('Monetary'))\n",
    "\n",
    "sales_cluster_centers.orderBy('prediction').show()"
   ]
  }
 ],
 "metadata": {
  "colab": {
   "collapsed_sections": [
    "CBLLMa_Mqjln",
    "llBMwd7w3l4t"
   ],
   "name": "02_clustering_clasificacion_raw.ipynb",
   "provenance": [],
   "version": "0.3.2"
  },
  "kernelspec": {
   "display_name": "Python 3",
   "language": "python",
   "name": "python3"
  },
  "language_info": {
   "codemirror_mode": {
    "name": "ipython",
    "version": 3
   },
   "file_extension": ".py",
   "mimetype": "text/x-python",
   "name": "python",
   "nbconvert_exporter": "python",
   "pygments_lexer": "ipython3",
   "version": "3.6.5"
  },
  "toc": {
   "base_numbering": 1,
   "nav_menu": {},
   "number_sections": true,
   "sideBar": true,
   "skip_h1_title": false,
   "title_cell": "Table of Contents",
   "title_sidebar": "Contents",
   "toc_cell": false,
   "toc_position": {},
   "toc_section_display": true,
   "toc_window_display": false
  }
 },
 "nbformat": 4,
 "nbformat_minor": 1
}
