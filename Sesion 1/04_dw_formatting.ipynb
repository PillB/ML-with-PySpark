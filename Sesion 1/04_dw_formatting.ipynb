{
 "cells": [
  {
   "cell_type": "code",
   "execution_count": 1,
   "metadata": {
    "collapsed": true
   },
   "outputs": [],
   "source": [
    "# Respuesta\n",
    "import os\n",
    "os.environ['PYSPARK_PYTHON'] = '/usr/local/bin/python3.6'\n",
    "\n",
    "from pyspark.sql import SparkSession\n",
    "\n",
    "spark = SparkSession.builder.getOrCreate()"
   ]
  },
  {
   "cell_type": "code",
   "execution_count": 2,
   "metadata": {
    "collapsed": true
   },
   "outputs": [],
   "source": [
    "from pyspark.sql import functions as F"
   ]
  },
  {
   "cell_type": "markdown",
   "metadata": {},
   "source": [
    "\n",
    "\n",
    "# Creación o modificación de columnas\n",
    "\n",
    "En Spark hay un único método para la creación o modificación de columnas y es `withColumn`. Este método es de nuevo una transformación y toma dos parámetros: el nombre de la columna a crear (o sobreescribir) y la operación que crea la nueva columna.\n",
    "\n",
    "Para una ejecución más óptima se recomienda utilizar únicamente las funciones de PySpark cuando se define la operación, pero como se detallará más adelante se pueden utilizar funciones propias. "
   ]
  },
  {
   "cell_type": "code",
   "execution_count": 3,
   "metadata": {
    "collapsed": true
   },
   "outputs": [],
   "source": [
    "movies_df = spark.read.csv('Data/movie-ratings/movies.csv', sep=',', header=True, inferSchema=True)\n",
    "ratings_df = spark.read.csv('Data/movie-ratings/tags.csv', sep=',', header=True, inferSchema=True)"
   ]
  },
  {
   "cell_type": "code",
   "execution_count": 4,
   "metadata": {},
   "outputs": [],
   "source": [
    "from pyspark.sql.functions import rand\n",
    "import numpy as np\n",
    "\n",
    "ratings_df = ratings_df.withColumn(\"rating\", rand())"
   ]
  },
  {
   "cell_type": "code",
   "execution_count": 5,
   "metadata": {
    "collapsed": true
   },
   "outputs": [],
   "source": [
    "ratings_movies_df = ratings_df.join(movies_df, on='movieId', how='inner')"
   ]
  },
  {
   "cell_type": "code",
   "execution_count": 6,
   "metadata": {},
   "outputs": [
    {
     "data": {
      "text/plain": [
       "DataFrame[movieId: int, userId: int, tag: string, timestamp: string, rating: double, title: string, genres: string]"
      ]
     },
     "execution_count": 6,
     "metadata": {},
     "output_type": "execute_result"
    }
   ],
   "source": [
    "ratings_movies_df.cache()"
   ]
  },
  {
   "cell_type": "markdown",
   "metadata": {},
   "source": [
    "\n",
    "\n",
    "## Funciones de Spark"
   ]
  },
  {
   "cell_type": "markdown",
   "metadata": {},
   "source": [
    "\n",
    "\n",
    "__valor fijo__\n",
    "\n",
    "El ejemplo más sencillo es crear una columna con un valor fijo."
   ]
  },
  {
   "cell_type": "code",
   "execution_count": 7,
   "metadata": {
    "collapsed": true
   },
   "outputs": [],
   "source": [
    "ratings_movies_df = ratings_movies_df.withColumn('now', F.lit('2019/01/21 14:08'))"
   ]
  },
  {
   "cell_type": "code",
   "execution_count": 8,
   "metadata": {},
   "outputs": [
    {
     "name": "stdout",
     "output_type": "stream",
     "text": [
      "+-------+------+----------+----------+------------------+--------------------+--------------------+----------------+\n",
      "|movieId|userId|       tag| timestamp|            rating|               title|              genres|             now|\n",
      "+-------+------+----------+----------+------------------+--------------------+--------------------+----------------+\n",
      "|    318|     1|  narrated|1425942391|0.8815723431402016|Shawshank Redempt...|         Crime|Drama|2019/01/21 14:08|\n",
      "|   4306|    20|Dreamworks|1459855607|0.9968457084194876|        Shrek (2001)|Adventure|Animati...|2019/01/21 14:08|\n",
      "|  89302|    20|   England|1400778834|0.2875929481456937|   Page Eight (2011)|      Drama|Thriller|2019/01/21 14:08|\n",
      "+-------+------+----------+----------+------------------+--------------------+--------------------+----------------+\n",
      "only showing top 3 rows\n",
      "\n"
     ]
    }
   ],
   "source": [
    "ratings_movies_df.show(3)"
   ]
  },
  {
   "cell_type": "code",
   "execution_count": 9,
   "metadata": {
    "collapsed": true
   },
   "outputs": [],
   "source": [
    "ratings_movies_df = ratings_movies_df.withColumn('rating2', F.lit(0.4))"
   ]
  },
  {
   "cell_type": "code",
   "execution_count": 10,
   "metadata": {},
   "outputs": [
    {
     "name": "stdout",
     "output_type": "stream",
     "text": [
      "+-------+------+----------+----------+------------------+--------------------+--------------------+----------------+-------+\n",
      "|movieId|userId|       tag| timestamp|            rating|               title|              genres|             now|rating2|\n",
      "+-------+------+----------+----------+------------------+--------------------+--------------------+----------------+-------+\n",
      "|    318|     1|  narrated|1425942391|0.8815723431402016|Shawshank Redempt...|         Crime|Drama|2019/01/21 14:08|    0.4|\n",
      "|   4306|    20|Dreamworks|1459855607|0.9968457084194876|        Shrek (2001)|Adventure|Animati...|2019/01/21 14:08|    0.4|\n",
      "|  89302|    20|   England|1400778834|0.2875929481456937|   Page Eight (2011)|      Drama|Thriller|2019/01/21 14:08|    0.4|\n",
      "+-------+------+----------+----------+------------------+--------------------+--------------------+----------------+-------+\n",
      "only showing top 3 rows\n",
      "\n"
     ]
    }
   ],
   "source": [
    "ratings_movies_df.show(3)"
   ]
  },
  {
   "cell_type": "markdown",
   "metadata": {},
   "source": [
    "\n",
    "\n",
    "__duplicar columna__"
   ]
  },
  {
   "cell_type": "code",
   "execution_count": 11,
   "metadata": {},
   "outputs": [
    {
     "name": "stdout",
     "output_type": "stream",
     "text": [
      "+--------------------+--------------------+\n",
      "|               title|              title2|\n",
      "+--------------------+--------------------+\n",
      "|Shawshank Redempt...|Shawshank Redempt...|\n",
      "|        Shrek (2001)|        Shrek (2001)|\n",
      "|   Page Eight (2011)|   Page Eight (2011)|\n",
      "|   Page Eight (2011)|   Page Eight (2011)|\n",
      "|   Page Eight (2011)|   Page Eight (2011)|\n",
      "|   Page Eight (2011)|   Page Eight (2011)|\n",
      "|      Skyfall (2012)|      Skyfall (2012)|\n",
      "|Zero Motivation (...|Zero Motivation (...|\n",
      "|Zero Motivation (...|Zero Motivation (...|\n",
      "|Zero Motivation (...|Zero Motivation (...|\n",
      "+--------------------+--------------------+\n",
      "only showing top 10 rows\n",
      "\n"
     ]
    }
   ],
   "source": [
    "ratings_movies_df.withColumn('title2', F.col('title'))\\\n",
    "                 .select('title', 'title2')\\\n",
    "                 .show(10)"
   ]
  },
  {
   "cell_type": "markdown",
   "metadata": {},
   "source": [
    "\n",
    "\n",
    "__operaciones aritmeticas__"
   ]
  },
  {
   "cell_type": "code",
   "execution_count": 12,
   "metadata": {},
   "outputs": [
    {
     "name": "stdout",
     "output_type": "stream",
     "text": [
      "+-------------------+-------------------+\n",
      "|             rating|          rating_10|\n",
      "+-------------------+-------------------+\n",
      "| 0.8815723431402016| 1.7631446862804032|\n",
      "| 0.9968457084194876| 1.9936914168389752|\n",
      "| 0.2875929481456937| 0.5751858962913874|\n",
      "|0.23552414016865086|0.47104828033730173|\n",
      "|0.07069456430435894|0.14138912860871788|\n",
      "| 0.8257551826970266| 1.6515103653940533|\n",
      "|0.12585434754888725| 0.2517086950977745|\n",
      "|0.45601967086068707| 0.9120393417213741|\n",
      "| 0.7190057406174745|  1.438011481234949|\n",
      "| 0.4578086466008906| 0.9156172932017812|\n",
      "+-------------------+-------------------+\n",
      "only showing top 10 rows\n",
      "\n"
     ]
    }
   ],
   "source": [
    "ratings_movies_df.withColumn('rating_10', F.col('rating') * 2)\\\n",
    "                 .select('rating', 'rating_10')\\\n",
    "                 .show(10)"
   ]
  },
  {
   "cell_type": "code",
   "execution_count": 13,
   "metadata": {},
   "outputs": [
    {
     "name": "stdout",
     "output_type": "stream",
     "text": [
      "+-------------------+-------+-------------------+\n",
      "|             rating|rating2|         rating_avg|\n",
      "+-------------------+-------+-------------------+\n",
      "| 0.8815723431402016|    0.4| 0.6407861715701009|\n",
      "| 0.9968457084194876|    0.4| 0.6984228542097438|\n",
      "| 0.2875929481456937|    0.4|0.34379647407284686|\n",
      "|0.23552414016865086|    0.4|0.31776207008432544|\n",
      "|0.07069456430435894|    0.4|0.23534728215217948|\n",
      "| 0.8257551826970266|    0.4| 0.6128775913485134|\n",
      "|0.12585434754888725|    0.4|0.26292717377444363|\n",
      "|0.45601967086068707|    0.4|0.42800983543034354|\n",
      "| 0.7190057406174745|    0.4| 0.5595028703087372|\n",
      "| 0.4578086466008906|    0.4| 0.4289043233004453|\n",
      "+-------------------+-------+-------------------+\n",
      "only showing top 10 rows\n",
      "\n"
     ]
    }
   ],
   "source": [
    "ratings_movies_df.withColumn('rating_avg', (F.col('rating') + F.col('rating2')) /  2)\\\n",
    "                 .select('rating', 'rating2', 'rating_avg')\\\n",
    "                 .show(10)"
   ]
  },
  {
   "cell_type": "markdown",
   "metadata": {},
   "source": [
    " \n",
    "\n",
    "__if/else__"
   ]
  },
  {
   "cell_type": "code",
   "execution_count": 14,
   "metadata": {},
   "outputs": [
    {
     "name": "stdout",
     "output_type": "stream",
     "text": [
      "+-------+------+-------------+----------+-------------------+--------------------+--------------------+----------------+-------+-----------+\n",
      "|movieId|userId|          tag| timestamp|             rating|               title|              genres|             now|rating2|kind_rating|\n",
      "+-------+------+-------------+----------+-------------------+--------------------+--------------------+----------------+-------+-----------+\n",
      "|    318|     1|     narrated|1425942391| 0.8815723431402016|Shawshank Redempt...|         Crime|Drama|2019/01/21 14:08|    0.4|       high|\n",
      "|   4306|    20|   Dreamworks|1459855607| 0.9968457084194876|        Shrek (2001)|Adventure|Animati...|2019/01/21 14:08|    0.4|       high|\n",
      "|  89302|    20|      England|1400778834| 0.2875929481456937|   Page Eight (2011)|      Drama|Thriller|2019/01/21 14:08|    0.4|        low|\n",
      "|  89302|    20|    espionage|1400778836|0.23552414016865086|   Page Eight (2011)|      Drama|Thriller|2019/01/21 14:08|    0.4|        low|\n",
      "|  89302|    20|         jazz|1400778841|0.07069456430435894|   Page Eight (2011)|      Drama|Thriller|2019/01/21 14:08|    0.4|        low|\n",
      "|  89302|    20|     politics|1400778841| 0.8257551826970266|   Page Eight (2011)|      Drama|Thriller|2019/01/21 14:08|    0.4|       high|\n",
      "|  96079|    20|    nostalgic|1407930249|0.12585434754888725|      Skyfall (2012)|Action|Adventure|...|2019/01/21 14:08|    0.4|        low|\n",
      "| 113315|    20|coming of age|1407837917|0.45601967086068707|Zero Motivation (...|        Comedy|Drama|2019/01/21 14:08|    0.4|       high|\n",
      "| 113315|    20|  dark comedy|1407838006| 0.7190057406174745|Zero Motivation (...|        Comedy|Drama|2019/01/21 14:08|    0.4|       high|\n",
      "| 113315|    20|   kafkaesque|1407837913| 0.4578086466008906|Zero Motivation (...|        Comedy|Drama|2019/01/21 14:08|    0.4|       high|\n",
      "+-------+------+-------------+----------+-------------------+--------------------+--------------------+----------------+-------+-----------+\n",
      "only showing top 10 rows\n",
      "\n"
     ]
    }
   ],
   "source": [
    "ratings_movies_df.withColumn('kind_rating', \n",
    "                              F.when(F.col('rating') >= 0.4, 'high').otherwise('low')).show(10)"
   ]
  },
  {
   "cell_type": "markdown",
   "metadata": {},
   "source": [
    "\n",
    "\n",
    "Se pueden concatenar multiples sentencias _when_."
   ]
  },
  {
   "cell_type": "code",
   "execution_count": 15,
   "metadata": {},
   "outputs": [
    {
     "name": "stdout",
     "output_type": "stream",
     "text": [
      "+-------+------+-------------------+----------+-------------------+--------------------+--------------------+----------------+-------+-----------+\n",
      "|movieId|userId|                tag| timestamp|             rating|               title|              genres|             now|rating2|kind_rating|\n",
      "+-------+------+-------------------+----------+-------------------+--------------------+--------------------+----------------+-------+-----------+\n",
      "|    318|     1|           narrated|1425942391| 0.8815723431402016|Shawshank Redempt...|         Crime|Drama|2019/01/21 14:08|    0.4|       high|\n",
      "|   4306|    20|         Dreamworks|1459855607| 0.9968457084194876|        Shrek (2001)|Adventure|Animati...|2019/01/21 14:08|    0.4|       high|\n",
      "|  89302|    20|            England|1400778834| 0.2875929481456937|   Page Eight (2011)|      Drama|Thriller|2019/01/21 14:08|    0.4|        med|\n",
      "|  89302|    20|          espionage|1400778836|0.23552414016865086|   Page Eight (2011)|      Drama|Thriller|2019/01/21 14:08|    0.4|        med|\n",
      "|  89302|    20|               jazz|1400778841|0.07069456430435894|   Page Eight (2011)|      Drama|Thriller|2019/01/21 14:08|    0.4|        low|\n",
      "|  89302|    20|           politics|1400778841| 0.8257551826970266|   Page Eight (2011)|      Drama|Thriller|2019/01/21 14:08|    0.4|       high|\n",
      "|  96079|    20|          nostalgic|1407930249|0.12585434754888725|      Skyfall (2012)|Action|Adventure|...|2019/01/21 14:08|    0.4|        low|\n",
      "| 113315|    20|      coming of age|1407837917|0.45601967086068707|Zero Motivation (...|        Comedy|Drama|2019/01/21 14:08|    0.4|       high|\n",
      "| 113315|    20|        dark comedy|1407838006| 0.7190057406174745|Zero Motivation (...|        Comedy|Drama|2019/01/21 14:08|    0.4|       high|\n",
      "| 113315|    20|         kafkaesque|1407837913| 0.4578086466008906|Zero Motivation (...|        Comedy|Drama|2019/01/21 14:08|    0.4|       high|\n",
      "| 113315|    20|           military|1407837917| 0.7786882924600995|Zero Motivation (...|        Comedy|Drama|2019/01/21 14:08|    0.4|       high|\n",
      "| 113315|    20|             satire|1407838056| 0.7744732884900618|Zero Motivation (...|        Comedy|Drama|2019/01/21 14:08|    0.4|       high|\n",
      "| 122886|    20|     Plot Recycling|1451059168|0.13558505903248463|Star Wars: Episod...|Action|Adventure|...|2019/01/21 14:08|    0.4|        low|\n",
      "|   2642|    49|         comic book|1149449050| 0.7559898345012168| Superman III (1983)|Action|Adventure|...|2019/01/21 14:08|    0.4|       high|\n",
      "|   2643|    49|         comic book|1149449057|0.01668363173495757|Superman IV: The ...|Action|Adventure|...|2019/01/21 14:08|    0.4|        low|\n",
      "|   3440|    49|         comic book|1149448823| 0.5299128510407418|Teenage Mutant Ni...|Action|Adventure|...|2019/01/21 14:08|    0.4|       high|\n",
      "|   4636|    49|         comic book|1149448913| 0.6526533869750348|Punisher, The (1989)|              Action|2019/01/21 14:08|    0.4|       high|\n",
      "|   7439|    49|         comic book|1149448915| 0.5680658253400023|Punisher, The (2004)|Action|Crime|Thri...|2019/01/21 14:08|    0.4|       high|\n",
      "|  37733|    49|Comic Book adaption|1149448582| 0.9338058773220733|History of Violen...|Action|Crime|Dram...|2019/01/21 14:08|    0.4|       high|\n",
      "|    750|    50|             satire|1462078409| 0.5096446566732716|Dr. Strangelove o...|          Comedy|War|2019/01/21 14:08|    0.4|       high|\n",
      "+-------+------+-------------------+----------+-------------------+--------------------+--------------------+----------------+-------+-----------+\n",
      "only showing top 20 rows\n",
      "\n"
     ]
    }
   ],
   "source": [
    "ratings_movies_df.withColumn('kind_rating', \n",
    "                              F.when(F.col('rating') >= 0.4, 'high')\\\n",
    "                               .when(F.col('rating') >= 0.2, 'med')\\\n",
    "                               .otherwise('low')).show(20)"
   ]
  },
  {
   "cell_type": "markdown",
   "metadata": {},
   "source": [
    "\n",
    "\n",
    "__operaciones con strings__"
   ]
  },
  {
   "cell_type": "code",
   "execution_count": 16,
   "metadata": {
    "scrolled": false
   },
   "outputs": [
    {
     "name": "stdout",
     "output_type": "stream",
     "text": [
      "+-------+------+----------+----------+------------------+--------------------+--------------------+----------------+-------+\n",
      "|movieId|userId|       tag| timestamp|            rating|               title|              genres|             now|rating2|\n",
      "+-------+------+----------+----------+------------------+--------------------+--------------------+----------------+-------+\n",
      "|    318|     1|  narrated|1425942391|0.8815723431402016|SHAWSHANK REDEMPT...|         Crime|Drama|2019/01/21 14:08|    0.4|\n",
      "|   4306|    20|Dreamworks|1459855607|0.9968457084194876|        SHREK (2001)|Adventure|Animati...|2019/01/21 14:08|    0.4|\n",
      "|  89302|    20|   England|1400778834|0.2875929481456937|   PAGE EIGHT (2011)|      Drama|Thriller|2019/01/21 14:08|    0.4|\n",
      "+-------+------+----------+----------+------------------+--------------------+--------------------+----------------+-------+\n",
      "only showing top 3 rows\n",
      "\n"
     ]
    }
   ],
   "source": [
    "ratings_movies_df.withColumn('title', F.upper(F.col('title'))).show(3)"
   ]
  },
  {
   "cell_type": "code",
   "execution_count": 17,
   "metadata": {},
   "outputs": [
    {
     "name": "stdout",
     "output_type": "stream",
     "text": [
      "+--------------------+-----------+\n",
      "|               title|short_title|\n",
      "+--------------------+-----------+\n",
      "|Shawshank Redempt...| Shawshank |\n",
      "|        Shrek (2001)| Shrek (200|\n",
      "|   Page Eight (2011)| Page Eight|\n",
      "|   Page Eight (2011)| Page Eight|\n",
      "|   Page Eight (2011)| Page Eight|\n",
      "|   Page Eight (2011)| Page Eight|\n",
      "|      Skyfall (2012)| Skyfall (2|\n",
      "|Zero Motivation (...| Zero Motiv|\n",
      "|Zero Motivation (...| Zero Motiv|\n",
      "|Zero Motivation (...| Zero Motiv|\n",
      "+--------------------+-----------+\n",
      "only showing top 10 rows\n",
      "\n"
     ]
    }
   ],
   "source": [
    "ratings_movies_df.withColumn('short_title', F.substring(F.col('title'), 0, 10))\\\n",
    "                 .select('title', 'short_title')\\\n",
    "                 .show(10)"
   ]
  },
  {
   "cell_type": "code",
   "execution_count": 18,
   "metadata": {},
   "outputs": [
    {
     "name": "stdout",
     "output_type": "stream",
     "text": [
      "+-------+------+----------+----------+-------------------+--------------------+--------------------+----------------+-------+\n",
      "|movieId|userId|       tag| timestamp|             rating|               title|              genres|             now|rating2|\n",
      "+-------+------+----------+----------+-------------------+--------------------+--------------------+----------------+-------+\n",
      "|    318|     1|  narrated|1425942391| 0.8815723431402016|Shawshank Redempt...|      [Crime, Drama]|2019/01/21 14:08|    0.4|\n",
      "|   4306|    20|Dreamworks|1459855607| 0.9968457084194876|        Shrek (2001)|[Adventure, Anima...|2019/01/21 14:08|    0.4|\n",
      "|  89302|    20|   England|1400778834| 0.2875929481456937|   Page Eight (2011)|   [Drama, Thriller]|2019/01/21 14:08|    0.4|\n",
      "|  89302|    20| espionage|1400778836|0.23552414016865086|   Page Eight (2011)|   [Drama, Thriller]|2019/01/21 14:08|    0.4|\n",
      "+-------+------+----------+----------+-------------------+--------------------+--------------------+----------------+-------+\n",
      "only showing top 4 rows\n",
      "\n"
     ]
    }
   ],
   "source": [
    "ratings_movies_df.withColumn('genres', F.split(F.col('genres'), '\\|')).show(4)"
   ]
  },
  {
   "cell_type": "code",
   "execution_count": 19,
   "metadata": {},
   "outputs": [
    {
     "name": "stdout",
     "output_type": "stream",
     "text": [
      "+--------------------+---------+\n",
      "|              genres|1st_genre|\n",
      "+--------------------+---------+\n",
      "|         Crime|Drama|    Crime|\n",
      "|Adventure|Animati...|Adventure|\n",
      "|      Drama|Thriller|    Drama|\n",
      "|      Drama|Thriller|    Drama|\n",
      "|      Drama|Thriller|    Drama|\n",
      "|      Drama|Thriller|    Drama|\n",
      "|Action|Adventure|...|   Action|\n",
      "|        Comedy|Drama|   Comedy|\n",
      "|        Comedy|Drama|   Comedy|\n",
      "|        Comedy|Drama|   Comedy|\n",
      "+--------------------+---------+\n",
      "only showing top 10 rows\n",
      "\n"
     ]
    }
   ],
   "source": [
    "ratings_movies_df.withColumn('1st_genre', F.split(F.col('genres'), '\\|')[0])\\\n",
    "                 .select('genres', '1st_genre')\\\n",
    "                 .show(10)"
   ]
  },
  {
   "cell_type": "code",
   "execution_count": 20,
   "metadata": {},
   "outputs": [
    {
     "name": "stdout",
     "output_type": "stream",
     "text": [
      "+---------------------------------------------+---------------------------------------------------+\n",
      "|title                                        |genres                                             |\n",
      "+---------------------------------------------+---------------------------------------------------+\n",
      "|Shawshank Redemption, The (1994)             |Crime-Drama                                        |\n",
      "|Shrek (2001)                                 |Adventure-Animation-Children-Comedy-Fantasy-Romance|\n",
      "|Page Eight (2011)                            |Drama-Thriller                                     |\n",
      "|Page Eight (2011)                            |Drama-Thriller                                     |\n",
      "|Page Eight (2011)                            |Drama-Thriller                                     |\n",
      "|Page Eight (2011)                            |Drama-Thriller                                     |\n",
      "|Skyfall (2012)                               |Action-Adventure-Thriller-IMAX                     |\n",
      "|Zero Motivation (Efes beyahasei enosh) (2014)|Comedy-Drama                                       |\n",
      "|Zero Motivation (Efes beyahasei enosh) (2014)|Comedy-Drama                                       |\n",
      "|Zero Motivation (Efes beyahasei enosh) (2014)|Comedy-Drama                                       |\n",
      "+---------------------------------------------+---------------------------------------------------+\n",
      "only showing top 10 rows\n",
      "\n"
     ]
    }
   ],
   "source": [
    "ratings_movies_df.withColumn('genres', F.regexp_replace(F.col('genres'), '\\|', '-'))\\\n",
    "                 .select('title', 'genres')\\\n",
    "                 .show(10, truncate=False)"
   ]
  },
  {
   "cell_type": "markdown",
   "metadata": {},
   "source": [
    "\n",
    "\n",
    "_Con expresiones regulares_\n",
    "\n",
    "https://regexr.com/"
   ]
  },
  {
   "cell_type": "code",
   "execution_count": 21,
   "metadata": {
    "scrolled": false
   },
   "outputs": [
    {
     "name": "stdout",
     "output_type": "stream",
     "text": [
      "+-------+------+----------+----------+-------------------+-------------------------+---------------------------------------------------+----------------+-------+\n",
      "|movieId|userId|tag       |timestamp |rating             |title                    |genres                                             |now             |rating2|\n",
      "+-------+------+----------+----------+-------------------+-------------------------+---------------------------------------------------+----------------+-------+\n",
      "|318    |1     |narrated  |1425942391|0.8815723431402016 |Shawshank Redemption, The|Crime|Drama                                        |2019/01/21 14:08|0.4    |\n",
      "|4306   |20    |Dreamworks|1459855607|0.9968457084194876 |Shrek                    |Adventure|Animation|Children|Comedy|Fantasy|Romance|2019/01/21 14:08|0.4    |\n",
      "|89302  |20    |England   |1400778834|0.2875929481456937 |Page Eight               |Drama|Thriller                                     |2019/01/21 14:08|0.4    |\n",
      "|89302  |20    |espionage |1400778836|0.23552414016865086|Page Eight               |Drama|Thriller                                     |2019/01/21 14:08|0.4    |\n",
      "|89302  |20    |jazz      |1400778841|0.07069456430435894|Page Eight               |Drama|Thriller                                     |2019/01/21 14:08|0.4    |\n",
      "+-------+------+----------+----------+-------------------+-------------------------+---------------------------------------------------+----------------+-------+\n",
      "only showing top 5 rows\n",
      "\n"
     ]
    }
   ],
   "source": [
    "ratings_movies_df.withColumn('title', F.regexp_replace(F.col('title'), ' \\(\\d{4}\\)', '')).show(5, truncate=False)"
   ]
  },
  {
   "cell_type": "code",
   "execution_count": 22,
   "metadata": {},
   "outputs": [
    {
     "name": "stdout",
     "output_type": "stream",
     "text": [
      "+-------+------+----------+----------+-------------------+--------------------+--------------------+----------------+-------+----+\n",
      "|movieId|userId|       tag| timestamp|             rating|               title|              genres|             now|rating2|year|\n",
      "+-------+------+----------+----------+-------------------+--------------------+--------------------+----------------+-------+----+\n",
      "|    318|     1|  narrated|1425942391| 0.8815723431402016|Shawshank Redempt...|         Crime|Drama|2019/01/21 14:08|    0.4|1994|\n",
      "|   4306|    20|Dreamworks|1459855607| 0.9968457084194876|        Shrek (2001)|Adventure|Animati...|2019/01/21 14:08|    0.4|2001|\n",
      "|  89302|    20|   England|1400778834| 0.2875929481456937|   Page Eight (2011)|      Drama|Thriller|2019/01/21 14:08|    0.4|2011|\n",
      "|  89302|    20| espionage|1400778836|0.23552414016865086|   Page Eight (2011)|      Drama|Thriller|2019/01/21 14:08|    0.4|2011|\n",
      "|  89302|    20|      jazz|1400778841|0.07069456430435894|   Page Eight (2011)|      Drama|Thriller|2019/01/21 14:08|    0.4|2011|\n",
      "+-------+------+----------+----------+-------------------+--------------------+--------------------+----------------+-------+----+\n",
      "only showing top 5 rows\n",
      "\n"
     ]
    }
   ],
   "source": [
    "ratings_movies_df = ratings_movies_df.withColumn('year', \n",
    "                                                 F.regexp_extract(F.col('title'),  '\\((\\d{4})\\)', 1))\n",
    "\n",
    "ratings_movies_df.show(5)"
   ]
  },
  {
   "cell_type": "markdown",
   "metadata": {},
   "source": [
    "\n",
    "\n",
    "## Casting\n",
    "\n",
    "Con el método `withColumn` también es posible convertir el tipo de una columna con la función `cast`. Es importante saber que en caso de no poder convertirse (por ejemplo una letra a número) no saltará error y el resultado será un valor nulo."
   ]
  },
  {
   "cell_type": "code",
   "execution_count": 23,
   "metadata": {},
   "outputs": [
    {
     "name": "stdout",
     "output_type": "stream",
     "text": [
      "root\n",
      " |-- movieId: integer (nullable = true)\n",
      " |-- userId: integer (nullable = true)\n",
      " |-- tag: string (nullable = true)\n",
      " |-- timestamp: string (nullable = true)\n",
      " |-- rating: double (nullable = false)\n",
      " |-- title: string (nullable = true)\n",
      " |-- genres: string (nullable = true)\n",
      " |-- now: string (nullable = false)\n",
      " |-- rating2: double (nullable = false)\n",
      " |-- year: string (nullable = true)\n",
      "\n"
     ]
    }
   ],
   "source": [
    "ratings_movies_df.printSchema()"
   ]
  },
  {
   "cell_type": "code",
   "execution_count": 24,
   "metadata": {},
   "outputs": [
    {
     "name": "stdout",
     "output_type": "stream",
     "text": [
      "+-------+------+----------+----------+-------------------+--------------------+--------------------+----------------+-------+----+\n",
      "|movieId|userId|       tag| timestamp|             rating|               title|              genres|             now|rating2|year|\n",
      "+-------+------+----------+----------+-------------------+--------------------+--------------------+----------------+-------+----+\n",
      "|    318|     1|  narrated|1425942391| 0.8815723431402016|Shawshank Redempt...|         Crime|Drama|2019/01/21 14:08|    0.4|1994|\n",
      "|   4306|    20|Dreamworks|1459855607| 0.9968457084194876|        Shrek (2001)|Adventure|Animati...|2019/01/21 14:08|    0.4|2001|\n",
      "|  89302|    20|   England|1400778834| 0.2875929481456937|   Page Eight (2011)|      Drama|Thriller|2019/01/21 14:08|    0.4|2011|\n",
      "|  89302|    20| espionage|1400778836|0.23552414016865086|   Page Eight (2011)|      Drama|Thriller|2019/01/21 14:08|    0.4|2011|\n",
      "|  89302|    20|      jazz|1400778841|0.07069456430435894|   Page Eight (2011)|      Drama|Thriller|2019/01/21 14:08|    0.4|2011|\n",
      "+-------+------+----------+----------+-------------------+--------------------+--------------------+----------------+-------+----+\n",
      "only showing top 5 rows\n",
      "\n"
     ]
    }
   ],
   "source": [
    "ratings_movies_df = ratings_movies_df.withColumn('year', F.col('year').cast('int'))\n",
    "ratings_movies_df.show(5)"
   ]
  },
  {
   "cell_type": "code",
   "execution_count": 25,
   "metadata": {
    "collapsed": true
   },
   "outputs": [],
   "source": [
    "ratings_movies_df = ratings_movies_df.withColumn('movieId', F.col('movieId').cast('string'))"
   ]
  },
  {
   "cell_type": "code",
   "execution_count": 26,
   "metadata": {},
   "outputs": [
    {
     "name": "stdout",
     "output_type": "stream",
     "text": [
      "root\n",
      " |-- movieId: string (nullable = true)\n",
      " |-- userId: integer (nullable = true)\n",
      " |-- tag: string (nullable = true)\n",
      " |-- timestamp: string (nullable = true)\n",
      " |-- rating: double (nullable = false)\n",
      " |-- title: string (nullable = true)\n",
      " |-- genres: string (nullable = true)\n",
      " |-- now: string (nullable = false)\n",
      " |-- rating2: double (nullable = false)\n",
      " |-- year: integer (nullable = true)\n",
      "\n"
     ]
    }
   ],
   "source": [
    "ratings_movies_df.printSchema()"
   ]
  },
  {
   "cell_type": "code",
   "execution_count": 27,
   "metadata": {},
   "outputs": [
    {
     "name": "stdout",
     "output_type": "stream",
     "text": [
      "+-------+------+----------+----------+-------------------+--------------------+--------------------+----------------+-------+----+-----+\n",
      "|movieId|userId|       tag| timestamp|             rating|               title|              genres|             now|rating2|year|error|\n",
      "+-------+------+----------+----------+-------------------+--------------------+--------------------+----------------+-------+----+-----+\n",
      "|    318|     1|  narrated|1425942391| 0.8815723431402016|Shawshank Redempt...|         Crime|Drama|2019/01/21 14:08|    0.4|1994| null|\n",
      "|   4306|    20|Dreamworks|1459855607| 0.9968457084194876|        Shrek (2001)|Adventure|Animati...|2019/01/21 14:08|    0.4|2001| null|\n",
      "|  89302|    20|   England|1400778834| 0.2875929481456937|   Page Eight (2011)|      Drama|Thriller|2019/01/21 14:08|    0.4|2011| null|\n",
      "|  89302|    20| espionage|1400778836|0.23552414016865086|   Page Eight (2011)|      Drama|Thriller|2019/01/21 14:08|    0.4|2011| null|\n",
      "|  89302|    20|      jazz|1400778841|0.07069456430435894|   Page Eight (2011)|      Drama|Thriller|2019/01/21 14:08|    0.4|2011| null|\n",
      "+-------+------+----------+----------+-------------------+--------------------+--------------------+----------------+-------+----+-----+\n",
      "only showing top 5 rows\n",
      "\n"
     ]
    }
   ],
   "source": [
    "ratings_movies_df.withColumn('error', F.col('title').cast('int')).show(5)"
   ]
  },
  {
   "cell_type": "markdown",
   "metadata": {},
   "source": [
    "\n",
    "\n",
    "## UDF (User Defined Functions)\n",
    "Cuando no es posible definir la operación con las funciones de spark se \n",
    "pueden crear funciones propias usando la UDFs. \n",
    "* Primero se crea  una función de Python normal\n",
    "* posteriormente se crea la UDFs asignando el tipo de dato de la columna de salida\n",
    "* Aplicar la función UDF"
   ]
  },
  {
   "cell_type": "code",
   "execution_count": 28,
   "metadata": {
    "collapsed": true
   },
   "outputs": [],
   "source": [
    "from pyspark.sql.types import StringType, IntegerType, DoubleType, DateType"
   ]
  },
  {
   "cell_type": "markdown",
   "metadata": {},
   "source": [
    "_Aumenta el rating en un 15% para cada película más \n",
    "antigua que 2000 (el máximo siempre es 5)._"
   ]
  },
  {
   "cell_type": "code",
   "execution_count": 29,
   "metadata": {
    "collapsed": true
   },
   "outputs": [],
   "source": [
    "def increase_rating(year, rating):\n",
    "    \n",
    "    if year < 2000:\n",
    "        rating = min(rating * 1.15, 5.0)\n",
    "    \n",
    "    return rating"
   ]
  },
  {
   "cell_type": "code",
   "execution_count": 30,
   "metadata": {
    "collapsed": true
   },
   "outputs": [],
   "source": [
    "increase_rating_udf = F.udf(increase_rating, DoubleType())"
   ]
  },
  {
   "cell_type": "code",
   "execution_count": 31,
   "metadata": {},
   "outputs": [
    {
     "name": "stdout",
     "output_type": "stream",
     "text": [
      "+--------------------+----+-------------------+--------------------+\n",
      "|               title|year|             rating|          rating_inc|\n",
      "+--------------------+----+-------------------+--------------------+\n",
      "|Shawshank Redempt...|1994| 0.8815723431402016|  1.0138081946112318|\n",
      "|        Shrek (2001)|2001| 0.9968457084194876|  0.9968457084194876|\n",
      "|   Page Eight (2011)|2011| 0.2875929481456937|  0.2875929481456937|\n",
      "|   Page Eight (2011)|2011|0.23552414016865086| 0.23552414016865086|\n",
      "|   Page Eight (2011)|2011|0.07069456430435894| 0.07069456430435894|\n",
      "|   Page Eight (2011)|2011| 0.8257551826970266|  0.8257551826970266|\n",
      "|      Skyfall (2012)|2012|0.12585434754888725| 0.12585434754888725|\n",
      "|Zero Motivation (...|2014|0.45601967086068707| 0.45601967086068707|\n",
      "|Zero Motivation (...|2014| 0.7190057406174745|  0.7190057406174745|\n",
      "|Zero Motivation (...|2014| 0.4578086466008906|  0.4578086466008906|\n",
      "|Zero Motivation (...|2014| 0.7786882924600995|  0.7786882924600995|\n",
      "|Zero Motivation (...|2014| 0.7744732884900618|  0.7744732884900618|\n",
      "|Star Wars: Episod...|2015|0.13558505903248463| 0.13558505903248463|\n",
      "| Superman III (1983)|1983| 0.7559898345012168|  0.8693883096763992|\n",
      "|Superman IV: The ...|1987|0.01668363173495757|0.019186176495201206|\n",
      "|Teenage Mutant Ni...|1993| 0.5299128510407418|   0.609399778696853|\n",
      "|Punisher, The (1989)|1989| 0.6526533869750348|    0.75055139502129|\n",
      "|Punisher, The (2004)|2004| 0.5680658253400023|  0.5680658253400023|\n",
      "|History of Violen...|2005| 0.9338058773220733|  0.9338058773220733|\n",
      "|Dr. Strangelove o...|1964| 0.5096446566732716|  0.5860913551742624|\n",
      "+--------------------+----+-------------------+--------------------+\n",
      "only showing top 20 rows\n",
      "\n"
     ]
    }
   ],
   "source": [
    "ratings_movies_df.withColumn('rating_inc', \n",
    "                              increase_rating_udf(F.col('year'), F.col('rating')))\\\n",
    "                 .select('title', 'year', 'rating', 'rating_inc')\\\n",
    "                 .show(20)"
   ]
  },
  {
   "cell_type": "markdown",
   "metadata": {},
   "source": [
    "\n",
    "\n",
    "Extrae el año de la película sin usar expresiones regulares."
   ]
  },
  {
   "cell_type": "code",
   "execution_count": 32,
   "metadata": {
    "collapsed": true
   },
   "outputs": [],
   "source": [
    "title = 'Trainspotting (1996)'"
   ]
  },
  {
   "cell_type": "code",
   "execution_count": 33,
   "metadata": {},
   "outputs": [
    {
     "data": {
      "text/plain": [
       "'Trainspotting 1996'"
      ]
     },
     "execution_count": 33,
     "metadata": {},
     "output_type": "execute_result"
    }
   ],
   "source": [
    "title.replace(')', '').replace('(', '')"
   ]
  },
  {
   "cell_type": "code",
   "execution_count": 34,
   "metadata": {},
   "outputs": [
    {
     "data": {
      "text/plain": [
       "1996"
      ]
     },
     "execution_count": 34,
     "metadata": {},
     "output_type": "execute_result"
    }
   ],
   "source": [
    "year = title.replace(')', '').replace('(', '').split(' ')[-1]\n",
    "year = int(year)\n",
    "year"
   ]
  },
  {
   "cell_type": "code",
   "execution_count": 35,
   "metadata": {
    "collapsed": true
   },
   "outputs": [],
   "source": [
    "def get_year(title): \n",
    "    \n",
    "    year = title.replace(')', '').replace('(', '').split(' ')[-1]\n",
    "    if year.isnumeric():\n",
    "        year = int(year)\n",
    "    else:\n",
    "        year = -1\n",
    "    \n",
    "    return year"
   ]
  },
  {
   "cell_type": "code",
   "execution_count": 36,
   "metadata": {
    "collapsed": true
   },
   "outputs": [],
   "source": [
    "get_year_udf = F.udf(get_year, IntegerType())"
   ]
  },
  {
   "cell_type": "code",
   "execution_count": 37,
   "metadata": {},
   "outputs": [
    {
     "name": "stdout",
     "output_type": "stream",
     "text": [
      "+---------------------------------------------+----+-----+\n",
      "|title                                        |year|year2|\n",
      "+---------------------------------------------+----+-----+\n",
      "|Shawshank Redemption, The (1994)             |1994|1994 |\n",
      "|Shrek (2001)                                 |2001|2001 |\n",
      "|Page Eight (2011)                            |2011|2011 |\n",
      "|Page Eight (2011)                            |2011|2011 |\n",
      "|Page Eight (2011)                            |2011|2011 |\n",
      "|Page Eight (2011)                            |2011|2011 |\n",
      "|Skyfall (2012)                               |2012|2012 |\n",
      "|Zero Motivation (Efes beyahasei enosh) (2014)|2014|2014 |\n",
      "|Zero Motivation (Efes beyahasei enosh) (2014)|2014|2014 |\n",
      "|Zero Motivation (Efes beyahasei enosh) (2014)|2014|2014 |\n",
      "+---------------------------------------------+----+-----+\n",
      "only showing top 10 rows\n",
      "\n"
     ]
    }
   ],
   "source": [
    "ratings_movies_df.withColumn('year2', get_year_udf(F.col('title')))\\\n",
    "                 .select('title', 'year', 'year2').show(10, truncate=False)"
   ]
  },
  {
   "cell_type": "markdown",
   "metadata": {},
   "source": [
    "\n",
    "\n",
    "# Datetimes\n",
    "\n",
    "Hay varias funciones de _pyspark_ que permiten trabajar con fechas: diferencia entre fechas, dia de la semana, año... Pero para ello primero es necesario transformar las columnas a tipo fecha. Se permite la conversion de dos formatos de fecha:\n",
    "* timestamp de unix: una columna de tipo entero con los segundos trascurridos entre la medianoche del 1 de Enero de 1990 hasta la fecha.\n",
    "* cadena: la fecha representada como una cadena siguiendo un formato específico que puede variar."
   ]
  },
  {
   "cell_type": "code",
   "execution_count": 38,
   "metadata": {},
   "outputs": [
    {
     "name": "stdout",
     "output_type": "stream",
     "text": [
      "+--------------------+----------+----------------+\n",
      "|               title| timestamp|             now|\n",
      "+--------------------+----------+----------------+\n",
      "|Shawshank Redempt...|1425942391|2019/01/21 14:08|\n",
      "|        Shrek (2001)|1459855607|2019/01/21 14:08|\n",
      "|   Page Eight (2011)|1400778834|2019/01/21 14:08|\n",
      "|   Page Eight (2011)|1400778836|2019/01/21 14:08|\n",
      "|   Page Eight (2011)|1400778841|2019/01/21 14:08|\n",
      "+--------------------+----------+----------------+\n",
      "only showing top 5 rows\n",
      "\n"
     ]
    }
   ],
   "source": [
    "ratings_movies_df.select('title', 'timestamp', 'now').show(5)"
   ]
  },
  {
   "cell_type": "markdown",
   "metadata": {},
   "source": [
    " \n",
    "\n",
    "## unix timestamp a datetime"
   ]
  },
  {
   "cell_type": "code",
   "execution_count": 39,
   "metadata": {},
   "outputs": [
    {
     "name": "stdout",
     "output_type": "stream",
     "text": [
      "+-------------------+----------+\n",
      "|           datetime| timestamp|\n",
      "+-------------------+----------+\n",
      "|2015-03-09 18:06:31|1425942391|\n",
      "|2016-04-05 06:26:47|1459855607|\n",
      "|2014-05-22 12:13:54|1400778834|\n",
      "|2014-05-22 12:13:56|1400778836|\n",
      "|2014-05-22 12:14:01|1400778841|\n",
      "|2014-05-22 12:14:01|1400778841|\n",
      "|2014-08-13 06:44:09|1407930249|\n",
      "|2014-08-12 05:05:17|1407837917|\n",
      "|2014-08-12 05:06:46|1407838006|\n",
      "|2014-08-12 05:05:13|1407837913|\n",
      "+-------------------+----------+\n",
      "only showing top 10 rows\n",
      "\n"
     ]
    }
   ],
   "source": [
    "ratings_movies_df = ratings_movies_df.withColumn('datetime', F.from_unixtime(F.col('timestamp')))\n",
    "ratings_movies_df.select('datetime', 'timestamp').show(10)"
   ]
  },
  {
   "cell_type": "markdown",
   "metadata": {},
   "source": [
    "\n",
    "\n",
    "## string a datetime"
   ]
  },
  {
   "cell_type": "code",
   "execution_count": 40,
   "metadata": {},
   "outputs": [
    {
     "name": "stdout",
     "output_type": "stream",
     "text": [
      "+----------------+-------------------+\n",
      "|             now|       now_datetime|\n",
      "+----------------+-------------------+\n",
      "|2019/01/21 14:08|2019-01-21 14:08:00|\n",
      "|2019/01/21 14:08|2019-01-21 14:08:00|\n",
      "|2019/01/21 14:08|2019-01-21 14:08:00|\n",
      "|2019/01/21 14:08|2019-01-21 14:08:00|\n",
      "|2019/01/21 14:08|2019-01-21 14:08:00|\n",
      "|2019/01/21 14:08|2019-01-21 14:08:00|\n",
      "|2019/01/21 14:08|2019-01-21 14:08:00|\n",
      "|2019/01/21 14:08|2019-01-21 14:08:00|\n",
      "|2019/01/21 14:08|2019-01-21 14:08:00|\n",
      "|2019/01/21 14:08|2019-01-21 14:08:00|\n",
      "+----------------+-------------------+\n",
      "only showing top 10 rows\n",
      "\n"
     ]
    }
   ],
   "source": [
    "ratings_movies_df = ratings_movies_df.withColumn('now_datetime', \n",
    "                                                 F.from_unixtime(F.unix_timestamp(F.col('now'), 'yyyy/MM/dd HH:mm')))\n",
    "ratings_movies_df.select('now', 'now_datetime').show(10)"
   ]
  },
  {
   "cell_type": "markdown",
   "metadata": {},
   "source": [
    "\n",
    "\n",
    "## funciones con datetimes"
   ]
  },
  {
   "cell_type": "code",
   "execution_count": 41,
   "metadata": {},
   "outputs": [
    {
     "name": "stdout",
     "output_type": "stream",
     "text": [
      "+-------------------+-------------------+--------------------------------+\n",
      "|       now_datetime|           datetime|datediff(now_datetime, datetime)|\n",
      "+-------------------+-------------------+--------------------------------+\n",
      "|2019-01-21 14:08:00|2015-03-09 18:06:31|                            1414|\n",
      "|2019-01-21 14:08:00|2016-04-05 06:26:47|                            1021|\n",
      "|2019-01-21 14:08:00|2014-05-22 12:13:54|                            1705|\n",
      "|2019-01-21 14:08:00|2014-05-22 12:13:56|                            1705|\n",
      "|2019-01-21 14:08:00|2014-05-22 12:14:01|                            1705|\n",
      "|2019-01-21 14:08:00|2014-05-22 12:14:01|                            1705|\n",
      "|2019-01-21 14:08:00|2014-08-13 06:44:09|                            1622|\n",
      "|2019-01-21 14:08:00|2014-08-12 05:05:17|                            1623|\n",
      "|2019-01-21 14:08:00|2014-08-12 05:06:46|                            1623|\n",
      "|2019-01-21 14:08:00|2014-08-12 05:05:13|                            1623|\n",
      "+-------------------+-------------------+--------------------------------+\n",
      "only showing top 10 rows\n",
      "\n"
     ]
    }
   ],
   "source": [
    "ratings_movies_df.select('now_datetime', 'datetime', F.datediff(F.col('now_datetime'), F.col('datetime'))).show(10)"
   ]
  },
  {
   "cell_type": "code",
   "execution_count": 42,
   "metadata": {},
   "outputs": [
    {
     "name": "stdout",
     "output_type": "stream",
     "text": [
      "+-------------------+----------------------+\n",
      "|           datetime|date_add(datetime, 10)|\n",
      "+-------------------+----------------------+\n",
      "|2015-03-09 18:06:31|            2015-03-19|\n",
      "|2016-04-05 06:26:47|            2016-04-15|\n",
      "|2014-05-22 12:13:54|            2014-06-01|\n",
      "|2014-05-22 12:13:56|            2014-06-01|\n",
      "|2014-05-22 12:14:01|            2014-06-01|\n",
      "|2014-05-22 12:14:01|            2014-06-01|\n",
      "|2014-08-13 06:44:09|            2014-08-23|\n",
      "|2014-08-12 05:05:17|            2014-08-22|\n",
      "|2014-08-12 05:06:46|            2014-08-22|\n",
      "|2014-08-12 05:05:13|            2014-08-22|\n",
      "+-------------------+----------------------+\n",
      "only showing top 10 rows\n",
      "\n"
     ]
    }
   ],
   "source": [
    "ratings_movies_df.select('datetime', F.date_add(F.col('datetime'), 10)).show(10)"
   ]
  },
  {
   "cell_type": "code",
   "execution_count": 43,
   "metadata": {},
   "outputs": [
    {
     "name": "stdout",
     "output_type": "stream",
     "text": [
      "+-------------------+----------------------+\n",
      "|           datetime|datetime_plus_4_months|\n",
      "+-------------------+----------------------+\n",
      "|2015-03-09 18:06:31|            2015-07-09|\n",
      "|2016-04-05 06:26:47|            2016-08-05|\n",
      "|2014-05-22 12:13:54|            2014-09-22|\n",
      "|2014-05-22 12:13:56|            2014-09-22|\n",
      "|2014-05-22 12:14:01|            2014-09-22|\n",
      "+-------------------+----------------------+\n",
      "only showing top 5 rows\n",
      "\n"
     ]
    }
   ],
   "source": [
    "ratings_movies_df.withColumn('datetime_plus_4_months', F.add_months(F.col('datetime'), 4))\\\n",
    "                  .select('datetime', 'datetime_plus_4_months').show(5)"
   ]
  },
  {
   "cell_type": "code",
   "execution_count": 44,
   "metadata": {},
   "outputs": [
    {
     "name": "stdout",
     "output_type": "stream",
     "text": [
      "+-------------------+-----+\n",
      "|           datetime|month|\n",
      "+-------------------+-----+\n",
      "|2015-03-09 18:06:31|    3|\n",
      "|2016-04-05 06:26:47|    4|\n",
      "|2014-05-22 12:13:54|    5|\n",
      "|2014-05-22 12:13:56|    5|\n",
      "|2014-05-22 12:14:01|    5|\n",
      "|2014-05-22 12:14:01|    5|\n",
      "|2014-08-13 06:44:09|    8|\n",
      "|2014-08-12 05:05:17|    8|\n",
      "|2014-08-12 05:06:46|    8|\n",
      "|2014-08-12 05:05:13|    8|\n",
      "+-------------------+-----+\n",
      "only showing top 10 rows\n",
      "\n"
     ]
    }
   ],
   "source": [
    "ratings_movies_df.select('datetime', F.month(F.col('datetime')).alias('month')).show(10)"
   ]
  },
  {
   "cell_type": "code",
   "execution_count": 45,
   "metadata": {},
   "outputs": [
    {
     "name": "stdout",
     "output_type": "stream",
     "text": [
      "+-------------------+----------+\n",
      "|           datetime|  last_day|\n",
      "+-------------------+----------+\n",
      "|2015-03-09 18:06:31|2015-03-31|\n",
      "|2016-04-05 06:26:47|2016-04-30|\n",
      "|2014-05-22 12:13:54|2014-05-31|\n",
      "|2014-05-22 12:13:56|2014-05-31|\n",
      "|2014-05-22 12:14:01|2014-05-31|\n",
      "|2014-05-22 12:14:01|2014-05-31|\n",
      "|2014-08-13 06:44:09|2014-08-31|\n",
      "|2014-08-12 05:05:17|2014-08-31|\n",
      "|2014-08-12 05:06:46|2014-08-31|\n",
      "|2014-08-12 05:05:13|2014-08-31|\n",
      "+-------------------+----------+\n",
      "only showing top 10 rows\n",
      "\n"
     ]
    }
   ],
   "source": [
    "ratings_movies_df.select('datetime', F.last_day(F.col('datetime')).alias('last_day')).show(10)"
   ]
  },
  {
   "cell_type": "code",
   "execution_count": 46,
   "metadata": {},
   "outputs": [
    {
     "name": "stdout",
     "output_type": "stream",
     "text": [
      "+-------------------+---+--------+-------+\n",
      "|           datetime|day|year_day|weekday|\n",
      "+-------------------+---+--------+-------+\n",
      "|2015-03-09 18:06:31|  9|      68|    Mon|\n",
      "|2016-04-05 06:26:47|  5|      96|    Tue|\n",
      "|2014-05-22 12:13:54| 22|     142|    Thu|\n",
      "|2014-05-22 12:13:56| 22|     142|    Thu|\n",
      "|2014-05-22 12:14:01| 22|     142|    Thu|\n",
      "|2014-05-22 12:14:01| 22|     142|    Thu|\n",
      "|2014-08-13 06:44:09| 13|     225|    Wed|\n",
      "|2014-08-12 05:05:17| 12|     224|    Tue|\n",
      "|2014-08-12 05:06:46| 12|     224|    Tue|\n",
      "|2014-08-12 05:05:13| 12|     224|    Tue|\n",
      "+-------------------+---+--------+-------+\n",
      "only showing top 10 rows\n",
      "\n"
     ]
    }
   ],
   "source": [
    "ratings_movies_df.select('datetime', F.dayofmonth(F.col('datetime')).alias('day'),\n",
    "                                     F.dayofyear(F.col('datetime')).alias('year_day'),\n",
    "                                     F.date_format(F.col('datetime'), 'E').alias('weekday')).show(10)"
   ]
  },
  {
   "cell_type": "markdown",
   "metadata": {},
   "source": [
    "\n",
    "\n",
    "Para filtrar por fechas se pueden comparar directamente con una cadena en el formato YYYY-MM-DD hh:mm:ss ya que será interpretada como una fecha."
   ]
  },
  {
   "cell_type": "code",
   "execution_count": 47,
   "metadata": {},
   "outputs": [
    {
     "name": "stdout",
     "output_type": "stream",
     "text": [
      "+-------------------+--------------------+-------------------+\n",
      "|           datetime|               title|             rating|\n",
      "+-------------------+--------------------+-------------------+\n",
      "|2016-04-05 06:26:47|        Shrek (2001)| 0.9968457084194876|\n",
      "|2015-12-25 10:59:28|Star Wars: Episod...|0.13558505903248463|\n",
      "|2016-04-30 23:53:29|Dr. Strangelove o...| 0.5096446566732716|\n",
      "|2016-04-30 23:51:01|  The Martian (2015)|  0.428529255326898|\n",
      "|2017-02-09 15:47:57|Apartment, The (1...|0.13659992245850905|\n",
      "|2017-01-04 19:46:16|Everyone Says I L...|0.17733014917469325|\n",
      "|2017-01-04 19:46:18|Everyone Says I L...| 0.5234339752799414|\n",
      "|2017-01-04 19:46:14|Everyone Says I L...|   0.78018784851751|\n",
      "|2017-01-05 18:31:18|     Swingers (1996)| 0.4818668636340552|\n",
      "|2017-01-05 18:31:46|     Swingers (1996)| 0.9008459886834707|\n",
      "+-------------------+--------------------+-------------------+\n",
      "only showing top 10 rows\n",
      "\n"
     ]
    }
   ],
   "source": [
    "ratings_movies_df.filter(F.col('datetime') >= \"2015-09-30 20:00:00\").select('datetime', 'title', 'rating').show(10)"
   ]
  },
  {
   "cell_type": "code",
   "execution_count": 48,
   "metadata": {},
   "outputs": [
    {
     "name": "stdout",
     "output_type": "stream",
     "text": [
      "+--------+-----+------+\n",
      "|datetime|title|rating|\n",
      "+--------+-----+------+\n",
      "+--------+-----+------+\n",
      "\n"
     ]
    }
   ],
   "source": [
    "ratings_movies_df.filter(F.col('datetime').between(\"2003-01-31\", \"2003-02-10\"))\\\n",
    "                  .select('datetime', 'title', 'rating').show(5)"
   ]
  },
  {
   "cell_type": "code",
   "execution_count": 49,
   "metadata": {},
   "outputs": [
    {
     "name": "stdout",
     "output_type": "stream",
     "text": [
      "+-------------------+--------------------+-------------------+\n",
      "|           datetime|               title|             rating|\n",
      "+-------------------+--------------------+-------------------+\n",
      "|2015-03-09 18:06:31|Shawshank Redempt...| 0.8815723431402016|\n",
      "|2016-04-05 06:26:47|        Shrek (2001)| 0.9968457084194876|\n",
      "|2014-05-22 12:13:54|   Page Eight (2011)| 0.2875929481456937|\n",
      "|2014-05-22 12:13:56|   Page Eight (2011)|0.23552414016865086|\n",
      "|2014-05-22 12:14:01|   Page Eight (2011)|0.07069456430435894|\n",
      "+-------------------+--------------------+-------------------+\n",
      "only showing top 5 rows\n",
      "\n"
     ]
    }
   ],
   "source": [
    "ratings_movies_df.filter(F.year(F.col('datetime')) >= 2012)\\\n",
    "                 .select('datetime', 'title', 'rating').show(5)"
   ]
  }
 ],
 "metadata": {
  "kernelspec": {
   "display_name": "Python 3",
   "language": "python",
   "name": "python3"
  },
  "language_info": {
   "codemirror_mode": {
    "name": "ipython",
    "version": 3
   },
   "file_extension": ".py",
   "mimetype": "text/x-python",
   "name": "python",
   "nbconvert_exporter": "python",
   "pygments_lexer": "ipython3",
   "version": "3.7.3"
  },
  "toc": {
   "base_numbering": 1,
   "nav_menu": {},
   "number_sections": false,
   "sideBar": true,
   "skip_h1_title": false,
   "title_cell": "Table of Contents",
   "title_sidebar": "Contents",
   "toc_cell": false,
   "toc_position": {},
   "toc_section_display": true,
   "toc_window_display": true
  }
 },
 "nbformat": 4,
 "nbformat_minor": 2
}
