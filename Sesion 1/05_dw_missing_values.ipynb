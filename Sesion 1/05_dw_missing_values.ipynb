{
 "cells": [
  {
   "cell_type": "code",
   "execution_count": 1,
   "metadata": {
    "collapsed": true
   },
   "outputs": [],
   "source": [
    "# Respuesta\n",
    "import os\n",
    "os.environ['PYSPARK_PYTHON'] = '/usr/local/bin/python3.6'\n",
    "\n",
    "from pyspark.sql import SparkSession\n",
    "\n",
    "spark = SparkSession.builder.getOrCreate()"
   ]
  },
  {
   "cell_type": "markdown",
   "metadata": {},
   "source": [
    "\n",
    "\n",
    "# Valores Ausentes\n",
    "\n",
    "Los valores ausentes en _pyspark_ están identificados como _null_. El método `isNull` permite idenficar los registros nulos y `isNotNull` los no nulos."
   ]
  },
  {
   "cell_type": "code",
   "execution_count": 2,
   "metadata": {
    "collapsed": true
   },
   "outputs": [],
   "source": [
    "from pyspark.sql import functions as F"
   ]
  },
  {
   "cell_type": "code",
   "execution_count": 3,
   "metadata": {
    "collapsed": true
   },
   "outputs": [],
   "source": [
    "vancouver_df = spark.read.csv('Data/crime_in_vancouver.csv', sep=',', header=True, inferSchema=True)"
   ]
  },
  {
   "cell_type": "code",
   "execution_count": 4,
   "metadata": {},
   "outputs": [
    {
     "name": "stdout",
     "output_type": "stream",
     "text": [
      "+--------------------+----+-----+---+----+------+--------------------+-------------+---+---+\n",
      "|                TYPE|YEAR|MONTH|DAY|HOUR|MINUTE|       HUNDRED_BLOCK|NEIGHBOURHOOD|  X|  Y|\n",
      "+--------------------+----+-----+---+----+------+--------------------+-------------+---+---+\n",
      "|Offence Against a...|2003|    5| 17|null|  null|OFFSET TO PROTECT...|         null|0.0|0.0|\n",
      "|Offence Against a...|2003|    6|  3|null|  null|OFFSET TO PROTECT...|         null|0.0|0.0|\n",
      "|Offence Against a...|2003|    7| 17|null|  null|OFFSET TO PROTECT...|         null|0.0|0.0|\n",
      "|Offence Against a...|2003|    6| 26|null|  null|OFFSET TO PROTECT...|         null|0.0|0.0|\n",
      "+--------------------+----+-----+---+----+------+--------------------+-------------+---+---+\n",
      "only showing top 4 rows\n",
      "\n"
     ]
    }
   ],
   "source": [
    "vancouver_df.filter(F.col('NEIGHBOURHOOD').isNull()).show(4)"
   ]
  },
  {
   "cell_type": "code",
   "execution_count": 5,
   "metadata": {},
   "outputs": [
    {
     "name": "stdout",
     "output_type": "stream",
     "text": [
      "+--------------------+----+-----+---+----+------+--------------------+--------------------+---------+----------+\n",
      "|                TYPE|YEAR|MONTH|DAY|HOUR|MINUTE|       HUNDRED_BLOCK|       NEIGHBOURHOOD|        X|         Y|\n",
      "+--------------------+----+-----+---+----+------+--------------------+--------------------+---------+----------+\n",
      "|  Theft from Vehicle|2003|    1|  7|  10|     0|CARDERO ST / W GE...|            West End|490503.48|5459766.67|\n",
      "|  Theft from Vehicle|2003|    7| 27|   5|     0|    53XX CHAMBERS ST| Renfrew-Collingwood|496145.89|5453740.68|\n",
      "|Break and Enter R...|2003|    3|  8|   4|    15|     19XX E 12TH AVE|Kensington-Cedar ...|495302.97|5456313.79|\n",
      "|  Theft from Vehicle|2003|   10|  9|  16|     0|     16XX CHARLES ST|  Grandview-Woodland|494877.89| 5457816.4|\n",
      "+--------------------+----+-----+---+----+------+--------------------+--------------------+---------+----------+\n",
      "only showing top 4 rows\n",
      "\n"
     ]
    }
   ],
   "source": [
    "vancouver_df.filter(F.col('NEIGHBOURHOOD').isNotNull()).show(4)"
   ]
  },
  {
   "cell_type": "markdown",
   "metadata": {},
   "source": [
    " \n",
    "\n",
    "## Conteo de valores nulos"
   ]
  },
  {
   "cell_type": "code",
   "execution_count": 6,
   "metadata": {},
   "outputs": [
    {
     "data": {
      "text/plain": [
       "58423"
      ]
     },
     "execution_count": 6,
     "metadata": {},
     "output_type": "execute_result"
    }
   ],
   "source": [
    "vancouver_df.filter(F.col('NEIGHBOURHOOD').isNull()).count()"
   ]
  },
  {
   "cell_type": "code",
   "execution_count": 7,
   "metadata": {},
   "outputs": [
    {
     "data": {
      "text/plain": [
       "0"
      ]
     },
     "execution_count": 7,
     "metadata": {},
     "output_type": "execute_result"
    }
   ],
   "source": [
    "vancouver_df.filter(F.col('TYPE').isNull()).count()"
   ]
  },
  {
   "cell_type": "markdown",
   "metadata": {},
   "source": [
    "\n",
    "\n",
    "### Porcentaje de ausentes por columna\n",
    "\n",
    "El primer método es menos eficiente que el segundo ya que requiere ejecutar una acción por cada columna. Como norma general en Spark hay que intentar realizar el número mínimo de acciones."
   ]
  },
  {
   "cell_type": "code",
   "execution_count": 8,
   "metadata": {
    "collapsed": true
   },
   "outputs": [],
   "source": [
    "n_rows_vancouver = vancouver_df.count()"
   ]
  },
  {
   "cell_type": "markdown",
   "metadata": {},
   "source": [
    "\n",
    "\n",
    "__Método 1:__"
   ]
  },
  {
   "cell_type": "code",
   "execution_count": 9,
   "metadata": {},
   "outputs": [
    {
     "name": "stdout",
     "output_type": "stream",
     "text": [
      "TYPE 0.0\n",
      "YEAR 0.0\n",
      "MONTH 0.0\n",
      "DAY 0.0\n",
      "HOUR 10.16\n",
      "MINUTE 10.16\n",
      "HUNDRED_BLOCK 0.0\n",
      "NEIGHBOURHOOD 10.58\n",
      "X 0.0\n",
      "Y 0.0\n",
      "CPU times: user 30.3 ms, sys: 9.04 ms, total: 39.3 ms\n",
      "Wall time: 9.58 s\n"
     ]
    }
   ],
   "source": [
    "%%time\n",
    "\n",
    "for col in vancouver_df.columns:\n",
    "    \n",
    "    n_missing = vancouver_df.filter(F.col(col).isNull()).count()\n",
    "    perc_missing = 100 * n_missing / n_rows_vancouver\n",
    "    \n",
    "    print(col, round(perc_missing, 2))"
   ]
  },
  {
   "cell_type": "markdown",
   "metadata": {},
   "source": [
    "\n",
    "\n",
    "__Método 2:__\n",
    "\n",
    "Para una única columna"
   ]
  },
  {
   "cell_type": "code",
   "execution_count": 10,
   "metadata": {},
   "outputs": [
    {
     "name": "stdout",
     "output_type": "stream",
     "text": [
      "+-------------+\n",
      "|NEIGHBOURHOOD|\n",
      "+-------------+\n",
      "|        10.58|\n",
      "+-------------+\n",
      "\n"
     ]
    }
   ],
   "source": [
    "vancouver_df.select(F.round(F.sum(F.col('NEIGHBOURHOOD').isNull().cast('int')) * 100 / n_rows_vancouver, 2)\\\n",
    "                      .alias('NEIGHBOURHOOD')).show()"
   ]
  },
  {
   "cell_type": "markdown",
   "metadata": {},
   "source": [
    "\n",
    "\n",
    "Todas las columnas"
   ]
  },
  {
   "cell_type": "code",
   "execution_count": 11,
   "metadata": {},
   "outputs": [
    {
     "name": "stdout",
     "output_type": "stream",
     "text": [
      "+----+----+-----+---+-----+------+-------------+-------------+---+---+\n",
      "|TYPE|YEAR|MONTH|DAY| HOUR|MINUTE|HUNDRED_BLOCK|NEIGHBOURHOOD|  X|  Y|\n",
      "+----+----+-----+---+-----+------+-------------+-------------+---+---+\n",
      "| 0.0| 0.0|  0.0|0.0|10.16| 10.16|          0.0|        10.58|0.0|0.0|\n",
      "+----+----+-----+---+-----+------+-------------+-------------+---+---+\n",
      "\n",
      "CPU times: user 33.9 ms, sys: 7.76 ms, total: 41.7 ms\n",
      "Wall time: 2.27 s\n"
     ]
    }
   ],
   "source": [
    "%%time \n",
    "\n",
    "missing_ops = [F.round(F.sum(F.col(c).isNull().cast('int')) * 100 / n_rows_vancouver, 2).alias(c) \n",
    "               for c in vancouver_df.columns]\n",
    "\n",
    "vancouver_df.select(missing_ops).show()"
   ]
  },
  {
   "cell_type": "markdown",
   "metadata": {},
   "source": [
    " \n",
    "\n",
    "## Eliminación registros nulos\n",
    "\n",
    "El método `dropNa` se utiliza para eliminar registros nulos. Con el parámetro `subset` se indican sobre qué columnas buscar nulos y el parámetro `how` selecciona con qué condición se elimina un registro."
   ]
  },
  {
   "cell_type": "code",
   "execution_count": 12,
   "metadata": {},
   "outputs": [
    {
     "data": {
      "text/plain": [
       "552055"
      ]
     },
     "execution_count": 12,
     "metadata": {},
     "output_type": "execute_result"
    }
   ],
   "source": [
    "vancouver_df.dropna(how='all').count()"
   ]
  },
  {
   "cell_type": "code",
   "execution_count": 13,
   "metadata": {},
   "outputs": [
    {
     "data": {
      "text/plain": [
       "493619"
      ]
     },
     "execution_count": 13,
     "metadata": {},
     "output_type": "execute_result"
    }
   ],
   "source": [
    "vancouver_df.dropna(how='any').count()"
   ]
  },
  {
   "cell_type": "code",
   "execution_count": 14,
   "metadata": {
    "collapsed": true
   },
   "outputs": [],
   "source": [
    "vancouver_no_missing_df = vancouver_df.dropna(subset=['HOUR', 'MINUTE'])"
   ]
  },
  {
   "cell_type": "code",
   "execution_count": 15,
   "metadata": {},
   "outputs": [
    {
     "name": "stdout",
     "output_type": "stream",
     "text": [
      "+----+----+-----+---+----+------+-------------+-------------+---+---+\n",
      "|TYPE|YEAR|MONTH|DAY|HOUR|MINUTE|HUNDRED_BLOCK|NEIGHBOURHOOD|  X|  Y|\n",
      "+----+----+-----+---+----+------+-------------+-------------+---+---+\n",
      "| 0.0| 0.0|  0.0|0.0| 0.0|   0.0|          0.0|         0.42|0.0|0.0|\n",
      "+----+----+-----+---+----+------+-------------+-------------+---+---+\n",
      "\n"
     ]
    }
   ],
   "source": [
    "vancouver_no_missing_df.select(missing_ops).show()"
   ]
  },
  {
   "cell_type": "markdown",
   "metadata": {},
   "source": [
    "\n",
    "\n",
    "## Imputación de valores nulos\n",
    "\n",
    "`fillna` imputa los valores nulos de las columnas a un valor fijo elegido."
   ]
  },
  {
   "cell_type": "code",
   "execution_count": 16,
   "metadata": {},
   "outputs": [
    {
     "name": "stdout",
     "output_type": "stream",
     "text": [
      "+--------------------+----+-----+---+----+------+--------------------+-------------------+---------+----------+\n",
      "|                TYPE|YEAR|MONTH|DAY|HOUR|MINUTE|       HUNDRED_BLOCK|      NEIGHBOURHOOD|        X|         Y|\n",
      "+--------------------+----+-----+---+----+------+--------------------+-------------------+---------+----------+\n",
      "|Offence Against a...|2003|    5| 17|null|  null|OFFSET TO PROTECT...|               null|      0.0|       0.0|\n",
      "|  Theft from Vehicle|2003|    1|  7|  10|     0|CARDERO ST / W GE...|           West End|490503.48|5459766.67|\n",
      "|  Theft from Vehicle|2003|    7| 27|   5|     0|    53XX CHAMBERS ST|Renfrew-Collingwood|496145.89|5453740.68|\n",
      "+--------------------+----+-----+---+----+------+--------------------+-------------------+---------+----------+\n",
      "only showing top 3 rows\n",
      "\n"
     ]
    }
   ],
   "source": [
    "vancouver_df.show(3)"
   ]
  },
  {
   "cell_type": "code",
   "execution_count": 17,
   "metadata": {},
   "outputs": [
    {
     "name": "stdout",
     "output_type": "stream",
     "text": [
      "+--------------------+----+-----+---+----+------+--------------------+-------------------+---------+----------+\n",
      "|                TYPE|YEAR|MONTH|DAY|HOUR|MINUTE|       HUNDRED_BLOCK|      NEIGHBOURHOOD|        X|         Y|\n",
      "+--------------------+----+-----+---+----+------+--------------------+-------------------+---------+----------+\n",
      "|Offence Against a...|2003|    5| 17|   0|     0|OFFSET TO PROTECT...|               null|      0.0|       0.0|\n",
      "|  Theft from Vehicle|2003|    1|  7|  10|     0|CARDERO ST / W GE...|           West End|490503.48|5459766.67|\n",
      "|  Theft from Vehicle|2003|    7| 27|   5|     0|    53XX CHAMBERS ST|Renfrew-Collingwood|496145.89|5453740.68|\n",
      "+--------------------+----+-----+---+----+------+--------------------+-------------------+---------+----------+\n",
      "only showing top 3 rows\n",
      "\n"
     ]
    }
   ],
   "source": [
    "vancouver_df.fillna(0, subset=['HOUR', 'MINUTE']).show(3)"
   ]
  },
  {
   "cell_type": "code",
   "execution_count": 18,
   "metadata": {},
   "outputs": [
    {
     "name": "stdout",
     "output_type": "stream",
     "text": [
      "+--------------------+----+-----+---+----+------+--------------------+-------------------+---------+----------+\n",
      "|                TYPE|YEAR|MONTH|DAY|HOUR|MINUTE|       HUNDRED_BLOCK|      NEIGHBOURHOOD|        X|         Y|\n",
      "+--------------------+----+-----+---+----+------+--------------------+-------------------+---------+----------+\n",
      "|Offence Against a...|2003|    5| 17|null|  null|OFFSET TO PROTECT...|            Unknown|      0.0|       0.0|\n",
      "|  Theft from Vehicle|2003|    1|  7|  10|     0|CARDERO ST / W GE...|           West End|490503.48|5459766.67|\n",
      "|  Theft from Vehicle|2003|    7| 27|   5|     0|    53XX CHAMBERS ST|Renfrew-Collingwood|496145.89|5453740.68|\n",
      "+--------------------+----+-----+---+----+------+--------------------+-------------------+---------+----------+\n",
      "only showing top 3 rows\n",
      "\n"
     ]
    }
   ],
   "source": [
    "vancouver_df.fillna('Unknown', subset=['NEIGHBOURHOOD']).show(3)"
   ]
  }
 ],
 "metadata": {
  "kernelspec": {
   "display_name": "Python 3",
   "language": "python",
   "name": "python3"
  },
  "language_info": {
   "codemirror_mode": {
    "name": "ipython",
    "version": 3
   },
   "file_extension": ".py",
   "mimetype": "text/x-python",
   "name": "python",
   "nbconvert_exporter": "python",
   "pygments_lexer": "ipython3",
   "version": "3.7.3"
  },
  "toc": {
   "base_numbering": 1,
   "nav_menu": {},
   "number_sections": false,
   "sideBar": true,
   "skip_h1_title": false,
   "title_cell": "Table of Contents",
   "title_sidebar": "Contents",
   "toc_cell": false,
   "toc_position": {},
   "toc_section_display": true,
   "toc_window_display": true
  }
 },
 "nbformat": 4,
 "nbformat_minor": 2
}
