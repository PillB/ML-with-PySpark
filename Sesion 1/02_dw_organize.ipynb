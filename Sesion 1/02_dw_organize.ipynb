{
 "cells": [
  {
   "cell_type": "markdown",
   "metadata": {},
   "source": [
    "\n",
    "\n",
    "\n",
    "# Organizar datos\n",
    "\n",
    "Una de las fases del proceso de data wrangling consiste en dar una estructura a los datos, normálmente esta fase conlleva las siguientes operaciones:\n",
    "\n",
    "- Establecer índices, renombrar columnas.\n",
    "\n",
    "- Ordenar valores.\n",
    "\n",
    "- Eliminar duplicados\n",
    "\n",
    "- Filtrar registros y/o columnas\n",
    "\n",
    "- Editar información\n",
    "\n",
    "- Modificar la estructura de los datos"
   ]
  },
  {
   "cell_type": "code",
   "execution_count": 1,
   "metadata": {
    "collapsed": true
   },
   "outputs": [],
   "source": [
    "# Respuesta\n",
    "import os\n",
    "os.environ['PYSPARK_PYTHON'] = '/usr/local/bin/python3.6'\n",
    "\n",
    "from pyspark.sql import SparkSession\n",
    "\n",
    "spark = SparkSession.builder.getOrCreate()"
   ]
  },
  {
   "cell_type": "code",
   "execution_count": 1,
   "metadata": {},
   "outputs": [],
   "source": [
    "\n",
    "from pyspark.sql import SparkSession\n",
    "\n",
    "spark = SparkSession.builder.getOrCreate()"
   ]
  },
  {
   "cell_type": "markdown",
   "metadata": {},
   "source": [
    "\n",
    "\n",
    "<div class=\"alert alert-danger\" role=\"alert\">\n",
    "  <strong>NOTA:</strong> Los métodos para organizar los datos de DataFrames de Spark son siempre <b>transformaciones</b>. Es importante recordar que el resultado de una transformación de un DataFrame es siempre otro DataFrame.\n",
    "</div>"
   ]
  },
  {
   "cell_type": "code",
   "execution_count": 2,
   "metadata": {},
   "outputs": [],
   "source": [
    "vancouver_df = spark.read.csv('Data/crime_in_vancouver.csv', sep=',', header=True, inferSchema=True)\n",
    "pokemon_df = spark.read.csv('Data/pokemon.csv', sep=',', header=True, inferSchema=True)"
   ]
  },
  {
   "cell_type": "code",
   "execution_count": 3,
   "metadata": {},
   "outputs": [
    {
     "name": "stdout",
     "output_type": "stream",
     "text": [
      "+---+-------------+------+------+---+------+-------+-------+-------+-----+----------+---------+\n",
      "|  #|         Name|Type 1|Type 2| HP|Attack|Defense|Sp. Atk|Sp. Def|Speed|Generation|Legendary|\n",
      "+---+-------------+------+------+---+------+-------+-------+-------+-----+----------+---------+\n",
      "|  1|    Bulbasaur| Grass|Poison| 45|    49|     49|     65|     65|   45|         1|    false|\n",
      "|  2|      Ivysaur| Grass|Poison| 60|    62|     63|     80|     80|   60|         1|    false|\n",
      "|  3|     Venusaur| Grass|Poison| 80|    82|     83|    100|    100|   80|         1|    false|\n",
      "|  4|Mega Venusaur| Grass|Poison| 80|   100|    123|    122|    120|   80|         1|    false|\n",
      "|  5|   Charmander|  Fire|  null| 39|    52|     43|     60|     50|   65|         1|    false|\n",
      "|  6|   Charmeleon|  Fire|  null| 58|    64|     58|     80|     65|   80|         1|    false|\n",
      "+---+-------------+------+------+---+------+-------+-------+-------+-----+----------+---------+\n",
      "only showing top 6 rows\n",
      "\n"
     ]
    }
   ],
   "source": [
    "pokemon_df.show(6)"
   ]
  },
  {
   "cell_type": "code",
   "execution_count": 4,
   "metadata": {},
   "outputs": [
    {
     "name": "stdout",
     "output_type": "stream",
     "text": [
      "+--------------------+----+-----+---+----+------+--------------------+--------------------+---------+----------+\n",
      "|                TYPE|YEAR|MONTH|DAY|HOUR|MINUTE|       HUNDRED_BLOCK|       NEIGHBOURHOOD|        X|         Y|\n",
      "+--------------------+----+-----+---+----+------+--------------------+--------------------+---------+----------+\n",
      "|Offence Against a...|2003|    5| 17|null|  null|OFFSET TO PROTECT...|                null|      0.0|       0.0|\n",
      "|  Theft from Vehicle|2003|    1|  7|  10|     0|CARDERO ST / W GE...|            West End|490503.48|5459766.67|\n",
      "|  Theft from Vehicle|2003|    7| 27|   5|     0|    53XX CHAMBERS ST| Renfrew-Collingwood|496145.89|5453740.68|\n",
      "|Break and Enter R...|2003|    3|  8|   4|    15|     19XX E 12TH AVE|Kensington-Cedar ...|495302.97|5456313.79|\n",
      "|  Theft from Vehicle|2003|   10|  9|  16|     0|     16XX CHARLES ST|  Grandview-Woodland|494877.89| 5457816.4|\n",
      "+--------------------+----+-----+---+----+------+--------------------+--------------------+---------+----------+\n",
      "only showing top 5 rows\n",
      "\n"
     ]
    }
   ],
   "source": [
    "vancouver_df.show(5)"
   ]
  },
  {
   "cell_type": "markdown",
   "metadata": {},
   "source": [
    "\n",
    "\n",
    "## Filtrar Columnas\n",
    "\n",
    "### Select\n",
    "\n",
    "El método `select` es una **transformación** para seleccionar un subconjunto de columnas. `select` puede recibir una lista de columnas o los nombres de las columnas como parámetros independientes. Funciona como la sentencia SQL _SELECT_."
   ]
  },
  {
   "cell_type": "code",
   "execution_count": 5,
   "metadata": {},
   "outputs": [
    {
     "name": "stdout",
     "output_type": "stream",
     "text": [
      "+-------------+------+------+\n",
      "|         Name|Type 1|Type 2|\n",
      "+-------------+------+------+\n",
      "|    Bulbasaur| Grass|Poison|\n",
      "|      Ivysaur| Grass|Poison|\n",
      "|     Venusaur| Grass|Poison|\n",
      "|Mega Venusaur| Grass|Poison|\n",
      "|   Charmander|  Fire|  null|\n",
      "+-------------+------+------+\n",
      "only showing top 5 rows\n",
      "\n"
     ]
    }
   ],
   "source": [
    "pk_name_type = pokemon_df.select('Name', 'Type 1', 'Type 2')\n",
    "pk_name_type.show(5)"
   ]
  },
  {
   "cell_type": "code",
   "execution_count": 6,
   "metadata": {},
   "outputs": [
    {
     "name": "stdout",
     "output_type": "stream",
     "text": [
      "+--------------------+--------------------+----+\n",
      "|       NEIGHBOURHOOD|                TYPE|YEAR|\n",
      "+--------------------+--------------------+----+\n",
      "|                null|Offence Against a...|2003|\n",
      "|            West End|  Theft from Vehicle|2003|\n",
      "| Renfrew-Collingwood|  Theft from Vehicle|2003|\n",
      "|Kensington-Cedar ...|Break and Enter R...|2003|\n",
      "|  Grandview-Woodland|  Theft from Vehicle|2003|\n",
      "+--------------------+--------------------+----+\n",
      "only showing top 5 rows\n",
      "\n"
     ]
    }
   ],
   "source": [
    "columns = ['NEIGHBOURHOOD', 'TYPE', 'YEAR']\n",
    "\n",
    "vancouver_df.select(columns).show(5)"
   ]
  },
  {
   "cell_type": "markdown",
   "metadata": {},
   "source": [
    "\n",
    "\n",
    "### Drop\n",
    "\n",
    "El método `drop` tiene la función contraria al `select`, elimina un subconjunto de columnas. En este caso no se puede pasar una lista de columnas, es necesario utlizar el operador `*` para convertirlo a parámetros indivuales.\n",
    "\n",
    "**OJO:** Si se intenta eliminar una columna que no existe no devuelve error."
   ]
  },
  {
   "cell_type": "code",
   "execution_count": 12,
   "metadata": {},
   "outputs": [
    {
     "name": "stdout",
     "output_type": "stream",
     "text": [
      "+--------------------+----+-----+---+----+------+--------------------+-------------------+\n",
      "|                type|year|month|day|hour|minute|       hundred_block|      neighbourhood|\n",
      "+--------------------+----+-----+---+----+------+--------------------+-------------------+\n",
      "|Offence Against a...|2003|    5| 17|null|  null|OFFSET TO PROTECT...|               null|\n",
      "|  Theft from Vehicle|2003|    1|  7|  10|     0|CARDERO ST / W GE...|           West End|\n",
      "|  Theft from Vehicle|2003|    7| 27|   5|     0|    53XX CHAMBERS ST|Renfrew-Collingwood|\n",
      "+--------------------+----+-----+---+----+------+--------------------+-------------------+\n",
      "only showing top 3 rows\n",
      "\n"
     ]
    }
   ],
   "source": [
    "vancouver_df = vancouver_df.drop('X', 'Y', 'Z')\n",
    "vancouver_df.show(3)"
   ]
  },
  {
   "cell_type": "code",
   "execution_count": 13,
   "metadata": {},
   "outputs": [
    {
     "name": "stdout",
     "output_type": "stream",
     "text": [
      "+---+---------+------+------+---+----------+---------+\n",
      "|  #|     Name|Type 1|Type 2| HP|Generation|Legendary|\n",
      "+---+---------+------+------+---+----------+---------+\n",
      "|  1|Bulbasaur| Grass|Poison| 45|         1|    false|\n",
      "|  2|  Ivysaur| Grass|Poison| 60|         1|    false|\n",
      "|  3| Venusaur| Grass|Poison| 80|         1|    false|\n",
      "+---+---------+------+------+---+----------+---------+\n",
      "only showing top 3 rows\n",
      "\n"
     ]
    }
   ],
   "source": [
    "drop_columns = ['Attack', 'Defense', 'Sp. Atk', 'Sp. Def', 'Speed']\n",
    "\n",
    "pokemon_df.drop(*drop_columns).show(3)"
   ]
  },
  {
   "cell_type": "markdown",
   "metadata": {},
   "source": [
    "\n",
    "\n",
    "## Renombrar columnas\n",
    "\n",
    "\n",
    "### Una columna\n",
    "\n",
    "El método para renombrar columnas en _pyspark_ es `withColumnRenamed`. Este método recibe dos parámetros, el nombre de la columna original y la nueva, por tanto sirve para renombar una única columna."
   ]
  },
  {
   "cell_type": "code",
   "execution_count": 14,
   "metadata": {},
   "outputs": [
    {
     "name": "stdout",
     "output_type": "stream",
     "text": [
      "+---+---------+------+------+---+------+-------+-------+-------+-----+----------+---------+\n",
      "|  #|     Name|type_1|Type 2| HP|Attack|Defense|Sp. Atk|Sp. Def|Speed|Generation|Legendary|\n",
      "+---+---------+------+------+---+------+-------+-------+-------+-----+----------+---------+\n",
      "|  1|Bulbasaur| Grass|Poison| 45|    49|     49|     65|     65|   45|         1|    false|\n",
      "|  2|  Ivysaur| Grass|Poison| 60|    62|     63|     80|     80|   60|         1|    false|\n",
      "|  3| Venusaur| Grass|Poison| 80|    82|     83|    100|    100|   80|         1|    false|\n",
      "+---+---------+------+------+---+------+-------+-------+-------+-----+----------+---------+\n",
      "only showing top 3 rows\n",
      "\n"
     ]
    }
   ],
   "source": [
    "pokemon_df.withColumnRenamed('Type 1', 'type_1').show(3)"
   ]
  },
  {
   "cell_type": "markdown",
   "metadata": {},
   "source": [
    " \n",
    "\n",
    "Recuerda que se pueden concatenar transformaciones."
   ]
  },
  {
   "cell_type": "code",
   "execution_count": 15,
   "metadata": {},
   "outputs": [
    {
     "name": "stdout",
     "output_type": "stream",
     "text": [
      "+--------------------+----+-----+---+----+------+--------------------+-------------------+\n",
      "|                type|year|month|day|hour|minute|       hundred_block|      neighbourhood|\n",
      "+--------------------+----+-----+---+----+------+--------------------+-------------------+\n",
      "|Offence Against a...|2003|    5| 17|null|  null|OFFSET TO PROTECT...|               null|\n",
      "|  Theft from Vehicle|2003|    1|  7|  10|     0|CARDERO ST / W GE...|           West End|\n",
      "|  Theft from Vehicle|2003|    7| 27|   5|     0|    53XX CHAMBERS ST|Renfrew-Collingwood|\n",
      "+--------------------+----+-----+---+----+------+--------------------+-------------------+\n",
      "only showing top 3 rows\n",
      "\n"
     ]
    }
   ],
   "source": [
    "vancouver_df.withColumnRenamed('YEAR', 'year').withColumnRenamed('DAY', 'day').show(3)"
   ]
  },
  {
   "cell_type": "markdown",
   "metadata": {},
   "source": [
    "\n",
    "\n",
    "### Varias columnas\n",
    "\n",
    "Por ejemplo, imaginemos que queremos convertir a mínusculas y sin espacios todos los nombres de las columnas. En spark hay dos opciones: un bucle con `withColumnRenamed` renamed o utilizar el método `select` con `alias`.\n",
    "\n",
    "Usando `withColumnRenamed`:"
   ]
  },
  {
   "cell_type": "code",
   "execution_count": 16,
   "metadata": {},
   "outputs": [],
   "source": [
    "for col in pokemon_df.columns:\n",
    "    pokemon_df = pokemon_df.withColumnRenamed(col, col.lower().replace(' ', '_').replace('.', ''))"
   ]
  },
  {
   "cell_type": "code",
   "execution_count": 17,
   "metadata": {},
   "outputs": [
    {
     "name": "stdout",
     "output_type": "stream",
     "text": [
      "+---+---------+------+------+---+------+-------+------+------+-----+----------+---------+\n",
      "|  #|     name|type_1|type_2| hp|attack|defense|sp_atk|sp_def|speed|generation|legendary|\n",
      "+---+---------+------+------+---+------+-------+------+------+-----+----------+---------+\n",
      "|  1|Bulbasaur| Grass|Poison| 45|    49|     49|    65|    65|   45|         1|    false|\n",
      "|  2|  Ivysaur| Grass|Poison| 60|    62|     63|    80|    80|   60|         1|    false|\n",
      "|  3| Venusaur| Grass|Poison| 80|    82|     83|   100|   100|   80|         1|    false|\n",
      "+---+---------+------+------+---+------+-------+------+------+-----+----------+---------+\n",
      "only showing top 3 rows\n",
      "\n"
     ]
    }
   ],
   "source": [
    "pokemon_df.show(3)"
   ]
  },
  {
   "cell_type": "markdown",
   "metadata": {},
   "source": [
    "\n",
    "\n",
    "El módulo `pyspark.sql.functions` contiene todas las funciones de spark implementadas para tratar con DataFrames. La función `alias` se puede utilizar junto con `select` para seleccionar una columna de un DataFrame cambiándole el nombre.\n",
    "\n",
    "Usando `select` + `alias`:"
   ]
  },
  {
   "cell_type": "code",
   "execution_count": 18,
   "metadata": {},
   "outputs": [],
   "source": [
    "from pyspark.sql import functions as F"
   ]
  },
  {
   "cell_type": "code",
   "execution_count": 19,
   "metadata": {},
   "outputs": [
    {
     "data": {
      "text/plain": [
       "Column<b'TYPE AS `type`'>"
      ]
     },
     "execution_count": 19,
     "metadata": {},
     "output_type": "execute_result"
    }
   ],
   "source": [
    "F.col('TYPE').alias('type')"
   ]
  },
  {
   "cell_type": "code",
   "execution_count": 20,
   "metadata": {},
   "outputs": [
    {
     "name": "stdout",
     "output_type": "stream",
     "text": [
      "+--------------------+-------------------+\n",
      "|                type|      neighbourhood|\n",
      "+--------------------+-------------------+\n",
      "|Offence Against a...|               null|\n",
      "|  Theft from Vehicle|           West End|\n",
      "|  Theft from Vehicle|Renfrew-Collingwood|\n",
      "+--------------------+-------------------+\n",
      "only showing top 3 rows\n",
      "\n"
     ]
    }
   ],
   "source": [
    "vancouver_df.select(F.col('TYPE').alias('type'), F.col('NEIGHBOURHOOD').alias('neighbourhood')).show(3)"
   ]
  },
  {
   "cell_type": "code",
   "execution_count": 21,
   "metadata": {},
   "outputs": [
    {
     "data": {
      "text/plain": [
       "[Column<b'type AS `type`'>,\n",
       " Column<b'year AS `year`'>,\n",
       " Column<b'month AS `month`'>,\n",
       " Column<b'day AS `day`'>,\n",
       " Column<b'hour AS `hour`'>,\n",
       " Column<b'minute AS `minute`'>,\n",
       " Column<b'hundred_block AS `hundred_block`'>,\n",
       " Column<b'neighbourhood AS `neighbourhood`'>]"
      ]
     },
     "execution_count": 21,
     "metadata": {},
     "output_type": "execute_result"
    }
   ],
   "source": [
    "[F.col(c).alias(c.lower().replace(' ', '_')) for c in vancouver_df.columns]"
   ]
  },
  {
   "cell_type": "code",
   "execution_count": 22,
   "metadata": {},
   "outputs": [],
   "source": [
    "vancouver_df = vancouver_df.select([F.col(c).alias(c.lower().replace(' ', '_')) for c in vancouver_df.columns])"
   ]
  },
  {
   "cell_type": "code",
   "execution_count": 23,
   "metadata": {
    "scrolled": true
   },
   "outputs": [
    {
     "name": "stdout",
     "output_type": "stream",
     "text": [
      "+--------------------+----+-----+---+----+------+--------------------+-------------------+\n",
      "|                type|year|month|day|hour|minute|       hundred_block|      neighbourhood|\n",
      "+--------------------+----+-----+---+----+------+--------------------+-------------------+\n",
      "|Offence Against a...|2003|    5| 17|null|  null|OFFSET TO PROTECT...|               null|\n",
      "|  Theft from Vehicle|2003|    1|  7|  10|     0|CARDERO ST / W GE...|           West End|\n",
      "|  Theft from Vehicle|2003|    7| 27|   5|     0|    53XX CHAMBERS ST|Renfrew-Collingwood|\n",
      "+--------------------+----+-----+---+----+------+--------------------+-------------------+\n",
      "only showing top 3 rows\n",
      "\n"
     ]
    }
   ],
   "source": [
    "vancouver_df.show(3)"
   ]
  },
  {
   "cell_type": "markdown",
   "metadata": {},
   "source": [
    "\n",
    "\n",
    "## Filtrar Registros\n",
    "\n",
    "Los métodos `filter` y `where` se utlizan para quedarse con registros que cumplan cierta condición. Se pueden utlizar indistintamente. Para poner la condición es necesario usar la función `F.col()` para indicar a _spark_ el nombre de la columna del filtro."
   ]
  },
  {
   "cell_type": "markdown",
   "metadata": {},
   "source": [
    "\n",
    "\n",
    "__Valor exacto__"
   ]
  },
  {
   "cell_type": "code",
   "execution_count": 24,
   "metadata": {},
   "outputs": [
    {
     "name": "stdout",
     "output_type": "stream",
     "text": [
      "+------------------+----+-----+---+----+------+-------------------+--------------------+\n",
      "|              type|year|month|day|hour|minute|      hundred_block|       neighbourhood|\n",
      "+------------------+----+-----+---+----+------+-------------------+--------------------+\n",
      "|Theft from Vehicle|2008|    2| 29|  16|     0|   3XX W GEORGIA ST|Central Business ...|\n",
      "|  Theft of Vehicle|2008|    5| 15|  22|    30|31XX WELLINGTON AVE| Renfrew-Collingwood|\n",
      "|Theft from Vehicle|2008|    7| 11|  14|     0|    21XX W 10TH AVE|           Kitsilano|\n",
      "|  Theft of Vehicle|2008|    6| 17|  17|     0|  31XX WAVERLEY AVE|           Killarney|\n",
      "|  Theft of Vehicle|2008|    3| 20|  23|     0|31XX W BROADWAY AVE|           Kitsilano|\n",
      "+------------------+----+-----+---+----+------+-------------------+--------------------+\n",
      "only showing top 5 rows\n",
      "\n"
     ]
    }
   ],
   "source": [
    "vancouver_2008 = vancouver_df.filter(F.col('year') == 2008)\n",
    "vancouver_2008.show(5)"
   ]
  },
  {
   "cell_type": "code",
   "execution_count": 25,
   "metadata": {},
   "outputs": [
    {
     "data": {
      "text/plain": [
       "35413"
      ]
     },
     "execution_count": 25,
     "metadata": {},
     "output_type": "execute_result"
    }
   ],
   "source": [
    "vancouver_2008.count()"
   ]
  },
  {
   "cell_type": "code",
   "execution_count": 26,
   "metadata": {},
   "outputs": [
    {
     "data": {
      "text/plain": [
       "552055"
      ]
     },
     "execution_count": 26,
     "metadata": {},
     "output_type": "execute_result"
    }
   ],
   "source": [
    "vancouver_df.count()"
   ]
  },
  {
   "cell_type": "code",
   "execution_count": 27,
   "metadata": {},
   "outputs": [
    {
     "name": "stdout",
     "output_type": "stream",
     "text": [
      "+---+-------+--------+------+---+------+-------+------+------+-----+----------+---------+\n",
      "|  #|   name|  type_1|type_2| hp|attack|defense|sp_atk|sp_def|speed|generation|legendary|\n",
      "+---+-------+--------+------+---+------+-------+------+------+-----+----------+---------+\n",
      "| 31|Pikachu|Electric|  null| 35|    55|     40|    50|    50|   90|         1|    false|\n",
      "+---+-------+--------+------+---+------+-------+------+------+-----+----------+---------+\n",
      "\n"
     ]
    }
   ],
   "source": [
    "pokemon_df.where(F.col('name') == 'Pikachu').show(10)"
   ]
  },
  {
   "cell_type": "markdown",
   "metadata": {},
   "source": [
    " \n",
    "\n",
    "__Mayor/Menor que__"
   ]
  },
  {
   "cell_type": "code",
   "execution_count": 28,
   "metadata": {},
   "outputs": [
    {
     "name": "stdout",
     "output_type": "stream",
     "text": [
      "+------------------+----+-----+---+----+------+-------------------+--------------------+\n",
      "|              type|year|month|day|hour|minute|      hundred_block|       neighbourhood|\n",
      "+------------------+----+-----+---+----+------+-------------------+--------------------+\n",
      "|Theft from Vehicle|2008|    2| 29|  16|     0|   3XX W GEORGIA ST|Central Business ...|\n",
      "|  Theft of Vehicle|2008|    5| 15|  22|    30|31XX WELLINGTON AVE| Renfrew-Collingwood|\n",
      "|Theft from Vehicle|2008|    7| 11|  14|     0|    21XX W 10TH AVE|           Kitsilano|\n",
      "|  Theft of Vehicle|2008|    6| 17|  17|     0|  31XX WAVERLEY AVE|           Killarney|\n",
      "|  Theft of Vehicle|2008|    3| 20|  23|     0|31XX W BROADWAY AVE|           Kitsilano|\n",
      "+------------------+----+-----+---+----+------+-------------------+--------------------+\n",
      "only showing top 5 rows\n",
      "\n"
     ]
    }
   ],
   "source": [
    "vancouver_more_2008 = vancouver_df.filter(F.col('year') >= 2008)\n",
    "vancouver_more_2008.show(5)"
   ]
  },
  {
   "cell_type": "code",
   "execution_count": 29,
   "metadata": {},
   "outputs": [
    {
     "data": {
      "text/plain": [
       "328184"
      ]
     },
     "execution_count": 29,
     "metadata": {},
     "output_type": "execute_result"
    }
   ],
   "source": [
    "vancouver_more_2008.count()"
   ]
  },
  {
   "cell_type": "markdown",
   "metadata": {},
   "source": [
    "\n",
    "\n",
    "__Contiene substring__"
   ]
  },
  {
   "cell_type": "code",
   "execution_count": 30,
   "metadata": {},
   "outputs": [
    {
     "name": "stdout",
     "output_type": "stream",
     "text": [
      "+------------------+----+-----+---+----+------+--------------------+-------------------+\n",
      "|              type|year|month|day|hour|minute|       hundred_block|      neighbourhood|\n",
      "+------------------+----+-----+---+----+------+--------------------+-------------------+\n",
      "|Theft from Vehicle|2003|    1|  7|  10|     0|CARDERO ST / W GE...|           West End|\n",
      "|Theft from Vehicle|2003|    7| 27|   5|     0|    53XX CHAMBERS ST|Renfrew-Collingwood|\n",
      "|Theft from Vehicle|2003|   10|  9|  16|     0|     16XX CHARLES ST| Grandview-Woodland|\n",
      "|Theft from Vehicle|2003|    6|  3|  21|     0|       53XX CECIL ST|Renfrew-Collingwood|\n",
      "|Theft from Vehicle|2003|    6|  7|  10|     0|    16XX CHESTNUT ST|          Kitsilano|\n",
      "+------------------+----+-----+---+----+------+--------------------+-------------------+\n",
      "only showing top 5 rows\n",
      "\n"
     ]
    }
   ],
   "source": [
    "vancouver_df.filter(F.col('type').like(\"%heft%\")).show(5)"
   ]
  },
  {
   "cell_type": "markdown",
   "metadata": {},
   "source": [
    "\n",
    "\n",
    "__Valor en/no en lista__\n",
    "\n",
    "Usa el operando `~` para indicar negación."
   ]
  },
  {
   "cell_type": "code",
   "execution_count": 31,
   "metadata": {},
   "outputs": [
    {
     "name": "stdout",
     "output_type": "stream",
     "text": [
      "+------------------+----+-----+---+----+------+--------------------+-------------+\n",
      "|              type|year|month|day|hour|minute|       hundred_block|neighbourhood|\n",
      "+------------------+----+-----+---+----+------+--------------------+-------------+\n",
      "|Theft from Vehicle|2003|    1|  7|  10|     0|CARDERO ST / W GE...|     West End|\n",
      "|          Mischief|2003|   11| 18|  12|     0| 34XX W BROADWAY AVE|    Kitsilano|\n",
      "|Theft from Vehicle|2003|    6|  7|  10|     0|    16XX CHESTNUT ST|    Kitsilano|\n",
      "|Theft from Vehicle|2003|   12|  2|  15|    35|CARDERO ST / ROBS...|     West End|\n",
      "|          Mischief|2003|   11|  2|   5|    10| 34XX W BROADWAY AVE|    Kitsilano|\n",
      "+------------------+----+-----+---+----+------+--------------------+-------------+\n",
      "only showing top 5 rows\n",
      "\n"
     ]
    }
   ],
   "source": [
    "neighbourhoods = ['West End', 'Kitsilano', 'Killarney']\n",
    "\n",
    "vancouver_df.where(F.col('neighbourhood').isin(neighbourhoods)).show(5)"
   ]
  },
  {
   "cell_type": "code",
   "execution_count": 32,
   "metadata": {
    "scrolled": true
   },
   "outputs": [
    {
     "name": "stdout",
     "output_type": "stream",
     "text": [
      "+--------------------+----+-----+---+----+------+--------------------+--------------------+\n",
      "|                type|year|month|day|hour|minute|       hundred_block|       neighbourhood|\n",
      "+--------------------+----+-----+---+----+------+--------------------+--------------------+\n",
      "|  Theft from Vehicle|2004|   11| 15|   6|    30|      10XX BEACH AVE|Central Business ...|\n",
      "|Vehicle Collision...|2004|    1| 27|  10|    45|KINGSWAY AVE / WI...|Kensington-Cedar ...|\n",
      "|Offence Against a...|2004|    8| 10|null|  null|OFFSET TO PROTECT...|                null|\n",
      "|  Theft from Vehicle|2004|   11|  6|  21|     0|      10XX BEACH AVE|Central Business ...|\n",
      "|Offence Against a...|2004|    8| 10|null|  null|OFFSET TO PROTECT...|                null|\n",
      "+--------------------+----+-----+---+----+------+--------------------+--------------------+\n",
      "only showing top 5 rows\n",
      "\n"
     ]
    }
   ],
   "source": [
    "vancouver_df.filter(~F.col('year').isin([2005, 2003])).show(5)"
   ]
  },
  {
   "cell_type": "markdown",
   "metadata": {},
   "source": [
    "\n",
    "\n",
    "__Combinación de filtros (AND / OR)__"
   ]
  },
  {
   "cell_type": "code",
   "execution_count": 28,
   "metadata": {},
   "outputs": [
    {
     "name": "stdout",
     "output_type": "stream",
     "text": [
      "+--------+----+-----+---+----+------+--------------------+-------------+\n",
      "|    type|year|month|day|hour|minute|       hundred_block|neighbourhood|\n",
      "+--------+----+-----+---+----+------+--------------------+-------------+\n",
      "|Homicide|2007|    8| 15|null|  null|OFFSET TO PROTECT...|         null|\n",
      "|Homicide|2007|    3| 24|null|  null|OFFSET TO PROTECT...|         null|\n",
      "|Homicide|2007|    6| 13|null|  null|OFFSET TO PROTECT...|         null|\n",
      "+--------+----+-----+---+----+------+--------------------+-------------+\n",
      "only showing top 3 rows\n",
      "\n"
     ]
    }
   ],
   "source": [
    "vancouver_df.where((F.col('type') == 'Homicide') & (F.col('year') == 2007)).show(3)"
   ]
  },
  {
   "cell_type": "code",
   "execution_count": 29,
   "metadata": {},
   "outputs": [
    {
     "name": "stdout",
     "output_type": "stream",
     "text": [
      "+--------------------+----+-----+---+----+------+--------------------+------------------+\n",
      "|                type|year|month|day|hour|minute|       hundred_block|     neighbourhood|\n",
      "+--------------------+----+-----+---+----+------+--------------------+------------------+\n",
      "|Break and Enter R...|2006|    7| 23|  14|    30|     19XX W 35TH AVE|       Shaughnessy|\n",
      "|  Theft from Vehicle|2006|    9| 27|   7|    17|51XX PRINCE EDWAR...|        Riley Park|\n",
      "|  Theft from Vehicle|2006|   10| 22|  20|    30|        20XX WALL ST|Grandview-Woodland|\n",
      "+--------------------+----+-----+---+----+------+--------------------+------------------+\n",
      "only showing top 3 rows\n",
      "\n"
     ]
    }
   ],
   "source": [
    "vancouver_df.filter((F.col('year') == 2006) | (F.col('year') == 2007)).show(3)"
   ]
  },
  {
   "cell_type": "markdown",
   "metadata": {},
   "source": [
    " \n",
    "\n",
    "## Registros Duplicados\n",
    "\n",
    "Una de las fases del data wrangling es la identificación y eliminación de registros duplicados. \n",
    "\n",
    "__dropDulicates__\n",
    "\n",
    "`dropDuplicates` toma un subconjunto de columnas para identificar duplicados y devuelve un nuevo DataFrame sin los registros duplicados."
   ]
  },
  {
   "cell_type": "code",
   "execution_count": 30,
   "metadata": {},
   "outputs": [
    {
     "data": {
      "text/plain": [
       "800"
      ]
     },
     "execution_count": 30,
     "metadata": {},
     "output_type": "execute_result"
    }
   ],
   "source": [
    "pokemon_df.count()"
   ]
  },
  {
   "cell_type": "code",
   "execution_count": 31,
   "metadata": {},
   "outputs": [
    {
     "name": "stdout",
     "output_type": "stream",
     "text": [
      "+---+--------------+------+------+---+------+-------+------+------+-----+----------+---------+\n",
      "|  #|          name|type_1|type_2| hp|attack|defense|sp_atk|sp_def|speed|generation|legendary|\n",
      "+---+--------------+------+------+---+------+-------+------+------+-----+----------+---------+\n",
      "| 43|        Vulpix|  Fire|  null| 38|    41|     40|    50|    65|   65|         1|    false|\n",
      "|351|       Wailmer| Water|  null|130|    70|     35|    70|    35|   60|         3|    false|\n",
      "|425|Primal Groudon|Ground|  Fire|100|   180|    160|   150|    90|   90|         3|     true|\n",
      "+---+--------------+------+------+---+------+-------+------+------+-----+----------+---------+\n",
      "only showing top 3 rows\n",
      "\n"
     ]
    }
   ],
   "source": [
    "pokemon_nodup = pokemon_df.dropDuplicates()\n",
    "pokemon_nodup.show(3)"
   ]
  },
  {
   "cell_type": "code",
   "execution_count": 32,
   "metadata": {},
   "outputs": [
    {
     "data": {
      "text/plain": [
       "800"
      ]
     },
     "execution_count": 32,
     "metadata": {},
     "output_type": "execute_result"
    }
   ],
   "source": [
    "pokemon_nodup.count()"
   ]
  },
  {
   "cell_type": "markdown",
   "metadata": {},
   "source": [
    " \n",
    "\n",
    "No hay duplicados teniendo en cuenta todas las columnas. Considerando únicamente las columnas *type_1* y *type_2* hay varios."
   ]
  },
  {
   "cell_type": "code",
   "execution_count": 33,
   "metadata": {},
   "outputs": [
    {
     "data": {
      "text/plain": [
       "154"
      ]
     },
     "execution_count": 33,
     "metadata": {},
     "output_type": "execute_result"
    }
   ],
   "source": [
    "pokemon_nodup.dropDuplicates(subset=['type_1', 'type_2']).count()"
   ]
  },
  {
   "cell_type": "markdown",
   "metadata": {},
   "source": [
    "\n",
    "\n",
    "__distinct__\n",
    "\n",
    "Una llamada al método `distinct` es lo mismo que al método `dropDuplicates` sin parámetro. Es decir, tiene en cuenta todas las columnas. También se utiliza normalmente para contar los valores únicos de una columna."
   ]
  },
  {
   "cell_type": "code",
   "execution_count": 34,
   "metadata": {},
   "outputs": [
    {
     "data": {
      "text/plain": [
       "800"
      ]
     },
     "execution_count": 34,
     "metadata": {},
     "output_type": "execute_result"
    }
   ],
   "source": [
    "pokemon_df.distinct().count()"
   ]
  },
  {
   "cell_type": "code",
   "execution_count": 35,
   "metadata": {},
   "outputs": [
    {
     "data": {
      "text/plain": [
       "18"
      ]
     },
     "execution_count": 35,
     "metadata": {},
     "output_type": "execute_result"
    }
   ],
   "source": [
    "pokemon_df.select('type_1').distinct().count()"
   ]
  },
  {
   "cell_type": "code",
   "execution_count": 36,
   "metadata": {},
   "outputs": [
    {
     "name": "stdout",
     "output_type": "stream",
     "text": [
      "+----+\n",
      "|year|\n",
      "+----+\n",
      "|2003|\n",
      "|2007|\n",
      "|2018|\n",
      "|2015|\n",
      "|2006|\n",
      "|2013|\n",
      "|2014|\n",
      "|2004|\n",
      "|2012|\n",
      "|2009|\n",
      "|2016|\n",
      "|2005|\n",
      "|2010|\n",
      "|2011|\n",
      "|2008|\n",
      "|2017|\n",
      "+----+\n",
      "\n"
     ]
    }
   ],
   "source": [
    "vancouver_df.select('year').distinct().show()"
   ]
  },
  {
   "cell_type": "code",
   "execution_count": 37,
   "metadata": {},
   "outputs": [
    {
     "data": {
      "text/plain": [
       "16"
      ]
     },
     "execution_count": 37,
     "metadata": {},
     "output_type": "execute_result"
    }
   ],
   "source": [
    "vancouver_df.select('year').distinct().count()"
   ]
  },
  {
   "cell_type": "markdown",
   "metadata": {},
   "source": [
    "\n",
    "\n",
    "## Ordenar DataFrames\n",
    "\n",
    "Ambos métodos `sort` y `orderBy` pueden ser usados indistintamente para ordenar DataFrames. Se utilizan los métodos `asc` y `desc` sobre las columnas para indicar si el orden es ascendiente o descendiente. Se puede ordenar por múltiples columnas."
   ]
  },
  {
   "cell_type": "code",
   "execution_count": 38,
   "metadata": {},
   "outputs": [
    {
     "name": "stdout",
     "output_type": "stream",
     "text": [
      "+---+-------------------+-------+--------+---+------+-------+------+------+-----+----------+---------+\n",
      "|  #|               name| type_1|  type_2| hp|attack|defense|sp_atk|sp_def|speed|generation|legendary|\n",
      "+---+-------------------+-------+--------+---+------+-------+------+------+-----+----------+---------+\n",
      "|164|      Mega Mewtwo X|Psychic|Fighting|106|   190|    100|   154|   100|  130|         1|     true|\n",
      "|233|     Mega Heracross|    Bug|Fighting| 80|   185|    115|    40|   105|   75|         2|    false|\n",
      "|425|     Primal Groudon| Ground|    Fire|100|   180|    160|   150|    90|   90|         3|     true|\n",
      "|427|      Mega Rayquaza| Dragon|  Flying|105|   180|    100|   180|   100|  115|         3|     true|\n",
      "|430| DeoxysAttack Forme|Psychic|    null| 50|   180|     20|   180|    20|  150|         3|     true|\n",
      "|712|Kyurem Black Kyurem| Dragon|     Ice|125|   170|    100|   120|    90|   95|         5|     true|\n",
      "|495|      Mega Garchomp| Dragon|  Ground|108|   170|    115|   120|    95|   92|         4|    false|\n",
      "|388|       Mega Banette|  Ghost|    null| 64|   165|     75|    93|    83|   75|         3|    false|\n",
      "|455|          Rampardos|   Rock|    null| 97|   165|     60|    65|    50|   58|         4|    false|\n",
      "|528|       Mega Gallade|Psychic|Fighting| 68|   165|     95|    65|   115|  110|         4|    false|\n",
      "+---+-------------------+-------+--------+---+------+-------+------+------+-----+----------+---------+\n",
      "only showing top 10 rows\n",
      "\n"
     ]
    }
   ],
   "source": [
    "pokemon_df.orderBy(F.col('attack').desc()).show(10)"
   ]
  },
  {
   "cell_type": "code",
   "execution_count": 39,
   "metadata": {},
   "outputs": [
    {
     "name": "stdout",
     "output_type": "stream",
     "text": [
      "+---+--------+------+------+---+------+-------+------+------+-----+----------+---------+\n",
      "|  #|    name|type_1|type_2| hp|attack|defense|sp_atk|sp_def|speed|generation|legendary|\n",
      "+---+--------+------+------+---+------+-------+------+------+-----+----------+---------+\n",
      "|489| Happiny|Normal|  null|100|     5|      5|    15|    65|   30|         4|    false|\n",
      "|122| Chansey|Normal|  null|250|     5|      5|    35|   105|   50|         1|    false|\n",
      "|231| Shuckle|   Bug|  Rock| 20|    10|    230|    10|   230|    5|         2|    false|\n",
      "|140|Magikarp| Water|  null| 20|    10|     55|    15|    20|   80|         1|    false|\n",
      "|262| Blissey|Normal|  null|255|    10|     10|    75|   135|   55|         2|    false|\n",
      "+---+--------+------+------+---+------+-------+------+------+-----+----------+---------+\n",
      "only showing top 5 rows\n",
      "\n"
     ]
    }
   ],
   "source": [
    "pokemon_df.sort(F.col('attack').asc()).show(5)"
   ]
  },
  {
   "cell_type": "code",
   "execution_count": 40,
   "metadata": {},
   "outputs": [
    {
     "name": "stdout",
     "output_type": "stream",
     "text": [
      "+---+--------+------+------+---+------+-------+------+------+-----+----------+---------+\n",
      "|  #|    name|type_1|type_2| hp|attack|defense|sp_atk|sp_def|speed|generation|legendary|\n",
      "+---+--------+------+------+---+------+-------+------+------+-----+----------+---------+\n",
      "|122| Chansey|Normal|  null|250|     5|      5|    35|   105|   50|         1|    false|\n",
      "|489| Happiny|Normal|  null|100|     5|      5|    15|    65|   30|         4|    false|\n",
      "|262| Blissey|Normal|  null|255|    10|     10|    75|   135|   55|         2|    false|\n",
      "|231| Shuckle|   Bug|  Rock| 20|    10|    230|    10|   230|    5|         2|    false|\n",
      "|140|Magikarp| Water|  null| 20|    10|     55|    15|    20|   80|         1|    false|\n",
      "+---+--------+------+------+---+------+-------+------+------+-----+----------+---------+\n",
      "only showing top 5 rows\n",
      "\n"
     ]
    }
   ],
   "source": [
    "pokemon_df.sort(F.col('attack').asc(), F.col('hp').desc()).show(5)"
   ]
  },
  {
   "cell_type": "markdown",
   "metadata": {},
   "source": [
    "\n",
    "\n",
    "## Agrupar registros\n",
    "\n",
    "`groupBy` sirve para agrupar los datos sobre los campos indicados haciendo una operación sobre ellos. Las operaciones a calcular se indican dentro de `agg()` y deben encontrarse dentro de `pyspark.sql.functions`. "
   ]
  },
  {
   "cell_type": "code",
   "execution_count": 41,
   "metadata": {
    "scrolled": true
   },
   "outputs": [
    {
     "name": "stdout",
     "output_type": "stream",
     "text": [
      "+------+-----------------+\n",
      "|type_1|      avg(attack)|\n",
      "+------+-----------------+\n",
      "| Water|74.15178571428571|\n",
      "|Poison|74.67857142857143|\n",
      "| Steel|92.70370370370371|\n",
      "|  Rock|92.86363636363636|\n",
      "|   Ice|            72.75|\n",
      "+------+-----------------+\n",
      "only showing top 5 rows\n",
      "\n"
     ]
    }
   ],
   "source": [
    "pokemon_df.groupBy('type_1').agg(F.avg('attack')).show(5)"
   ]
  },
  {
   "cell_type": "markdown",
   "metadata": {},
   "source": [
    "\n",
    "\n",
    "Se puede utilizar `alias` para definir el nombre de la columna de salida."
   ]
  },
  {
   "cell_type": "code",
   "execution_count": 42,
   "metadata": {},
   "outputs": [
    {
     "name": "stdout",
     "output_type": "stream",
     "text": [
      "+------+------------------+\n",
      "|type_1|           avg_def|\n",
      "+------+------------------+\n",
      "| Water| 72.94642857142857|\n",
      "|Poison| 68.82142857142857|\n",
      "| Steel|126.37037037037037|\n",
      "|  Rock|100.79545454545455|\n",
      "|   Ice| 71.41666666666667|\n",
      "+------+------------------+\n",
      "only showing top 5 rows\n",
      "\n"
     ]
    }
   ],
   "source": [
    "pokemon_df.groupBy('type_1').agg(F.avg('defense').alias('avg_def')).show(5)"
   ]
  },
  {
   "cell_type": "markdown",
   "metadata": {},
   "source": [
    "\n",
    "\n",
    "Se pueden incluir en el groupBy multiples columnas y operaciones."
   ]
  },
  {
   "cell_type": "code",
   "execution_count": 43,
   "metadata": {},
   "outputs": [
    {
     "name": "stdout",
     "output_type": "stream",
     "text": [
      "+-------+---------+-------+\n",
      "| type_1|legendary|max(hp)|\n",
      "+-------+---------+-------+\n",
      "|   Dark|    false|    110|\n",
      "|Psychic|     true|    106|\n",
      "|  Steel|    false|     80|\n",
      "|   Fire|    false|    110|\n",
      "|  Water|    false|    170|\n",
      "+-------+---------+-------+\n",
      "only showing top 5 rows\n",
      "\n"
     ]
    }
   ],
   "source": [
    "pokemon_df.groupBy('type_1', 'legendary').agg(F.max('hp')).show(5)"
   ]
  },
  {
   "cell_type": "code",
   "execution_count": 44,
   "metadata": {},
   "outputs": [
    {
     "name": "stdout",
     "output_type": "stream",
     "text": [
      "+---------+------------------+-----------------+-----------------+\n",
      "|legendary|       avg(attack)|     avg(defense)|          avg(hp)|\n",
      "+---------+------------------+-----------------+-----------------+\n",
      "|     true|116.67692307692307|99.66153846153846|92.73846153846154|\n",
      "|    false| 75.66938775510204|71.55918367346939|67.18231292517007|\n",
      "+---------+------------------+-----------------+-----------------+\n",
      "\n"
     ]
    }
   ],
   "source": [
    "pokemon_df.groupBy('legendary').agg(F.avg('attack'), F.avg('defense'), F.avg('hp')).show()"
   ]
  },
  {
   "cell_type": "markdown",
   "metadata": {},
   "source": [
    "\n",
    "\n",
    "El caso excepcional es si la operación es un `count` que no necesita el método `agg`."
   ]
  },
  {
   "cell_type": "code",
   "execution_count": 45,
   "metadata": {},
   "outputs": [
    {
     "name": "stdout",
     "output_type": "stream",
     "text": [
      "+----+-----+\n",
      "|year|count|\n",
      "+----+-----+\n",
      "|2003|49926|\n",
      "|2007|37679|\n",
      "|2018| 2561|\n",
      "|2015|34342|\n",
      "|2006|42323|\n",
      "|2013|29067|\n",
      "|2014|32644|\n",
      "|2004|49278|\n",
      "|2012|29224|\n",
      "|2009|32164|\n",
      "|2016|37823|\n",
      "|2005|44665|\n",
      "|2010|29705|\n",
      "|2011|28570|\n",
      "|2008|35413|\n",
      "|2017|36671|\n",
      "+----+-----+\n",
      "\n"
     ]
    }
   ],
   "source": [
    "vancouver_df.groupBy('year').count().show()"
   ]
  },
  {
   "cell_type": "markdown",
   "metadata": {},
   "source": [
    "\n",
    "\n",
    "Recuerda que se pueden contactenar transformaciones"
   ]
  },
  {
   "cell_type": "code",
   "execution_count": 46,
   "metadata": {},
   "outputs": [
    {
     "name": "stdout",
     "output_type": "stream",
     "text": [
      "+----+-----+\n",
      "|year|count|\n",
      "+----+-----+\n",
      "|2018| 2561|\n",
      "|2017|36671|\n",
      "|2016|37823|\n",
      "|2015|34342|\n",
      "|2014|32644|\n",
      "|2013|29067|\n",
      "|2012|29224|\n",
      "|2011|28570|\n",
      "|2010|29705|\n",
      "|2009|32164|\n",
      "|2008|35413|\n",
      "|2007|37679|\n",
      "|2006|42323|\n",
      "|2005|44665|\n",
      "|2004|49278|\n",
      "|2003|49926|\n",
      "+----+-----+\n",
      "\n"
     ]
    }
   ],
   "source": [
    "vancouver_df.groupBy('year').count().orderBy(F.col('year').desc()).show()"
   ]
  },
  {
   "cell_type": "markdown",
   "metadata": {},
   "source": [
    "\n",
    "\n",
    "## Limitar el número de registros\n",
    "\n",
    "El método `limit` devuelve un nuevo DataFrame con únicamente _N_ filas."
   ]
  },
  {
   "cell_type": "code",
   "execution_count": 47,
   "metadata": {},
   "outputs": [
    {
     "data": {
      "text/plain": [
       "552055"
      ]
     },
     "execution_count": 47,
     "metadata": {},
     "output_type": "execute_result"
    }
   ],
   "source": [
    "vancouver_df.count()"
   ]
  },
  {
   "cell_type": "code",
   "execution_count": 48,
   "metadata": {},
   "outputs": [
    {
     "name": "stdout",
     "output_type": "stream",
     "text": [
      "+--------------------+----+-----+---+----+------+--------------------+--------------------+\n",
      "|                type|year|month|day|hour|minute|       hundred_block|       neighbourhood|\n",
      "+--------------------+----+-----+---+----+------+--------------------+--------------------+\n",
      "|Offence Against a...|2003|    5| 17|null|  null|OFFSET TO PROTECT...|                null|\n",
      "|  Theft from Vehicle|2003|    1|  7|  10|     0|CARDERO ST / W GE...|            West End|\n",
      "|  Theft from Vehicle|2003|    7| 27|   5|     0|    53XX CHAMBERS ST| Renfrew-Collingwood|\n",
      "|Break and Enter R...|2003|    3|  8|   4|    15|     19XX E 12TH AVE|Kensington-Cedar ...|\n",
      "|  Theft from Vehicle|2003|   10|  9|  16|     0|     16XX CHARLES ST|  Grandview-Woodland|\n",
      "+--------------------+----+-----+---+----+------+--------------------+--------------------+\n",
      "only showing top 5 rows\n",
      "\n"
     ]
    }
   ],
   "source": [
    "vancouver_1000 = vancouver_df.limit(1000)\n",
    "vancouver_1000.show(5)"
   ]
  },
  {
   "cell_type": "code",
   "execution_count": 49,
   "metadata": {},
   "outputs": [
    {
     "data": {
      "text/plain": [
       "1000"
      ]
     },
     "execution_count": 49,
     "metadata": {},
     "output_type": "execute_result"
    }
   ],
   "source": [
    "vancouver_1000.count()"
   ]
  }
 ],
 "metadata": {
  "kernelspec": {
   "display_name": "Python 3",
   "language": "python",
   "name": "python3"
  },
  "language_info": {
   "codemirror_mode": {
    "name": "ipython",
    "version": 3
   },
   "file_extension": ".py",
   "mimetype": "text/x-python",
   "name": "python",
   "nbconvert_exporter": "python",
   "pygments_lexer": "ipython3",
   "version": "3.7.3"
  },
  "toc": {
   "base_numbering": 1,
   "nav_menu": {},
   "number_sections": false,
   "sideBar": true,
   "skip_h1_title": false,
   "title_cell": "Table of Contents",
   "title_sidebar": "Contents",
   "toc_cell": false,
   "toc_position": {},
   "toc_section_display": true,
   "toc_window_display": true
  }
 },
 "nbformat": 4,
 "nbformat_minor": 2
}
