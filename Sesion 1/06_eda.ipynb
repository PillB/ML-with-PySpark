{
 "cells": [
  {
   "cell_type": "code",
   "execution_count": 1,
   "metadata": {
    "collapsed": true,
    "scrolled": true
   },
   "outputs": [],
   "source": [
    "# Respuesta\n",
    "import os\n",
    "os.environ['PYSPARK_PYTHON'] = '/usr/local/bin/python3.6'\n",
    "\n",
    "from pyspark.sql import SparkSession\n",
    "\n",
    "spark = SparkSession.builder.getOrCreate()"
   ]
  },
  {
   "cell_type": "markdown",
   "metadata": {},
   "source": [
    " \n",
    "\n",
    "# Análisis de Datos Exploratorio\n",
    "\n",
    "Lo pasos mas típicos en el análisis de datos exploratorio son los siguientes:\n",
    "\n",
    "* Análisis Univariante\n",
    "    * Tecnicas numéricas\n",
    "    * Técnicas gráficas\n",
    "    \n",
    "* Análisis Multivariante\n",
    "    * Técnicas numéricas\n",
    "    * Técnicas gráficas\n",
    "    \n",
    "* Detección de outliers\n",
    "\n",
    "* Tests de hipótesis\n",
    "\n",
    "En el caso de Spark es menos común utilizar técnicas gráficas ya que muchas de estas requieren tener todos los datos en el driver. Más adelante se mostrarán formas de precalcular en Spark los datos de las gráficas o de realizar muestreos para su representación."
   ]
  },
  {
   "cell_type": "markdown",
   "metadata": {},
   "source": [
    "\n",
    "\n",
    "## Análisis Univariante\n",
    "### Variables cuantitativas\n",
    "\n",
    "Las métricas clásicas para variables cuantitativas son: media, desviación, máximo, mínimo, mediana y quartiles."
   ]
  },
  {
   "cell_type": "code",
   "execution_count": 2,
   "metadata": {
    "collapsed": true
   },
   "outputs": [],
   "source": [
    "from pyspark.sql import functions as F"
   ]
  },
  {
   "cell_type": "code",
   "execution_count": 3,
   "metadata": {
    "collapsed": true
   },
   "outputs": [],
   "source": [
    "pokemon_df = spark.read.csv('Data/pokemon.csv', sep=',', header=True, inferSchema=True)"
   ]
  },
  {
   "cell_type": "code",
   "execution_count": 4,
   "metadata": {
    "collapsed": true
   },
   "outputs": [],
   "source": [
    "pokemon_df = pokemon_df.withColumnRenamed('Sp. Atk', 'Sp Atk').withColumnRenamed('Sp. Def', 'Sp Def')"
   ]
  },
  {
   "cell_type": "code",
   "execution_count": 5,
   "metadata": {},
   "outputs": [
    {
     "name": "stdout",
     "output_type": "stream",
     "text": [
      "+---+---------+------+------+---+------+-------+------+------+-----+----------+---------+\n",
      "|  #|     Name|Type 1|Type 2| HP|Attack|Defense|Sp Atk|Sp Def|Speed|Generation|Legendary|\n",
      "+---+---------+------+------+---+------+-------+------+------+-----+----------+---------+\n",
      "|  1|Bulbasaur| Grass|Poison| 45|    49|     49|    65|    65|   45|         1|    false|\n",
      "|  2|  Ivysaur| Grass|Poison| 60|    62|     63|    80|    80|   60|         1|    false|\n",
      "|  3| Venusaur| Grass|Poison| 80|    82|     83|   100|   100|   80|         1|    false|\n",
      "+---+---------+------+------+---+------+-------+------+------+-----+----------+---------+\n",
      "only showing top 3 rows\n",
      "\n"
     ]
    }
   ],
   "source": [
    "pokemon_df.show(3)"
   ]
  },
  {
   "cell_type": "code",
   "execution_count": 6,
   "metadata": {},
   "outputs": [
    {
     "data": {
      "text/plain": [
       "[('#', 'int'),\n",
       " ('Name', 'string'),\n",
       " ('Type 1', 'string'),\n",
       " ('Type 2', 'string'),\n",
       " ('HP', 'int'),\n",
       " ('Attack', 'int'),\n",
       " ('Defense', 'int'),\n",
       " ('Sp Atk', 'int'),\n",
       " ('Sp Def', 'int'),\n",
       " ('Speed', 'int'),\n",
       " ('Generation', 'int'),\n",
       " ('Legendary', 'boolean')]"
      ]
     },
     "execution_count": 6,
     "metadata": {},
     "output_type": "execute_result"
    }
   ],
   "source": [
    "pokemon_df.dtypes"
   ]
  },
  {
   "cell_type": "markdown",
   "metadata": {},
   "source": [
    "\n",
    "\n",
    "Primero identifica variables cualitativas y cuantitativas."
   ]
  },
  {
   "cell_type": "code",
   "execution_count": 7,
   "metadata": {
    "collapsed": true
   },
   "outputs": [],
   "source": [
    "quantitative_vars = [c for c,t in pokemon_df.dtypes if t in ['int', 'double']]\n",
    "qualitative_vars = [c for c,t in pokemon_df.dtypes if t in ['boolean', 'string']]"
   ]
  },
  {
   "cell_type": "code",
   "execution_count": 8,
   "metadata": {},
   "outputs": [
    {
     "data": {
      "text/plain": [
       "['#', 'HP', 'Attack', 'Defense', 'Sp Atk', 'Sp Def', 'Speed', 'Generation']"
      ]
     },
     "execution_count": 8,
     "metadata": {},
     "output_type": "execute_result"
    }
   ],
   "source": [
    "quantitative_vars"
   ]
  },
  {
   "cell_type": "code",
   "execution_count": 9,
   "metadata": {},
   "outputs": [
    {
     "data": {
      "text/plain": [
       "['Name', 'Type 1', 'Type 2', 'Legendary']"
      ]
     },
     "execution_count": 9,
     "metadata": {},
     "output_type": "execute_result"
    }
   ],
   "source": [
    "qualitative_vars"
   ]
  },
  {
   "cell_type": "markdown",
   "metadata": {},
   "source": [
    " \n",
    "\n",
    "Calcula métricas para una única columna"
   ]
  },
  {
   "cell_type": "code",
   "execution_count": 10,
   "metadata": {
    "scrolled": true
   },
   "outputs": [
    {
     "data": {
      "text/plain": [
       "Row(avg(Attack)=79.00125)"
      ]
     },
     "execution_count": 10,
     "metadata": {},
     "output_type": "execute_result"
    }
   ],
   "source": [
    "pokemon_df.select(F.avg('Attack')).first()"
   ]
  },
  {
   "cell_type": "code",
   "execution_count": 11,
   "metadata": {},
   "outputs": [
    {
     "data": {
      "text/plain": [
       "79.00125"
      ]
     },
     "execution_count": 11,
     "metadata": {},
     "output_type": "execute_result"
    }
   ],
   "source": [
    "pokemon_df.select(F.avg('Attack')).first()[0]"
   ]
  },
  {
   "cell_type": "code",
   "execution_count": 12,
   "metadata": {},
   "outputs": [
    {
     "name": "stdout",
     "output_type": "stream",
     "text": [
      "+-----+\n",
      "|range|\n",
      "+-----+\n",
      "|  254|\n",
      "+-----+\n",
      "\n"
     ]
    }
   ],
   "source": [
    "pokemon_df.select((F.max('HP') - F.min('HP')).alias('range')).show()"
   ]
  },
  {
   "cell_type": "code",
   "execution_count": 13,
   "metadata": {},
   "outputs": [
    {
     "data": {
      "text/plain": [
       "Row(avg(Attack)=79.00125, max(Attack)=190, min(Attack)=5)"
      ]
     },
     "execution_count": 13,
     "metadata": {},
     "output_type": "execute_result"
    }
   ],
   "source": [
    "pokemon_df.select(F.avg('Attack'), F.max('Attack'), F.min('Attack')).first()"
   ]
  },
  {
   "cell_type": "code",
   "execution_count": 14,
   "metadata": {},
   "outputs": [
    {
     "data": {
      "text/plain": [
       "Row(avg_attack=79.00125, max_attack=190, min_attack=5, range=185)"
      ]
     },
     "execution_count": 14,
     "metadata": {},
     "output_type": "execute_result"
    }
   ],
   "source": [
    "pokemon_df.select(F.avg('Attack').alias('avg_attack'), \n",
    "                  F.max('Attack').alias('max_attack'), \n",
    "                  F.min('Attack').alias('min_attack'),\n",
    "                 (F.max('Attack') - F.min('Attack')).alias('range')).first()"
   ]
  },
  {
   "cell_type": "markdown",
   "metadata": {},
   "source": [
    "\n",
    "\n",
    "Es importante recordar que en Spark hay que juntar el máximo número de operaciones antes de realizar una acción. Por tanto para calcular las métricas de todas las columnas es mejor intentar hacerlo en la misma transformación."
   ]
  },
  {
   "cell_type": "markdown",
   "metadata": {},
   "source": [
    "\n",
    "\n",
    "Una acción por columna"
   ]
  },
  {
   "cell_type": "code",
   "execution_count": 15,
   "metadata": {},
   "outputs": [
    {
     "name": "stdout",
     "output_type": "stream",
     "text": [
      "# 400.5\n",
      "HP 69.25875\n",
      "Attack 79.00125\n",
      "Defense 73.8425\n",
      "Sp Atk 72.82\n",
      "Sp Def 71.9025\n",
      "Speed 68.2775\n",
      "Generation 3.32375\n",
      "CPU times: user 54.4 ms, sys: 14.7 ms, total: 69.1 ms\n",
      "Wall time: 1.59 s\n"
     ]
    }
   ],
   "source": [
    "%%time\n",
    "for col in quantitative_vars:\n",
    "    avg = pokemon_df.select(F.avg(col)).first()[0]\n",
    "    print(col, avg)"
   ]
  },
  {
   "cell_type": "markdown",
   "metadata": {},
   "source": [
    "\n",
    "\n",
    "Una acción para todas las columnas. Se pueden definir las operaciones a realizar en una lista y pasársela al método `select`."
   ]
  },
  {
   "cell_type": "code",
   "execution_count": 16,
   "metadata": {},
   "outputs": [
    {
     "data": {
      "text/plain": [
       "[Column<b'avg(#)'>,\n",
       " Column<b'avg(HP)'>,\n",
       " Column<b'avg(Attack)'>,\n",
       " Column<b'avg(Defense)'>,\n",
       " Column<b'avg(Sp Atk)'>,\n",
       " Column<b'avg(Sp Def)'>,\n",
       " Column<b'avg(Speed)'>,\n",
       " Column<b'avg(Generation)'>]"
      ]
     },
     "execution_count": 16,
     "metadata": {},
     "output_type": "execute_result"
    }
   ],
   "source": [
    "[F.avg(col) for col in quantitative_vars]"
   ]
  },
  {
   "cell_type": "code",
   "execution_count": 17,
   "metadata": {},
   "outputs": [
    {
     "name": "stdout",
     "output_type": "stream",
     "text": [
      "+------+--------+-----------+------------+-----------+-----------+----------+---------------+\n",
      "|avg(#)| avg(HP)|avg(Attack)|avg(Defense)|avg(Sp Atk)|avg(Sp Def)|avg(Speed)|avg(Generation)|\n",
      "+------+--------+-----------+------------+-----------+-----------+----------+---------------+\n",
      "| 400.5|69.25875|   79.00125|     73.8425|      72.82|    71.9025|   68.2775|        3.32375|\n",
      "+------+--------+-----------+------------+-----------+-----------+----------+---------------+\n",
      "\n",
      "CPU times: user 7.72 ms, sys: 2.81 ms, total: 10.5 ms\n",
      "Wall time: 522 ms\n"
     ]
    }
   ],
   "source": [
    "%%time\n",
    "pokemon_df.select([F.avg(col) for col in quantitative_vars]).show()"
   ]
  },
  {
   "cell_type": "markdown",
   "metadata": {},
   "source": [
    "\n",
    "\n",
    "Para calcular multiples métricas en multiples columnas de forma eficiente se pueden juntar listas de operaciones."
   ]
  },
  {
   "cell_type": "code",
   "execution_count": 18,
   "metadata": {
    "collapsed": true
   },
   "outputs": [],
   "source": [
    "avgs = [F.avg(col).alias('avg_' + col) for col in quantitative_vars]\n",
    "maxs = [F.max(col).alias('max_' + col) for col in quantitative_vars]\n",
    "mins = [F.min(col).alias('min_' + col) for col in quantitative_vars]\n",
    "stds = [F.stddev(col).alias('std_' + col) for col in quantitative_vars]"
   ]
  },
  {
   "cell_type": "code",
   "execution_count": 19,
   "metadata": {},
   "outputs": [
    {
     "data": {
      "text/plain": [
       "[Column<b'avg(#) AS `avg_#`'>,\n",
       " Column<b'avg(HP) AS `avg_HP`'>,\n",
       " Column<b'avg(Attack) AS `avg_Attack`'>,\n",
       " Column<b'avg(Defense) AS `avg_Defense`'>,\n",
       " Column<b'avg(Sp Atk) AS `avg_Sp Atk`'>,\n",
       " Column<b'avg(Sp Def) AS `avg_Sp Def`'>,\n",
       " Column<b'avg(Speed) AS `avg_Speed`'>,\n",
       " Column<b'avg(Generation) AS `avg_Generation`'>,\n",
       " Column<b'stddev_samp(#) AS `std_#`'>,\n",
       " Column<b'stddev_samp(HP) AS `std_HP`'>,\n",
       " Column<b'stddev_samp(Attack) AS `std_Attack`'>,\n",
       " Column<b'stddev_samp(Defense) AS `std_Defense`'>,\n",
       " Column<b'stddev_samp(Sp Atk) AS `std_Sp Atk`'>,\n",
       " Column<b'stddev_samp(Sp Def) AS `std_Sp Def`'>,\n",
       " Column<b'stddev_samp(Speed) AS `std_Speed`'>,\n",
       " Column<b'stddev_samp(Generation) AS `std_Generation`'>,\n",
       " Column<b'max(#) AS `max_#`'>,\n",
       " Column<b'max(HP) AS `max_HP`'>,\n",
       " Column<b'max(Attack) AS `max_Attack`'>,\n",
       " Column<b'max(Defense) AS `max_Defense`'>,\n",
       " Column<b'max(Sp Atk) AS `max_Sp Atk`'>,\n",
       " Column<b'max(Sp Def) AS `max_Sp Def`'>,\n",
       " Column<b'max(Speed) AS `max_Speed`'>,\n",
       " Column<b'max(Generation) AS `max_Generation`'>,\n",
       " Column<b'min(#) AS `min_#`'>,\n",
       " Column<b'min(HP) AS `min_HP`'>,\n",
       " Column<b'min(Attack) AS `min_Attack`'>,\n",
       " Column<b'min(Defense) AS `min_Defense`'>,\n",
       " Column<b'min(Sp Atk) AS `min_Sp Atk`'>,\n",
       " Column<b'min(Sp Def) AS `min_Sp Def`'>,\n",
       " Column<b'min(Speed) AS `min_Speed`'>,\n",
       " Column<b'min(Generation) AS `min_Generation`'>]"
      ]
     },
     "execution_count": 19,
     "metadata": {},
     "output_type": "execute_result"
    }
   ],
   "source": [
    "operations = avgs + stds + maxs + mins \n",
    "operations"
   ]
  },
  {
   "cell_type": "code",
   "execution_count": 20,
   "metadata": {},
   "outputs": [
    {
     "name": "stdout",
     "output_type": "stream",
     "text": [
      "#: avg=400.5, std=231.08, min=1, max=800\n",
      "HP: avg=69.26, std=25.53, min=1, max=255\n",
      "Attack: avg=79.0, std=32.46, min=5, max=190\n",
      "Defense: avg=73.84, std=31.18, min=5, max=230\n",
      "Sp Atk: avg=72.82, std=32.72, min=10, max=194\n",
      "Sp Def: avg=71.9, std=27.83, min=20, max=230\n",
      "Speed: avg=68.28, std=29.06, min=5, max=180\n",
      "Generation: avg=3.32, std=1.66, min=1, max=6\n"
     ]
    }
   ],
   "source": [
    "results = pokemon_df.select(operations).first()\n",
    "\n",
    "for col in quantitative_vars:\n",
    "    \n",
    "    avg = results['avg_' + col]\n",
    "    std = results['std_' + col]\n",
    "    maxi = results['max_' + col]\n",
    "    mini = results['min_' + col]\n",
    "    \n",
    "    print('{}: avg={}, std={}, min={}, max={}'.format(col, round(avg, 2), round(std, 2), mini, maxi))"
   ]
  },
  {
   "cell_type": "markdown",
   "metadata": {},
   "source": [
    "\n",
    "\n",
    "__Mediana y cuantiles__\n",
    "\n",
    "El caso de los cuantiles es un poco especial ya que requieren la ordenación de todo el DataFrame en base a una columna, por tanto no se pueden calcular los cuantiles de varias variables a la vez. Además, el método `approxQuantile` es una **acción**."
   ]
  },
  {
   "cell_type": "code",
   "execution_count": 21,
   "metadata": {},
   "outputs": [
    {
     "data": {
      "text/plain": [
       "70.0"
      ]
     },
     "execution_count": 21,
     "metadata": {},
     "output_type": "execute_result"
    }
   ],
   "source": [
    "median = pokemon_df.approxQuantile('Defense', [0.5], relativeError=0.01)[0]\n",
    "median"
   ]
  },
  {
   "cell_type": "code",
   "execution_count": 22,
   "metadata": {},
   "outputs": [
    {
     "data": {
      "text/plain": [
       "[50.0, 70.0, 90.0]"
      ]
     },
     "execution_count": 22,
     "metadata": {},
     "output_type": "execute_result"
    }
   ],
   "source": [
    "pokemon_df.approxQuantile('Defense', [0.25, 0.5, 0.75], relativeError=0.01)"
   ]
  },
  {
   "cell_type": "code",
   "execution_count": 23,
   "metadata": {
    "collapsed": true
   },
   "outputs": [],
   "source": [
    "q1, median, q3 = pokemon_df.approxQuantile('Defense', [0.25, 0.5, 0.75], relativeError=0.01)"
   ]
  },
  {
   "cell_type": "code",
   "execution_count": 24,
   "metadata": {},
   "outputs": [
    {
     "data": {
      "text/plain": [
       "50.0"
      ]
     },
     "execution_count": 24,
     "metadata": {},
     "output_type": "execute_result"
    }
   ],
   "source": [
    "q1"
   ]
  },
  {
   "cell_type": "code",
   "execution_count": 25,
   "metadata": {},
   "outputs": [
    {
     "data": {
      "text/plain": [
       "70.0"
      ]
     },
     "execution_count": 25,
     "metadata": {},
     "output_type": "execute_result"
    }
   ],
   "source": [
    "median"
   ]
  },
  {
   "cell_type": "code",
   "execution_count": 26,
   "metadata": {},
   "outputs": [
    {
     "data": {
      "text/plain": [
       "90.0"
      ]
     },
     "execution_count": 26,
     "metadata": {},
     "output_type": "execute_result"
    }
   ],
   "source": [
    "q3"
   ]
  },
  {
   "cell_type": "code",
   "execution_count": 27,
   "metadata": {},
   "outputs": [
    {
     "data": {
      "text/plain": [
       "40.0"
      ]
     },
     "execution_count": 27,
     "metadata": {},
     "output_type": "execute_result"
    }
   ],
   "source": [
    "iqr = q3 - q1\n",
    "iqr"
   ]
  },
  {
   "cell_type": "markdown",
   "metadata": {},
   "source": [
    "\n",
    "\n",
    "### Variables cualitativas\n",
    "\n",
    "Para variables cualitativas se calculan tablas de frequencia."
   ]
  },
  {
   "cell_type": "code",
   "execution_count": 28,
   "metadata": {},
   "outputs": [
    {
     "name": "stdout",
     "output_type": "stream",
     "text": [
      "+--------+-----+\n",
      "|  Type 1|count|\n",
      "+--------+-----+\n",
      "|   Water|  112|\n",
      "|  Poison|   28|\n",
      "|   Steel|   27|\n",
      "|    Rock|   44|\n",
      "|     Ice|   24|\n",
      "|   Ghost|   32|\n",
      "|   Fairy|   17|\n",
      "| Psychic|   57|\n",
      "|  Dragon|   32|\n",
      "|  Flying|    4|\n",
      "|     Bug|   69|\n",
      "|Electric|   44|\n",
      "|    Fire|   52|\n",
      "|  Ground|   32|\n",
      "|    Dark|   31|\n",
      "|Fighting|   27|\n",
      "|   Grass|   70|\n",
      "|  Normal|   98|\n",
      "+--------+-----+\n",
      "\n"
     ]
    }
   ],
   "source": [
    "pokemon_df.groupBy('Type 1').count().show()"
   ]
  },
  {
   "cell_type": "code",
   "execution_count": 29,
   "metadata": {},
   "outputs": [
    {
     "name": "stdout",
     "output_type": "stream",
     "text": [
      "+--------+-----+\n",
      "|  Type 1|count|\n",
      "+--------+-----+\n",
      "|   Water|  112|\n",
      "|  Normal|   98|\n",
      "|   Grass|   70|\n",
      "|     Bug|   69|\n",
      "| Psychic|   57|\n",
      "|    Fire|   52|\n",
      "|Electric|   44|\n",
      "|    Rock|   44|\n",
      "|  Dragon|   32|\n",
      "|  Ground|   32|\n",
      "|   Ghost|   32|\n",
      "|    Dark|   31|\n",
      "|  Poison|   28|\n",
      "|   Steel|   27|\n",
      "|Fighting|   27|\n",
      "|     Ice|   24|\n",
      "|   Fairy|   17|\n",
      "|  Flying|    4|\n",
      "+--------+-----+\n",
      "\n"
     ]
    }
   ],
   "source": [
    "pokemon_df.groupBy('Type 1').count().sort(F.col('count').desc()).show()"
   ]
  },
  {
   "cell_type": "markdown",
   "metadata": {},
   "source": [
    "\n",
    "\n",
    "Obtener el valor más repetido."
   ]
  },
  {
   "cell_type": "code",
   "execution_count": 30,
   "metadata": {
    "scrolled": true
   },
   "outputs": [
    {
     "data": {
      "text/plain": [
       "Row(Type 1='Water', count=112)"
      ]
     },
     "execution_count": 30,
     "metadata": {},
     "output_type": "execute_result"
    }
   ],
   "source": [
    "result = pokemon_df.groupBy('Type 1').count().sort(F.col('count').desc()).first()\n",
    "result"
   ]
  },
  {
   "cell_type": "code",
   "execution_count": 31,
   "metadata": {
    "collapsed": true
   },
   "outputs": [],
   "source": [
    "top_type, top_value = result"
   ]
  },
  {
   "cell_type": "code",
   "execution_count": 32,
   "metadata": {},
   "outputs": [
    {
     "name": "stdout",
     "output_type": "stream",
     "text": [
      "Most common type is Water with 112 times\n"
     ]
    }
   ],
   "source": [
    "print('Most common type is {} with {} times'.format(top_type, top_value))"
   ]
  },
  {
   "cell_type": "markdown",
   "metadata": {},
   "source": [
    "\n",
    "\n",
    "## Análisis Multivariante\n",
    "\n",
    "Para analizar la relación entra variables continuas se utilizan las correlaciones."
   ]
  },
  {
   "cell_type": "markdown",
   "metadata": {},
   "source": [
    "\n",
    "\n",
    "__Correlación entre dos variables__"
   ]
  },
  {
   "cell_type": "code",
   "execution_count": 33,
   "metadata": {},
   "outputs": [
    {
     "name": "stdout",
     "output_type": "stream",
     "text": [
      "+---------------------+\n",
      "|corr(Attack, Defense)|\n",
      "+---------------------+\n",
      "|   0.4386870551184902|\n",
      "+---------------------+\n",
      "\n"
     ]
    }
   ],
   "source": [
    "pokemon_df.select(F.corr(F.col('Attack'), F.col('Defense'))).show()"
   ]
  },
  {
   "cell_type": "markdown",
   "metadata": {},
   "source": [
    "\n",
    "\n",
    "__Correlación una variable contra todas__"
   ]
  },
  {
   "cell_type": "code",
   "execution_count": 34,
   "metadata": {},
   "outputs": [
    {
     "data": {
      "text/html": [
       "<div>\n",
       "<style scoped>\n",
       "    .dataframe tbody tr th:only-of-type {\n",
       "        vertical-align: middle;\n",
       "    }\n",
       "\n",
       "    .dataframe tbody tr th {\n",
       "        vertical-align: top;\n",
       "    }\n",
       "\n",
       "    .dataframe thead th {\n",
       "        text-align: right;\n",
       "    }\n",
       "</style>\n",
       "<table border=\"1\" class=\"dataframe\">\n",
       "  <thead>\n",
       "    <tr style=\"text-align: right;\">\n",
       "      <th></th>\n",
       "      <th>#</th>\n",
       "      <th>HP</th>\n",
       "      <th>Attack</th>\n",
       "      <th>Defense</th>\n",
       "      <th>Sp Atk</th>\n",
       "      <th>Sp Def</th>\n",
       "      <th>Speed</th>\n",
       "      <th>Generation</th>\n",
       "    </tr>\n",
       "  </thead>\n",
       "  <tbody>\n",
       "    <tr>\n",
       "      <th>0</th>\n",
       "      <td>0.102664</td>\n",
       "      <td>0.422386</td>\n",
       "      <td>1.0</td>\n",
       "      <td>0.438687</td>\n",
       "      <td>0.396362</td>\n",
       "      <td>0.26399</td>\n",
       "      <td>0.38124</td>\n",
       "      <td>0.051451</td>\n",
       "    </tr>\n",
       "  </tbody>\n",
       "</table>\n",
       "</div>"
      ],
      "text/plain": [
       "          #        HP  Attack   Defense    Sp Atk   Sp Def    Speed  \\\n",
       "0  0.102664  0.422386     1.0  0.438687  0.396362  0.26399  0.38124   \n",
       "\n",
       "   Generation  \n",
       "0    0.051451  "
      ]
     },
     "execution_count": 34,
     "metadata": {},
     "output_type": "execute_result"
    }
   ],
   "source": [
    "attack_corrs = pokemon_df.select([F.corr(F.col('Attack'), F.col(c)).alias(c) for c in quantitative_vars])\n",
    "attack_corrs.toPandas()"
   ]
  },
  {
   "cell_type": "markdown",
   "metadata": {},
   "source": [
    "\n",
    "\n",
    "__Matriz de correlación__"
   ]
  },
  {
   "cell_type": "code",
   "execution_count": 35,
   "metadata": {
    "collapsed": true
   },
   "outputs": [],
   "source": [
    "from pyspark.mllib.linalg import Vectors\n",
    "from pyspark.mllib.stat import Statistics\n",
    "import pandas as pd\n",
    "import seaborn as sns"
   ]
  },
  {
   "cell_type": "markdown",
   "metadata": {},
   "source": [
    "_Calcula corr sobre RDDs con Vectors_"
   ]
  },
  {
   "cell_type": "code",
   "execution_count": 36,
   "metadata": {
    "collapsed": true
   },
   "outputs": [],
   "source": [
    "corr_matrix = Statistics.corr(pokemon_df.select(quantitative_vars).rdd.\\\n",
    "                              map(lambda v: Vectors.dense(v)),method='pearson')"
   ]
  },
  {
   "cell_type": "markdown",
   "metadata": {},
   "source": [
    "\n",
    "\n",
    "_Transforma la matriz en un DataFrame de pandas_"
   ]
  },
  {
   "cell_type": "code",
   "execution_count": 37,
   "metadata": {},
   "outputs": [
    {
     "data": {
      "text/html": [
       "<div>\n",
       "<style scoped>\n",
       "    .dataframe tbody tr th:only-of-type {\n",
       "        vertical-align: middle;\n",
       "    }\n",
       "\n",
       "    .dataframe tbody tr th {\n",
       "        vertical-align: top;\n",
       "    }\n",
       "\n",
       "    .dataframe thead th {\n",
       "        text-align: right;\n",
       "    }\n",
       "</style>\n",
       "<table border=\"1\" class=\"dataframe\">\n",
       "  <thead>\n",
       "    <tr style=\"text-align: right;\">\n",
       "      <th></th>\n",
       "      <th>#</th>\n",
       "      <th>HP</th>\n",
       "      <th>Attack</th>\n",
       "      <th>Defense</th>\n",
       "      <th>Sp Atk</th>\n",
       "      <th>Sp Def</th>\n",
       "      <th>Speed</th>\n",
       "      <th>Generation</th>\n",
       "    </tr>\n",
       "  </thead>\n",
       "  <tbody>\n",
       "    <tr>\n",
       "      <th>#</th>\n",
       "      <td>1.000000</td>\n",
       "      <td>0.097712</td>\n",
       "      <td>0.102664</td>\n",
       "      <td>0.094691</td>\n",
       "      <td>0.089199</td>\n",
       "      <td>0.085596</td>\n",
       "      <td>0.012181</td>\n",
       "      <td>0.983428</td>\n",
       "    </tr>\n",
       "    <tr>\n",
       "      <th>HP</th>\n",
       "      <td>0.097712</td>\n",
       "      <td>1.000000</td>\n",
       "      <td>0.422386</td>\n",
       "      <td>0.239622</td>\n",
       "      <td>0.362380</td>\n",
       "      <td>0.378718</td>\n",
       "      <td>0.175952</td>\n",
       "      <td>0.058683</td>\n",
       "    </tr>\n",
       "    <tr>\n",
       "      <th>Attack</th>\n",
       "      <td>0.102664</td>\n",
       "      <td>0.422386</td>\n",
       "      <td>1.000000</td>\n",
       "      <td>0.438687</td>\n",
       "      <td>0.396362</td>\n",
       "      <td>0.263990</td>\n",
       "      <td>0.381240</td>\n",
       "      <td>0.051451</td>\n",
       "    </tr>\n",
       "    <tr>\n",
       "      <th>Defense</th>\n",
       "      <td>0.094691</td>\n",
       "      <td>0.239622</td>\n",
       "      <td>0.438687</td>\n",
       "      <td>1.000000</td>\n",
       "      <td>0.223549</td>\n",
       "      <td>0.510747</td>\n",
       "      <td>0.015227</td>\n",
       "      <td>0.042419</td>\n",
       "    </tr>\n",
       "    <tr>\n",
       "      <th>Sp Atk</th>\n",
       "      <td>0.089199</td>\n",
       "      <td>0.362380</td>\n",
       "      <td>0.396362</td>\n",
       "      <td>0.223549</td>\n",
       "      <td>1.000000</td>\n",
       "      <td>0.506121</td>\n",
       "      <td>0.473018</td>\n",
       "      <td>0.036437</td>\n",
       "    </tr>\n",
       "    <tr>\n",
       "      <th>Sp Def</th>\n",
       "      <td>0.085596</td>\n",
       "      <td>0.378718</td>\n",
       "      <td>0.263990</td>\n",
       "      <td>0.510747</td>\n",
       "      <td>0.506121</td>\n",
       "      <td>1.000000</td>\n",
       "      <td>0.259133</td>\n",
       "      <td>0.028486</td>\n",
       "    </tr>\n",
       "    <tr>\n",
       "      <th>Speed</th>\n",
       "      <td>0.012181</td>\n",
       "      <td>0.175952</td>\n",
       "      <td>0.381240</td>\n",
       "      <td>0.015227</td>\n",
       "      <td>0.473018</td>\n",
       "      <td>0.259133</td>\n",
       "      <td>1.000000</td>\n",
       "      <td>-0.023121</td>\n",
       "    </tr>\n",
       "    <tr>\n",
       "      <th>Generation</th>\n",
       "      <td>0.983428</td>\n",
       "      <td>0.058683</td>\n",
       "      <td>0.051451</td>\n",
       "      <td>0.042419</td>\n",
       "      <td>0.036437</td>\n",
       "      <td>0.028486</td>\n",
       "      <td>-0.023121</td>\n",
       "      <td>1.000000</td>\n",
       "    </tr>\n",
       "  </tbody>\n",
       "</table>\n",
       "</div>"
      ],
      "text/plain": [
       "                   #        HP    Attack   Defense    Sp Atk    Sp Def  \\\n",
       "#           1.000000  0.097712  0.102664  0.094691  0.089199  0.085596   \n",
       "HP          0.097712  1.000000  0.422386  0.239622  0.362380  0.378718   \n",
       "Attack      0.102664  0.422386  1.000000  0.438687  0.396362  0.263990   \n",
       "Defense     0.094691  0.239622  0.438687  1.000000  0.223549  0.510747   \n",
       "Sp Atk      0.089199  0.362380  0.396362  0.223549  1.000000  0.506121   \n",
       "Sp Def      0.085596  0.378718  0.263990  0.510747  0.506121  1.000000   \n",
       "Speed       0.012181  0.175952  0.381240  0.015227  0.473018  0.259133   \n",
       "Generation  0.983428  0.058683  0.051451  0.042419  0.036437  0.028486   \n",
       "\n",
       "               Speed  Generation  \n",
       "#           0.012181    0.983428  \n",
       "HP          0.175952    0.058683  \n",
       "Attack      0.381240    0.051451  \n",
       "Defense     0.015227    0.042419  \n",
       "Sp Atk      0.473018    0.036437  \n",
       "Sp Def      0.259133    0.028486  \n",
       "Speed       1.000000   -0.023121  \n",
       "Generation -0.023121    1.000000  "
      ]
     },
     "execution_count": 37,
     "metadata": {},
     "output_type": "execute_result"
    }
   ],
   "source": [
    "corr_matrix = pd.DataFrame(corr_matrix, columns=quantitative_vars, index=quantitative_vars)\n",
    "corr_matrix"
   ]
  },
  {
   "cell_type": "markdown",
   "metadata": {},
   "source": [
    "\n",
    "\n",
    "_Elimina triangulo superior y representa_"
   ]
  },
  {
   "cell_type": "code",
   "execution_count": 38,
   "metadata": {
    "collapsed": true
   },
   "outputs": [],
   "source": [
    "import numpy as np\n",
    "from matplotlib import pyplot as plt\n",
    "import seaborn as sns"
   ]
  },
  {
   "cell_type": "code",
   "execution_count": 39,
   "metadata": {
    "collapsed": true
   },
   "outputs": [],
   "source": [
    "%matplotlib inline"
   ]
  },
  {
   "cell_type": "code",
   "execution_count": 40,
   "metadata": {},
   "outputs": [
    {
     "data": {
      "text/plain": [
       "array([[ True,  True,  True,  True,  True,  True,  True,  True],\n",
       "       [False,  True,  True,  True,  True,  True,  True,  True],\n",
       "       [False, False,  True,  True,  True,  True,  True,  True],\n",
       "       [False, False, False,  True,  True,  True,  True,  True],\n",
       "       [False, False, False, False,  True,  True,  True,  True],\n",
       "       [False, False, False, False, False,  True,  True,  True],\n",
       "       [False, False, False, False, False, False,  True,  True],\n",
       "       [False, False, False, False, False, False, False,  True]])"
      ]
     },
     "execution_count": 40,
     "metadata": {},
     "output_type": "execute_result"
    }
   ],
   "source": [
    "mask = np.zeros_like(corr_matrix, dtype=np.bool)\n",
    "mask[np.triu_indices_from(mask)] = True\n",
    "mask"
   ]
  },
  {
   "cell_type": "code",
   "execution_count": 41,
   "metadata": {},
   "outputs": [
    {
     "data": {
      "text/html": [
       "<div>\n",
       "<style scoped>\n",
       "    .dataframe tbody tr th:only-of-type {\n",
       "        vertical-align: middle;\n",
       "    }\n",
       "\n",
       "    .dataframe tbody tr th {\n",
       "        vertical-align: top;\n",
       "    }\n",
       "\n",
       "    .dataframe thead th {\n",
       "        text-align: right;\n",
       "    }\n",
       "</style>\n",
       "<table border=\"1\" class=\"dataframe\">\n",
       "  <thead>\n",
       "    <tr style=\"text-align: right;\">\n",
       "      <th></th>\n",
       "      <th>#</th>\n",
       "      <th>HP</th>\n",
       "      <th>Attack</th>\n",
       "      <th>Defense</th>\n",
       "      <th>Sp Atk</th>\n",
       "      <th>Sp Def</th>\n",
       "      <th>Speed</th>\n",
       "      <th>Generation</th>\n",
       "    </tr>\n",
       "  </thead>\n",
       "  <tbody>\n",
       "    <tr>\n",
       "      <th>#</th>\n",
       "      <td>NaN</td>\n",
       "      <td>NaN</td>\n",
       "      <td>NaN</td>\n",
       "      <td>NaN</td>\n",
       "      <td>NaN</td>\n",
       "      <td>NaN</td>\n",
       "      <td>NaN</td>\n",
       "      <td>NaN</td>\n",
       "    </tr>\n",
       "    <tr>\n",
       "      <th>HP</th>\n",
       "      <td>0.097712</td>\n",
       "      <td>NaN</td>\n",
       "      <td>NaN</td>\n",
       "      <td>NaN</td>\n",
       "      <td>NaN</td>\n",
       "      <td>NaN</td>\n",
       "      <td>NaN</td>\n",
       "      <td>NaN</td>\n",
       "    </tr>\n",
       "    <tr>\n",
       "      <th>Attack</th>\n",
       "      <td>0.102664</td>\n",
       "      <td>0.422386</td>\n",
       "      <td>NaN</td>\n",
       "      <td>NaN</td>\n",
       "      <td>NaN</td>\n",
       "      <td>NaN</td>\n",
       "      <td>NaN</td>\n",
       "      <td>NaN</td>\n",
       "    </tr>\n",
       "    <tr>\n",
       "      <th>Defense</th>\n",
       "      <td>0.094691</td>\n",
       "      <td>0.239622</td>\n",
       "      <td>0.438687</td>\n",
       "      <td>NaN</td>\n",
       "      <td>NaN</td>\n",
       "      <td>NaN</td>\n",
       "      <td>NaN</td>\n",
       "      <td>NaN</td>\n",
       "    </tr>\n",
       "    <tr>\n",
       "      <th>Sp Atk</th>\n",
       "      <td>0.089199</td>\n",
       "      <td>0.362380</td>\n",
       "      <td>0.396362</td>\n",
       "      <td>0.223549</td>\n",
       "      <td>NaN</td>\n",
       "      <td>NaN</td>\n",
       "      <td>NaN</td>\n",
       "      <td>NaN</td>\n",
       "    </tr>\n",
       "    <tr>\n",
       "      <th>Sp Def</th>\n",
       "      <td>0.085596</td>\n",
       "      <td>0.378718</td>\n",
       "      <td>0.263990</td>\n",
       "      <td>0.510747</td>\n",
       "      <td>0.506121</td>\n",
       "      <td>NaN</td>\n",
       "      <td>NaN</td>\n",
       "      <td>NaN</td>\n",
       "    </tr>\n",
       "    <tr>\n",
       "      <th>Speed</th>\n",
       "      <td>0.012181</td>\n",
       "      <td>0.175952</td>\n",
       "      <td>0.381240</td>\n",
       "      <td>0.015227</td>\n",
       "      <td>0.473018</td>\n",
       "      <td>0.259133</td>\n",
       "      <td>NaN</td>\n",
       "      <td>NaN</td>\n",
       "    </tr>\n",
       "    <tr>\n",
       "      <th>Generation</th>\n",
       "      <td>0.983428</td>\n",
       "      <td>0.058683</td>\n",
       "      <td>0.051451</td>\n",
       "      <td>0.042419</td>\n",
       "      <td>0.036437</td>\n",
       "      <td>0.028486</td>\n",
       "      <td>-0.023121</td>\n",
       "      <td>NaN</td>\n",
       "    </tr>\n",
       "  </tbody>\n",
       "</table>\n",
       "</div>"
      ],
      "text/plain": [
       "                   #        HP    Attack   Defense    Sp Atk    Sp Def  \\\n",
       "#                NaN       NaN       NaN       NaN       NaN       NaN   \n",
       "HP          0.097712       NaN       NaN       NaN       NaN       NaN   \n",
       "Attack      0.102664  0.422386       NaN       NaN       NaN       NaN   \n",
       "Defense     0.094691  0.239622  0.438687       NaN       NaN       NaN   \n",
       "Sp Atk      0.089199  0.362380  0.396362  0.223549       NaN       NaN   \n",
       "Sp Def      0.085596  0.378718  0.263990  0.510747  0.506121       NaN   \n",
       "Speed       0.012181  0.175952  0.381240  0.015227  0.473018  0.259133   \n",
       "Generation  0.983428  0.058683  0.051451  0.042419  0.036437  0.028486   \n",
       "\n",
       "               Speed  Generation  \n",
       "#                NaN         NaN  \n",
       "HP               NaN         NaN  \n",
       "Attack           NaN         NaN  \n",
       "Defense          NaN         NaN  \n",
       "Sp Atk           NaN         NaN  \n",
       "Sp Def           NaN         NaN  \n",
       "Speed            NaN         NaN  \n",
       "Generation -0.023121         NaN  "
      ]
     },
     "execution_count": 41,
     "metadata": {},
     "output_type": "execute_result"
    }
   ],
   "source": [
    "corr_matrix = corr_matrix.mask(mask)\n",
    "corr_matrix"
   ]
  },
  {
   "cell_type": "code",
   "execution_count": 42,
   "metadata": {},
   "outputs": [
    {
     "data": {
      "text/plain": [
       "<matplotlib.axes._subplots.AxesSubplot at 0x1090137b8>"
      ]
     },
     "execution_count": 42,
     "metadata": {},
     "output_type": "execute_result"
    },
    {
     "data": {
      "image/png": "[encoded data removed]",
      "text/plain": [
       "<Figure size 576x504 with 2 Axes>"
      ]
     },
     "metadata": {},
     "output_type": "display_data"
    }
   ],
   "source": [
    "plt.figure(figsize=(8,7))\n",
    "sns.heatmap(corr_matrix, cmap='coolwarm', vmax=1, vmin=-1, square=True, annot=True, fmt='.2f')"
   ]
  },
  {
   "cell_type": "markdown",
   "metadata": {},
   "source": [
    "\n",
    "\n",
    "_Obtener columnas altamente correladas_"
   ]
  },
  {
   "cell_type": "code",
   "execution_count": 43,
   "metadata": {},
   "outputs": [
    {
     "data": {
      "text/plain": [
       "#             False\n",
       "HP            False\n",
       "Attack        False\n",
       "Defense        True\n",
       "Sp Atk        False\n",
       "Sp Def        False\n",
       "Speed         False\n",
       "Generation    False\n",
       "Name: Attack, dtype: bool"
      ]
     },
     "execution_count": 43,
     "metadata": {},
     "output_type": "execute_result"
    }
   ],
   "source": [
    "(corr_matrix['Attack'].abs() > 0.4)"
   ]
  },
  {
   "cell_type": "code",
   "execution_count": 44,
   "metadata": {},
   "outputs": [
    {
     "data": {
      "text/plain": [
       "False"
      ]
     },
     "execution_count": 44,
     "metadata": {},
     "output_type": "execute_result"
    }
   ],
   "source": [
    "(corr_matrix['Attack'].abs() > 0.9).any()"
   ]
  },
  {
   "cell_type": "code",
   "execution_count": 45,
   "metadata": {},
   "outputs": [
    {
     "data": {
      "text/plain": [
       "['#']"
      ]
     },
     "execution_count": 45,
     "metadata": {},
     "output_type": "execute_result"
    }
   ],
   "source": [
    "drop_columns = [c for c in quantitative_vars if (corr_matrix[c].abs() > 0.9).any()]\n",
    "drop_columns"
   ]
  },
  {
   "cell_type": "markdown",
   "metadata": {},
   "source": [
    "\n",
    "\n",
    "## Técnicas Gráficas (Opcional)\n",
    "\n",
    "El método más sencillo de realizar gráficos en Spark es utilizando muestras."
   ]
  },
  {
   "cell_type": "markdown",
   "metadata": {},
   "source": [
    " \n",
    "\n",
    "__Histogramas y BoxPlots__"
   ]
  },
  {
   "cell_type": "code",
   "execution_count": 46,
   "metadata": {},
   "outputs": [],
   "source": [
    "susy_df = spark.read.csv('Data/susy.csv', sep=',', inferSchema=True, header=True)"
   ]
  },
  {
   "cell_type": "code",
   "execution_count": 47,
   "metadata": {},
   "outputs": [
    {
     "data": {
      "text/html": [
       "<div>\n",
       "<style scoped>\n",
       "    .dataframe tbody tr th:only-of-type {\n",
       "        vertical-align: middle;\n",
       "    }\n",
       "\n",
       "    .dataframe tbody tr th {\n",
       "        vertical-align: top;\n",
       "    }\n",
       "\n",
       "    .dataframe thead th {\n",
       "        text-align: right;\n",
       "    }\n",
       "</style>\n",
       "<table border=\"1\" class=\"dataframe\">\n",
       "  <thead>\n",
       "    <tr style=\"text-align: right;\">\n",
       "      <th></th>\n",
       "      <th>label</th>\n",
       "      <th>lepton1_pt</th>\n",
       "      <th>lepton1_eta</th>\n",
       "      <th>lepton1_phi</th>\n",
       "      <th>lepton2_pt</th>\n",
       "      <th>lepton2_eta</th>\n",
       "      <th>lepton2_phi</th>\n",
       "      <th>missing_energy_magnitude</th>\n",
       "      <th>missing_energy_phi</th>\n",
       "      <th>met_rel</th>\n",
       "      <th>axial_met</th>\n",
       "      <th>m_r</th>\n",
       "      <th>m_tr?</th>\n",
       "      <th>r</th>\n",
       "      <th>mt2</th>\n",
       "      <th>s_r</th>\n",
       "      <th>m_delta_r</th>\n",
       "      <th>dphi_r_b</th>\n",
       "      <th>cos(theta_r1)</th>\n",
       "    </tr>\n",
       "  </thead>\n",
       "  <tbody>\n",
       "    <tr>\n",
       "      <th>0</th>\n",
       "      <td>1.0</td>\n",
       "      <td>1.667973</td>\n",
       "      <td>0.064191</td>\n",
       "      <td>-1.225171</td>\n",
       "      <td>0.506102</td>\n",
       "      <td>-0.338939</td>\n",
       "      <td>1.672543</td>\n",
       "      <td>3.475464</td>\n",
       "      <td>-1.219136</td>\n",
       "      <td>0.012955</td>\n",
       "      <td>3.775174</td>\n",
       "      <td>1.045977</td>\n",
       "      <td>0.568051</td>\n",
       "      <td>0.481928</td>\n",
       "      <td>0.000000</td>\n",
       "      <td>0.448410</td>\n",
       "      <td>0.205356</td>\n",
       "      <td>1.321893</td>\n",
       "      <td>0.377584</td>\n",
       "    </tr>\n",
       "    <tr>\n",
       "      <th>1</th>\n",
       "      <td>1.0</td>\n",
       "      <td>0.444840</td>\n",
       "      <td>-0.134298</td>\n",
       "      <td>-0.709972</td>\n",
       "      <td>0.451719</td>\n",
       "      <td>-1.613871</td>\n",
       "      <td>-0.768661</td>\n",
       "      <td>1.219918</td>\n",
       "      <td>0.504026</td>\n",
       "      <td>1.831248</td>\n",
       "      <td>-0.431385</td>\n",
       "      <td>0.526283</td>\n",
       "      <td>0.941514</td>\n",
       "      <td>1.587535</td>\n",
       "      <td>2.024308</td>\n",
       "      <td>0.603498</td>\n",
       "      <td>1.562374</td>\n",
       "      <td>1.135454</td>\n",
       "      <td>0.180910</td>\n",
       "    </tr>\n",
       "    <tr>\n",
       "      <th>2</th>\n",
       "      <td>1.0</td>\n",
       "      <td>0.381256</td>\n",
       "      <td>-0.976145</td>\n",
       "      <td>0.693152</td>\n",
       "      <td>0.448959</td>\n",
       "      <td>0.891753</td>\n",
       "      <td>-0.677328</td>\n",
       "      <td>2.033060</td>\n",
       "      <td>1.533041</td>\n",
       "      <td>3.046260</td>\n",
       "      <td>-1.005285</td>\n",
       "      <td>0.569386</td>\n",
       "      <td>1.015211</td>\n",
       "      <td>1.582217</td>\n",
       "      <td>1.551914</td>\n",
       "      <td>0.761215</td>\n",
       "      <td>1.715464</td>\n",
       "      <td>1.492257</td>\n",
       "      <td>0.090719</td>\n",
       "    </tr>\n",
       "    <tr>\n",
       "      <th>3</th>\n",
       "      <td>1.0</td>\n",
       "      <td>1.309996</td>\n",
       "      <td>-0.690089</td>\n",
       "      <td>-0.676259</td>\n",
       "      <td>1.589283</td>\n",
       "      <td>-0.693326</td>\n",
       "      <td>0.622907</td>\n",
       "      <td>1.087562</td>\n",
       "      <td>-0.381742</td>\n",
       "      <td>0.589204</td>\n",
       "      <td>1.365479</td>\n",
       "      <td>1.179295</td>\n",
       "      <td>0.968218</td>\n",
       "      <td>0.728563</td>\n",
       "      <td>0.000000</td>\n",
       "      <td>1.083158</td>\n",
       "      <td>0.043429</td>\n",
       "      <td>1.154854</td>\n",
       "      <td>0.094859</td>\n",
       "    </tr>\n",
       "    <tr>\n",
       "      <th>4</th>\n",
       "      <td>0.0</td>\n",
       "      <td>0.456398</td>\n",
       "      <td>1.099371</td>\n",
       "      <td>1.512453</td>\n",
       "      <td>0.751772</td>\n",
       "      <td>0.638967</td>\n",
       "      <td>-0.742216</td>\n",
       "      <td>0.322601</td>\n",
       "      <td>1.321054</td>\n",
       "      <td>0.169502</td>\n",
       "      <td>0.359941</td>\n",
       "      <td>0.489256</td>\n",
       "      <td>0.416168</td>\n",
       "      <td>0.754829</td>\n",
       "      <td>0.303750</td>\n",
       "      <td>0.461067</td>\n",
       "      <td>0.345541</td>\n",
       "      <td>0.733242</td>\n",
       "      <td>0.186044</td>\n",
       "    </tr>\n",
       "    <tr>\n",
       "      <th>5</th>\n",
       "      <td>0.0</td>\n",
       "      <td>0.437818</td>\n",
       "      <td>-1.119883</td>\n",
       "      <td>-1.336823</td>\n",
       "      <td>0.502320</td>\n",
       "      <td>-1.717515</td>\n",
       "      <td>1.017067</td>\n",
       "      <td>0.215619</td>\n",
       "      <td>-0.461200</td>\n",
       "      <td>0.323671</td>\n",
       "      <td>0.173626</td>\n",
       "      <td>0.411898</td>\n",
       "      <td>0.370525</td>\n",
       "      <td>0.798260</td>\n",
       "      <td>0.671369</td>\n",
       "      <td>0.385910</td>\n",
       "      <td>0.515522</td>\n",
       "      <td>0.479110</td>\n",
       "      <td>0.029058</td>\n",
       "    </tr>\n",
       "    <tr>\n",
       "      <th>6</th>\n",
       "      <td>0.0</td>\n",
       "      <td>0.571656</td>\n",
       "      <td>0.205696</td>\n",
       "      <td>0.425950</td>\n",
       "      <td>0.578514</td>\n",
       "      <td>0.927399</td>\n",
       "      <td>-1.101478</td>\n",
       "      <td>0.116555</td>\n",
       "      <td>1.549753</td>\n",
       "      <td>0.174421</td>\n",
       "      <td>0.223450</td>\n",
       "      <td>0.523164</td>\n",
       "      <td>0.289889</td>\n",
       "      <td>0.491710</td>\n",
       "      <td>0.334593</td>\n",
       "      <td>0.514246</td>\n",
       "      <td>0.268207</td>\n",
       "      <td>0.315795</td>\n",
       "      <td>0.125728</td>\n",
       "    </tr>\n",
       "    <tr>\n",
       "      <th>7</th>\n",
       "      <td>1.0</td>\n",
       "      <td>2.112812</td>\n",
       "      <td>0.742983</td>\n",
       "      <td>-0.330539</td>\n",
       "      <td>0.805253</td>\n",
       "      <td>-0.028887</td>\n",
       "      <td>-1.446679</td>\n",
       "      <td>2.299946</td>\n",
       "      <td>1.450429</td>\n",
       "      <td>2.989110</td>\n",
       "      <td>-1.894770</td>\n",
       "      <td>1.445125</td>\n",
       "      <td>2.548166</td>\n",
       "      <td>1.564721</td>\n",
       "      <td>2.393632</td>\n",
       "      <td>1.554566</td>\n",
       "      <td>2.148468</td>\n",
       "      <td>1.179117</td>\n",
       "      <td>0.688057</td>\n",
       "    </tr>\n",
       "    <tr>\n",
       "      <th>8</th>\n",
       "      <td>0.0</td>\n",
       "      <td>1.001869</td>\n",
       "      <td>-0.471788</td>\n",
       "      <td>0.555614</td>\n",
       "      <td>1.233368</td>\n",
       "      <td>1.255548</td>\n",
       "      <td>-1.052491</td>\n",
       "      <td>0.437615</td>\n",
       "      <td>-1.333052</td>\n",
       "      <td>0.326858</td>\n",
       "      <td>-0.111678</td>\n",
       "      <td>1.435708</td>\n",
       "      <td>0.755201</td>\n",
       "      <td>0.466779</td>\n",
       "      <td>0.454541</td>\n",
       "      <td>1.446331</td>\n",
       "      <td>0.592259</td>\n",
       "      <td>1.325197</td>\n",
       "      <td>0.083014</td>\n",
       "    </tr>\n",
       "    <tr>\n",
       "      <th>9</th>\n",
       "      <td>0.0</td>\n",
       "      <td>0.840115</td>\n",
       "      <td>0.958249</td>\n",
       "      <td>-0.585658</td>\n",
       "      <td>1.317930</td>\n",
       "      <td>-1.063730</td>\n",
       "      <td>1.246235</td>\n",
       "      <td>0.261865</td>\n",
       "      <td>-0.027341</td>\n",
       "      <td>0.330517</td>\n",
       "      <td>0.183190</td>\n",
       "      <td>1.557298</td>\n",
       "      <td>0.531022</td>\n",
       "      <td>0.302592</td>\n",
       "      <td>0.426702</td>\n",
       "      <td>1.564376</td>\n",
       "      <td>0.338552</td>\n",
       "      <td>1.137456</td>\n",
       "      <td>0.011040</td>\n",
       "    </tr>\n",
       "  </tbody>\n",
       "</table>\n",
       "</div>"
      ],
      "text/plain": [
       "   label  lepton1_pt  lepton1_eta  lepton1_phi  lepton2_pt  lepton2_eta  \\\n",
       "0    1.0    1.667973     0.064191    -1.225171    0.506102    -0.338939   \n",
       "1    1.0    0.444840    -0.134298    -0.709972    0.451719    -1.613871   \n",
       "2    1.0    0.381256    -0.976145     0.693152    0.448959     0.891753   \n",
       "3    1.0    1.309996    -0.690089    -0.676259    1.589283    -0.693326   \n",
       "4    0.0    0.456398     1.099371     1.512453    0.751772     0.638967   \n",
       "5    0.0    0.437818    -1.119883    -1.336823    0.502320    -1.717515   \n",
       "6    0.0    0.571656     0.205696     0.425950    0.578514     0.927399   \n",
       "7    1.0    2.112812     0.742983    -0.330539    0.805253    -0.028887   \n",
       "8    0.0    1.001869    -0.471788     0.555614    1.233368     1.255548   \n",
       "9    0.0    0.840115     0.958249    -0.585658    1.317930    -1.063730   \n",
       "\n",
       "   lepton2_phi  missing_energy_magnitude  missing_energy_phi   met_rel  \\\n",
       "0     1.672543                  3.475464           -1.219136  0.012955   \n",
       "1    -0.768661                  1.219918            0.504026  1.831248   \n",
       "2    -0.677328                  2.033060            1.533041  3.046260   \n",
       "3     0.622907                  1.087562           -0.381742  0.589204   \n",
       "4    -0.742216                  0.322601            1.321054  0.169502   \n",
       "5     1.017067                  0.215619           -0.461200  0.323671   \n",
       "6    -1.101478                  0.116555            1.549753  0.174421   \n",
       "7    -1.446679                  2.299946            1.450429  2.989110   \n",
       "8    -1.052491                  0.437615           -1.333052  0.326858   \n",
       "9     1.246235                  0.261865           -0.027341  0.330517   \n",
       "\n",
       "   axial_met       m_r     m_tr?         r       mt2       s_r  m_delta_r  \\\n",
       "0   3.775174  1.045977  0.568051  0.481928  0.000000  0.448410   0.205356   \n",
       "1  -0.431385  0.526283  0.941514  1.587535  2.024308  0.603498   1.562374   \n",
       "2  -1.005285  0.569386  1.015211  1.582217  1.551914  0.761215   1.715464   \n",
       "3   1.365479  1.179295  0.968218  0.728563  0.000000  1.083158   0.043429   \n",
       "4   0.359941  0.489256  0.416168  0.754829  0.303750  0.461067   0.345541   \n",
       "5   0.173626  0.411898  0.370525  0.798260  0.671369  0.385910   0.515522   \n",
       "6   0.223450  0.523164  0.289889  0.491710  0.334593  0.514246   0.268207   \n",
       "7  -1.894770  1.445125  2.548166  1.564721  2.393632  1.554566   2.148468   \n",
       "8  -0.111678  1.435708  0.755201  0.466779  0.454541  1.446331   0.592259   \n",
       "9   0.183190  1.557298  0.531022  0.302592  0.426702  1.564376   0.338552   \n",
       "\n",
       "   dphi_r_b  cos(theta_r1)  \n",
       "0  1.321893       0.377584  \n",
       "1  1.135454       0.180910  \n",
       "2  1.492257       0.090719  \n",
       "3  1.154854       0.094859  \n",
       "4  0.733242       0.186044  \n",
       "5  0.479110       0.029058  \n",
       "6  0.315795       0.125728  \n",
       "7  1.179117       0.688057  \n",
       "8  1.325197       0.083014  \n",
       "9  1.137456       0.011040  "
      ]
     },
     "execution_count": 47,
     "metadata": {},
     "output_type": "execute_result"
    }
   ],
   "source": [
    "susy_df.limit(10).toPandas()"
   ]
  },
  {
   "cell_type": "code",
   "execution_count": 48,
   "metadata": {},
   "outputs": [
    {
     "data": {
      "text/plain": [
       "1048575"
      ]
     },
     "execution_count": 48,
     "metadata": {},
     "output_type": "execute_result"
    }
   ],
   "source": [
    "n_rows = susy_df.count()\n",
    "n_rows"
   ]
  },
  {
   "cell_type": "code",
   "execution_count": 49,
   "metadata": {},
   "outputs": [
    {
     "data": {
      "text/html": [
       "<div>\n",
       "<style scoped>\n",
       "    .dataframe tbody tr th:only-of-type {\n",
       "        vertical-align: middle;\n",
       "    }\n",
       "\n",
       "    .dataframe tbody tr th {\n",
       "        vertical-align: top;\n",
       "    }\n",
       "\n",
       "    .dataframe thead th {\n",
       "        text-align: right;\n",
       "    }\n",
       "</style>\n",
       "<table border=\"1\" class=\"dataframe\">\n",
       "  <thead>\n",
       "    <tr style=\"text-align: right;\">\n",
       "      <th></th>\n",
       "      <th>lepton1_pt</th>\n",
       "    </tr>\n",
       "  </thead>\n",
       "  <tbody>\n",
       "    <tr>\n",
       "      <th>0</th>\n",
       "      <td>1.702499</td>\n",
       "    </tr>\n",
       "    <tr>\n",
       "      <th>1</th>\n",
       "      <td>0.766797</td>\n",
       "    </tr>\n",
       "    <tr>\n",
       "      <th>2</th>\n",
       "      <td>1.141890</td>\n",
       "    </tr>\n",
       "    <tr>\n",
       "      <th>3</th>\n",
       "      <td>0.582074</td>\n",
       "    </tr>\n",
       "    <tr>\n",
       "      <th>4</th>\n",
       "      <td>0.486170</td>\n",
       "    </tr>\n",
       "    <tr>\n",
       "      <th>5</th>\n",
       "      <td>2.264575</td>\n",
       "    </tr>\n",
       "    <tr>\n",
       "      <th>6</th>\n",
       "      <td>0.570631</td>\n",
       "    </tr>\n",
       "    <tr>\n",
       "      <th>7</th>\n",
       "      <td>1.812798</td>\n",
       "    </tr>\n",
       "    <tr>\n",
       "      <th>8</th>\n",
       "      <td>1.284688</td>\n",
       "    </tr>\n",
       "    <tr>\n",
       "      <th>9</th>\n",
       "      <td>1.447514</td>\n",
       "    </tr>\n",
       "  </tbody>\n",
       "</table>\n",
       "</div>"
      ],
      "text/plain": [
       "   lepton1_pt\n",
       "0    1.702499\n",
       "1    0.766797\n",
       "2    1.141890\n",
       "3    0.582074\n",
       "4    0.486170\n",
       "5    2.264575\n",
       "6    0.570631\n",
       "7    1.812798\n",
       "8    1.284688\n",
       "9    1.447514"
      ]
     },
     "execution_count": 49,
     "metadata": {},
     "output_type": "execute_result"
    }
   ],
   "source": [
    "sample_data = susy_df.select('lepton1_pt').sample(False, fraction=10000/n_rows).toPandas()\n",
    "sample_data.head(10)"
   ]
  },
  {
   "cell_type": "code",
   "execution_count": 50,
   "metadata": {},
   "outputs": [
    {
     "data": {
      "text/plain": [
       "<matplotlib.axes._subplots.AxesSubplot at 0x10924e320>"
      ]
     },
     "execution_count": 50,
     "metadata": {},
     "output_type": "execute_result"
    },
    {
     "data": {
      "image/png": "[encoded data removed]",
      "text/plain": [
       "<Figure size 360x216 with 1 Axes>"
      ]
     },
     "metadata": {},
     "output_type": "display_data"
    }
   ],
   "source": [
    "plt.figure(figsize=(5,3))\n",
    "sns.distplot(sample_data['lepton1_pt'], kde=False)"
   ]
  },
  {
   "cell_type": "code",
   "execution_count": 51,
   "metadata": {},
   "outputs": [
    {
     "data": {
      "text/plain": [
       "<matplotlib.axes._subplots.AxesSubplot at 0x10947ca90>"
      ]
     },
     "execution_count": 51,
     "metadata": {},
     "output_type": "execute_result"
    },
    {
     "data": {
      "image/png": "[encoded data removed]",
      "text/plain": [
       "<Figure size 360x144 with 1 Axes>"
      ]
     },
     "metadata": {},
     "output_type": "display_data"
    }
   ],
   "source": [
    "plt.figure(figsize=(5,2))\n",
    "sns.boxplot(sample_data['lepton1_pt'], orient='h')"
   ]
  },
  {
   "cell_type": "markdown",
   "metadata": {},
   "source": [
    "\n",
    "\n",
    "__Scatter plot y Side-by-Side BoxPlot__\n",
    "\n",
    "_Scatter_"
   ]
  },
  {
   "cell_type": "code",
   "execution_count": 52,
   "metadata": {},
   "outputs": [
    {
     "data": {
      "text/html": [
       "<div>\n",
       "<style scoped>\n",
       "    .dataframe tbody tr th:only-of-type {\n",
       "        vertical-align: middle;\n",
       "    }\n",
       "\n",
       "    .dataframe tbody tr th {\n",
       "        vertical-align: top;\n",
       "    }\n",
       "\n",
       "    .dataframe thead th {\n",
       "        text-align: right;\n",
       "    }\n",
       "</style>\n",
       "<table border=\"1\" class=\"dataframe\">\n",
       "  <thead>\n",
       "    <tr style=\"text-align: right;\">\n",
       "      <th></th>\n",
       "      <th>lepton1_pt</th>\n",
       "      <th>missing_energy_magnitude</th>\n",
       "    </tr>\n",
       "  </thead>\n",
       "  <tbody>\n",
       "    <tr>\n",
       "      <th>0</th>\n",
       "      <td>0.697706</td>\n",
       "      <td>0.309505</td>\n",
       "    </tr>\n",
       "    <tr>\n",
       "      <th>1</th>\n",
       "      <td>0.865071</td>\n",
       "      <td>0.435829</td>\n",
       "    </tr>\n",
       "    <tr>\n",
       "      <th>2</th>\n",
       "      <td>0.792727</td>\n",
       "      <td>0.143237</td>\n",
       "    </tr>\n",
       "    <tr>\n",
       "      <th>3</th>\n",
       "      <td>1.244824</td>\n",
       "      <td>0.434459</td>\n",
       "    </tr>\n",
       "    <tr>\n",
       "      <th>4</th>\n",
       "      <td>0.691142</td>\n",
       "      <td>0.920191</td>\n",
       "    </tr>\n",
       "  </tbody>\n",
       "</table>\n",
       "</div>"
      ],
      "text/plain": [
       "   lepton1_pt  missing_energy_magnitude\n",
       "0    0.697706                  0.309505\n",
       "1    0.865071                  0.435829\n",
       "2    0.792727                  0.143237\n",
       "3    1.244824                  0.434459\n",
       "4    0.691142                  0.920191"
      ]
     },
     "execution_count": 52,
     "metadata": {},
     "output_type": "execute_result"
    }
   ],
   "source": [
    "sample_data = susy_df.select('lepton1_pt', 'missing_energy_magnitude')\\\n",
    "                     .sample(False, fraction=10000/n_rows).toPandas()\n",
    "sample_data.head(5)"
   ]
  },
  {
   "cell_type": "code",
   "execution_count": 53,
   "metadata": {},
   "outputs": [
    {
     "data": {
      "text/plain": [
       "<matplotlib.collections.PathCollection at 0x10961ce48>"
      ]
     },
     "execution_count": 53,
     "metadata": {},
     "output_type": "execute_result"
    },
    {
     "data": {
      "image/png": "[encoded data removed]",
      "text/plain": [
       "<Figure size 360x288 with 1 Axes>"
      ]
     },
     "metadata": {},
     "output_type": "display_data"
    }
   ],
   "source": [
    "plt.figure(figsize=(5,4))\n",
    "plt.scatter(sample_data['lepton1_pt'], sample_data['missing_energy_magnitude'])"
   ]
  },
  {
   "cell_type": "markdown",
   "metadata": {},
   "source": [
    "\n",
    "\n",
    "__Side-by-Side BoxPlot__"
   ]
  },
  {
   "cell_type": "code",
   "execution_count": 54,
   "metadata": {},
   "outputs": [
    {
     "data": {
      "text/html": [
       "<div>\n",
       "<style scoped>\n",
       "    .dataframe tbody tr th:only-of-type {\n",
       "        vertical-align: middle;\n",
       "    }\n",
       "\n",
       "    .dataframe tbody tr th {\n",
       "        vertical-align: top;\n",
       "    }\n",
       "\n",
       "    .dataframe thead th {\n",
       "        text-align: right;\n",
       "    }\n",
       "</style>\n",
       "<table border=\"1\" class=\"dataframe\">\n",
       "  <thead>\n",
       "    <tr style=\"text-align: right;\">\n",
       "      <th></th>\n",
       "      <th>lepton1_pt</th>\n",
       "      <th>label</th>\n",
       "    </tr>\n",
       "  </thead>\n",
       "  <tbody>\n",
       "    <tr>\n",
       "      <th>0</th>\n",
       "      <td>1.570277</td>\n",
       "      <td>1.0</td>\n",
       "    </tr>\n",
       "    <tr>\n",
       "      <th>1</th>\n",
       "      <td>0.844333</td>\n",
       "      <td>0.0</td>\n",
       "    </tr>\n",
       "    <tr>\n",
       "      <th>2</th>\n",
       "      <td>1.462766</td>\n",
       "      <td>1.0</td>\n",
       "    </tr>\n",
       "    <tr>\n",
       "      <th>3</th>\n",
       "      <td>0.453823</td>\n",
       "      <td>1.0</td>\n",
       "    </tr>\n",
       "    <tr>\n",
       "      <th>4</th>\n",
       "      <td>0.708656</td>\n",
       "      <td>1.0</td>\n",
       "    </tr>\n",
       "  </tbody>\n",
       "</table>\n",
       "</div>"
      ],
      "text/plain": [
       "   lepton1_pt  label\n",
       "0    1.570277    1.0\n",
       "1    0.844333    0.0\n",
       "2    1.462766    1.0\n",
       "3    0.453823    1.0\n",
       "4    0.708656    1.0"
      ]
     },
     "execution_count": 54,
     "metadata": {},
     "output_type": "execute_result"
    }
   ],
   "source": [
    "sample_data = susy_df.select('lepton1_pt', 'label')\\\n",
    "                     .sample(False, fraction=10000/n_rows).toPandas()\n",
    "\n",
    "sample_data.head(5)"
   ]
  },
  {
   "cell_type": "code",
   "execution_count": 55,
   "metadata": {},
   "outputs": [
    {
     "data": {
      "text/plain": [
       "<matplotlib.axes._subplots.AxesSubplot at 0x1094dde80>"
      ]
     },
     "execution_count": 55,
     "metadata": {},
     "output_type": "execute_result"
    },
    {
     "data": {
      "image/png": "[encoded data removed]",
      "text/plain": [
       "<Figure size 360x288 with 1 Axes>"
      ]
     },
     "metadata": {},
     "output_type": "display_data"
    }
   ],
   "source": [
    "plt.figure(figsize=(5,4))\n",
    "sns.boxplot(x='label', y='lepton1_pt', data=sample_data, orient='v')"
   ]
  },
  {
   "cell_type": "markdown",
   "metadata": {},
   "source": [
    "\n",
    "\n",
    "__Barplot__\n",
    "\n",
    "Es posible precalcular los datos y por tanto no es necesario hacer un sampling."
   ]
  },
  {
   "cell_type": "code",
   "execution_count": 56,
   "metadata": {},
   "outputs": [
    {
     "data": {
      "text/html": [
       "<div>\n",
       "<style scoped>\n",
       "    .dataframe tbody tr th:only-of-type {\n",
       "        vertical-align: middle;\n",
       "    }\n",
       "\n",
       "    .dataframe tbody tr th {\n",
       "        vertical-align: top;\n",
       "    }\n",
       "\n",
       "    .dataframe thead th {\n",
       "        text-align: right;\n",
       "    }\n",
       "</style>\n",
       "<table border=\"1\" class=\"dataframe\">\n",
       "  <thead>\n",
       "    <tr style=\"text-align: right;\">\n",
       "      <th></th>\n",
       "      <th>Type 1</th>\n",
       "      <th>count</th>\n",
       "    </tr>\n",
       "  </thead>\n",
       "  <tbody>\n",
       "    <tr>\n",
       "      <th>0</th>\n",
       "      <td>Water</td>\n",
       "      <td>112</td>\n",
       "    </tr>\n",
       "    <tr>\n",
       "      <th>1</th>\n",
       "      <td>Poison</td>\n",
       "      <td>28</td>\n",
       "    </tr>\n",
       "    <tr>\n",
       "      <th>2</th>\n",
       "      <td>Steel</td>\n",
       "      <td>27</td>\n",
       "    </tr>\n",
       "    <tr>\n",
       "      <th>3</th>\n",
       "      <td>Rock</td>\n",
       "      <td>44</td>\n",
       "    </tr>\n",
       "    <tr>\n",
       "      <th>4</th>\n",
       "      <td>Ice</td>\n",
       "      <td>24</td>\n",
       "    </tr>\n",
       "    <tr>\n",
       "      <th>5</th>\n",
       "      <td>Ghost</td>\n",
       "      <td>32</td>\n",
       "    </tr>\n",
       "    <tr>\n",
       "      <th>6</th>\n",
       "      <td>Fairy</td>\n",
       "      <td>17</td>\n",
       "    </tr>\n",
       "    <tr>\n",
       "      <th>7</th>\n",
       "      <td>Psychic</td>\n",
       "      <td>57</td>\n",
       "    </tr>\n",
       "    <tr>\n",
       "      <th>8</th>\n",
       "      <td>Dragon</td>\n",
       "      <td>32</td>\n",
       "    </tr>\n",
       "    <tr>\n",
       "      <th>9</th>\n",
       "      <td>Flying</td>\n",
       "      <td>4</td>\n",
       "    </tr>\n",
       "    <tr>\n",
       "      <th>10</th>\n",
       "      <td>Bug</td>\n",
       "      <td>69</td>\n",
       "    </tr>\n",
       "    <tr>\n",
       "      <th>11</th>\n",
       "      <td>Electric</td>\n",
       "      <td>44</td>\n",
       "    </tr>\n",
       "    <tr>\n",
       "      <th>12</th>\n",
       "      <td>Fire</td>\n",
       "      <td>52</td>\n",
       "    </tr>\n",
       "    <tr>\n",
       "      <th>13</th>\n",
       "      <td>Ground</td>\n",
       "      <td>32</td>\n",
       "    </tr>\n",
       "    <tr>\n",
       "      <th>14</th>\n",
       "      <td>Dark</td>\n",
       "      <td>31</td>\n",
       "    </tr>\n",
       "    <tr>\n",
       "      <th>15</th>\n",
       "      <td>Fighting</td>\n",
       "      <td>27</td>\n",
       "    </tr>\n",
       "    <tr>\n",
       "      <th>16</th>\n",
       "      <td>Grass</td>\n",
       "      <td>70</td>\n",
       "    </tr>\n",
       "    <tr>\n",
       "      <th>17</th>\n",
       "      <td>Normal</td>\n",
       "      <td>98</td>\n",
       "    </tr>\n",
       "  </tbody>\n",
       "</table>\n",
       "</div>"
      ],
      "text/plain": [
       "      Type 1  count\n",
       "0      Water    112\n",
       "1     Poison     28\n",
       "2      Steel     27\n",
       "3       Rock     44\n",
       "4        Ice     24\n",
       "5      Ghost     32\n",
       "6      Fairy     17\n",
       "7    Psychic     57\n",
       "8     Dragon     32\n",
       "9     Flying      4\n",
       "10       Bug     69\n",
       "11  Electric     44\n",
       "12      Fire     52\n",
       "13    Ground     32\n",
       "14      Dark     31\n",
       "15  Fighting     27\n",
       "16     Grass     70\n",
       "17    Normal     98"
      ]
     },
     "execution_count": 56,
     "metadata": {},
     "output_type": "execute_result"
    }
   ],
   "source": [
    "value_counts = pokemon_df.groupBy('Type 1').count().toPandas()\n",
    "value_counts"
   ]
  },
  {
   "cell_type": "code",
   "execution_count": 57,
   "metadata": {
    "collapsed": true
   },
   "outputs": [],
   "source": [
    "value_counts = value_counts.sort_values('count')"
   ]
  },
  {
   "cell_type": "code",
   "execution_count": 58,
   "metadata": {},
   "outputs": [
    {
     "data": {
      "text/plain": [
       "(array([ 0,  1,  2,  3,  4,  5,  6,  7,  8,  9, 10, 11, 12, 13, 14, 15, 16,\n",
       "        17]), <a list of 18 Text xticklabel objects>)"
      ]
     },
     "execution_count": 58,
     "metadata": {},
     "output_type": "execute_result"
    },
    {
     "data": {
      "image/png": "[encoded data removed]",
      "text/plain": [
       "<Figure size 360x216 with 1 Axes>"
      ]
     },
     "metadata": {},
     "output_type": "display_data"
    }
   ],
   "source": [
    "plt.figure(figsize=(5,3))\n",
    "sns.barplot(value_counts['Type 1'], value_counts['count'])\n",
    "plt.xticks(rotation=60)"
   ]
  },
  {
   "cell_type": "markdown",
   "metadata": {},
   "source": [
    "\n",
    "\n",
    "# Valores Atípicos\n",
    "\n",
    "Una forma muy sencilla de eliminar outliers de forma analítica es aplicando el test de Tukey. Éste dice que se considera valor atípico a todo aquel que **esté fuera** del siguiente rango:\n",
    "\n",
    "- Valor atípico: $ Q_1 - 1.5\\cdot IQR > x > Q_3 + 1.5 \\cdot IQR$\n",
    "- Valor atípico extremo: $Q_1 - 3\\cdot IQR > x >Q_3 + 3\\cdot IQR$\n",
    "\n",
    "Vamos a crear una función para identifucar outliers usando el test de Tukey."
   ]
  },
  {
   "cell_type": "markdown",
   "metadata": {},
   "source": [
    "\n",
    "\n",
    "_Calcula en rango_"
   ]
  },
  {
   "cell_type": "code",
   "execution_count": 59,
   "metadata": {},
   "outputs": [
    {
     "data": {
      "text/plain": [
       "(0.5645601153373718, 1.2087817192077637)"
      ]
     },
     "execution_count": 59,
     "metadata": {},
     "output_type": "execute_result"
    }
   ],
   "source": [
    "q1, q3 = susy_df.approxQuantile('lepton1_pt', [0.25, 0.75], 0.01)\n",
    "q1, q3"
   ]
  },
  {
   "cell_type": "code",
   "execution_count": 60,
   "metadata": {},
   "outputs": [
    {
     "data": {
      "text/plain": [
       "0.6442216038703918"
      ]
     },
     "execution_count": 60,
     "metadata": {},
     "output_type": "execute_result"
    }
   ],
   "source": [
    "IQR = q3 - q1\n",
    "IQR"
   ]
  },
  {
   "cell_type": "code",
   "execution_count": 61,
   "metadata": {},
   "outputs": [
    {
     "data": {
      "text/plain": [
       "(-0.40177229046821594, 2.1751141250133514)"
      ]
     },
     "execution_count": 61,
     "metadata": {},
     "output_type": "execute_result"
    }
   ],
   "source": [
    "min_thresh = q1 - 1.5 * IQR\n",
    "max_thresh = q3 + 1.5 * IQR\n",
    "\n",
    "min_thresh, max_thresh"
   ]
  },
  {
   "cell_type": "markdown",
   "metadata": {},
   "source": [
    "\n",
    "\n",
    "_Crea una función._"
   ]
  },
  {
   "cell_type": "code",
   "execution_count": 62,
   "metadata": {
    "collapsed": true
   },
   "outputs": [],
   "source": [
    "def remove_tukey_outliers(df, col):\n",
    "    \"\"\"\n",
    "    Returns a new dataframe with outliers removed on column 'col' usting Tukey test\n",
    "    \"\"\"\n",
    "    \n",
    "    q1, q3 = df.approxQuantile(col, [0.25, 0.75], 0.01)\n",
    "    IQR = q3 - q1\n",
    "    \n",
    "    min_thresh = q1 - 1.5 * IQR\n",
    "    max_thresh = q3 + 1.5 * IQR\n",
    "    \n",
    "    df_no_outliers = df.filter(F.col(col).between(min_thresh, max_thresh))\n",
    "    \n",
    "    return df_no_outliers"
   ]
  },
  {
   "cell_type": "code",
   "execution_count": 63,
   "metadata": {
    "collapsed": true
   },
   "outputs": [],
   "source": [
    "susy_no_outliers = remove_tukey_outliers(susy_df, 'lepton1_pt')"
   ]
  },
  {
   "cell_type": "code",
   "execution_count": 64,
   "metadata": {
    "collapsed": true
   },
   "outputs": [],
   "source": [
    "n_rows_no = susy_no_outliers.count()\n",
    "perc_outliers = 100 * (n_rows - n_rows_no) / n_rows"
   ]
  },
  {
   "cell_type": "code",
   "execution_count": 65,
   "metadata": {},
   "outputs": [
    {
     "name": "stdout",
     "output_type": "stream",
     "text": [
      "lepton1_pt has 6.27% outliers\n"
     ]
    }
   ],
   "source": [
    "print('{} has {:.2f}% outliers'.format('lepton1_pt', perc_outliers))"
   ]
  }
 ],
 "metadata": {
  "kernelspec": {
   "display_name": "Python 3",
   "language": "python",
   "name": "python3"
  },
  "language_info": {
   "codemirror_mode": {
    "name": "ipython",
    "version": 3
   },
   "file_extension": ".py",
   "mimetype": "text/x-python",
   "name": "python",
   "nbconvert_exporter": "python",
   "pygments_lexer": "ipython3",
   "version": "3.7.4"
  },
  "toc": {
   "base_numbering": 1,
   "nav_menu": {},
   "number_sections": false,
   "sideBar": true,
   "skip_h1_title": false,
   "title_cell": "Table of Contents",
   "title_sidebar": "Contents",
   "toc_cell": false,
   "toc_position": {},
   "toc_section_display": true,
   "toc_window_display": true
  }
 },
 "nbformat": 4,
 "nbformat_minor": 2
}
